{
 "cells": [
  {
   "cell_type": "code",
   "execution_count": 6,
   "id": "c4b8af7e-9053-439a-a764-b5d9018424bb",
   "metadata": {},
   "outputs": [],
   "source": [
    "#1\n",
    "class vehicle():\n",
    "    \n",
    "    def __init__(self,name_0f_vehicle,max_speed,average_of_vehicle):\n",
    "        self.name_0f_vehicle = name_0f_vehicle\n",
    "        self.max_speed = max_speed\n",
    "        self.average_of_vehicle = average_of_vehicle\n",
    "    \n",
    "    def vehicle_details(self):\n",
    "        print(\"Name - {} \" .format(self.name_0f_vehicle))\n",
    "        print(\"Max speed - {} \" .format(self.max_speed))\n",
    "        print(\"Average of vehicle - {} \" .format(self.average_of_vehicle))\n",
    "        \n",
    " \n"
   ]
  },
  {
   "cell_type": "code",
   "execution_count": 7,
   "id": "94b1ad70-b81b-4046-ab17-2e9712ef5969",
   "metadata": {},
   "outputs": [],
   "source": [
    "c = vehicle(\"TATA\",180,50)"
   ]
  },
  {
   "cell_type": "code",
   "execution_count": 8,
   "id": "4a27b9f2-1d17-415b-a23b-154a1f95ad39",
   "metadata": {},
   "outputs": [
    {
     "name": "stdout",
     "output_type": "stream",
     "text": [
      "Name - TATA \n",
      "Max speed - 180 \n",
      "Average of vehicle - 50 \n"
     ]
    }
   ],
   "source": [
    "c.vehicle_details()"
   ]
  },
  {
   "cell_type": "code",
   "execution_count": 9,
   "id": "9c0a0a74-ce4d-44c6-af68-082965521ba7",
   "metadata": {},
   "outputs": [
    {
     "data": {
      "text/plain": [
       "'TATA'"
      ]
     },
     "execution_count": 9,
     "metadata": {},
     "output_type": "execute_result"
    }
   ],
   "source": [
    "c.name_0f_vehicle"
   ]
  },
  {
   "cell_type": "code",
   "execution_count": 12,
   "id": "ac4c496b-3a34-449f-bc1e-f2ccc3640f5c",
   "metadata": {},
   "outputs": [
    {
     "name": "stdout",
     "output_type": "stream",
     "text": [
      "Car details\n",
      "- - - - - - - - - - - -\n",
      "Name - TATA NEXON \n",
      "Max speed - 180 \n",
      "Average of vehicle - 20 \n",
      "Seating capacity - 6 \n",
      "\n",
      "Car details\n",
      "- - - - - - - - - - - -\n",
      "Name - MAHINDRA THAR \n",
      "Max speed - 140 \n",
      "Average of vehicle - 19 \n",
      "Seating capacity - 4 \n",
      "\n",
      "Car details\n",
      "- - - - - - - - - - - -\n",
      "Name - AUDI Q3 \n",
      "Max speed - 200 \n",
      "Average of vehicle - 14 \n",
      "Seating capacity - 4 \n",
      "\n"
     ]
    }
   ],
   "source": [
    "#2\n",
    "class car(vehicle):\n",
    "    \n",
    "    def __init__(self,name_0f_vehicle,max_speed,average_of_vehicle,seating_capacity):\n",
    "        self.name_0f_vehicle=name_0f_vehicle\n",
    "        self.max_speed=max_speed\n",
    "        self.average_of_vehicle=average_of_vehicle\n",
    "        self.seating_capacity = seating_capacity\n",
    "        \n",
    "    def car_detail(self):\n",
    "        \n",
    "        print(\"Seating capacity - {} \" .format(self.seating_capacity))\n",
    "        \n",
    "car_1 = car(\"TATA NEXON\",180,20,6)\n",
    "print('Car details')\n",
    "print('- - - - - - - - - - - -')\n",
    "car_1.vehicle_details()\n",
    "car_1.car_detail()\n",
    "print()\n",
    "\n",
    "car_1 = car(\"MAHINDRA THAR\",140,19,4)\n",
    "print('Car details')\n",
    "print('- - - - - - - - - - - -')\n",
    "car_1.vehicle_details()\n",
    "car_1.car_detail()\n",
    "print()\n",
    "\n",
    "car_1 = car(\"AUDI Q3\",200,14,4)\n",
    "print('Car details')\n",
    "print('- - - - - - - - - - - -')\n",
    "car_1.vehicle_details()\n",
    "car_1.car_detail()\n",
    "print()"
   ]
  },
  {
   "cell_type": "markdown",
   "id": "8e901ee0-707d-4ebb-bb9f-adad76114c7b",
   "metadata": {},
   "source": [
    "## 3\n",
    "multiple inheritance - is a feature in which a class can inherit its attributes and method from more than one parent class.\n",
    "The derived class inherit all the feature of the base class"
   ]
  },
  {
   "cell_type": "code",
   "execution_count": 21,
   "id": "2a84f395-a8ea-4473-8b14-62ddce82e139",
   "metadata": {},
   "outputs": [
    {
     "name": "stdout",
     "output_type": "stream",
     "text": [
      "My Name :-  kanha\n",
      "Father : samim\n",
      "Mother : seetal\n"
     ]
    }
   ],
   "source": [
    "# Super Class\n",
    "class Father:\n",
    "    def __init__(self):\n",
    "        self.fathername = str()\n",
    "\n",
    "# Super Class\n",
    "class Mother:\n",
    "    def __init__(self):\n",
    "        self.mothername = str()\n",
    "\n",
    "# Sub Class\n",
    "class Son(Father, Mother):\n",
    "    name = str()\n",
    "    def show(self):\n",
    "        print('My Name :- ',self.name)\n",
    "        print(\"Father :\", self.fathername)\n",
    "        print(\"Mother :\", self.mothername)\n",
    "\n",
    "s1 = Son()\n",
    "s1.name = 'kanha'\n",
    "s1.fathername = \"samim\"\n",
    "s1.mothername = \"seetal\"\n",
    "s1.show()"
   ]
  },
  {
   "cell_type": "markdown",
   "id": "8ea93c9f-1de3-4533-952c-084bbe0b7a9b",
   "metadata": {},
   "source": [
    "# 4\n",
    "getters and setters are used to get and set the values of instance variables of a class. Getters are methods used to get the value of an instance variable, while setters are methods used to set the value of an instance variable."
   ]
  },
  {
   "cell_type": "code",
   "execution_count": 39,
   "id": "a6b8996e-6427-4e1b-92da-2650adffd7fd",
   "metadata": {},
   "outputs": [
    {
     "name": "stdout",
     "output_type": "stream",
     "text": [
      "siku\n",
      "25\n",
      "chiku\n",
      "15\n"
     ]
    }
   ],
   "source": [
    "class Person:\n",
    "    def __init__(self, name, age):\n",
    "        self._name = name\n",
    "        self._age = age\n",
    "    \n",
    "    def get_name(self):\n",
    "        return self._name\n",
    "    \n",
    "    def set_name(self, name):\n",
    "        self._name = name\n",
    "        \n",
    "    def get_age(self):\n",
    "        return self._age\n",
    "    \n",
    "    def set_age(self, age):\n",
    "        self._age = age\n",
    "\n",
    "person = Person(\"siku\", 25)\n",
    "print(person.get_name())  \n",
    "print(person.get_age()) \n",
    "\n",
    "person.set_name(\"chiku\")\n",
    "person.set_age(15)\n",
    "\n",
    "print(person.get_name())  \n",
    "print(person.get_age())  \n"
   ]
  },
  {
   "cell_type": "markdown",
   "id": "1b7dccb2-2915-46c1-aa5d-145774c42036",
   "metadata": {},
   "source": [
    "## 5\n",
    "Overriding is a very important part of object oreinted programming because it makes inheritance exploit its full power.\n",
    "When a method in a subclass has the same name, same parameter and same return type as a method in its super-class, then the method in the subclass is said to override the method in the super-class."
   ]
  },
  {
   "cell_type": "code",
   "execution_count": 40,
   "id": "2b8afaa2-6271-43fe-80b4-6e4177602bdd",
   "metadata": {},
   "outputs": [
    {
     "name": "stdout",
     "output_type": "stream",
     "text": [
      "Hello Student\n",
      "Hello Person\n"
     ]
    }
   ],
   "source": [
    "class person:\n",
    "    def __init__(self, name , age , gender):\n",
    "        self.name = name\n",
    "        self.age = age\n",
    "        self.gender = gender\n",
    "    \n",
    "    def greet(self):\n",
    "        print(\"Hello Person\")\n",
    "\n",
    "class student(person): \n",
    "    def __init__(self,name,age,gender,studentid,fees):\n",
    "        person.__init__(self,name,age,gender)\n",
    "        self.studentid = studentid\n",
    "        self.fees = fees\n",
    "        \n",
    "    def greet(self):\n",
    "        print(\"Hello Student\")\n",
    "        \n",
    "stud = student('Gabriel' , 56 , 'Male' , 45 , 345678)\n",
    "stud.greet()\n",
    "\n",
    "person1 = person('Gabriel' , 56 , 'Male')\n",
    "person1.greet()"
   ]
  },
  {
   "cell_type": "code",
   "execution_count": null,
   "id": "87624fd0-043e-460b-8d0f-e1de5de90308",
   "metadata": {},
   "outputs": [],
   "source": []
  }
 ],
 "metadata": {
  "kernelspec": {
   "display_name": "Python 3 (ipykernel)",
   "language": "python",
   "name": "python3"
  },
  "language_info": {
   "codemirror_mode": {
    "name": "ipython",
    "version": 3
   },
   "file_extension": ".py",
   "mimetype": "text/x-python",
   "name": "python",
   "nbconvert_exporter": "python",
   "pygments_lexer": "ipython3",
   "version": "3.10.6"
  }
 },
 "nbformat": 4,
 "nbformat_minor": 5
}
