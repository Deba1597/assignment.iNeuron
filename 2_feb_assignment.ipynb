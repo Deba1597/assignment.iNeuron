{
 "cells": [
  {
   "cell_type": "code",
   "execution_count": null,
   "id": "4a5cecaa-1154-4a0c-a620-f87976713561",
   "metadata": {},
   "outputs": [],
   "source": [
    "#  use of for loop when we know how many times the loop should run ,mainly we use it for conditional statement"
   ]
  },
  {
   "cell_type": "code",
   "execution_count": 1,
   "id": "ecea9187-b499-42ba-aa21-56958e18ce34",
   "metadata": {},
   "outputs": [
    {
     "name": "stdout",
     "output_type": "stream",
     "text": [
      "0\n",
      "5\n",
      "10\n",
      "15\n",
      "20\n",
      "25\n",
      "30\n",
      "35\n",
      "40\n",
      "45\n"
     ]
    }
   ],
   "source": [
    "for i in range(50):\n",
    "    if i%5 ==0 :\n",
    "        print(i)"
   ]
  },
  {
   "cell_type": "code",
   "execution_count": null,
   "id": "03377b08-118e-4fae-9a06-ad88032aa838",
   "metadata": {},
   "outputs": [],
   "source": [
    "# while loops to run the same task multiple times untill it stpped by any conditional statement."
   ]
  },
  {
   "cell_type": "code",
   "execution_count": 2,
   "id": "4b6b6ff5-98a7-4d38-bac3-a439591195e9",
   "metadata": {},
   "outputs": [
    {
     "name": "stdout",
     "output_type": "stream",
     "text": [
      "even sum is  6\n",
      "odd sum is  9\n"
     ]
    }
   ],
   "source": [
    "i=0\n",
    "even_sum=0\n",
    "odd_sum=0\n",
    "while(i<=5):\n",
    "    \n",
    "    if(i%2==0):\n",
    "        even_sum=even_sum+i\n",
    "    else:\n",
    "        odd_sum=odd_sum+i\n",
    "       \n",
    "   \n",
    "        \n",
    "    i=i+1\n",
    "print('even sum is ',even_sum)\n",
    "print('odd sum is ', odd_sum)"
   ]
  },
  {
   "cell_type": "code",
   "execution_count": 3,
   "id": "8195ef32-06a9-4b50-beab-35bab3010934",
   "metadata": {},
   "outputs": [
    {
     "name": "stdout",
     "output_type": "stream",
     "text": [
      "the sum of 10 natural no is  55\n",
      "the product of 10 natural number is  3628800\n"
     ]
    }
   ],
   "source": [
    "# for loop\n",
    "l = [1,2,3,4,5,6,7,8,9,10]\n",
    "Sum = 0\n",
    "product = 1\n",
    "\n",
    "for i in l:\n",
    "    Sum = Sum + i\n",
    "    product = product * i\n",
    "    i = i +1\n",
    "\n",
    "print('the sum of 10 natural no is ', Sum)\n",
    "print('the product of 10 natural number is ', product)"
   ]
  },
  {
   "cell_type": "code",
   "execution_count": 4,
   "id": "1176400d-e23f-44ce-8c6e-d8a62459ae63",
   "metadata": {},
   "outputs": [
    {
     "name": "stdout",
     "output_type": "stream",
     "text": [
      "the sum of 10 natural no is  55\n",
      "the product of 10 natural number is  3628800\n"
     ]
    }
   ],
   "source": [
    "#while loop\n",
    "n = 1\n",
    "Sum = 0\n",
    "product = 1\n",
    "\n",
    "while n <= 10:\n",
    "    Sum = Sum + n\n",
    "    product = product * n\n",
    "    n = n + 1\n",
    "print('the sum of 10 natural no is ' , Sum)\n",
    "print('the product of 10 natural number is ' , product)"
   ]
  },
  {
   "cell_type": "code",
   "execution_count": 5,
   "id": "8bc4eac0-13b8-4c16-8dc4-010cda2b4d1a",
   "metadata": {},
   "outputs": [
    {
     "name": "stdin",
     "output_type": "stream",
     "text": [
      "Enter your unit:  310\n"
     ]
    },
    {
     "name": "stdout",
     "output_type": "stream",
     "text": [
      "Bill Per Unit: 2250\n"
     ]
    }
   ],
   "source": [
    "unit = int(input(\"Enter your unit: \"))\n",
    "if unit <= 100:\n",
    "    bill = unit * 4.5\n",
    "elif unit >=101 and unit <=200:\n",
    "    bill = 450 + ((unit - 100)*6)\n",
    "elif unit>=201 and unit <= 300:\n",
    "    bill = 1050 +((unit-200)*10)\n",
    "else:\n",
    "    bill = 2050 + ((unit-300) *20)\n",
    "print(\"Bill Per Unit:\",bill)"
   ]
  },
  {
   "cell_type": "code",
   "execution_count": 6,
   "id": "054c0cd0-6ca4-4a04-a6d0-b33d3b8105cc",
   "metadata": {},
   "outputs": [
    {
     "name": "stdout",
     "output_type": "stream",
     "text": [
      "cube i.e divisible by 4 or 5  [8, 64, 125, 216, 512, 1000, 1728, 2744, 3375, 4096, 5832, 8000, 10648, 13824, 15625, 17576, 21952, 27000, 32768, 39304, 42875, 46656, 54872, 64000, 74088, 85184, 91125, 97336, 110592, 125000, 140608, 157464, 166375, 175616, 195112, 216000, 238328, 262144, 274625, 287496, 314432, 343000, 373248, 405224, 421875, 438976, 474552, 512000, 551368, 592704, 614125, 636056, 681472, 729000, 778688, 830584, 857375, 884736, 941192, 1000000]\n"
     ]
    }
   ],
   "source": [
    "#for loop\n",
    "l=list(range(1,101))\n",
    "cube =[]\n",
    "\n",
    "for i in l:\n",
    "    i = i**3\n",
    "    if i%4 == 0 or i%5 ==0:\n",
    "        cube.append(i)\n",
    "print( 'cube i.e divisible by 4 or 5 ' ,cube)"
   ]
  },
  {
   "cell_type": "code",
   "execution_count": null,
   "id": "503271de-87d7-4942-88c4-4734eed85dbb",
   "metadata": {},
   "outputs": [],
   "source": [
    "# while loop"
   ]
  },
  {
   "cell_type": "code",
   "execution_count": 8,
   "id": "5cf34bf7-5a7f-4ed2-b9b8-87fc7fee229d",
   "metadata": {},
   "outputs": [
    {
     "name": "stdout",
     "output_type": "stream",
     "text": [
      "8\n",
      "64\n",
      "125\n",
      "216\n",
      "512\n",
      "1000\n",
      "1728\n",
      "2744\n",
      "3375\n",
      "4096\n",
      "5832\n",
      "8000\n",
      "10648\n",
      "13824\n",
      "15625\n",
      "17576\n",
      "21952\n",
      "27000\n",
      "32768\n",
      "39304\n",
      "42875\n",
      "46656\n",
      "54872\n",
      "64000\n",
      "74088\n",
      "85184\n",
      "91125\n",
      "97336\n",
      "110592\n",
      "125000\n",
      "140608\n",
      "157464\n",
      "166375\n",
      "175616\n",
      "195112\n",
      "216000\n",
      "238328\n",
      "262144\n",
      "274625\n",
      "287496\n",
      "314432\n",
      "343000\n",
      "373248\n",
      "405224\n",
      "421875\n",
      "438976\n",
      "474552\n",
      "512000\n",
      "551368\n",
      "592704\n",
      "614125\n",
      "636056\n",
      "681472\n",
      "729000\n",
      "778688\n",
      "830584\n",
      "857375\n",
      "884736\n",
      "941192\n",
      "1000000\n",
      "cube i.e divisible by 4 or 5  [1, 8, 27, 64, 125, 216, 343, 512, 729, 1000, 1331, 1728, 2197, 2744, 3375, 4096, 4913, 5832, 6859, 8000, 9261, 10648, 12167, 13824, 15625, 17576, 19683, 21952, 24389, 27000, 29791, 32768, 35937, 39304, 42875, 46656, 50653, 54872, 59319, 64000, 68921, 74088, 79507, 85184, 91125, 97336, 103823, 110592, 117649, 125000, 132651, 140608, 148877, 157464, 166375, 175616, 185193, 195112, 205379, 216000, 226981, 238328, 250047, 262144, 274625, 287496, 300763, 314432, 328509, 343000, 357911, 373248, 389017, 405224, 421875, 438976, 456533, 474552, 493039, 512000, 531441, 551368, 571787, 592704, 614125, 636056, 658503, 681472, 704969, 729000, 753571, 778688, 804357, 830584, 857375, 884736, 912673, 941192, 970299, 1000000]\n"
     ]
    }
   ],
   "source": [
    "#while loop\n",
    "n=1\n",
    "cube=[]\n",
    "while n<=100:\n",
    "    if n**3 %4 ==0 or n**3 %5 ==0:\n",
    "        print(n**3)\n",
    "    cube.append(n**3)\n",
    "    n= n+1\n",
    "print( 'cube i.e divisible by 4 or 5 ' ,cube)"
   ]
  },
  {
   "cell_type": "code",
   "execution_count": 9,
   "id": "bf5015ce-2186-4ab9-b64b-b8b1ec4bfb07",
   "metadata": {},
   "outputs": [
    {
     "name": "stdout",
     "output_type": "stream",
     "text": [
      "12\n",
      "['i', 'a', 'o', 'e', 'o', 'e', 'a', 'a', 'a', 'i', 'e', 'i']\n"
     ]
    }
   ],
   "source": [
    "def Check_Vow(string, vowels):\n",
    "    final = [each for each in string if each in vowels]\n",
    "    print(len(final))\n",
    "    print(final)\n",
    "\n",
    "\n",
    "string = \"i want to become a data scientist\"\n",
    "vowels = \"AaEeIiOoUu\"\n",
    "Check_Vow(string, vowels);\n"
   ]
  },
  {
   "cell_type": "code",
   "execution_count": null,
   "id": "1ac31759-0441-4c92-a530-85675660f108",
   "metadata": {},
   "outputs": [],
   "source": []
  }
 ],
 "metadata": {
  "kernelspec": {
   "display_name": "Python 3 (ipykernel)",
   "language": "python",
   "name": "python3"
  },
  "language_info": {
   "codemirror_mode": {
    "name": "ipython",
    "version": 3
   },
   "file_extension": ".py",
   "mimetype": "text/x-python",
   "name": "python",
   "nbconvert_exporter": "python",
   "pygments_lexer": "ipython3",
   "version": "3.10.6"
  }
 },
 "nbformat": 4,
 "nbformat_minor": 5
}
