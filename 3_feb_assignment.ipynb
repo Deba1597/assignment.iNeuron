{
 "cells": [
  {
   "cell_type": "code",
   "execution_count": 5,
   "id": "933a16a9-1d83-4b96-9831-cadbbc9957dc",
   "metadata": {},
   "outputs": [
    {
     "data": {
      "text/plain": [
       "[1, 3, 5, 7, 9, 11, 13, 15, 17, 19, 21, 23, 25]"
      ]
     },
     "execution_count": 5,
     "metadata": {},
     "output_type": "execute_result"
    }
   ],
   "source": [
    "def odd_num(a):\n",
    "    \n",
    "    l =[]\n",
    "    for i in a:\n",
    "        if i%2 == 1:\n",
    "            l.append(i)\n",
    "    return l\n",
    "odd_num(range(1,26))\n"
   ]
  },
  {
   "cell_type": "markdown",
   "id": "3f429ab4-adb9-4d37-b1c6-6029e2a0c589",
   "metadata": {},
   "source": [
    "*args is used to pass a variable number of non-keyworded arguments to a function.\n",
    "**kwargs is used to pass a variable number of keyworded arguments to a function.\n",
    "\n",
    "*args is used to pass a variable number of positional arguments to a function. When a function is defined with *args, any number of positional arguments can be passed to the function, and they are collected into a tuple"
   ]
  },
  {
   "cell_type": "code",
   "execution_count": 3,
   "id": "7bb5d836-f022-490d-8099-d67c2b8c8c8d",
   "metadata": {},
   "outputs": [
    {
     "name": "stdout",
     "output_type": "stream",
     "text": [
      "1\n",
      "2\n",
      "3\n",
      "4\n",
      "5\n",
      "6\n"
     ]
    }
   ],
   "source": [
    "def my_function(*args):\n",
    "    for arg in args:\n",
    "        print(arg)\n",
    "my_function(1,2,3,4,5,6)"
   ]
  },
  {
   "cell_type": "markdown",
   "id": "88e2d073-5d6e-40cd-8ad5-ca96e2655287",
   "metadata": {},
   "source": [
    "**kwargs is used to pass a variable number of keyword arguments to a function. When a function is defined with **kwargs, any number of keyword arguments can be passed to the function, and they are collected into a dictionary"
   ]
  },
  {
   "cell_type": "code",
   "execution_count": 4,
   "id": "45dff4fb-9342-413b-8b26-d07ba06cbacf",
   "metadata": {},
   "outputs": [
    {
     "data": {
      "text/plain": [
       "{'a': 2, 'b': [2, 4, 5], 'c': 27.8, 'd': 'kolkata', 'e': 'delhi'}"
      ]
     },
     "execution_count": 4,
     "metadata": {},
     "output_type": "execute_result"
    }
   ],
   "source": [
    "def my_function(**kwargs):\n",
    "    return kwargs\n",
    "my_function( a= 2, b=[2,4,5],c=27.8,d='kolkata' ,e =\"delhi\")"
   ]
  },
  {
   "cell_type": "markdown",
   "id": "f97d030f-8e66-4b8d-87ac-538f8e9792e3",
   "metadata": {},
   "source": [
    "an iterator is an object that implements the iterator protocol, which consists of two methods: __iter__() and __next__().\n",
    "for initialise of iter object we use iter() function.\n",
    "for iteration we use next() method or for loop."
   ]
  },
  {
   "cell_type": "code",
   "execution_count": 5,
   "id": "c49103a5-2eca-418f-bcde-6d1947c3d012",
   "metadata": {},
   "outputs": [
    {
     "name": "stdout",
     "output_type": "stream",
     "text": [
      "2\n",
      "4\n",
      "6\n",
      "8\n",
      "10\n"
     ]
    }
   ],
   "source": [
    "my_list = [2, 4, 6, 8, 10, 12, 14, 16, 18, 20]\n",
    "\n",
    "my_iterator = iter(my_list)\n",
    "\n",
    "for i in range(5):\n",
    "    print(my_list[i])\n"
   ]
  },
  {
   "cell_type": "markdown",
   "id": "6281045b-d3e0-4d6d-9d52-d7bfa5936da9",
   "metadata": {},
   "source": [
    "A generator function in Python is a special type of function that generates a sequence of values when called. Instead of returning a value and exiting, a generator function uses the yield keyword to temporarily suspend the function's execution and return a value to the caller."
   ]
  },
  {
   "cell_type": "markdown",
   "id": "7124f3fd-39b7-4ba1-a9b6-1bd55314566d",
   "metadata": {},
   "source": [
    " yield allows a generator function to generate a sequence of values on-the-fly, rather than generating all the values at once and storing them in memory. This can be useful when working with large or potentially infinite sequences of values, as it can help conserve memory and improve performance."
   ]
  },
  {
   "cell_type": "code",
   "execution_count": 7,
   "id": "b98ce864-70a5-4306-b280-34b77a26daaf",
   "metadata": {},
   "outputs": [
    {
     "name": "stdout",
     "output_type": "stream",
     "text": [
      "2\n",
      "3\n",
      "5\n",
      "7\n",
      "11\n",
      "13\n",
      "17\n",
      "19\n",
      "23\n",
      "29\n"
     ]
    }
   ],
   "source": [
    "def primes():\n",
    "    yield 2\n",
    "    primes = [2]\n",
    "    n = 3\n",
    "    while True:\n",
    "        is_prime = True\n",
    "        for p in primes:\n",
    "            if n % p == 0:\n",
    "                is_prime = False\n",
    "                break\n",
    "        if is_prime:\n",
    "            primes.append(n)\n",
    "            yield n\n",
    "        n += 2\n",
    "gen = primes()\n",
    "\n",
    "for i in range(10):\n",
    "    print(next(gen))\n"
   ]
  },
  {
   "cell_type": "code",
   "execution_count": 12,
   "id": "b10bb516-d0bd-4086-aaea-9f0a23dde328",
   "metadata": {},
   "outputs": [
    {
     "name": "stdout",
     "output_type": "stream",
     "text": [
      "2\n",
      "3\n",
      "5\n",
      "7\n",
      "11\n",
      "13\n",
      "17\n",
      "19\n",
      "23\n",
      "29\n",
      "31\n",
      "37\n",
      "41\n",
      "43\n",
      "47\n",
      "53\n",
      "59\n",
      "61\n",
      "67\n",
      "71\n"
     ]
    }
   ],
   "source": [
    "def gen_primes():\n",
    "    primes = []\n",
    "    for num in range(2, 1000):\n",
    "        is_prime = True\n",
    "        for prime in primes:\n",
    "            if num % prime == 0:\n",
    "                is_prime = False\n",
    "                break\n",
    "        if is_prime:\n",
    "            primes.append(num)\n",
    "            yield num\n",
    "\n",
    "# Print the first 20 prime numbers using the next() method\n",
    "gen = gen_primes()\n",
    "for i in range(20):\n",
    "    print(next(gen))\n"
   ]
  },
  {
   "cell_type": "code",
   "execution_count": 4,
   "id": "96525b4f-350a-4216-8c17-7025ccbcc7e9",
   "metadata": {},
   "outputs": [
    {
     "name": "stdin",
     "output_type": "stream",
     "text": [
      "enter the no of element required for 10\n"
     ]
    },
    {
     "name": "stdout",
     "output_type": "stream",
     "text": [
      "0\n",
      "1\n",
      "1\n",
      "2\n",
      "3\n",
      "5\n",
      "8\n",
      "13\n",
      "21\n",
      "34\n"
     ]
    }
   ],
   "source": [
    "number = int(input('enter the no of element required for'))\n",
    "a , b = 0 , 1\n",
    "counter = 0\n",
    "while counter < number:\n",
    "    print(a)\n",
    "    c = a+b\n",
    "    a = b\n",
    "    b = c\n",
    "    counter = counter + 1"
   ]
  },
  {
   "cell_type": "code",
   "execution_count": 1,
   "id": "71b368a6-03cc-4c37-b8b2-33ae3b5de1ca",
   "metadata": {},
   "outputs": [
    {
     "data": {
      "text/plain": [
       "['p', 'w', 's', 'k', 'i', 'l', 'l', 's']"
      ]
     },
     "execution_count": 1,
     "metadata": {},
     "output_type": "execute_result"
    }
   ],
   "source": [
    "s = \"pwskills\"\n",
    "[i for i in s]"
   ]
  },
  {
   "cell_type": "code",
   "execution_count": null,
   "id": "a3e141f8-a020-47f0-bca1-c87f34453958",
   "metadata": {},
   "outputs": [],
   "source": []
  },
  {
   "cell_type": "code",
   "execution_count": 2,
   "id": "2e3e7650-ed8e-42f3-8995-98540520364f",
   "metadata": {},
   "outputs": [
    {
     "name": "stdin",
     "output_type": "stream",
     "text": [
      "enter the number 11\n"
     ]
    },
    {
     "name": "stdout",
     "output_type": "stream",
     "text": [
      "the number is palindrome\n"
     ]
    }
   ],
   "source": [
    "n= int(input(\"enter the number\"))\n",
    "num = n\n",
    "reverse = 0\n",
    "\n",
    "while n>0 :\n",
    "    digit = n % 10\n",
    "    reverse = reverse*10 + digit\n",
    "    n = n//10\n",
    "if(num == reverse):\n",
    "    print('the number is palindrome')\n",
    "else:\n",
    "    print('the number is not palindrome number')"
   ]
  },
  {
   "cell_type": "code",
   "execution_count": 7,
   "id": "13edec4b-cc6a-4dae-aec4-e80e115d70ab",
   "metadata": {},
   "outputs": [],
   "source": [
    "lst = list(range(1,101))\n"
   ]
  },
  {
   "cell_type": "code",
   "execution_count": 8,
   "id": "4c606e05-fd50-434b-b472-f4a040395fe8",
   "metadata": {},
   "outputs": [
    {
     "data": {
      "text/plain": [
       "[1,\n",
       " 3,\n",
       " 5,\n",
       " 7,\n",
       " 9,\n",
       " 11,\n",
       " 13,\n",
       " 15,\n",
       " 17,\n",
       " 19,\n",
       " 21,\n",
       " 23,\n",
       " 25,\n",
       " 27,\n",
       " 29,\n",
       " 31,\n",
       " 33,\n",
       " 35,\n",
       " 37,\n",
       " 39,\n",
       " 41,\n",
       " 43,\n",
       " 45,\n",
       " 47,\n",
       " 49,\n",
       " 51,\n",
       " 53,\n",
       " 55,\n",
       " 57,\n",
       " 59,\n",
       " 61,\n",
       " 63,\n",
       " 65,\n",
       " 67,\n",
       " 69,\n",
       " 71,\n",
       " 73,\n",
       " 75,\n",
       " 77,\n",
       " 79,\n",
       " 81,\n",
       " 83,\n",
       " 85,\n",
       " 87,\n",
       " 89,\n",
       " 91,\n",
       " 93,\n",
       " 95,\n",
       " 97,\n",
       " 99]"
      ]
     },
     "execution_count": 8,
     "metadata": {},
     "output_type": "execute_result"
    }
   ],
   "source": [
    "[i for i in lst if i%2 == 1] "
   ]
  },
  {
   "cell_type": "code",
   "execution_count": null,
   "id": "9a4cca9f-0e9e-4dcb-b610-b68d7844cbf3",
   "metadata": {},
   "outputs": [],
   "source": []
  }
 ],
 "metadata": {
  "kernelspec": {
   "display_name": "Python 3 (ipykernel)",
   "language": "python",
   "name": "python3"
  },
  "language_info": {
   "codemirror_mode": {
    "name": "ipython",
    "version": 3
   },
   "file_extension": ".py",
   "mimetype": "text/x-python",
   "name": "python",
   "nbconvert_exporter": "python",
   "pygments_lexer": "ipython3",
   "version": "3.10.6"
  }
 },
 "nbformat": 4,
 "nbformat_minor": 5
}
