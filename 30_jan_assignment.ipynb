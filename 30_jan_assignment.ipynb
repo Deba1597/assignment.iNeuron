{
 "cells": [
  {
   "cell_type": "markdown",
   "id": "aea71c91-6d0c-418a-96e7-91dea5a445ae",
   "metadata": {},
   "source": [
    "WAP to accept percentage from the user and display the grade according to the following crieteria."
   ]
  },
  {
   "cell_type": "code",
   "execution_count": null,
   "id": "447f63da-c046-42c8-b224-852836392d89",
   "metadata": {},
   "outputs": [],
   "source": []
  },
  {
   "cell_type": "code",
   "execution_count": 1,
   "id": "6ce73d8c-ce75-4c9a-99f9-23da8a096fd1",
   "metadata": {},
   "outputs": [
    {
     "name": "stdin",
     "output_type": "stream",
     "text": [
      "Enter the marks   59\n"
     ]
    },
    {
     "name": "stdout",
     "output_type": "stream",
     "text": [
      " Grade D \n"
     ]
    }
   ],
   "source": [
    "mark = int(input(\"Enter the marks  \"))\n",
    "\n",
    "if mark > 90 :\n",
    "    print(\" Grade A \")\n",
    "elif mark > 80 and mark <= 90:\n",
    "    print(\" Grade B \")\n",
    "elif mark >= 60 and mark <= 80:\n",
    "    print(\" Grade C \")\n",
    "else :\n",
    "    print(\" Grade D \")\n",
    "    "
   ]
  },
  {
   "cell_type": "markdown",
   "id": "60915ff2-b1f2-42aa-84b6-e4a49a45785f",
   "metadata": {},
   "source": [
    "WAP to accept the cost price of a bikeand display the road tax to bepaid according to the following crieteria:"
   ]
  },
  {
   "cell_type": "code",
   "execution_count": 2,
   "id": "d844f7ea-aec5-420e-a0b8-8d4531755a97",
   "metadata": {},
   "outputs": [
    {
     "name": "stdin",
     "output_type": "stream",
     "text": [
      "Enter the price of the bike   120000\n"
     ]
    },
    {
     "name": "stdout",
     "output_type": "stream",
     "text": [
      "Tax will be 15%\n",
      "18000.0 wiil be paid as tax\n"
     ]
    }
   ],
   "source": [
    "price = int(input(\"Enter the price of the bike  \"))\n",
    "if price > 100000:\n",
    "    print('Tax will be 15%' )\n",
    "    print( (price*15)/100, 'wiil be paid as tax')\n",
    "elif price > 50000 and price <= 100000:\n",
    "    print('Tax will be 10%' )\n",
    "    print( (price*10)/100, 'wiil be paid as tax')\n",
    "else :\n",
    "    print('Tax will be 5%' )\n",
    "    print( (price*5)/100, 'wiil be paid as tax')"
   ]
  },
  {
   "cell_type": "markdown",
   "id": "3480970a-f88b-4f82-849c-225481deacab",
   "metadata": {},
   "source": [
    "Accept any city from the user and display monument of that city."
   ]
  },
  {
   "cell_type": "code",
   "execution_count": 3,
   "id": "e6418575-d432-464c-b5df-caedf6d6771d",
   "metadata": {},
   "outputs": [
    {
     "name": "stdin",
     "output_type": "stream",
     "text": [
      "enter city name delhi\n"
     ]
    },
    {
     "name": "stdout",
     "output_type": "stream",
     "text": [
      " monument is RED FORT \n"
     ]
    }
   ],
   "source": [
    "city = input(\"enter city name\")\n",
    "\n",
    "if city.upper() == \"DELHI\":\n",
    "    print(\" monument is RED FORT \")\n",
    "elif city.upper() == \"AGRA\":\n",
    "    print(\" monument is TAJ MAHAL \")\n",
    "elif city.upper() == \"JAIPUR\":\n",
    "    print(\" monument is JAI MAHAL \")\n",
    "else:\n",
    "    print('monument not found')"
   ]
  },
  {
   "cell_type": "markdown",
   "id": "6426a750-de57-4b26-85d5-34974929ea9a",
   "metadata": {},
   "source": [
    "Check how many tme a given number can be divided by 3 before it is less then or equal to 10"
   ]
  },
  {
   "cell_type": "code",
   "execution_count": 4,
   "id": "27acad50-d7ef-4a49-b109-95773a51d3b8",
   "metadata": {},
   "outputs": [
    {
     "name": "stdin",
     "output_type": "stream",
     "text": [
      "Enter the number 348\n"
     ]
    },
    {
     "name": "stdout",
     "output_type": "stream",
     "text": [
      "116  times the number can be divided by 3 before it is less than or equal to 10\n"
     ]
    }
   ],
   "source": [
    "number = int(input('Enter the number'))\n",
    "\n",
    "print(int(number/3) ,' times the number can be divided by 3 before it is less than or equal to 10')"
   ]
  },
  {
   "cell_type": "code",
   "execution_count": null,
   "id": "f76d5c06-dcbf-4326-8b29-8df405e3c5f7",
   "metadata": {},
   "outputs": [],
   "source": []
  },
  {
   "cell_type": "code",
   "execution_count": null,
   "id": "8cce2eca-18b7-471f-9b87-7d0c3887daef",
   "metadata": {},
   "outputs": [],
   "source": []
  },
  {
   "cell_type": "markdown",
   "id": "e39a51b6-75a3-4b55-b550-1ce072045ec3",
   "metadata": {},
   "source": [
    "why and when to use While loop in python give a detailed description with example"
   ]
  },
  {
   "cell_type": "markdown",
   "id": "5d9464a2-3708-4730-b1cc-8d745c3d782d",
   "metadata": {},
   "source": [
    "In Python, while loop is used to run a block code until a certain condition is met."
   ]
  },
  {
   "cell_type": "code",
   "execution_count": 5,
   "id": "d336496c-fc52-483f-b691-61e016fbf59f",
   "metadata": {},
   "outputs": [
    {
     "name": "stdout",
     "output_type": "stream",
     "text": [
      "1\n",
      "2\n",
      "3\n",
      "4\n",
      "5\n"
     ]
    }
   ],
   "source": [
    "##Python while Loop\n",
    "i = 1\n",
    "n = 5\n",
    "while i <= n:\n",
    "    print(i)\n",
    "    i = i + 1"
   ]
  },
  {
   "cell_type": "code",
   "execution_count": 1,
   "id": "0781b1a4-b810-454d-ab25-56571bc0c96c",
   "metadata": {},
   "outputs": [
    {
     "name": "stdin",
     "output_type": "stream",
     "text": [
      "enter your limit 8\n"
     ]
    },
    {
     "data": {
      "text/plain": [
       "36"
      ]
     },
     "execution_count": 1,
     "metadata": {},
     "output_type": "execute_result"
    }
   ],
   "source": [
    "n = int(input(\"enter your limit\"))\n",
    "starting_point = 0\n",
    "counter = 1\n",
    "\n",
    "while counter <= n:\n",
    "    starting_point = starting_point + counter\n",
    "    counter = counter + 1\n",
    "starting_point    "
   ]
  },
  {
   "cell_type": "code",
   "execution_count": 2,
   "id": "10d66303-4626-49e3-9660-01007f19e1ab",
   "metadata": {},
   "outputs": [
    {
     "name": "stdin",
     "output_type": "stream",
     "text": [
      "enter your number 10\n"
     ]
    },
    {
     "data": {
      "text/plain": [
       "3628800"
      ]
     },
     "execution_count": 2,
     "metadata": {},
     "output_type": "execute_result"
    }
   ],
   "source": [
    "number = int(input('enter your number'))\n",
    "fact = 1\n",
    "\n",
    "while number > 0:\n",
    "    fact = fact * number\n",
    "    number = number - 1\n",
    "fact"
   ]
  },
  {
   "cell_type": "markdown",
   "id": "00876218-b751-4c1f-9585-123e917ad44f",
   "metadata": {},
   "source": [
    "use nested while loop to print 3 different pattern"
   ]
  },
  {
   "cell_type": "code",
   "execution_count": 1,
   "id": "cdb65cb3-a451-49bf-95e6-a22bbae2d2d3",
   "metadata": {},
   "outputs": [
    {
     "name": "stdout",
     "output_type": "stream",
     "text": [
      "1 \n",
      "1 2 \n",
      "1 2 3 \n",
      "1 2 3 4 \n",
      "1 2 3 4 5 \n"
     ]
    }
   ],
   "source": [
    "i=1\n",
    "while i<=5:\n",
    "    j=1\n",
    "    while j<=i:\n",
    "        print(j,end=\" \")\n",
    "        j=j+1\n",
    "    print(\"\")\n",
    "    i=i+1"
   ]
  },
  {
   "cell_type": "code",
   "execution_count": 2,
   "id": "35b0027f-2d82-4986-825a-8d33127f5364",
   "metadata": {},
   "outputs": [
    {
     "name": "stdout",
     "output_type": "stream",
     "text": [
      "* \n",
      "* * \n",
      "* * * \n",
      "* * * * \n",
      "* * * * * \n"
     ]
    }
   ],
   "source": [
    "n=5\n",
    "i,j=1,0\n",
    "while(i<=n):\n",
    "    while(j<=i-1):\n",
    "        print(\"* \",end=\"\")\n",
    "        j=j+1\n",
    "    print(\"\\r\")\n",
    "    j=0; i = i + 1"
   ]
  },
  {
   "cell_type": "code",
   "execution_count": 3,
   "id": "93ec4556-d7c4-467d-aebd-d7b242d68151",
   "metadata": {},
   "outputs": [
    {
     "name": "stdin",
     "output_type": "stream",
     "text": [
      "Enter number of rows :  5\n"
     ]
    },
    {
     "name": "stdout",
     "output_type": "stream",
     "text": [
      "  1 \n",
      "  2   3 \n",
      "  4   5   6 \n",
      "  7   8   9  10 \n",
      " 11  12  13  14  15 \n"
     ]
    }
   ],
   "source": [
    "n = int(input('Enter number of rows : '))\n",
    " \n",
    "k = 1\n",
    "i = 1\n",
    "while i <= n :\n",
    "    j = 1\n",
    "    while j <= i:\n",
    "        print(\"{:3d}\".format(k), end = \" \")\n",
    "        j += 1\n",
    "        k += 1\n",
    "    print()\n",
    "    i += 1"
   ]
  },
  {
   "cell_type": "markdown",
   "id": "c8b2afea-a887-4810-897e-66d396266c37",
   "metadata": {},
   "source": [
    "reverse a while loop  to display  number from 10 t0 1"
   ]
  },
  {
   "cell_type": "code",
   "execution_count": 4,
   "id": "619fd12c-7284-4981-828e-43420f075b10",
   "metadata": {},
   "outputs": [
    {
     "name": "stdout",
     "output_type": "stream",
     "text": [
      "10\n",
      "9\n",
      "8\n",
      "7\n",
      "6\n",
      "5\n",
      "4\n",
      "3\n",
      "2\n",
      "1\n"
     ]
    }
   ],
   "source": [
    "i = 10\n",
    "while i > 0:\n",
    "    print(i)\n",
    "    i = i - 1"
   ]
  },
  {
   "cell_type": "code",
   "execution_count": null,
   "id": "33b58706-02e8-4ae5-b034-10758609f5e4",
   "metadata": {},
   "outputs": [],
   "source": [
    "reverse a while loop to display number from 10 to 1"
   ]
  },
  {
   "cell_type": "code",
   "execution_count": null,
   "id": "c19542f5-7dc5-4def-aa93-3fa5a2ae78a4",
   "metadata": {},
   "outputs": [],
   "source": [
    "x = 10 \n",
    "while x<=10: \n",
    "\tprint(x) \n",
    "\tx-=1 \n",
    "\tif x == 0: \n",
    "        break"
   ]
  }
 ],
 "metadata": {
  "kernelspec": {
   "display_name": "Python 3 (ipykernel)",
   "language": "python",
   "name": "python3"
  },
  "language_info": {
   "codemirror_mode": {
    "name": "ipython",
    "version": 3
   },
   "file_extension": ".py",
   "mimetype": "text/x-python",
   "name": "python",
   "nbconvert_exporter": "python",
   "pygments_lexer": "ipython3",
   "version": "3.10.6"
  }
 },
 "nbformat": 4,
 "nbformat_minor": 5
}
