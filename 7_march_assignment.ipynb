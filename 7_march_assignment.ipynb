{
 "cells": [
  {
   "cell_type": "markdown",
   "id": "bbd4bb3e-2929-4c38-8316-1fb085c713ff",
   "metadata": {},
   "source": [
    "## 1"
   ]
  },
  {
   "cell_type": "markdown",
   "id": "85971bbb-fc52-403e-ab15-2ccd0ca3056a",
   "metadata": {},
   "source": [
    "what are the three measure of central tendecy?\n",
    "\n",
    "mean ,median and mode are used to measure central tendency"
   ]
  },
  {
   "cell_type": "markdown",
   "id": "1062bf2c-6607-47bb-a448-228d09c267db",
   "metadata": {},
   "source": [
    "## 2"
   ]
  },
  {
   "cell_type": "markdown",
   "id": "d5a02114-75c0-401b-9316-4a79e7421621",
   "metadata": {},
   "source": [
    "what is the difference between the mean ,median and mode ? how they are used to measure central tendency of a dataset?\n",
    "\n",
    "1. Mean: The mean is the sum of all the values in the dataset divided by the number of values. mean is used when the data is normally distributed and when there is no extreme value present.\n",
    "\n",
    "2. median : The median is the middle value in a dataset when the values are arranged in order from smallest to largest. when there is even no of value then the average of the two middle valu is median. it is used when outlier is present in the dataset.\n",
    "3. mode :  mode is the value that occurs most frequently in a dataset. it is usually used in catagorical data .\n"
   ]
  },
  {
   "cell_type": "markdown",
   "id": "b439baeb-df8a-4efc-acf4-893cf233e399",
   "metadata": {},
   "source": [
    "## 3"
   ]
  },
  {
   "cell_type": "code",
   "execution_count": 15,
   "id": "cea81931-45c9-4e59-af8a-ea7839c4fbf2",
   "metadata": {},
   "outputs": [
    {
     "name": "stdout",
     "output_type": "stream",
     "text": [
      "the mean of height data is 177.01875\n",
      "the median of height data is 177.0\n",
      "the mode of height data is 177.0\n"
     ]
    },
    {
     "name": "stderr",
     "output_type": "stream",
     "text": [
      "/tmp/ipykernel_105/2640996771.py:6: FutureWarning: Unlike other reduction functions (e.g. `skew`, `kurtosis`), the default behavior of `mode` typically preserves the axis it acts along. In SciPy 1.11.0, this behavior will change: the default value of `keepdims` will become False, the `axis` over which the statistic is taken will be eliminated, and the value None will no longer be accepted. Set `keepdims` to True or False to avoid this warning.\n",
      "  height_mode=stats.mode(height)[0][0]\n"
     ]
    }
   ],
   "source": [
    "height = [178,177,176,177,178.2,178,175,179,180,175,178.9,176.2,177,172.5,178,176.5]\n",
    "import numpy as np\n",
    "from scipy import stats\n",
    "height_mean=np.mean(height)\n",
    "height_median=np.median(height)\n",
    "height_mode=stats.mode(height)[0][0]\n",
    "print('the mean of height data is {}'.format(height_mean))\n",
    "print('the median of height data is {}'.format(height_median))\n",
    "print('the mode of height data is {}'.format(height_mode))"
   ]
  },
  {
   "cell_type": "markdown",
   "id": "f0789f89-c2ee-4c60-9f01-74a878bc8553",
   "metadata": {},
   "source": [
    "from scipy import stats\n",
    "stats.mode(height)[0][0]"
   ]
  },
  {
   "cell_type": "markdown",
   "id": "879823fe-a51d-46c9-933b-2bfe062ff225",
   "metadata": {},
   "source": [
    "## 4"
   ]
  },
  {
   "cell_type": "code",
   "execution_count": 18,
   "id": "4de6a4ee-1ede-4b3e-bf8b-9f47ac85f2ae",
   "metadata": {},
   "outputs": [
    {
     "name": "stdout",
     "output_type": "stream",
     "text": [
      "standard deviation of the height data 1.7885814036548633\n"
     ]
    }
   ],
   "source": [
    "height = [178,177,176,177,178.2,178,175,179,180,175,178.9,176.2,177,172.5,178,176.5]\n",
    "import numpy as np\n",
    "std_height = np.std(height)\n",
    "print('standard deviation of the height data {}' .format(std_height))"
   ]
  },
  {
   "cell_type": "markdown",
   "id": "8b54f277-e92a-4b8e-9271-af015dee7d08",
   "metadata": {},
   "source": [
    "## 5"
   ]
  },
  {
   "cell_type": "markdown",
   "id": "a492f116-80f2-4e3b-85cf-a02e8ef3d34f",
   "metadata": {},
   "source": [
    "how are measures of dispersion such as renge ,variance and standard deviation used to escribe the spread of dataset ? provide an example.\n",
    "\n",
    "Ans. range , variance and standard deviation provide information about the value deviated from the central tendency.\n",
    "\n",
    "1. range - difference between the largest and smallest values in a dataset.  It is the simplest measure of dispersion and provides a rough estimate of the spread of the data. \n",
    " example -  if the range of test scores is 40, it means that the highest score is 40 points higher than the lowest score.\n",
    " \n",
    "2. variance -  the average of the squared differences of each value from the mean. It measures how much the data is spread out from the mean\n",
    "high variance indicate - value spread widely \n",
    "low variance indicate - narrow spread of value and clustered closely around the mean\n",
    "\n",
    "3. standard deviation - the square root of the variance. It measures the spread of the data in the same units as the original data so that it is easier to interpret.\n",
    "high standard deviation - values are widely spread out\n",
    "low standard deviation - values are closely clustered around the mean."
   ]
  },
  {
   "cell_type": "code",
   "execution_count": 33,
   "id": "790512b4-a42a-40b2-b813-f67a8a441249",
   "metadata": {},
   "outputs": [
    {
     "name": "stdout",
     "output_type": "stream",
     "text": [
      "range of the array 78\n",
      "variance of the array 546.0\n",
      "standard deviation of the array 23.366642891095847\n"
     ]
    }
   ],
   "source": [
    "import numpy as np\n",
    "number = np.arange(20,100,3)\n",
    "max_number = number.max()\n",
    "min_number = number.min()\n",
    "range_number = max_number - min_number\n",
    "variance_number = np.var(number)\n",
    "std_number = np.std(number)\n",
    "print('range of the array {}' .format(range_number))\n",
    "print('variance of the array {}' .format(variance_number))\n",
    "print('standard deviation of the array {}' .format(std_number))"
   ]
  },
  {
   "cell_type": "markdown",
   "id": "ea25d401-8d12-4735-a94e-7d9af5d8001f",
   "metadata": {},
   "source": [
    "## 6 "
   ]
  },
  {
   "cell_type": "markdown",
   "id": "4d84515f-1ecc-4b8b-a4db-4894b08cb43a",
   "metadata": {},
   "source": [
    "what is venn diagram?\n",
    "\n",
    "A Venn diagram is a graphical representation of the relationship between different sets of data. \n",
    "Each circle or shape in the diagram represents a set of data, and the overlapping area shows the intersection between the sets. The area outside of the circles represents the items that are not included in any of the sets.\n",
    "Venn diagrams are commonly used to visually illustrate the relationship between different categories, concepts, or data points."
   ]
  },
  {
   "cell_type": "markdown",
   "id": "399b243c-52e5-4c5d-87fa-1d93d0d7e7a8",
   "metadata": {},
   "source": [
    "## 7"
   ]
  },
  {
   "cell_type": "code",
   "execution_count": 39,
   "id": "d45cdfdb-b840-4d66-a610-5d5b94cd8c00",
   "metadata": {},
   "outputs": [
    {
     "name": "stdout",
     "output_type": "stream",
     "text": [
      "a union b is        :  {0, 2, 3, 4, 5, 6, 7, 8, 10}\n",
      "a intersection b is :  {2, 6}\n"
     ]
    }
   ],
   "source": [
    "a = {2,3,4,5,6,7}\n",
    "b = {0,2,6,8,10}\n",
    "UNION = a.union(b)\n",
    "INTERSECTION = a.intersection(b)\n",
    "print('a union b is        :  {}'.format(UNION))\n",
    "print('a intersection b is :  {}'.format(INTERSECTION))"
   ]
  },
  {
   "cell_type": "markdown",
   "id": "ad1af81a-5ddd-41eb-a2e2-65a0df663c7e",
   "metadata": {},
   "source": [
    "## 8 "
   ]
  },
  {
   "cell_type": "markdown",
   "id": "f216e7fb-663f-4967-ad1a-6472025e65fc",
   "metadata": {},
   "source": [
    "skewness of data ?\n",
    "\n",
    "Skewness is a measure of the asymmetry of a dataset. . It tells us how much a dataset deviates from a symmetrical or normal distribution.\n",
    "A dataset can be skewed either to the right or to the left, depending on the direction of the long tail of the distribution.\n",
    "\n",
    "1. A positively skewed dataset has a long tail on the right-hand side of the distribution, with most of the values clustered towards the left-hand side.(Right skewed data)\n",
    "mean >= median >= moode\n",
    "\n",
    "2. A negatively skewed dataset has a long tail on the left-hand side of the distribution, with most of the values clustered towards the right-hand side.(left skewed data)\n",
    "mean <= median <= mode\n"
   ]
  },
  {
   "cell_type": "markdown",
   "id": "6ebf9ba8-2a16-4647-8396-7e96e44c7968",
   "metadata": {},
   "source": [
    "## 9"
   ]
  },
  {
   "cell_type": "markdown",
   "id": "90ef5d44-be39-483d-8c9b-b638f47b203d",
   "metadata": {},
   "source": [
    "if a data is right skewed then what will be the position of median with respect to mean?\n",
    "\n",
    "mean >= median >= moode (value wise)\n",
    "mode - median - mean (position wise)\n",
    "If a dataset is right skewed then the position of the median with respect to the mean will be on the left of the mean."
   ]
  },
  {
   "cell_type": "markdown",
   "id": "b1af6f84-2128-40e8-9962-4e0420d5e601",
   "metadata": {},
   "source": [
    "## 10"
   ]
  },
  {
   "cell_type": "markdown",
   "id": "9da5145a-4da4-4394-b87a-2cdba4682ea7",
   "metadata": {},
   "source": [
    "explain the difference between covariance and correlation. how are these measure used in statistical analysis?\n",
    "\n",
    "Covariance and correlation are two measures of the relationship between two variables in a dataset. but both have some differences\n",
    "\n",
    "1. covarience = mesure how much two variables vary together. It measures the degree to which changes in one variable are associated with changes in another variable.\n",
    " +ve covarience - the two variables tend to increase or decrease together\n",
    " -ve covarience - inverse proportional relation between two variable\n",
    "\n",
    "2. correlation =  standardized measure of the relationship between two variables. It measures the strength and direction of the linear relationship between the two variables, ranging from -1 to 1.\n",
    " 1 indicate perfect +ve relation\n",
    " -1 indicate perfect -ve relation\n",
    " 0 indicate no linear relationship\n",
    " "
   ]
  },
  {
   "cell_type": "markdown",
   "id": "f262f1c7-553d-4ff2-b6f2-37e3d8d5963c",
   "metadata": {},
   "source": [
    "## 11"
   ]
  },
  {
   "cell_type": "markdown",
   "id": "61e16d82-e2ce-4449-a020-91ecfe7e3597",
   "metadata": {},
   "source": [
    "what is the formula for calculating the sample mean ? provide an example calculation for a dataset.\n",
    "\n",
    "The formula for calculating the sample mean is:\n",
    "\n",
    "sample mean = (sum of all values in the sample) / (number of values in the sample)"
   ]
  },
  {
   "cell_type": "code",
   "execution_count": 2,
   "id": "81db09ae-cbdb-4799-9ef1-1b29af555830",
   "metadata": {},
   "outputs": [],
   "source": [
    "import numpy as np\n",
    "import seaborn as sns\n",
    "df = sns.load_dataset('tips')"
   ]
  },
  {
   "cell_type": "code",
   "execution_count": 5,
   "id": "843fee99-0f4a-4f55-94e3-ab152d053eae",
   "metadata": {},
   "outputs": [
    {
     "data": {
      "text/html": [
       "<div>\n",
       "<style scoped>\n",
       "    .dataframe tbody tr th:only-of-type {\n",
       "        vertical-align: middle;\n",
       "    }\n",
       "\n",
       "    .dataframe tbody tr th {\n",
       "        vertical-align: top;\n",
       "    }\n",
       "\n",
       "    .dataframe thead th {\n",
       "        text-align: right;\n",
       "    }\n",
       "</style>\n",
       "<table border=\"1\" class=\"dataframe\">\n",
       "  <thead>\n",
       "    <tr style=\"text-align: right;\">\n",
       "      <th></th>\n",
       "      <th>total_bill</th>\n",
       "      <th>tip</th>\n",
       "      <th>sex</th>\n",
       "      <th>smoker</th>\n",
       "      <th>day</th>\n",
       "      <th>time</th>\n",
       "      <th>size</th>\n",
       "    </tr>\n",
       "  </thead>\n",
       "  <tbody>\n",
       "    <tr>\n",
       "      <th>0</th>\n",
       "      <td>16.99</td>\n",
       "      <td>1.01</td>\n",
       "      <td>Female</td>\n",
       "      <td>No</td>\n",
       "      <td>Sun</td>\n",
       "      <td>Dinner</td>\n",
       "      <td>2</td>\n",
       "    </tr>\n",
       "    <tr>\n",
       "      <th>1</th>\n",
       "      <td>10.34</td>\n",
       "      <td>1.66</td>\n",
       "      <td>Male</td>\n",
       "      <td>No</td>\n",
       "      <td>Sun</td>\n",
       "      <td>Dinner</td>\n",
       "      <td>3</td>\n",
       "    </tr>\n",
       "  </tbody>\n",
       "</table>\n",
       "</div>"
      ],
      "text/plain": [
       "   total_bill   tip     sex smoker  day    time  size\n",
       "0       16.99  1.01  Female     No  Sun  Dinner     2\n",
       "1       10.34  1.66    Male     No  Sun  Dinner     3"
      ]
     },
     "execution_count": 5,
     "metadata": {},
     "output_type": "execute_result"
    }
   ],
   "source": [
    "df.head(2)"
   ]
  },
  {
   "cell_type": "code",
   "execution_count": 6,
   "id": "85764bea-4a2c-48a0-931f-9dfddadf274f",
   "metadata": {},
   "outputs": [
    {
     "data": {
      "text/plain": [
       "19.78594262295082"
      ]
     },
     "execution_count": 6,
     "metadata": {},
     "output_type": "execute_result"
    }
   ],
   "source": [
    "np.mean(df.total_bill)"
   ]
  },
  {
   "cell_type": "code",
   "execution_count": 7,
   "id": "d05c1804-a1f1-4d34-b67b-81aba2993798",
   "metadata": {},
   "outputs": [
    {
     "data": {
      "text/plain": [
       "2.99827868852459"
      ]
     },
     "execution_count": 7,
     "metadata": {},
     "output_type": "execute_result"
    }
   ],
   "source": [
    "np.mean(df.tip)"
   ]
  },
  {
   "cell_type": "markdown",
   "id": "fb9fadce-5fab-4a44-9f38-c57b231b8809",
   "metadata": {},
   "source": [
    "## 12"
   ]
  },
  {
   "cell_type": "markdown",
   "id": "a5da8db0-e119-4b0b-8574-47e61505c12e",
   "metadata": {},
   "source": [
    "for a normal distribution data what is the relationship between its measure of central tendency?\n",
    "\n",
    "For a normal distribution, the three measures of central tendency - the mean, median, and mode - are all located at the exact center of the distribution, which is also the highest point of the bell-shaped curve."
   ]
  },
  {
   "cell_type": "markdown",
   "id": "864c109d-7048-445c-b587-c0d87f0bb0f2",
   "metadata": {},
   "source": [
    "## 13"
   ]
  },
  {
   "cell_type": "markdown",
   "id": "bc2f00b5-588c-4c22-a928-20da61b291c5",
   "metadata": {},
   "source": [
    "how is covariance different from correlation?\n",
    "\n",
    "Covariance and correlation are both measures of the relationship between two variables, but they differ in several ways:\n",
    "1. Formula and calculation\n",
    "2. Scale of measurement\n",
    "3. Interpretation\n",
    "4. Range of values\n",
    "\n",
    "1. formula and calculation - \n",
    " Covariance is calculated by taking the average of the product of the deviations of two variables from their respective means.\n",
    " correlation is calculated as the covariance divided by the product of the standard deviations of the two variables.\n",
    " \n",
    "2. scale of measurement -\n",
    "correlation is a standardized measure that ranges from -1 to 1 ,which is  easier to interpret.\n",
    "covarience is measured by scale of variable so that it is difficult to interpret.\n",
    "\n",
    "3. interpretation - \n",
    "covarience is difficult to interpret \n",
    "in correlation ,it is easy to interpret due to scale of range between -1 to 1\n",
    "\n",
    "4. range of value - \n",
    " Covariance can take on any value, positive, negative, or zero\n",
    " correlation is always between -1 and 1.\n",
    "-1 represents a perfect negative correlation.\n",
    "1 represents a perfect positive correlation.\n",
    "0 represents no correlation."
   ]
  }
 ],
 "metadata": {
  "kernelspec": {
   "display_name": "Python 3 (ipykernel)",
   "language": "python",
   "name": "python3"
  },
  "language_info": {
   "codemirror_mode": {
    "name": "ipython",
    "version": 3
   },
   "file_extension": ".py",
   "mimetype": "text/x-python",
   "name": "python",
   "nbconvert_exporter": "python",
   "pygments_lexer": "ipython3",
   "version": "3.10.6"
  }
 },
 "nbformat": 4,
 "nbformat_minor": 5
}
