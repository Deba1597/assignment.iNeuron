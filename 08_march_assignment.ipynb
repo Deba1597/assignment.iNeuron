{
 "cells": [
  {
   "cell_type": "markdown",
   "id": "b1085323-f903-4bca-96c3-60ef0167e716",
   "metadata": {},
   "source": [
    "## 1.  what is probability density function?"
   ]
  },
  {
   "cell_type": "markdown",
   "id": "1c506379-db89-41a9-8e18-30538366bf54",
   "metadata": {},
   "source": [
    "A probability density function (PDF) is a mathematical function that describes the probability distribution of a continuous random variable. It is used to model the probability of a variable taking on a specific value or falling within a particular range of values."
   ]
  },
  {
   "cell_type": "markdown",
   "id": "8d11b684-65f1-40af-985e-5e6366d0b48d",
   "metadata": {},
   "source": [
    "## 2. what are the types of probability distribution"
   ]
  },
  {
   "cell_type": "markdown",
   "id": "3c9df080-df42-4fea-9752-d5c9dbccbe8a",
   "metadata": {},
   "source": [
    "1. normal distribution/gussian distribution(PDF)\n",
    "2. bernouli distribution(PMF)\n",
    "3. uniform distribution(PMF)\n",
    "4. poissons distribution(PMF)\n",
    "5. log normal distribution(PDF)\n",
    "6. binomial distribution(PMF)\n"
   ]
  },
  {
   "cell_type": "markdown",
   "id": "2c040368-42c0-4f87-a690-7f6fad4fb5ca",
   "metadata": {},
   "source": [
    "## 3. write a python function to calculate the probability density function of a normal distribution with given mean and standard deviation at a given point"
   ]
  },
  {
   "cell_type": "code",
   "execution_count": 4,
   "id": "45528b01-17dc-4000-a14e-c385d34d9c36",
   "metadata": {},
   "outputs": [
    {
     "name": "stdout",
     "output_type": "stream",
     "text": [
      "normal distribution of a 0.3989422804014327\n",
      "normal distribution of b 0.00026766045152977074\n"
     ]
    }
   ],
   "source": [
    "import math\n",
    "def normal_dist(x,mu,sigma):      ## mu : mean & sigma : standard deviation\n",
    "    exponent = (-(x-mu)**2)/(2*sigma**2)\n",
    "    coefficient = 1/(sigma* math.sqrt(2*math.pi))\n",
    "    return coefficient*math.exp(exponent)\n",
    "\n",
    "\n",
    "## x = 0 (normal distribution with respect to o)  \n",
    "a = normal_dist(0,0,1) ## here mean is 0 and standard deviation is 1 \n",
    "print('normal distribution of a {}'.format(a))\n",
    "\n",
    "## x = 2 (normal distribution with respect to o)  \n",
    "b = normal_dist(2,0,0.5) ## here mean is 0 and standard deviation is 0.5\n",
    "print('normal distribution of b {}'.format(b))\n"
   ]
  },
  {
   "cell_type": "markdown",
   "id": "afabdbe1-aff7-4539-9167-a5b3f695ffc0",
   "metadata": {},
   "source": [
    "## 4.  what are the property of binomial distribution ? give two example of events where binomial distribution can be applied"
   ]
  },
  {
   "cell_type": "markdown",
   "id": "fb60841a-82a3-4185-b173-21a39ff45ada",
   "metadata": {},
   "source": [
    "properties of the binomial distribution are:\n",
    "1. The random variable X follows a binomial distribution if it meets the following criteria:\n",
    "    a. The experiment consists of n identical trials\n",
    "    b. Each trial has only two possible outcomes (success or failure)\n",
    "    c. The probability of success (p) is constant for each trial\n",
    "    d. The trials are independent of each other\n",
    "    \n",
    "example =\n",
    "1. Flipping a coin: If you flip a fair coin (with an equal probability of heads or tails) n times, the number of times you get heads follows a binomial distribution with p = 0.5. For example, if you flip a coin 10 times, the probability of getting exactly 3 heads is given by P(X=3) = (10C3) * 0.5^3 * 0.5^7 = 0.117.\n",
    "\n",
    "2. Testing a drug: Suppose a new drug has a success rate of 0.8 (i.e., the probability of a patient recovering after taking the drug is 0.8). If we randomly select n patients and give them the drug, the number of patients who recover follows a binomial distribution with p = 0.8. For example, if we test the drug on 20 patients, the probability of exactly 15 patients recovering is given by P(X=15) = (20C15) * 0.8^15 * 0.2^5 = 0.174 ."
   ]
  },
  {
   "cell_type": "markdown",
   "id": "81ccc943-7d2e-4f5d-b0b7-8402dbbeb5b0",
   "metadata": {},
   "source": [
    "## 5. generate a sample of size 1000 from a binomial distribution with probability of sucess 0.4 and plot a histogram of the result using matplotlib."
   ]
  },
  {
   "cell_type": "code",
   "execution_count": 5,
   "id": "dc754e1d-7087-482b-8054-a2a2355812b0",
   "metadata": {},
   "outputs": [
    {
     "data": {
      "image/png": "[encoded data removed]",
      "text/plain": [
       "<Figure size 640x480 with 1 Axes>"
      ]
     },
     "metadata": {},
     "output_type": "display_data"
    }
   ],
   "source": [
    "import numpy as np\n",
    "import matplotlib.pyplot as plt\n",
    "\n",
    "# Set the parameters of the binomial distribution\n",
    "n = 1000\n",
    "p = 0.4 # probability of sucess\n",
    "\n",
    "# Generate the random sample\n",
    "sample = np.random.binomial(n, p, size=1000)\n",
    "\n",
    "# Plot a histogram of the sample\n",
    "plt.hist(sample, bins=50, alpha=0.5, edgecolor='black', color='blue')\n",
    "plt.xlabel('Number of successes')\n",
    "plt.ylabel('Frequency')\n",
    "plt.title('Binomial distribution with n=1000, p=0.4')\n",
    "plt.show()\n"
   ]
  },
  {
   "cell_type": "markdown",
   "id": "74f0bb51-4175-4b69-85f8-a016467ae9d5",
   "metadata": {},
   "source": [
    "## 6. write a python program to calculate the cumulative distribution function of a poisson distribution with given mean at a given point"
   ]
  },
  {
   "cell_type": "code",
   "execution_count": 6,
   "id": "6964da1b-f2b4-4426-aa5a-31c261687258",
   "metadata": {},
   "outputs": [],
   "source": [
    "from scipy.stats import poisson\n",
    "\n",
    "def poisson_cdf(mean, point):\n",
    "    return poisson.cdf(mean,point)"
   ]
  },
  {
   "cell_type": "code",
   "execution_count": 7,
   "id": "90f19f8b-e4ee-49d9-8189-245c1e7bc526",
   "metadata": {},
   "outputs": [
    {
     "data": {
      "text/plain": [
       "0.23810330555354436"
      ]
     },
     "execution_count": 7,
     "metadata": {},
     "output_type": "execute_result"
    }
   ],
   "source": [
    "poisson_cdf(2.5,4)"
   ]
  },
  {
   "cell_type": "markdown",
   "id": "be95641a-b19b-4071-a066-09aef056f29f",
   "metadata": {},
   "source": [
    "## 7. how binomial distribution different from poisson distribution?"
   ]
  },
  {
   "cell_type": "markdown",
   "id": "7b733918-bcf6-4641-ab7f-ad264fe6185d",
   "metadata": {},
   "source": [
    "binomial and Poisson distributions is the nature of the events being modeled, with binomial distribution being appropriate for a fixed number of independent trials with two possible outcomes, and Poisson distribution being appropriate for rare events occurring in a fixed interval of time or space.\n",
    "\n",
    "1. Definition \n",
    "   binomial dist - fix no of independent trial with two possible outcomes\n",
    "   poisson dist - used to model the number of rare events that occur in a fixed interval of time or space.\n",
    "2. no of trial /events \n",
    "   binomial dist- the number of trials or events is fixed and finite\n",
    "   poisson dist - the number of events is potentially infinite.\n",
    "3. probability of sucess\n",
    "   binomial dist - probability of sucess is fixed for each trials\n",
    "   poisson dist - probability of an event occurring is rare and decreases as the time interval or space considered becomes larger.\n",
    "4. Continuous vs. Discrete: \n",
    "   binomial dist - discrete probability distribution because the possible outcomes are countable integers\n",
    "   poisson dist -continuous probability distribution because the possible outcomes are continuous values ranging from zero to infinity.\n",
    "5. mean and variance \n",
    "   binomial dist - the mean and variance both increase as the number of trials increases\n",
    "   poisson dist - the mean and variance are equal and are both proportional to the size of the time interval or space considered."
   ]
  },
  {
   "cell_type": "markdown",
   "id": "13aa5738-197d-4e44-955d-12f0edcf667f",
   "metadata": {},
   "source": [
    "## 8. Generate a random sample of size 1000 from a Poisson distribution with mean 5 and calculate the sample mean and variance."
   ]
  },
  {
   "cell_type": "code",
   "execution_count": 8,
   "id": "beb9f28c-18e2-4852-b6a5-682b50a35762",
   "metadata": {},
   "outputs": [
    {
     "name": "stdout",
     "output_type": "stream",
     "text": [
      "Sample Mean: 4.919\n",
      "Sample Variance: 5.030439\n"
     ]
    }
   ],
   "source": [
    "import numpy as np\n",
    "\n",
    "# Set seed for reproducibility\n",
    "np.random.seed(123)\n",
    "\n",
    "# Generate random sample of size 1000 from Poisson distribution with mean 5\n",
    "sample = np.random.poisson(lam=5, size=1000)\n",
    "\n",
    "# Calculate sample mean and variance\n",
    "sample_mean = np.mean(sample)\n",
    "sample_var = np.var(sample)\n",
    "\n",
    "print(\"Sample Mean:\", sample_mean)\n",
    "print(\"Sample Variance:\", sample_var)\n"
   ]
  },
  {
   "cell_type": "markdown",
   "id": "ebcff5aa-ef4f-4fdf-9a11-afbf5382354a",
   "metadata": {},
   "source": [
    "## 9. How mean and variance are related in Binomial distribution and Poisson distribution?"
   ]
  },
  {
   "cell_type": "markdown",
   "id": "947bdfab-4089-437e-bea8-34c213e0f98e",
   "metadata": {},
   "source": [
    "1. binomial distribution ==>  \n",
    "          mean(mu) = n*p (where n is number of trial and p is probability of sucess)\n",
    "          variance = n*p*q ( where n is number of trial, p is probability of sucess , q=(1-p) i.e probability of no of failure)\n",
    "2. poisson distribution ==>\n",
    "          mean(mu) = lambda * t (where lambda is expectedno of event to occur at every time interval  and t is time interval)\n",
    "          variance = lambda * t\n",
    "          (in poisson distribution both mean and variance are equal)"
   ]
  },
  {
   "cell_type": "markdown",
   "id": "8f48f96e-79c5-471c-9b9f-f112bdd00821",
   "metadata": {},
   "source": [
    "## 10. In normal distribution with respect to mean position, where does the least frequent data appear?"
   ]
  },
  {
   "cell_type": "markdown",
   "id": "e53546df-f1f7-476e-b478-98cc09669ca2",
   "metadata": {},
   "source": [
    "The least frequent data appears in the tails of the distribution,which represents the extreme values and appears in the tails of the distribution beyond three standard deviations from the mean."
   ]
  },
  {
   "cell_type": "code",
   "execution_count": null,
   "id": "62afae51-fb3d-437d-b018-1aef1c0f1075",
   "metadata": {},
   "outputs": [],
   "source": []
  }
 ],
 "metadata": {
  "kernelspec": {
   "display_name": "Python 3 (ipykernel)",
   "language": "python",
   "name": "python3"
  },
  "language_info": {
   "codemirror_mode": {
    "name": "ipython",
    "version": 3
   },
   "file_extension": ".py",
   "mimetype": "text/x-python",
   "name": "python",
   "nbconvert_exporter": "python",
   "pygments_lexer": "ipython3",
   "version": "3.10.6"
  }
 },
 "nbformat": 4,
 "nbformat_minor": 5
}
