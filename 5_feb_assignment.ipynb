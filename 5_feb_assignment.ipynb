{
 "cells": [
  {
   "cell_type": "markdown",
   "id": "34120436-a98f-424d-b79f-c14967a18959",
   "metadata": {},
   "source": [
    "In object-oriented programming (OOP), a class is a blueprint or template for creating objects that share common properties and behaviors. An object is an instance of a class that can store data and perform operations or methods defined by the class."
   ]
  },
  {
   "cell_type": "code",
   "execution_count": 2,
   "id": "a88638e0-3f44-412b-8075-2a9dff2fcefd",
   "metadata": {},
   "outputs": [
    {
     "name": "stdout",
     "output_type": "stream",
     "text": [
      "The Toyota innova is driving.\n",
      "The Honda city is driving.\n"
     ]
    }
   ],
   "source": [
    "class Car:\n",
    "    def __init__(self, make, model, year):\n",
    "        self.make = make\n",
    "        self.model = model\n",
    "        self.year = year\n",
    "\n",
    "    def drive(self):\n",
    "        print(\"The\", self.make, self.model, \"is driving.\")\n",
    "\n",
    "car1 = Car(\"Toyota\", \"innova\", 2020)\n",
    "car2 = Car(\"Honda\", \"city\", 2022)\n",
    "\n",
    "car1.drive()  # Output: The Toyota Camry is driving.\n",
    "car2.drive()  # Output: The Honda Accord is driving.\n"
   ]
  },
  {
   "cell_type": "markdown",
   "id": "29548f2c-45c6-4b38-ac90-462bb9d7b48c",
   "metadata": {},
   "source": [
    "2. The four pillars of object-oriented programming (OOP) are:\n",
    "a. encapsulation\n",
    "b. inheritance\n",
    "c. abstraction\n",
    "d. polymorphism"
   ]
  },
  {
   "cell_type": "markdown",
   "id": "539bfa79-2ab5-4b37-b0a0-5015b21dcaf0",
   "metadata": {},
   "source": [
    "3 . In Python, __init__() is a special method (constructor) that is called when an object of a class is created. It is used to initialize the attributes of the object and can take arguments to set the initial values of those attributes.\n"
   ]
  },
  {
   "cell_type": "code",
   "execution_count": 3,
   "id": "684e2fc8-c326-4163-9d9a-074a15ec9dfa",
   "metadata": {},
   "outputs": [
    {
     "name": "stdout",
     "output_type": "stream",
     "text": [
      "rahul\n",
      "25\n",
      "odisha\n"
     ]
    }
   ],
   "source": [
    "class Person:\n",
    "    def __init__(self, name, age, state):\n",
    "        self.name = name\n",
    "        self.age = age\n",
    "        self.state = state\n",
    "\n",
    "person1 = Person(\"rahul\", 29, \"odisha\")\n",
    "person2 = Person(\"debasis\", 25, \"delhi\")\n",
    "\n",
    "print(person1.name)    # Output: rahul\n",
    "print(person2.age)     # Output: 25\n",
    "print(person1.state) # Output: odisha\n"
   ]
  },
  {
   "cell_type": "markdown",
   "id": "b116f05a-0e65-4b7b-bbff-6c0471b376d1",
   "metadata": {},
   "source": [
    "## 4. \n",
    "In object-oriented programming, self is a keyword that refers to the instance of a class that a method is being called on. It is used to access the attributes and methods of an object, and to modify its state."
   ]
  },
  {
   "cell_type": "markdown",
   "id": "4f6b413e-a8d7-456f-9bfd-d4ec0de3629f",
   "metadata": {},
   "source": [
    "## 5. \n",
    "inheritance is a mechanism that allows one class (called the \"child\" or \"subclass\") to inherit properties and methods from another class (called the \"parent\" or \"superclass\").\n",
    "\n",
    "When a class inherits from another class, it can use all the properties and methods of the parent class as if they were defined in the child class. This makes it possible to reuse code, reduce redundancy, and create a hierarchy of classes that share common properties and behaviors."
   ]
  },
  {
   "cell_type": "markdown",
   "id": "2d2c4b12-8580-4c92-8080-c78fd2f47b03",
   "metadata": {},
   "source": [
    "single inheritance"
   ]
  },
  {
   "cell_type": "code",
   "execution_count": 5,
   "id": "57b4c6e2-827b-4a4e-87e3-3a1233c56852",
   "metadata": {},
   "outputs": [
    {
     "name": "stdout",
     "output_type": "stream",
     "text": [
      "Fido\n",
      "Woof!\n"
     ]
    }
   ],
   "source": [
    "class Animal:\n",
    "    def __init__(self, name):\n",
    "        self.name = name\n",
    "\n",
    "    def speak(self):\n",
    "        raise NotImplementedError(\"Subclass must implement abstract method\")\n",
    "\n",
    "class Dog(Animal):\n",
    "    def speak(self):\n",
    "        return \"Woof!\"\n",
    "\n",
    "my_dog = Dog(\"Fido\")\n",
    "print(my_dog.name)   \n",
    "print(my_dog.speak()) \n"
   ]
  },
  {
   "cell_type": "markdown",
   "id": "745db71c-2431-42dd-b3ec-470b0192ffc9",
   "metadata": {},
   "source": [
    "Multiple Inheritance:"
   ]
  },
  {
   "cell_type": "code",
   "execution_count": 6,
   "id": "b706905f-e57b-4311-b97b-1797c7a1dedf",
   "metadata": {},
   "outputs": [
    {
     "name": "stdout",
     "output_type": "stream",
     "text": [
      "John\n",
      "50000\n"
     ]
    }
   ],
   "source": [
    "class Person:\n",
    "    def __init__(self, name, age):\n",
    "        self.name = name\n",
    "        self.age = age\n",
    "\n",
    "class Employee:\n",
    "    def __init__(self, salary):\n",
    "        self.salary = salary\n",
    "\n",
    "class Manager(Person, Employee):\n",
    "    def __init__(self, name, age, salary):\n",
    "        Person.__init__(self, name, age)\n",
    "        Employee.__init__(self, salary)\n",
    "\n",
    "manager = Manager(\"John\", 30, 50000)\n",
    "print(manager.name)    \n",
    "print(manager.salary)  \n"
   ]
  },
  {
   "cell_type": "markdown",
   "id": "2abc2d3e-fce6-4694-9e92-c7b47bdc80dc",
   "metadata": {},
   "source": [
    "Multilevel Inheritance:"
   ]
  },
  {
   "cell_type": "code",
   "execution_count": 8,
   "id": "dd9830e8-357e-49db-b783-69ad7ed71baa",
   "metadata": {},
   "outputs": [
    {
     "name": "stdout",
     "output_type": "stream",
     "text": [
      "Fido\n",
      "5\n"
     ]
    }
   ],
   "source": [
    "class Animal:\n",
    "    def __init__(self, name):\n",
    "        self.name = name\n",
    "\n",
    "    def speak(self):\n",
    "        raise NotImplementedError(\"Subclass must implement abstract method\")\n",
    "\n",
    "class Mammal(Animal):\n",
    "    def __init__(self, name, age):\n",
    "        super().__init__(name)\n",
    "        self.age = age\n",
    "\n",
    "class Dog(Mammal):\n",
    "    def speak(self):\n",
    "        return \"Woof!\"\n",
    "\n",
    "my_dog = Dog(\"Fido\", 5)\n",
    "print(my_dog.name)   \n",
    "print(my_dog.age)    \n",
    "\n"
   ]
  },
  {
   "cell_type": "markdown",
   "id": "a045c6cf-6037-4165-bf03-e6df39dc5228",
   "metadata": {},
   "source": [
    "Hierarchical Inheritance:"
   ]
  },
  {
   "cell_type": "code",
   "execution_count": null,
   "id": "4dbdef2c-565e-410f-a82b-5e16f40b0eaa",
   "metadata": {},
   "outputs": [],
   "source": [
    "class Animal:\n",
    "    def __init__(self, name):\n",
    "        self.name = name\n",
    "\n",
    "    def speak(self):\n",
    "        raise NotImplementedError(\"Subclass must implement abstract method\")\n",
    "\n",
    "class Dog(Animal):\n",
    "    def speak(self):\n",
    "        return \"Woof!\"\n",
    "\n",
    "class Cat(Animal):\n",
    "    def speak(self):\n",
    "        return \"Meow!\"\n",
    "\n",
    "my_dog = Dog(\"Fido\")\n",
    "my_cat = Cat(\"Fluffy\")\n",
    "print(my_dog.name)   \n",
    "print(my_dog.speak()) \n",
    "print(my_cat.name)   \n",
    "print(my_cat.speak()) \n",
    "\n"
   ]
  }
 ],
 "metadata": {
  "kernelspec": {
   "display_name": "Python 3 (ipykernel)",
   "language": "python",
   "name": "python3"
  },
  "language_info": {
   "codemirror_mode": {
    "name": "ipython",
    "version": 3
   },
   "file_extension": ".py",
   "mimetype": "text/x-python",
   "name": "python",
   "nbconvert_exporter": "python",
   "pygments_lexer": "ipython3",
   "version": "3.10.6"
  }
 },
 "nbformat": 4,
 "nbformat_minor": 5
}
