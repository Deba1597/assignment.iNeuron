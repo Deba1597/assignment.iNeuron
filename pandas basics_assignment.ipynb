{
 "cells": [
  {
   "cell_type": "code",
   "execution_count": 1,
   "id": "63945ff0-b47b-4f6c-920c-0545a3e55ee4",
   "metadata": {},
   "outputs": [],
   "source": [
    "import pandas as pd"
   ]
  },
  {
   "cell_type": "code",
   "execution_count": 3,
   "id": "cf08f8b2-7cd0-49d1-88ac-21b9c131733a",
   "metadata": {},
   "outputs": [],
   "source": [
    "df = pd.Series([4,8,15,16,23.42])"
   ]
  },
  {
   "cell_type": "code",
   "execution_count": 4,
   "id": "63a2ac3f-8171-4164-a99a-1ce8cab8c349",
   "metadata": {},
   "outputs": [
    {
     "data": {
      "text/plain": [
       "0     4.00\n",
       "1     8.00\n",
       "2    15.00\n",
       "3    16.00\n",
       "4    23.42\n",
       "dtype: float64"
      ]
     },
     "execution_count": 4,
     "metadata": {},
     "output_type": "execute_result"
    }
   ],
   "source": [
    "df"
   ]
  },
  {
   "cell_type": "code",
   "execution_count": 5,
   "id": "fd4a8cc5-3e75-463b-a9a6-969ceb49bbea",
   "metadata": {},
   "outputs": [
    {
     "data": {
      "text/plain": [
       "pandas.core.series.Series"
      ]
     },
     "execution_count": 5,
     "metadata": {},
     "output_type": "execute_result"
    }
   ],
   "source": [
    "type(df)"
   ]
  },
  {
   "cell_type": "code",
   "execution_count": 17,
   "id": "d414e8d5-456f-4f6f-a201-f5d9c5a93270",
   "metadata": {},
   "outputs": [
    {
     "name": "stdout",
     "output_type": "stream",
     "text": [
      "[1, 2, 3, 4, 5, 6, 7, 8, 9, 10]\n"
     ]
    }
   ],
   "source": [
    "#2\n",
    "l= [1,2,3,4,5,6,7,8,9,10]\n",
    "ser = pd.Series(l)\n",
    "print(l)"
   ]
  },
  {
   "cell_type": "code",
   "execution_count": 18,
   "id": "2e022e1f-0bd2-4eb8-ad1a-c20e3d34fac1",
   "metadata": {},
   "outputs": [
    {
     "name": "stdout",
     "output_type": "stream",
     "text": [
      "        age  gender\n",
      "Name               \n",
      "Alice    25  female\n",
      "Bob      30    male\n",
      "Claire   27  female\n"
     ]
    }
   ],
   "source": [
    "#3\n",
    "data = {'Name':['Alice','Bob','Claire'],\n",
    "        'age':[25,30,27],\n",
    "        'gender':['female','male','female']}\n",
    "df1 = pd.DataFrame(data)\n",
    "print(df1.set_index('Name'))"
   ]
  },
  {
   "cell_type": "markdown",
   "id": "b1440f39-e335-4636-a889-8d404a8cafc4",
   "metadata": {},
   "source": [
    "#4\n",
    "In Pandas, a DataFrame is a two-dimensional data structure that can store data of different data types in columns. It can be thought of as a table, where each column represents a variable, and each row represents an observation or a record.\n",
    "a DataFrame is a table with rows and columns, where each column can be of a different data type (such as integer, float, string, boolean, etc.). It is a powerful data structure in Pandas that allows us to manipulate and analyze data efficiently."
   ]
  },
  {
   "cell_type": "code",
   "execution_count": 14,
   "id": "943c57c4-92c7-434a-b9ee-f3cbd3182d3f",
   "metadata": {},
   "outputs": [
    {
     "name": "stdout",
     "output_type": "stream",
     "text": [
      "     Name  Height  Weight\n",
      "0    raju     165      60\n",
      "1    papu     180      80\n",
      "2  jeeban     170      70\n",
      "3   shiva     175      75\n",
      "4  sekher     160      55\n"
     ]
    }
   ],
   "source": [
    "import pandas as pd\n",
    "\n",
    "data = {'Name': ['raju', 'papu', 'jeeban', 'shiva', 'sekher'],\n",
    "        'Height': [165, 180, 170, 175, 160],\n",
    "        'Weight': [60, 80, 70, 75, 55]}\n",
    "\n",
    "df = pd.DataFrame(data)\n",
    "print(df)"
   ]
  },
  {
   "cell_type": "markdown",
   "id": "b0b522b9-ef32-4ca9-bb68-c20257a68634",
   "metadata": {},
   "source": [
    "differences between DataFrames and Series:\n",
    "1.Dimensionality: DataFrames are two-dimensional data structures, whereas Series are one-dimensional data structures.\n",
    "\n",
    "2.Labeling: Both DataFrames and Series can have row and column labels, but a Series only has row labels, while a DataFrame has both row and column labels.\n",
    "\n",
    "3.Data types: Series can hold any data type (numeric, string, boolean, etc.), while DataFrames are typically composed of multiple Series objects, each of which can have its own data type.\n",
    "\n",
    "4.Size: DataFrames are typically larger than Series because they contain multiple columns of data.\n",
    "\n",
    "5.Operations: DataFrames and Series have different operations available to them. For example, you can perform arithmetic operations on a Series, but you can also perform aggregation functions like mean and sum on a DataFrame.\n",
    "\n",
    "DataFrames and Series are both important components of the Pandas library and are used extensively for data manipulation, analysis, and visualization.\n",
    "\n",
    "\n",
    "\n",
    "\n"
   ]
  },
  {
   "cell_type": "markdown",
   "id": "e46566ff-81f7-4835-9b56-2c19a74e8966",
   "metadata": {},
   "source": [
    "#5- \n",
    "for manupulation of data in pandas.Dataframe we use several funtion like - head() ,tail() , info(), describe(), drop(), fillna(), groupby(), merge() , pivot_table(), sort_value(), apply(), rename() etc."
   ]
  },
  {
   "cell_type": "code",
   "execution_count": 20,
   "id": "d922801c-1eb4-4e77-aa8a-b8162f12b83a",
   "metadata": {},
   "outputs": [
    {
     "data": {
      "text/html": [
       "<div>\n",
       "<style scoped>\n",
       "    .dataframe tbody tr th:only-of-type {\n",
       "        vertical-align: middle;\n",
       "    }\n",
       "\n",
       "    .dataframe tbody tr th {\n",
       "        vertical-align: top;\n",
       "    }\n",
       "\n",
       "    .dataframe thead th {\n",
       "        text-align: right;\n",
       "    }\n",
       "</style>\n",
       "<table border=\"1\" class=\"dataframe\">\n",
       "  <thead>\n",
       "    <tr style=\"text-align: right;\">\n",
       "      <th></th>\n",
       "      <th>PassengerId</th>\n",
       "      <th>Survived</th>\n",
       "      <th>Pclass</th>\n",
       "      <th>Age</th>\n",
       "      <th>SibSp</th>\n",
       "      <th>Parch</th>\n",
       "      <th>Fare</th>\n",
       "    </tr>\n",
       "  </thead>\n",
       "  <tbody>\n",
       "    <tr>\n",
       "      <th>count</th>\n",
       "      <td>891.000000</td>\n",
       "      <td>891.000000</td>\n",
       "      <td>891.000000</td>\n",
       "      <td>714.000000</td>\n",
       "      <td>891.000000</td>\n",
       "      <td>891.000000</td>\n",
       "      <td>891.000000</td>\n",
       "    </tr>\n",
       "    <tr>\n",
       "      <th>mean</th>\n",
       "      <td>446.000000</td>\n",
       "      <td>0.383838</td>\n",
       "      <td>2.308642</td>\n",
       "      <td>29.699118</td>\n",
       "      <td>0.523008</td>\n",
       "      <td>0.381594</td>\n",
       "      <td>32.204208</td>\n",
       "    </tr>\n",
       "    <tr>\n",
       "      <th>std</th>\n",
       "      <td>257.353842</td>\n",
       "      <td>0.486592</td>\n",
       "      <td>0.836071</td>\n",
       "      <td>14.526497</td>\n",
       "      <td>1.102743</td>\n",
       "      <td>0.806057</td>\n",
       "      <td>49.693429</td>\n",
       "    </tr>\n",
       "    <tr>\n",
       "      <th>min</th>\n",
       "      <td>1.000000</td>\n",
       "      <td>0.000000</td>\n",
       "      <td>1.000000</td>\n",
       "      <td>0.420000</td>\n",
       "      <td>0.000000</td>\n",
       "      <td>0.000000</td>\n",
       "      <td>0.000000</td>\n",
       "    </tr>\n",
       "    <tr>\n",
       "      <th>25%</th>\n",
       "      <td>223.500000</td>\n",
       "      <td>0.000000</td>\n",
       "      <td>2.000000</td>\n",
       "      <td>20.125000</td>\n",
       "      <td>0.000000</td>\n",
       "      <td>0.000000</td>\n",
       "      <td>7.910400</td>\n",
       "    </tr>\n",
       "    <tr>\n",
       "      <th>50%</th>\n",
       "      <td>446.000000</td>\n",
       "      <td>0.000000</td>\n",
       "      <td>3.000000</td>\n",
       "      <td>28.000000</td>\n",
       "      <td>0.000000</td>\n",
       "      <td>0.000000</td>\n",
       "      <td>14.454200</td>\n",
       "    </tr>\n",
       "    <tr>\n",
       "      <th>75%</th>\n",
       "      <td>668.500000</td>\n",
       "      <td>1.000000</td>\n",
       "      <td>3.000000</td>\n",
       "      <td>38.000000</td>\n",
       "      <td>1.000000</td>\n",
       "      <td>0.000000</td>\n",
       "      <td>31.000000</td>\n",
       "    </tr>\n",
       "    <tr>\n",
       "      <th>max</th>\n",
       "      <td>891.000000</td>\n",
       "      <td>1.000000</td>\n",
       "      <td>3.000000</td>\n",
       "      <td>80.000000</td>\n",
       "      <td>8.000000</td>\n",
       "      <td>6.000000</td>\n",
       "      <td>512.329200</td>\n",
       "    </tr>\n",
       "  </tbody>\n",
       "</table>\n",
       "</div>"
      ],
      "text/plain": [
       "       PassengerId    Survived      Pclass         Age       SibSp  \\\n",
       "count   891.000000  891.000000  891.000000  714.000000  891.000000   \n",
       "mean    446.000000    0.383838    2.308642   29.699118    0.523008   \n",
       "std     257.353842    0.486592    0.836071   14.526497    1.102743   \n",
       "min       1.000000    0.000000    1.000000    0.420000    0.000000   \n",
       "25%     223.500000    0.000000    2.000000   20.125000    0.000000   \n",
       "50%     446.000000    0.000000    3.000000   28.000000    0.000000   \n",
       "75%     668.500000    1.000000    3.000000   38.000000    1.000000   \n",
       "max     891.000000    1.000000    3.000000   80.000000    8.000000   \n",
       "\n",
       "            Parch        Fare  \n",
       "count  891.000000  891.000000  \n",
       "mean     0.381594   32.204208  \n",
       "std      0.806057   49.693429  \n",
       "min      0.000000    0.000000  \n",
       "25%      0.000000    7.910400  \n",
       "50%      0.000000   14.454200  \n",
       "75%      0.000000   31.000000  \n",
       "max      6.000000  512.329200  "
      ]
     },
     "execution_count": 20,
     "metadata": {},
     "output_type": "execute_result"
    }
   ],
   "source": [
    "df4 = pd.read_csv(\"https://raw.githubusercontent.com/datasciencedojo/datasets/master/titanic.csv\")\n",
    "d1=df4.describe()\n",
    "d1"
   ]
  },
  {
   "cell_type": "markdown",
   "id": "5cbc105a-bda8-4aa4-85b7-870c7208437c",
   "metadata": {},
   "source": [
    "#6\n",
    "In Pandas, both Series and DataFrames are mutable in nature. This means that you can change the values within a Series or a DataFrame after it has been created.\n",
    "\n",
    " we can add or remove rows and columns from a DataFrame, or change the values within a Series using indexing or assignment.\n",
    " \n",
    " Panel is a three-dimensional data structure in Pandas that is used to store data with three or more dimensions. However, unlike Series and DataFrames, Panels are generally not used as frequently in Pandas and are considered less flexible and efficient."
   ]
  },
  {
   "cell_type": "code",
   "execution_count": 28,
   "id": "a60a6a71-1a24-4d37-ab6f-7f5e3379685a",
   "metadata": {},
   "outputs": [
    {
     "name": "stdout",
     "output_type": "stream",
     "text": [
      "     name  age  height  weight\n",
      "0  rajesh   23     164      60\n",
      "1   kunal   25     160      65\n",
      "2  raghab   34     172      55\n",
      "3   satya   29     163      72\n",
      "4   shiva   43     169      79\n"
     ]
    }
   ],
   "source": [
    "#7\n",
    "name = pd.Series(['rajesh','kunal','raghab','satya','shiva'])\n",
    "age = pd.Series([23,25,34,29,43])\n",
    "height = pd.Series([164,160,172,163,169])\n",
    "weight= pd.Series([60,65,55,72,79])\n",
    "\n",
    "df = pd.concat([name ,age ,height,weight],axis=1)\n",
    "df.columns=['name' ,'age' ,'height','weight']\n",
    "print(df)"
   ]
  },
  {
   "cell_type": "code",
   "execution_count": 27,
   "id": "a86cb600-447b-44a6-9d82-38a332b3b4fe",
   "metadata": {},
   "outputs": [
    {
     "data": {
      "text/html": [
       "<div>\n",
       "<style scoped>\n",
       "    .dataframe tbody tr th:only-of-type {\n",
       "        vertical-align: middle;\n",
       "    }\n",
       "\n",
       "    .dataframe tbody tr th {\n",
       "        vertical-align: top;\n",
       "    }\n",
       "\n",
       "    .dataframe thead th {\n",
       "        text-align: right;\n",
       "    }\n",
       "</style>\n",
       "<table border=\"1\" class=\"dataframe\">\n",
       "  <thead>\n",
       "    <tr style=\"text-align: right;\">\n",
       "      <th></th>\n",
       "      <th>name</th>\n",
       "      <th>age</th>\n",
       "      <th>height</th>\n",
       "      <th>weight</th>\n",
       "    </tr>\n",
       "  </thead>\n",
       "  <tbody>\n",
       "    <tr>\n",
       "      <th>0</th>\n",
       "      <td>rajesh</td>\n",
       "      <td>23</td>\n",
       "      <td>164</td>\n",
       "      <td>60</td>\n",
       "    </tr>\n",
       "    <tr>\n",
       "      <th>1</th>\n",
       "      <td>kunal</td>\n",
       "      <td>25</td>\n",
       "      <td>160</td>\n",
       "      <td>65</td>\n",
       "    </tr>\n",
       "    <tr>\n",
       "      <th>2</th>\n",
       "      <td>raghab</td>\n",
       "      <td>34</td>\n",
       "      <td>172</td>\n",
       "      <td>55</td>\n",
       "    </tr>\n",
       "    <tr>\n",
       "      <th>3</th>\n",
       "      <td>satya</td>\n",
       "      <td>29</td>\n",
       "      <td>163</td>\n",
       "      <td>72</td>\n",
       "    </tr>\n",
       "    <tr>\n",
       "      <th>4</th>\n",
       "      <td>shiva</td>\n",
       "      <td>43</td>\n",
       "      <td>169</td>\n",
       "      <td>79</td>\n",
       "    </tr>\n",
       "  </tbody>\n",
       "</table>\n",
       "</div>"
      ],
      "text/plain": [
       "     name  age  height  weight\n",
       "0  rajesh   23     164      60\n",
       "1   kunal   25     160      65\n",
       "2  raghab   34     172      55\n",
       "3   satya   29     163      72\n",
       "4   shiva   43     169      79"
      ]
     },
     "execution_count": 27,
     "metadata": {},
     "output_type": "execute_result"
    }
   ],
   "source": [
    "df"
   ]
  },
  {
   "cell_type": "code",
   "execution_count": null,
   "id": "ed4ba9bf-dc54-4dd9-883c-dd6bd9fffd35",
   "metadata": {},
   "outputs": [],
   "source": []
  }
 ],
 "metadata": {
  "kernelspec": {
   "display_name": "Python 3 (ipykernel)",
   "language": "python",
   "name": "python3"
  },
  "language_info": {
   "codemirror_mode": {
    "name": "ipython",
    "version": 3
   },
   "file_extension": ".py",
   "mimetype": "text/x-python",
   "name": "python",
   "nbconvert_exporter": "python",
   "pygments_lexer": "ipython3",
   "version": "3.10.6"
  }
 },
 "nbformat": 4,
 "nbformat_minor": 5
}
