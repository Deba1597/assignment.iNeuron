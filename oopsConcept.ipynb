{
 "cells": [
  {
   "cell_type": "raw",
   "id": "7376c66c-50db-4533-848a-032ef437731d",
   "metadata": {},
   "source": [
    "## \"__str__\"- and \"__repr__\"-Methods"
   ]
  },
  {
   "cell_type": "code",
   "execution_count": 1,
   "id": "991965e8-e138-4e18-9a75-3cd595fc50c3",
   "metadata": {},
   "outputs": [
    {
     "name": "stdout",
     "output_type": "stream",
     "text": [
      "['Python', 'Java', 'C++', 'Perl']\n"
     ]
    }
   ],
   "source": [
    "l = [\"Python\", \"Java\", \"C++\", \"Perl\"]\n",
    "print(l)"
   ]
  },
  {
   "cell_type": "code",
   "execution_count": 2,
   "id": "a132163e-75a2-4763-a452-ae35327602b0",
   "metadata": {},
   "outputs": [
    {
     "data": {
      "text/plain": [
       "\"['Python', 'Java', 'C++', 'Perl']\""
      ]
     },
     "execution_count": 2,
     "metadata": {},
     "output_type": "execute_result"
    }
   ],
   "source": [
    "str(l)"
   ]
  },
  {
   "cell_type": "code",
   "execution_count": 3,
   "id": "1eb7c476-94e2-47e7-8e69-c235f9124aeb",
   "metadata": {},
   "outputs": [
    {
     "data": {
      "text/plain": [
       "\"['Python', 'Java', 'C++', 'Perl']\""
      ]
     },
     "execution_count": 3,
     "metadata": {},
     "output_type": "execute_result"
    }
   ],
   "source": [
    "repr(l)"
   ]
  },
  {
   "cell_type": "code",
   "execution_count": 4,
   "id": "b98e07da-0189-4ca4-a9fe-fe4a846faa06",
   "metadata": {},
   "outputs": [
    {
     "name": "stdout",
     "output_type": "stream",
     "text": [
      "{'a': 3497, 'b': 8011, 'c': 8300}\n"
     ]
    }
   ],
   "source": [
    "d = {\"a\":3497, \"b\":8011, \"c\":8300}\n",
    "print(d)"
   ]
  },
  {
   "cell_type": "code",
   "execution_count": 5,
   "id": "727625ff-d79a-4ba4-8180-3b5fac84dd73",
   "metadata": {},
   "outputs": [
    {
     "data": {
      "text/plain": [
       "\"{'a': 3497, 'b': 8011, 'c': 8300}\""
      ]
     },
     "execution_count": 5,
     "metadata": {},
     "output_type": "execute_result"
    }
   ],
   "source": [
    "str(d)"
   ]
  },
  {
   "cell_type": "code",
   "execution_count": 6,
   "id": "bc005434-ef8c-4bf7-9961-2932f1b88a57",
   "metadata": {},
   "outputs": [
    {
     "name": "stdout",
     "output_type": "stream",
     "text": [
      "<__main__.A object at 0x000001EED6A2A670>\n"
     ]
    }
   ],
   "source": [
    "class A:\n",
    "    pass\n",
    "a = A()\n",
    "print(a)"
   ]
  },
  {
   "cell_type": "code",
   "execution_count": 7,
   "id": "9112d9e6-b5a6-4b32-97d0-e3a5523c32df",
   "metadata": {},
   "outputs": [
    {
     "name": "stdout",
     "output_type": "stream",
     "text": [
      "<__main__.A object at 0x000001EED6A2A670>\n"
     ]
    }
   ],
   "source": [
    "print(repr(a))"
   ]
  },
  {
   "cell_type": "code",
   "execution_count": 8,
   "id": "a790dfcb-7d64-4428-8f47-c789daee5e56",
   "metadata": {},
   "outputs": [
    {
     "name": "stdout",
     "output_type": "stream",
     "text": [
      "<__main__.A object at 0x000001EED6A2A670>\n"
     ]
    }
   ],
   "source": [
    "print(str(a))"
   ]
  },
  {
   "cell_type": "code",
   "execution_count": 9,
   "id": "f372f2d4-98d1-4e66-addd-be9692682a62",
   "metadata": {},
   "outputs": [
    {
     "data": {
      "text/plain": [
       "<__main__.A at 0x1eed6a2a670>"
      ]
     },
     "execution_count": 9,
     "metadata": {},
     "output_type": "execute_result"
    }
   ],
   "source": [
    "a"
   ]
  },
  {
   "cell_type": "code",
   "execution_count": 10,
   "id": "9fb3563d-72f7-4c0c-915c-8cb1fcb162c0",
   "metadata": {},
   "outputs": [
    {
     "name": "stdout",
     "output_type": "stream",
     "text": [
      "<__main__.A object at 0x000001EED6A203D0>\n"
     ]
    }
   ],
   "source": [
    "class A:\n",
    "    def __str__(self):\n",
    "        return \"42\"\n",
    "a = A()\n",
    "print(repr(a))"
   ]
  },
  {
   "cell_type": "code",
   "execution_count": 11,
   "id": "519366a7-ea99-4068-b2bb-772f9a24824a",
   "metadata": {},
   "outputs": [
    {
     "data": {
      "text/plain": [
       "<__main__.A at 0x1eed6a203d0>"
      ]
     },
     "execution_count": 11,
     "metadata": {},
     "output_type": "execute_result"
    }
   ],
   "source": [
    "a"
   ]
  },
  {
   "cell_type": "code",
   "execution_count": 12,
   "id": "ff84e963-dbc5-43f2-bf61-e67f5bfae506",
   "metadata": {},
   "outputs": [
    {
     "name": "stdout",
     "output_type": "stream",
     "text": [
      "42\n"
     ]
    }
   ],
   "source": [
    "print(str(a))"
   ]
  },
  {
   "cell_type": "code",
   "execution_count": 13,
   "id": "83f1c238-0c41-41b0-a22d-89b3718d02d4",
   "metadata": {},
   "outputs": [
    {
     "name": "stdout",
     "output_type": "stream",
     "text": [
      "42\n",
      "42\n"
     ]
    }
   ],
   "source": [
    "class A:\n",
    "    def __repr__(self):\n",
    "        \n",
    "        return \"42\"\n",
    "a = A()\n",
    "print(repr(a))\n",
    "print(str(a))"
   ]
  },
  {
   "cell_type": "code",
   "execution_count": 14,
   "id": "1230f039-aef2-4da9-9c08-50ba455617a5",
   "metadata": {},
   "outputs": [
    {
     "data": {
      "text/plain": [
       "42"
      ]
     },
     "execution_count": 14,
     "metadata": {},
     "output_type": "execute_result"
    }
   ],
   "source": [
    "a"
   ]
  },
  {
   "cell_type": "code",
   "execution_count": 27,
   "id": "09945aca-8bc8-45da-8bd4-7461362e75dc",
   "metadata": {},
   "outputs": [
    {
     "name": "stdout",
     "output_type": "stream",
     "text": [
      "Robot(\"Marvin\",1979) <class 'str'>\n",
      "new :->  Name: Marvin, Build Year: 1979\n",
      "Type of new: <class '__main__.Robot'>\n"
     ]
    }
   ],
   "source": [
    "class Robot:\n",
    "    def __init__(self, name, build_year):\n",
    "        self.name = name\n",
    "        self.build_year = build_year\n",
    "    def __repr__(self):\n",
    "        return \"Robot(\\\"\" + self.name + \"\\\",\" +  str(self.build_year) +  \")\"\n",
    "    def __str__(self):\n",
    "        return \"Name: \" + self.name + \", Build Year: \" +  str(self.build_year)\n",
    "if __name__ == \"__main__\":\n",
    "    x = Robot(\"Marvin\", 1979)\n",
    "    x_repr = repr(x)\n",
    "    print(x_repr, type(x_repr))\n",
    "    new = eval(x_repr)\n",
    "    print('new :-> ',new)\n",
    "    print(\"Type of new:\", type(new))"
   ]
  },
  {
   "cell_type": "code",
   "execution_count": 18,
   "id": "0d0d9968-3208-44cc-ba68-e49c8eda06d9",
   "metadata": {},
   "outputs": [
    {
     "name": "stdout",
     "output_type": "stream",
     "text": [
      "2024-04-14 14:57:07.712942\n"
     ]
    }
   ],
   "source": [
    "import datetime\n",
    "today = datetime.datetime.now()\n",
    "str_s = str(today)\n",
    "print(str_s)"
   ]
  },
  {
   "cell_type": "code",
   "execution_count": 21,
   "id": "e8ccbad1-f460-48f9-b26d-860c6796d062",
   "metadata": {},
   "outputs": [],
   "source": [
    "# a = eval(input())\n",
    "# type(a)"
   ]
  },
  {
   "cell_type": "code",
   "execution_count": 22,
   "id": "3e67269c-2e8e-4e31-91a2-5ef9f91d4a92",
   "metadata": {},
   "outputs": [
    {
     "data": {
      "text/plain": [
       "datetime.datetime(2024, 4, 14, 14, 57, 7, 712942)"
      ]
     },
     "execution_count": 22,
     "metadata": {},
     "output_type": "execute_result"
    }
   ],
   "source": [
    "repr_s = repr(today)\n",
    "t = eval(repr_s)\n",
    "t"
   ]
  },
  {
   "cell_type": "code",
   "execution_count": 24,
   "id": "3bfe0931-806a-470e-bae6-b7090016a09c",
   "metadata": {},
   "outputs": [
    {
     "data": {
      "text/plain": [
       "datetime.datetime"
      ]
     },
     "execution_count": 24,
     "metadata": {},
     "output_type": "execute_result"
    }
   ],
   "source": [
    "type(t)"
   ]
  },
  {
   "cell_type": "code",
   "execution_count": 23,
   "id": "c4f38187-cfd3-4ad8-a9b0-b9ffa3c3572d",
   "metadata": {},
   "outputs": [
    {
     "name": "stdin",
     "output_type": "stream",
     "text": [
      " datetime.datetime(2024, 4, 14, 14, 57, 7, 712942)\n"
     ]
    },
    {
     "data": {
      "text/plain": [
       "datetime.datetime"
      ]
     },
     "execution_count": 23,
     "metadata": {},
     "output_type": "execute_result"
    }
   ],
   "source": [
    "a = eval(input())\n",
    "type(a)"
   ]
  },
  {
   "cell_type": "code",
   "execution_count": 25,
   "id": "da940c50-a234-45f0-b2fd-efe3bb86a0e3",
   "metadata": {},
   "outputs": [
    {
     "name": "stdout",
     "output_type": "stream",
     "text": [
      "Robot('Marvin', 1979)\n",
      "Type of x_str:  <class 'str'>\n",
      "Robot('Marvin', 1979)\n",
      "Type of new: <class '__main__.Robot'>\n"
     ]
    }
   ],
   "source": [
    "class Robot:\n",
    "    def __init__(self, name, build_year):\n",
    "        self.name = name\n",
    "        self.build_year = build_year\n",
    "    def __repr__(self):\n",
    "        return \"Robot('\" + self.name + \"', \" +  str(self.build_year) +  \")\"\n",
    "if __name__ == \"__main__\":\n",
    "    x = Robot(\"Marvin\", 1979)\n",
    "    x_str = str(x)\n",
    "    print(x_str)\n",
    "    print(\"Type of x_str: \", type(x_str))\n",
    "    new = eval(x_str) \n",
    "    print(new)\n",
    "    print(\"Type of new:\", type(new))"
   ]
  },
  {
   "cell_type": "code",
   "execution_count": 40,
   "id": "6b3238fa-b0b4-496a-ade5-b5ee5c2a5bcb",
   "metadata": {},
   "outputs": [
    {
     "name": "stdout",
     "output_type": "stream",
     "text": [
      "Name: Marvin, Build Year: 1979\n",
      "Name: Caliban, Build Year: 1943\n",
      "Robot('Marvin', 1979)\n",
      "Robot('Caliban', 1943)\n",
      "****************************************************************************************************\n",
      "Hi, I am Marvin\n",
      "I was built in the year 1979!\n",
      "Hi, I am Caliban\n",
      "I was built in the year 1993!\n"
     ]
    }
   ],
   "source": [
    "class Robot:\n",
    "    def __init__(self, name=None, build_year=2000):\n",
    "        self.__name = name\n",
    "        self.__build_year = build_year\n",
    "    def say_hi(self):\n",
    "        if self.__name:\n",
    "            print(\"Hi, I am \" + self.__name)\n",
    "        else:\n",
    "            print(\"Hi, I am a robot without a name\")\n",
    "    def set_name(self, name):\n",
    "        self.__name = name\n",
    "    def get_name(self):\n",
    "        return self.__name    \n",
    "    def set_build_year(self, by):\n",
    "        self.__build_year = by\n",
    "    def get_build_year(self):\n",
    "        return self.__build_year    \n",
    "    def __repr__(self):\n",
    "        return \"Robot('\" + self.__name + \"', \" +  str(self.__build_year) +  \")\"\n",
    "    def __str__(self):\n",
    "        return \"Name: \" + self.__name + \", Build Year: \" +  str(self.__build_year)\n",
    "if __name__ == \"__main__\":\n",
    "    x = Robot(\"Marvin\", 1979)\n",
    "    y = Robot(\"Caliban\", 1943)\n",
    "     # Using __str__ method\n",
    "    print(str(x))  # Output: Name: Marvin, Build Year: 1979\n",
    "    print(str(y))  # Output: Name: Caliban, Build Year: 1943\n",
    "    \n",
    "    # Using __repr__ method\n",
    "    print(repr(x))  # Output: Robot('Marvin', 1979)\n",
    "    print(repr(y))  # Output: Robot('Caliban', 1943)\n",
    "    print(\"*\"*100)\n",
    "    for rob in [x, y]:\n",
    "        rob.say_hi()\n",
    "        if rob.get_name() == \"Caliban\":\n",
    "            rob.set_build_year(1993)\n",
    "        print(\"I was built in the year \" + str(rob.get_build_year()) + \"!\")\n",
    "        # print(\"I was built in the year \" + repr(rob.get_build_year()) + \"!\")"
   ]
  },
  {
   "cell_type": "code",
   "execution_count": 44,
   "id": "cf321d16-d0d2-4c24-83d9-dce06ac2a636",
   "metadata": {},
   "outputs": [],
   "source": [
    "# a = eval(input())\n",
    "# type(a)"
   ]
  },
  {
   "cell_type": "markdown",
   "id": "7a297a2b-72c4-45a0-9f5d-97afbadb0dd4",
   "metadata": {},
   "source": [
    "# class attributes"
   ]
  },
  {
   "cell_type": "code",
   "execution_count": 45,
   "id": "9f982672-9202-4db9-acd8-1f8eb3062bbb",
   "metadata": {},
   "outputs": [
    {
     "data": {
      "text/plain": [
       "'I am a class attribute!'"
      ]
     },
     "execution_count": 45,
     "metadata": {},
     "output_type": "execute_result"
    }
   ],
   "source": [
    "class A:\n",
    "    a = \"I am a class attribute!\"\n",
    "\n",
    "x = A()\n",
    "y = A()\n",
    "x.a"
   ]
  },
  {
   "cell_type": "code",
   "execution_count": 46,
   "id": "d05d9b46-a2f0-4a27-a0ab-eb7761bf0540",
   "metadata": {},
   "outputs": [
    {
     "data": {
      "text/plain": [
       "'I am a class attribute!'"
      ]
     },
     "execution_count": 46,
     "metadata": {},
     "output_type": "execute_result"
    }
   ],
   "source": [
    "A.a"
   ]
  },
  {
   "cell_type": "code",
   "execution_count": 47,
   "id": "2f164660-1059-42ca-a986-91dbb1a2afed",
   "metadata": {},
   "outputs": [],
   "source": [
    "class Robot:\n",
    "\n",
    "    Three_Laws = (\n",
    "\"\"\"A robot may not injure a human being or, through inaction, allow a human being to come to harm.\"\"\",\n",
    "\"\"\"A robot must obey the orders given to it by human beings, except where such orders would conflict with the First Law.,\"\"\",\n",
    "\"\"\"A robot must protect its own existence as long as such protection does not conflict with the First or Second Law.\"\"\"\n",
    ")\n",
    "    def __init__(self, name, build_year):\n",
    "        self.name = name\n",
    "        self.build_year = build_year\n",
    "\n",
    "    # other methods as usual"
   ]
  },
  {
   "cell_type": "code",
   "execution_count": 48,
   "id": "c9ef7d35-39e8-4836-b1ef-3bee304ef1ed",
   "metadata": {},
   "outputs": [
    {
     "data": {
      "text/plain": [
       "('A robot may not injure a human being or, through inaction, allow a human being to come to harm.',\n",
       " 'A robot must obey the orders given to it by human beings, except where such orders would conflict with the First Law.,',\n",
       " 'A robot must protect its own existence as long as such protection does not conflict with the First or Second Law.')"
      ]
     },
     "execution_count": 48,
     "metadata": {},
     "output_type": "execute_result"
    }
   ],
   "source": [
    "Robot.Three_Laws"
   ]
  },
  {
   "cell_type": "code",
   "execution_count": 50,
   "id": "6e46638d-3dc2-4e04-a0e6-d8ff49c05f8c",
   "metadata": {},
   "outputs": [
    {
     "name": "stdout",
     "output_type": "stream",
     "text": [
      "1:\n",
      "A robot may not injure a human being or, through inaction, allow a human being to come to harm.\n",
      "2:\n",
      "A robot must obey the orders given to it by human beings, except where such orders would conflict with the First Law.,\n",
      "3:\n",
      "A robot must protect its own existence as long as such protection does not conflict with the First or Second Law.\n"
     ]
    }
   ],
   "source": [
    "for number, text in enumerate(Robot.Three_Laws):\n",
    "    print(str(number+1) + \":\\n\" + text) "
   ]
  },
  {
   "cell_type": "code",
   "execution_count": 51,
   "id": "5841e2ac-acda-4efc-ba48-e341b938bd1e",
   "metadata": {},
   "outputs": [
    {
     "name": "stdout",
     "output_type": "stream",
     "text": [
      "0\n",
      "1\n",
      "2\n",
      "2\n"
     ]
    }
   ],
   "source": [
    "class Robot:\n",
    "    __counter = 0\n",
    "    \n",
    "    def __init__(self):\n",
    "        type(self).__counter += 1\n",
    "        \n",
    "    @staticmethod\n",
    "    def RobotInstances():\n",
    "        return Robot.__counter\n",
    "        \n",
    "\n",
    "if __name__ == \"__main__\":\n",
    "    print(Robot.RobotInstances())\n",
    "    x = Robot()\n",
    "    print(x.RobotInstances())\n",
    "    y = Robot()\n",
    "    print(x.RobotInstances())\n",
    "    print(Robot.RobotInstances())"
   ]
  },
  {
   "cell_type": "code",
   "execution_count": 52,
   "id": "13acc1fc-7259-455a-a415-c2fd2d349b7f",
   "metadata": {},
   "outputs": [
    {
     "name": "stdout",
     "output_type": "stream",
     "text": [
      "(<class '__main__.Robot'>, 0)\n",
      "(<class '__main__.Robot'>, 1)\n",
      "(<class '__main__.Robot'>, 2)\n",
      "(<class '__main__.Robot'>, 2)\n"
     ]
    }
   ],
   "source": [
    "class Robot:\n",
    "    __counter = 0\n",
    "    \n",
    "    def __init__(self):\n",
    "        type(self).__counter += 1\n",
    "        \n",
    "    @classmethod\n",
    "    def RobotInstances(cls):\n",
    "        return cls, Robot.__counter\n",
    "        \n",
    "\n",
    "if __name__ == \"__main__\":\n",
    "    print(Robot.RobotInstances())\n",
    "    x = Robot()\n",
    "    print(x.RobotInstances())\n",
    "    y = Robot()\n",
    "    print(x.RobotInstances())\n",
    "    print(Robot.RobotInstances())"
   ]
  },
  {
   "cell_type": "code",
   "execution_count": 77,
   "id": "22e29996-1a7b-4e25-97d1-9941cb31131c",
   "metadata": {},
   "outputs": [],
   "source": [
    "class fraction(object):\n",
    "\n",
    "    def __init__(self, n, d):\n",
    "        self.numerator, self.denominator = fraction.reduce(n, d)\n",
    "        \n",
    "\n",
    "    @staticmethod\n",
    "    def gcd(a,b):\n",
    "        while b != 0:\n",
    "            a, b = b, a%b\n",
    "        return a\n",
    "\n",
    "    @classmethod\n",
    "    def reduce(cls, n1, n2):\n",
    "        g = cls.gcd(n1, n2)\n",
    "        return (n1 // g, n2 // g)\n",
    "\n",
    "    # def __str__(self):\n",
    "    #     return str(self.numerator)+'/'+str(self.denominator)\n",
    "    def __repr__(self):\n",
    "        return str(self.numerator)+'/'+str(self.denominator)"
   ]
  },
  {
   "cell_type": "code",
   "execution_count": 78,
   "id": "e080479d-2561-43d9-a689-721b52dafc68",
   "metadata": {},
   "outputs": [
    {
     "name": "stdout",
     "output_type": "stream",
     "text": [
      "1/3\n"
     ]
    }
   ],
   "source": [
    "x = fraction(8,24)\n",
    "print(x)"
   ]
  },
  {
   "cell_type": "code",
   "execution_count": 79,
   "id": "987e234c-303a-46b7-ae5b-4c59d1b692af",
   "metadata": {},
   "outputs": [
    {
     "data": {
      "text/plain": [
       "1/3"
      ]
     },
     "execution_count": 79,
     "metadata": {},
     "output_type": "execute_result"
    }
   ],
   "source": [
    "x"
   ]
  },
  {
   "cell_type": "code",
   "execution_count": 82,
   "id": "492cb83b-58c7-4da5-ba59-ade4c47242d3",
   "metadata": {},
   "outputs": [
    {
     "data": {
      "text/plain": [
       "6"
      ]
     },
     "execution_count": 82,
     "metadata": {},
     "output_type": "execute_result"
    }
   ],
   "source": [
    "x.gcd(12,18)"
   ]
  },
  {
   "cell_type": "code",
   "execution_count": 83,
   "id": "04f26371-088c-4a95-9607-b0c970bc0e28",
   "metadata": {},
   "outputs": [
    {
     "data": {
      "text/plain": [
       "(2, 3)"
      ]
     },
     "execution_count": 83,
     "metadata": {},
     "output_type": "execute_result"
    }
   ],
   "source": [
    "x.reduce(12,18)"
   ]
  },
  {
   "cell_type": "code",
   "execution_count": 85,
   "id": "1de21031-d225-4a58-bb7c-516b20a55de1",
   "metadata": {},
   "outputs": [],
   "source": [
    "class Pet:\n",
    "    _class_info = \"pet animals\"\n",
    "\n",
    "    def about(self):\n",
    "        print(\"This class is about \" + self._class_info + \"!\")   \n",
    "    \n",
    "\n",
    "class Dog(Pet):\n",
    "    _class_info = \"man's best friends\"\n",
    "\n",
    "class Cat(Pet):\n",
    "    _class_info = \"all kinds of cats\""
   ]
  },
  {
   "cell_type": "code",
   "execution_count": 86,
   "id": "bef40f11-0709-4b90-8b9e-0d19924cd3c1",
   "metadata": {},
   "outputs": [
    {
     "name": "stdout",
     "output_type": "stream",
     "text": [
      "This class is about pet animals!\n",
      "This class is about man's best friends!\n",
      "This class is about all kinds of cats!\n"
     ]
    }
   ],
   "source": [
    "p = Pet()\n",
    "p.about()\n",
    "d = Dog()\n",
    "d.about()\n",
    "c = Cat()\n",
    "c.about()"
   ]
  },
  {
   "cell_type": "code",
   "execution_count": 87,
   "id": "bc6e1af6-e460-4e73-b8b2-610fe9d68e3c",
   "metadata": {},
   "outputs": [],
   "source": [
    "class fraction(object):\n",
    "\n",
    "    def __init__(self, n, d):\n",
    "        self.numerator, self.denominator = fraction.reduce(n, d)\n",
    "        \n",
    "\n",
    "    @staticmethod\n",
    "    def gcd(a,b):\n",
    "        while b != 0:\n",
    "            a, b = b, a%b\n",
    "        return a\n",
    "\n",
    "    @classmethod\n",
    "    def reduce(cls, n1, n2):\n",
    "        g = cls.gcd(n1, n2)\n",
    "        return (n1 // g, n2 // g)\n",
    "\n",
    "    def __str__(self):\n",
    "        return str(self.numerator)+'/'+str(self.denominator)"
   ]
  },
  {
   "cell_type": "code",
   "execution_count": 88,
   "id": "0993f8bc-9c60-4892-aada-49aa4c56f525",
   "metadata": {},
   "outputs": [
    {
     "name": "stdout",
     "output_type": "stream",
     "text": [
      "1/3\n"
     ]
    }
   ],
   "source": [
    "x = fraction(8,24)\n",
    "print(x)"
   ]
  },
  {
   "cell_type": "code",
   "execution_count": 90,
   "id": "e0325461-46a3-4233-b2e7-52920bf0ffb3",
   "metadata": {},
   "outputs": [
    {
     "name": "stdout",
     "output_type": "stream",
     "text": [
      "This class is about pet animals!\n",
      "This class is about man's best friends!\n",
      "This class is about all kinds of cats!\n"
     ]
    }
   ],
   "source": [
    "class Pet:\n",
    "    _class_info = \"pet animals\"\n",
    "\n",
    "    def about(self):\n",
    "        print(\"This class is about \" + self._class_info + \"!\")   \n",
    "    \n",
    "\n",
    "class Dog(Pet):\n",
    "    _class_info = \"man's best friends\"\n",
    "\n",
    "class Cat(Pet):\n",
    "    _class_info = \"all kinds of cats\"\n",
    "\n",
    "p = Pet()\n",
    "p.about()\n",
    "d = Dog()\n",
    "d.about()\n",
    "c = Cat()\n",
    "c.about()"
   ]
  },
  {
   "cell_type": "code",
   "execution_count": 91,
   "id": "f5838947-103c-465c-a687-b13b7f831986",
   "metadata": {},
   "outputs": [
    {
     "name": "stdout",
     "output_type": "stream",
     "text": [
      "This class is about pet animals!\n",
      "This class is about pet animals!\n",
      "This class is about pet animals!\n"
     ]
    }
   ],
   "source": [
    "class Pet:\n",
    "    _class_info = \"pet animals\"\n",
    "\n",
    "    @staticmethod\n",
    "    def about():\n",
    "        print(\"This class is about \" + Pet._class_info + \"!\")   \n",
    "    \n",
    "\n",
    "class Dog(Pet):\n",
    "    _class_info = \"man's best friends\"\n",
    "\n",
    "class Cat(Pet):\n",
    "    _class_info = \"all kinds of cats\"\n",
    "\n",
    "Pet.about()\n",
    "Dog.about()\n",
    "Cat.about()"
   ]
  },
  {
   "cell_type": "code",
   "execution_count": 92,
   "id": "f95fcd86-3296-416f-80bc-2e5692063d66",
   "metadata": {},
   "outputs": [
    {
     "name": "stdout",
     "output_type": "stream",
     "text": [
      "This class is about pet animals!\n",
      "This class is about man's best friends!\n",
      "This class is about all kinds of cats!\n"
     ]
    }
   ],
   "source": [
    "class Pet:\n",
    "    _class_info = \"pet animals\"\n",
    "\n",
    "    @classmethod\n",
    "    def about(cls):\n",
    "        print(\"This class is about \" + cls._class_info + \"!\")   \n",
    "    \n",
    "\n",
    "class Dog(Pet):\n",
    "    _class_info = \"man's best friends\"\n",
    "\n",
    "class Cat(Pet):\n",
    "    _class_info = \"all kinds of cats\"\n",
    "\n",
    "Pet.about()\n",
    "Dog.about()\n",
    "Cat.about()"
   ]
  },
  {
   "cell_type": "code",
   "execution_count": 93,
   "id": "a2c5d67e-9124-4965-acd3-20ecacc7fb0b",
   "metadata": {},
   "outputs": [
    {
     "name": "stdout",
     "output_type": "stream",
     "text": [
      "Total number of people: 3\n"
     ]
    }
   ],
   "source": [
    "class Person:\n",
    "    total_people = 0  # Class variable to keep track of the total number of people\n",
    "\n",
    "    def __init__(self, name):\n",
    "        self.name = name\n",
    "        Person.total_people += 1  # Increment the total number of people when a new Person instance is created\n",
    "\n",
    "    @classmethod\n",
    "    def display_total_people(cls):\n",
    "        print(\"Total number of people:\", cls.total_people)\n",
    "\n",
    "# Creating instances of Person class\n",
    "person1 = Person(\"Alice\")\n",
    "person2 = Person(\"Bob\")\n",
    "person3 = Person(\"Charlie\")\n",
    "\n",
    "# Calling the class method to display the total number of people\n",
    "Person.display_total_people()"
   ]
  },
  {
   "cell_type": "markdown",
   "id": "ab20324d-db5b-4333-96f1-68be3c4b6593",
   "metadata": {},
   "source": [
    "## Properties vs. Getters and Setters"
   ]
  },
  {
   "cell_type": "code",
   "execution_count": 94,
   "id": "de9597e0-a709-444f-88da-af7839e87dd2",
   "metadata": {},
   "outputs": [
    {
     "data": {
      "text/plain": [
       "42"
      ]
     },
     "execution_count": 94,
     "metadata": {},
     "output_type": "execute_result"
    }
   ],
   "source": [
    "class P:\n",
    "\n",
    "    def __init__(self, x):\n",
    "        self.__x = x\n",
    "\n",
    "    def get_x(self):\n",
    "        return self.__x\n",
    "\n",
    "    def set_x(self, x):\n",
    "        self.__x = x\n",
    "\n",
    "p1 = P(42)\n",
    "p2 = P(4711)\n",
    "p1.get_x()"
   ]
  },
  {
   "cell_type": "code",
   "execution_count": 95,
   "id": "bfae3831-5c66-4573-86c6-5fa97bce2f7b",
   "metadata": {},
   "outputs": [
    {
     "data": {
      "text/plain": [
       "4758"
      ]
     },
     "execution_count": 95,
     "metadata": {},
     "output_type": "execute_result"
    }
   ],
   "source": [
    "p1.set_x(47)\n",
    "p1.set_x(p1.get_x()+p2.get_x())\n",
    "p1.get_x()"
   ]
  },
  {
   "cell_type": "code",
   "execution_count": 96,
   "id": "7027b569-1c8b-4f7c-aac8-b1f2eb3bbfb6",
   "metadata": {},
   "outputs": [
    {
     "data": {
      "text/plain": [
       "1000"
      ]
     },
     "execution_count": 96,
     "metadata": {},
     "output_type": "execute_result"
    }
   ],
   "source": [
    "class P:\n",
    "\n",
    "    def __init__(self, x):\n",
    "        self.set_x(x)\n",
    "\n",
    "    def get_x(self):\n",
    "        return self.__x\n",
    "\n",
    "    def set_x(self, x):\n",
    "        if x < 0:\n",
    "            self.__x = 0\n",
    "        elif x > 1000:\n",
    "            self.__x = 1000\n",
    "        else:\n",
    "            self.__x = x\n",
    "\n",
    "p1 = P(1001)\n",
    "p1.get_x()"
   ]
  },
  {
   "cell_type": "code",
   "execution_count": 97,
   "id": "e547416a-8e80-4944-ba35-6f7da3ea4b14",
   "metadata": {},
   "outputs": [
    {
     "data": {
      "text/plain": [
       "15"
      ]
     },
     "execution_count": 97,
     "metadata": {},
     "output_type": "execute_result"
    }
   ],
   "source": [
    "p2 = P(15)\n",
    "p2.get_x()"
   ]
  },
  {
   "cell_type": "code",
   "execution_count": 98,
   "id": "b3596eb2-2dbd-4c34-8533-1b2f09ad4854",
   "metadata": {},
   "outputs": [
    {
     "data": {
      "text/plain": [
       "0"
      ]
     },
     "execution_count": 98,
     "metadata": {},
     "output_type": "execute_result"
    }
   ],
   "source": [
    "p3 = P(-1)\n",
    "p3.get_x()"
   ]
  },
  {
   "cell_type": "code",
   "execution_count": 100,
   "id": "57706021-ec5a-4d4e-bae4-15523d9f334a",
   "metadata": {},
   "outputs": [
    {
     "data": {
      "text/plain": [
       "1000"
      ]
     },
     "execution_count": 100,
     "metadata": {},
     "output_type": "execute_result"
    }
   ],
   "source": [
    "class P:\n",
    "\n",
    "    def __init__(self, x):\n",
    "        self.x = x\n",
    "\n",
    "    @property\n",
    "    def x(self):\n",
    "        return self.__x\n",
    "\n",
    "    @x.setter\n",
    "    def x(self, x):\n",
    "        if x < 0:\n",
    "            self.__x = 0\n",
    "        elif x > 1000:\n",
    "            self.__x = 1000\n",
    "        else:\n",
    "            self.__x = x\n",
    "\n",
    "p1 = P(1001)\n",
    "p1.x"
   ]
  },
  {
   "cell_type": "code",
   "execution_count": 101,
   "id": "bbe91a9f-6622-4a5a-b133-f8ef17cf9340",
   "metadata": {},
   "outputs": [],
   "source": [
    "class P:\n",
    "\n",
    "    def __init__(self, x):\n",
    "        self.set_x(x)\n",
    "\n",
    "    def get_x(self):\n",
    "        return self.__x\n",
    "\n",
    "    def set_x(self, x):\n",
    "        if x < 0:\n",
    "            self.__x = 0\n",
    "        elif x > 1000:\n",
    "            self.__x = 1000\n",
    "        else:\n",
    "            self.__x = x\n",
    "\n",
    "    x = property(get_x, set_x)"
   ]
  },
  {
   "cell_type": "code",
   "execution_count": 102,
   "id": "55829a31-6d21-49a4-bf88-183726f85551",
   "metadata": {},
   "outputs": [],
   "source": [
    "class P:\n",
    "\n",
    "    def __init__(self, x):\n",
    "        self.__set_x(x)\n",
    "\n",
    "    def __get_x(self):\n",
    "        return self.__x\n",
    "\n",
    "    def __set_x(self, x):\n",
    "        if x < 0:\n",
    "            self.__x = 0\n",
    "        elif x > 1000:\n",
    "            self.__x = 1000\n",
    "        else:\n",
    "            self.__x = x\n",
    "\n",
    "    x = property(__get_x, __set_x)"
   ]
  },
  {
   "cell_type": "code",
   "execution_count": 103,
   "id": "acd304c3-83ff-42d5-bdee-dad1c68280da",
   "metadata": {},
   "outputs": [
    {
     "name": "stdout",
     "output_type": "stream",
     "text": [
      "Seems to be okay!\n",
      "I feel bad!\n"
     ]
    }
   ],
   "source": [
    "class Robot:\n",
    "\n",
    "    def __init__(self, name, build_year, lk = 0.5, lp = 0.5 ):\n",
    "        self.name = name\n",
    "        self.build_year = build_year\n",
    "        self.__potential_physical = lk\n",
    "        self.__potential_psychic = lp\n",
    "\n",
    "    @property\n",
    "    def condition(self):\n",
    "        s = self.__potential_physical + self.__potential_psychic\n",
    "        if s <= -1:\n",
    "           return \"I feel miserable!\"\n",
    "        elif s <= 0:\n",
    "           return \"I feel bad!\"\n",
    "        elif s <= 0.5:\n",
    "           return \"Could be worse!\"\n",
    "        elif s <= 1:\n",
    "           return \"Seems to be okay!\"\n",
    "        else:\n",
    "           return \"Great!\" \n",
    "  \n",
    "if __name__ == \"__main__\":\n",
    "    x = Robot(\"Marvin\", 1979, 0.2, 0.4 )\n",
    "    y = Robot(\"Caliban\", 1993, -0.4, 0.3)\n",
    "    print(x.condition)\n",
    "    print(y.condition)"
   ]
  },
  {
   "cell_type": "code",
   "execution_count": 107,
   "id": "f88ef258-a262-4269-be18-303d298a5c13",
   "metadata": {},
   "outputs": [
    {
     "name": "stdout",
     "output_type": "stream",
     "text": [
      "RoboBot\n",
      "2023\n",
      "TechCity\n"
     ]
    }
   ],
   "source": [
    "class Robot:\n",
    "    def __init__(self, name, build_year, city):\n",
    "        self.name = name\n",
    "        self.build_year = build_year\n",
    "        self.city = city\n",
    "\n",
    "    @property\n",
    "    def name(self):\n",
    "        return self.__name\n",
    "\n",
    "    @property\n",
    "    def build_year(self):\n",
    "        return self.__build_year\n",
    "\n",
    "    @property\n",
    "    def city(self):\n",
    "        return self.__city\n",
    "\n",
    "    @name.setter\n",
    "    def name(self, value):\n",
    "        self.__name = value\n",
    "\n",
    "    @build_year.setter\n",
    "    def build_year(self, value):\n",
    "        self.__build_year = value\n",
    "\n",
    "    @city.setter\n",
    "    def city(self, value):\n",
    "        self.__city = value\n",
    "\n",
    "# Example usage:\n",
    "\n",
    "robot = Robot(\"RoboBot\", 2023, \"TechCity\")\n",
    "\n",
    "print(robot.name)        \n",
    "print(robot.build_year)  \n",
    "print(robot.city)      "
   ]
  },
  {
   "cell_type": "code",
   "execution_count": 108,
   "id": "f687ac82-cef2-46e3-a9a6-a56be26d75a9",
   "metadata": {},
   "outputs": [
    {
     "data": {
      "text/plain": [
       "2023"
      ]
     },
     "execution_count": 108,
     "metadata": {},
     "output_type": "execute_result"
    }
   ],
   "source": [
    "robot.build_year"
   ]
  },
  {
   "cell_type": "code",
   "execution_count": 109,
   "id": "cd107597-ceaf-491c-b796-57f8f9c0b849",
   "metadata": {},
   "outputs": [
    {
     "name": "stdout",
     "output_type": "stream",
     "text": [
      "RoboBot\n",
      "2022\n",
      "TechCity\n"
     ]
    }
   ],
   "source": [
    "class Robot:\n",
    "    \n",
    "    def __init__(self, name, build_year, city):\n",
    "        self.name = name\n",
    "        self.build_year = build_year\n",
    "        self.city = city\n",
    "\n",
    "    def __getattr__(self, name):\n",
    "        return self.__dict__[f\"__{name}\"]\n",
    "\n",
    "    def __setattr__(self, name, value):\n",
    "        self.__dict__[f\"__{name}\"] = value\n",
    "\n",
    "\n",
    "robot = Robot(\"RoboBot\", 2022, \"TechCity\")\n",
    "\n",
    "print(robot.name)        \n",
    "print(robot.build_year)  \n",
    "print(robot.city)  "
   ]
  },
  {
   "cell_type": "code",
   "execution_count": 113,
   "id": "55028f64-9ce8-4d5c-a430-19a699cbdce1",
   "metadata": {},
   "outputs": [
    {
     "name": "stdout",
     "output_type": "stream",
     "text": [
      "Marvin\n",
      "2020\n",
      "TechCity\n"
     ]
    }
   ],
   "source": [
    "class Robot:\n",
    "    \n",
    "    def __init__(self, name, build_year, city):\n",
    "        self.name = name\n",
    "        self.build_year = build_year\n",
    "        self.city = city\n",
    "\n",
    "    def __getattr__(self, name):\n",
    "        return self.__dict__[f\"__{name}\"]\n",
    "\n",
    "    def __setattr__(self, name, value):\n",
    "        if name == 'name':\n",
    "            if value in ['Henry', 'Oscar']:\n",
    "                raise ValueError('Not a decent Robot name')\n",
    "        elif name == 'build_year':\n",
    "            if int(value) < 2020:\n",
    "                raise ValueError('Build Year has to be after 2019')\n",
    "        self.__dict__[f\"__{name}\"] = value\n",
    "\n",
    "\n",
    "robot = Robot(\"Marvin\", 2020, \"TechCity\")\n",
    "\n",
    "print(robot.name)        \n",
    "print(robot.build_year)  \n",
    "print(robot.city)  "
   ]
  },
  {
   "cell_type": "code",
   "execution_count": 114,
   "id": "cf946416-45af-48f2-840d-7f37668771bb",
   "metadata": {},
   "outputs": [],
   "source": [
    "class Circle:\n",
    "    def __init__(self, radius):\n",
    "        self._radius = radius\n",
    "\n",
    "    def get_area(self):\n",
    "        return 3.14 * self._radius**2\n",
    "\n",
    "    def set_radius(self, value):\n",
    "        if value < 0:\n",
    "            raise ValueError(\"Radius must be non-negative\")\n",
    "        self._radius = value"
   ]
  },
  {
   "cell_type": "code",
   "execution_count": 115,
   "id": "65fa9ad6-57f7-47a1-929f-9a6f143188a1",
   "metadata": {},
   "outputs": [
    {
     "name": "stdout",
     "output_type": "stream",
     "text": [
      "175\n",
      "Height must be between 150 and 200 cm.\n",
      "210\n"
     ]
    }
   ],
   "source": [
    "class Person:\n",
    "    def __init__(self, name, height):\n",
    "        self.name = name\n",
    "        self._height = height\n",
    "\n",
    "    def get_height(self):\n",
    "        return self._height\n",
    "\n",
    "    def set_height(self, value, validate=True):\n",
    "        if validate and not (150 <= value <= 200):\n",
    "            raise ValueError(\"Height must be between 150 and 200 cm.\")\n",
    "        self._height = value\n",
    "\n",
    "# Example usage:\n",
    "person = Person(\"Alice\", height=170)\n",
    "\n",
    "# Try setting height within the valid range\n",
    "person.set_height(175)\n",
    "print(person.get_height())  \n",
    "\n",
    "# Try setting height outside the valid range\n",
    "try:\n",
    "    person.set_height(210)\n",
    "except ValueError as e:\n",
    "    print(e)  \n",
    "\n",
    "person.set_height(210, validate=False) \n",
    "print(person.get_height()) "
   ]
  },
  {
   "cell_type": "markdown",
   "id": "e374ec18-d7ce-4b9a-ab77-7139ed27987c",
   "metadata": {},
   "source": [
    "## Creating Immutable Classes In Python"
   ]
  },
  {
   "cell_type": "code",
   "execution_count": 116,
   "id": "e5959f75-ab7f-48c2-a99b-f5effb770b82",
   "metadata": {},
   "outputs": [
    {
     "name": "stdout",
     "output_type": "stream",
     "text": [
      "RoboX\n",
      "TechBot\n"
     ]
    }
   ],
   "source": [
    "class ImmutableRobot:\n",
    "    \n",
    "    def __init__(self, name, brandname):\n",
    "        self.__name = name\n",
    "        self.__brandname = brandname\n",
    "\n",
    "    def get_name(self):\n",
    "        return self.__name\n",
    "\n",
    "    def get_brandname(self):\n",
    "        return self.__brandname\n",
    "\n",
    "robot = ImmutableRobot(name=\"RoboX\", brandname=\"TechBot\")\n",
    "print(robot.get_name())      \n",
    "print(robot.get_brandname())"
   ]
  },
  {
   "cell_type": "code",
   "execution_count": 117,
   "id": "f380271d-8fda-4d9f-af02-b86d6b5da84e",
   "metadata": {},
   "outputs": [
    {
     "name": "stdout",
     "output_type": "stream",
     "text": [
      "RoboX\n",
      "TechBot\n",
      "can't set attribute\n",
      "can't set attribute\n"
     ]
    }
   ],
   "source": [
    "class ImmutableRobot:\n",
    "    def __init__(self, name, brandname):\n",
    "        self.__name = name\n",
    "        self.__brandname = brandname\n",
    "\n",
    "    @property\n",
    "    def name(self):\n",
    "        return self.__name\n",
    "\n",
    "    @property\n",
    "    def brandname(self):\n",
    "        return self.__brandname\n",
    "\n",
    "robot = ImmutableRobot(name=\"RoboX\", brandname=\"TechBot\")\n",
    "print(robot.name)       \n",
    "print(robot.brandname) \n",
    "\n",
    "\n",
    "try:\n",
    "    robot.name = \"RoboY\"\n",
    "except AttributeError as e:\n",
    "    print(e)  \n",
    "\n",
    "try:\n",
    "    robot.brandname = \"NewTechBot\"\n",
    "except AttributeError as e:\n",
    "    print(e) "
   ]
  },
  {
   "cell_type": "markdown",
   "id": "5f1fd3c6-7e9f-47f3-8b10-9d586649e16e",
   "metadata": {},
   "source": [
    "## Using the dataclass Decorator"
   ]
  },
  {
   "cell_type": "code",
   "execution_count": 118,
   "id": "e49d275a-bbe7-449c-a500-08f132ec9e31",
   "metadata": {},
   "outputs": [
    {
     "name": "stdout",
     "output_type": "stream",
     "text": [
      "RoboX\n",
      "TechBot\n",
      "cannot assign to field 'name'\n",
      "cannot assign to field 'brandname'\n"
     ]
    }
   ],
   "source": [
    "from dataclasses import dataclass\n",
    "\n",
    "@dataclass(frozen=True)\n",
    "class ImmutableRobot:\n",
    "    name: str\n",
    "    brandname: str\n",
    "\n",
    "# Example usage:\n",
    "robot = ImmutableRobot(name=\"RoboX\", brandname=\"TechBot\")\n",
    "print(robot.name)\n",
    "print(robot.brandname)\n",
    "\n",
    "try:\n",
    "    robot.name = \"RoboY\"\n",
    "except AttributeError as e:\n",
    "    print(e)\n",
    "\n",
    "try:\n",
    "    robot.brandname = \"NewTechBot\"\n",
    "except AttributeError as e:\n",
    "    print(e)"
   ]
  },
  {
   "cell_type": "markdown",
   "id": "50093aab-0365-4040-bf1e-0a593642c6cc",
   "metadata": {},
   "source": [
    "## Using namedtuple from collections"
   ]
  },
  {
   "cell_type": "code",
   "execution_count": 120,
   "id": "3594d6ce-7421-456f-912c-95304375f18f",
   "metadata": {},
   "outputs": [
    {
     "name": "stdout",
     "output_type": "stream",
     "text": [
      "RoboX\n",
      "TechBot\n",
      "can't set attribute\n",
      "can't set attribute\n"
     ]
    }
   ],
   "source": [
    "from collections import namedtuple\n",
    "\n",
    "ImmutableRobot = namedtuple('ImmutableRobot', ['name', 'brandname'])\n",
    "\n",
    "# Example usage:\n",
    "robot = ImmutableRobot(name=\"RoboX\", brandname=\"TechBot\")\n",
    "print(robot.name)\n",
    "print(robot.brandname)\n",
    "\n",
    "# Attempting to modify attributes will raise an AttributeError\n",
    "try:\n",
    "    robot.name = \"RoboY\"\n",
    "except AttributeError as e:\n",
    "    print(e)\n",
    "\n",
    "try:\n",
    "    robot.brandname = \"NewTechBot\"\n",
    "except AttributeError as e:\n",
    "    print(e)"
   ]
  },
  {
   "cell_type": "code",
   "execution_count": 121,
   "id": "b7d738ee-5af3-4fda-bb64-9a2d4eecdf99",
   "metadata": {},
   "outputs": [
    {
     "name": "stdout",
     "output_type": "stream",
     "text": [
      "RoboX\n",
      "TechBot\n"
     ]
    }
   ],
   "source": [
    "class ImmutableRobot:\n",
    "    __slots__ = ('__name', '__brandname')\n",
    "\n",
    "    def __init__(self, name, brandname):\n",
    "        self.__name = name\n",
    "        self.__brandname = brandname\n",
    "\n",
    "    @property\n",
    "    def name(self):\n",
    "        return self.__name\n",
    "\n",
    "    @property\n",
    "    def brandname(self):\n",
    "        return self.__brandname\n",
    "\n",
    "robot = ImmutableRobot(name=\"RoboX\", brandname=\"TechBot\")\n",
    "print(robot.name)       \n",
    "print(robot.brandname) "
   ]
  },
  {
   "cell_type": "markdown",
   "id": "43e45dc9-cb57-4da9-a877-a896ba60db55",
   "metadata": {},
   "source": [
    "## Dataclasses In Python"
   ]
  },
  {
   "cell_type": "code",
   "execution_count": 122,
   "id": "5f66c1e9-032d-45b3-b052-d1e7ac8c1437",
   "metadata": {},
   "outputs": [],
   "source": [
    "class Robot_traditional:\n",
    "    \n",
    "    def __init__(self, model, serial_number, manufacturer):\n",
    "        self.model = model\n",
    "        self.serial_number = serial_number\n",
    "        self.manufacturer = manufacturer"
   ]
  },
  {
   "cell_type": "code",
   "execution_count": 123,
   "id": "5baee744-27a8-409d-839e-ff015509dce6",
   "metadata": {},
   "outputs": [],
   "source": [
    "from dataclasses import dataclass\n",
    "\n",
    "@dataclass\n",
    "class Robot:\n",
    "    model: str\n",
    "    serial_number: str\n",
    "    manufacturer: str"
   ]
  },
  {
   "cell_type": "code",
   "execution_count": 124,
   "id": "19634b6d-360b-45a6-ad10-692f77732b48",
   "metadata": {},
   "outputs": [],
   "source": [
    "x = Robot_traditional(\"NanoGuardian XR-2000\", \"234-76\", \"Cyber Robotics Co.\")\n",
    "y = Robot(\"MachinaMaster MM-42\", \"986-42\", \"Quantum Automations Inc.\")"
   ]
  },
  {
   "cell_type": "code",
   "execution_count": 126,
   "id": "1b228f7c-8703-4b80-ab3e-abd776f8211c",
   "metadata": {},
   "outputs": [
    {
     "data": {
      "text/plain": [
       "'Cyber Robotics Co.'"
      ]
     },
     "execution_count": 126,
     "metadata": {},
     "output_type": "execute_result"
    }
   ],
   "source": [
    "x.manufacturer"
   ]
  },
  {
   "cell_type": "code",
   "execution_count": 127,
   "id": "9c1e9bf1-6f0b-46c1-acfd-76999a56d3e5",
   "metadata": {},
   "outputs": [
    {
     "name": "stdout",
     "output_type": "stream",
     "text": [
      "<__main__.Robot_traditional object at 0x000001EED7139F70>\n",
      "Robot(model='MachinaMaster MM-42', serial_number='986-42', manufacturer='Quantum Automations Inc.')\n"
     ]
    }
   ],
   "source": [
    "print(repr(x))    \n",
    "print(repr(y)) "
   ]
  },
  {
   "cell_type": "code",
   "execution_count": 128,
   "id": "ed9cfb35-8c06-4447-9ae1-50a062df6b95",
   "metadata": {},
   "outputs": [
    {
     "name": "stdout",
     "output_type": "stream",
     "text": [
      "Robot_traditional(model='NanoGuardian XR-2000', serial_number='234-76', manufacturer='Cyber Robotics Co.')\n"
     ]
    }
   ],
   "source": [
    "class Robot_traditional:\n",
    "    \n",
    "    def __init__(self, model, serial_number, manufacturer):\n",
    "        self.model = model\n",
    "        self.serial_number = serial_number\n",
    "        self.manufacturer = manufacturer\n",
    "\n",
    "    def __repr__(self):\n",
    "        return f\"Robot_traditional(model='{self.model}', serial_number='{self.serial_number}', manufacturer='{self.manufacturer}')\"\n",
    "\n",
    "x = Robot_traditional(\"NanoGuardian XR-2000\", \"234-76\", \"Cyber Robotics Co.\")\n",
    "\n",
    "print(repr(x))"
   ]
  },
  {
   "cell_type": "code",
   "execution_count": 129,
   "id": "c1718b2b-0acb-4803-ace0-0217a19e5841",
   "metadata": {},
   "outputs": [
    {
     "name": "stdout",
     "output_type": "stream",
     "text": [
      "True\n"
     ]
    }
   ],
   "source": [
    "from dataclasses import dataclass\n",
    "\n",
    "@dataclass(frozen=True)\n",
    "class ImmutableRobot:\n",
    "    name: str\n",
    "    brandname: str\n",
    "\n",
    "x1 = ImmutableRobot(\"Marvin\", \"NanoGuardian XR-2000\")\n",
    "x2 = ImmutableRobot(\"Marvin\", \"NanoGuardian XR-2000\")\n",
    "\n",
    "print(x1 == x2)"
   ]
  },
  {
   "cell_type": "code",
   "execution_count": 130,
   "id": "26e81b11-ed71-43b6-bf4f-b4b4446c096a",
   "metadata": {},
   "outputs": [
    {
     "name": "stdout",
     "output_type": "stream",
     "text": [
      "7619496758682553371 7619496758682553371\n"
     ]
    }
   ],
   "source": [
    "print(x1.__hash__(), x2.__hash__())"
   ]
  },
  {
   "cell_type": "code",
   "execution_count": 135,
   "id": "0ba5fd2e-2166-48fa-b03e-b96600ad1773",
   "metadata": {},
   "outputs": [
    {
     "name": "stdout",
     "output_type": "stream",
     "text": [
      "True\n"
     ]
    }
   ],
   "source": [
    "class ImmutableRobot_traditional:\n",
    "    \n",
    "    def __init__(self, name: str, brandname: str):\n",
    "        self._name = name\n",
    "        self._brandname = brandname\n",
    "\n",
    "    @property\n",
    "    def name(self) -> str:\n",
    "        return self._name\n",
    "\n",
    "    @property\n",
    "    def brandname(self) -> str:\n",
    "        return self._brandname\n",
    "\n",
    "    def __eq__(self, other):\n",
    "        if not isinstance(other, ImmutableRobot_traditional):\n",
    "            return False\n",
    "        return self.name == other.name and self.brandname == other.brandname\n",
    "\n",
    "    def __hash__(self):\n",
    "        return hash((self.name, self.brandname))\n",
    "\n",
    "\n",
    "x1 = ImmutableRobot_traditional(\"Marvin\", \"NanoGuardian XR-2000\")\n",
    "x2 = ImmutableRobot_traditional(\"Marvin\", \"NanoGuardian XR-2000\")\n",
    "\n",
    "print(x1 == x2)"
   ]
  },
  {
   "cell_type": "code",
   "execution_count": 136,
   "id": "e7bb5acb-9b28-4e6d-8e81-e607749d8e55",
   "metadata": {},
   "outputs": [
    {
     "name": "stdout",
     "output_type": "stream",
     "text": [
      "7619496758682553371 7619496758682553371\n"
     ]
    }
   ],
   "source": [
    "print(x1.__hash__(), x2.__hash__())"
   ]
  },
  {
   "cell_type": "code",
   "execution_count": 134,
   "id": "b1981be2-4546-4957-8b6e-e665f6b1bb9d",
   "metadata": {},
   "outputs": [
    {
     "name": "stdout",
     "output_type": "stream",
     "text": [
      "False\n"
     ]
    }
   ],
   "source": [
    "x1 = ImmutableRobot_traditional(\"Marvin\", \"NanoGuardian XR-200\")\n",
    "x2 = ImmutableRobot_traditional(\"Marvin\", \"NanoGuardian XR-2000\")\n",
    "\n",
    "print(x1 == x2)"
   ]
  },
  {
   "cell_type": "code",
   "execution_count": 137,
   "id": "e172159e-2696-4019-9f5f-67e16bd9db2d",
   "metadata": {},
   "outputs": [
    {
     "name": "stdout",
     "output_type": "stream",
     "text": [
      "The robots in the set robots:\n",
      "ImmutableRobot(name='Marvin', brandname='NanoGuardian XR-2000')\n",
      "ImmutableRobot(name='Marva', brandname='MachinaMaster MM-42')\n",
      "ImmutableRobot(name='R2D2', brandname='QuantumTech Sentinel-7')\n",
      "\n",
      "All the activated robots:\n",
      "ImmutableRobot(name='Marvin', brandname='NanoGuardian XR-2000') is activated\n",
      "ImmutableRobot(name='R2D2', brandname='QuantumTech Sentinel-7') is activated\n"
     ]
    }
   ],
   "source": [
    "from dataclasses import dataclass\n",
    "\n",
    "@dataclass(frozen=True)\n",
    "class ImmutableRobot:\n",
    "    name: str\n",
    "    brandname: str\n",
    "\n",
    "robot1 = ImmutableRobot(\"Marvin\", \"NanoGuardian XR-2000\")\n",
    "robot2 = ImmutableRobot(\"R2D2\", \"QuantumTech Sentinel-7\")\n",
    "robot3 = ImmutableRobot(\"Marva\", \"MachinaMaster MM-42\")\n",
    "\n",
    "# we create a set of Robots:\n",
    "robots = {robot1, robot2, robot3}\n",
    "\n",
    "print(\"The robots in the set robots:\")\n",
    "for robo in robots:\n",
    "    print(robo)\n",
    "\n",
    "# now a dictionary with robots as keys:\n",
    "activity = {robot1: 'activated', robot2: 'activated', robot3: 'deactivated'}\n",
    "\n",
    "print(\"\\nAll the activated robots:\")\n",
    "for robo, mode in activity.items():\n",
    "    if mode == 'activated':\n",
    "        print(f\"{robo} is activated\")"
   ]
  },
  {
   "cell_type": "code",
   "execution_count": 138,
   "id": "89df5d3b-6078-4449-b4a4-cd98e871ab10",
   "metadata": {},
   "outputs": [
    {
     "name": "stdout",
     "output_type": "stream",
     "text": [
      "Book 1:\n",
      "Title: The Great Gatsby\n",
      "Author: F. Scott Fitzgerald\n",
      "ISBN: 9780743273565\n",
      "Publication Year: 1925\n",
      "Genre: Fiction\n",
      "\n",
      "Book 2:\n",
      "Title: To Kill a Mockingbird\n",
      "Author: Harper Lee\n",
      "ISBN: 9780061120084\n",
      "Publication Year: 1960\n",
      "Genre: Fiction\n",
      "\n",
      "Book 3:\n",
      "Title: 1984\n",
      "Author: George Orwell\n",
      "ISBN: 9780451524935\n",
      "Publication Year: 1949\n",
      "Genre: Science Fiction\n"
     ]
    }
   ],
   "source": [
    "from dataclasses import dataclass\n",
    "\n",
    "@dataclass\n",
    "class Book:\n",
    "    title: str\n",
    "    author: str\n",
    "    isbn: str\n",
    "    publication_year: int\n",
    "    genre: str\n",
    "\n",
    "# Create instances of several books\n",
    "book1 = Book(\"The Great Gatsby\", \"F. Scott Fitzgerald\", \"9780743273565\", 1925, \"Fiction\")\n",
    "book2 = Book(\"To Kill a Mockingbird\", \"Harper Lee\", \"9780061120084\", 1960, \"Fiction\")\n",
    "book3 = Book(\"1984\", \"George Orwell\", \"9780451524935\", 1949, \"Science Fiction\")\n",
    "\n",
    "# Print out the details of each book\n",
    "print(\"Book 1:\")\n",
    "print(\"Title:\", book1.title)\n",
    "print(\"Author:\", book1.author)\n",
    "print(\"ISBN:\", book1.isbn)\n",
    "print(\"Publication Year:\", book1.publication_year)\n",
    "print(\"Genre:\", book1.genre)\n",
    "\n",
    "print(\"\\nBook 2:\")\n",
    "print(\"Title:\", book2.title)\n",
    "print(\"Author:\", book2.author)\n",
    "print(\"ISBN:\", book2.isbn)\n",
    "print(\"Publication Year:\", book2.publication_year)\n",
    "print(\"Genre:\", book2.genre)\n",
    "\n",
    "print(\"\\nBook 3:\")\n",
    "print(\"Title:\", book3.title)\n",
    "print(\"Author:\", book3.author)\n",
    "print(\"ISBN:\", book3.isbn)\n",
    "print(\"Publication Year:\", book3.publication_year)\n",
    "print(\"Genre:\", book3.genre)"
   ]
  },
  {
   "cell_type": "markdown",
   "id": "078c181a-70fc-4caa-b576-96976e8e5b13",
   "metadata": {},
   "source": [
    "## Implementing a Custom Property Class"
   ]
  },
  {
   "cell_type": "code",
   "execution_count": 139,
   "id": "62201f61-d18e-4f38-816b-c4da8b1ca2c8",
   "metadata": {},
   "outputs": [],
   "source": [
    "class our_property:\n",
    "    \"\"\" emulation of the property class \n",
    "        for educational purposes \"\"\"\n",
    "\n",
    "    def __init__(self, \n",
    "                 fget=None, \n",
    "                 fset=None, \n",
    "                 fdel=None, \n",
    "                 doc=None):\n",
    "        \"\"\"Attributes of 'our_decorator'\n",
    "        fget\n",
    "            function to be used for getting \n",
    "            an attribute value\n",
    "        fset\n",
    "            function to be used for setting \n",
    "            an attribute value\n",
    "        fdel\n",
    "            function to be used for deleting \n",
    "            an attribute\n",
    "        doc\n",
    "            the docstring\n",
    "        \"\"\"\n",
    "        self.fget = fget\n",
    "        self.fset = fset\n",
    "        self.fdel = fdel\n",
    "        if doc is None and fget is not None:\n",
    "            doc = fget.__doc__\n",
    "        self.__doc__ = doc\n",
    "\n",
    "    def __get__(self, obj, objtype=None):\n",
    "        if obj is None:\n",
    "            return self\n",
    "        if self.fget is None:\n",
    "            raise AttributeError(\"unreadable attribute\")\n",
    "        return self.fget(obj)\n",
    "\n",
    "    def __set__(self, obj, value):\n",
    "        if self.fset is None:\n",
    "            raise AttributeError(\"can't set attribute\")\n",
    "        self.fset(obj, value)\n",
    "\n",
    "    def __delete__(self, obj):\n",
    "        if self.fdel is None:\n",
    "            raise AttributeError(\"can't delete attribute\")\n",
    "        self.fdel(obj)\n",
    "\n",
    "    def getter(self, fget):\n",
    "        return type(self)(fget, self.fset, self.fdel, self.__doc__)\n",
    "\n",
    "    def setter(self, fset):\n",
    "        return type(self)(self.fget, fset, self.fdel, self.__doc__)\n",
    "\n",
    "    def deleter(self, fdel):\n",
    "        return type(self)(self.fget, self.fset, fdel, self.__doc__)"
   ]
  },
  {
   "cell_type": "code",
   "execution_count": 140,
   "id": "8c346d6c-2041-457d-a9e6-ceeac8e3daa6",
   "metadata": {},
   "outputs": [],
   "source": [
    "class Robot:\n",
    "    \n",
    "    def __init__(self, city):\n",
    "        self.city = city\n",
    "        \n",
    "    @our_property\n",
    "    def city(self):\n",
    "        print(\"The Property 'city' will be returned now:\")\n",
    "        return self.__city\n",
    "    \n",
    "    @city.setter\n",
    "    def city(self, city):\n",
    "        print(\"'city' will be set\")\n",
    "        self.__city = city"
   ]
  },
  {
   "cell_type": "code",
   "execution_count": 141,
   "id": "2ec81559-fe1a-4e03-9bfd-c98b5d7be617",
   "metadata": {},
   "outputs": [
    {
     "data": {
      "text/plain": [
       "__main__.our_property"
      ]
     },
     "execution_count": 141,
     "metadata": {},
     "output_type": "execute_result"
    }
   ],
   "source": [
    "type(Robot.city)"
   ]
  },
  {
   "cell_type": "code",
   "execution_count": 142,
   "id": "5f82c199-3c90-4a19-96a3-462fd2d2f783",
   "metadata": {},
   "outputs": [
    {
     "name": "stdout",
     "output_type": "stream",
     "text": [
      "Instantiating a Root and setting 'city' to 'Berlin'\n",
      "'city' will be set\n",
      "The Property 'city' will be returned now:\n",
      "The value is:  Berlin\n",
      "Our robot moves now to Frankfurt:\n",
      "'city' will be set\n",
      "The Property 'city' will be returned now:\n",
      "The value is:  Frankfurt\n"
     ]
    }
   ],
   "source": [
    "print(\"Instantiating a Root and setting 'city' to 'Berlin'\")\n",
    "robo = Robot(\"Berlin\")\n",
    "print(\"The value is: \", robo.city)\n",
    "print(\"Our robot moves now to Frankfurt:\")\n",
    "robo.city = \"Frankfurt\"\n",
    "print(\"The value is: \", robo.city)"
   ]
  },
  {
   "cell_type": "code",
   "execution_count": 143,
   "id": "1109f62d-6d3e-4b33-971f-1fd12eb8dfc6",
   "metadata": {},
   "outputs": [
    {
     "name": "stdout",
     "output_type": "stream",
     "text": [
      "\n",
      "__init__ called with:)\n",
      "fget=<function Robot.city at 0x000001EED93E9EE0>, fset=None, fdel=None, doc=None\n",
      "doc set to docstring of city method\n",
      "<class '__main__.chatty_property'>\n",
      "\n",
      "__init__ called with:)\n",
      "fget=<function Robot.city at 0x000001EED93E9EE0>, fset=<function Robot.city at 0x000001EED93E9AF0>, fdel=None, doc= city attribute of Robot \n"
     ]
    }
   ],
   "source": [
    "class chatty_property:\n",
    "    \"\"\" emulation of the property class \n",
    "        for educational purposes \"\"\"\n",
    "\n",
    "    def __init__(self, \n",
    "                 fget=None, \n",
    "                 fset=None, \n",
    "                 fdel=None, \n",
    "                 doc=None):\n",
    "        \n",
    "        self.fget = fget\n",
    "        self.fset = fset\n",
    "        self.fdel = fdel\n",
    "        print(\"\\n__init__ called with:)\")\n",
    "        print(f\"fget={fget}, fset={fset}, fdel={fdel}, doc={doc}\")\n",
    "        if doc is None and fget is not None:\n",
    "            print(f\"doc set to docstring of {fget.__name__} method\")\n",
    "            doc = fget.__doc__\n",
    "        self.__doc__ = doc\n",
    "\n",
    "    def __get__(self, obj, objtype=None):\n",
    "        if obj is None:\n",
    "            return self\n",
    "        if self.fget is None:\n",
    "            raise AttributeError(\"unreadable attribute\")\n",
    "        return self.fget(obj)\n",
    "\n",
    "    def __set__(self, obj, value):\n",
    "        if self.fset is None:\n",
    "            raise AttributeError(\"can't set attribute\")\n",
    "        self.fset(obj, value)\n",
    "\n",
    "    def __delete__(self, obj):\n",
    "        if self.fdel is None:\n",
    "            raise AttributeError(\"can't delete attribute\")\n",
    "        self.fdel(obj)\n",
    "\n",
    "    def getter(self, fget):\n",
    "        return type(self)(fget, self.fset, self.fdel, self.__doc__)\n",
    "\n",
    "    def setter(self, fset):\n",
    "        print(type(self))\n",
    "        return type(self)(self.fget, fset, self.fdel, self.__doc__)\n",
    "\n",
    "    def deleter(self, fdel):\n",
    "        return type(self)(self.fget, self.fset, fdel, self.__doc__)\n",
    "class Robot:\n",
    "    \n",
    "    def __init__(self, city):\n",
    "        self.city = city\n",
    "        \n",
    "    @chatty_property\n",
    "    def city(self):\n",
    "        \"\"\" city attribute of Robot \"\"\"\n",
    "        print(\"The Property 'city' will be returned now:\")\n",
    "        return self.__city\n",
    "    \n",
    "    @city.setter\n",
    "    def city(self, city):\n",
    "        print(\"'city' will be set\")\n",
    "        self.__city = city"
   ]
  },
  {
   "cell_type": "code",
   "execution_count": 144,
   "id": "f77851b7-a37c-4d3f-9e4d-477cf78405cf",
   "metadata": {},
   "outputs": [
    {
     "name": "stdout",
     "output_type": "stream",
     "text": [
      "'city' will be set\n"
     ]
    }
   ],
   "source": [
    "robo = Robot(\"Berlin\")"
   ]
  },
  {
   "cell_type": "markdown",
   "id": "575802e2-aeaf-40f7-bf7d-04d5214dee9f",
   "metadata": {},
   "source": [
    "## Magic Methods"
   ]
  },
  {
   "cell_type": "code",
   "execution_count": null,
   "id": "ec31fb86-483e-45a9-9154-24163d78ca02",
   "metadata": {},
   "outputs": [],
   "source": [
    "# from unit_conversions import Length\n",
    "# L = Length\n",
    "# print(L(2.56,\"m\") + L(3,\"yd\") + L(7.8,\"in\") + L(7.03,\"cm\"))"
   ]
  },
  {
   "cell_type": "code",
   "execution_count": 6,
   "id": "f36c228a-f978-4d56-a5c4-6cbf6e589821",
   "metadata": {},
   "outputs": [
    {
     "name": "stdout",
     "output_type": "stream",
     "text": [
      "4\n",
      "Length(4.510936132983376, 'yd')\n",
      "4.1248\n"
     ]
    }
   ],
   "source": [
    "class Length:\n",
    "    __metric = {\"mm\" : 0.001, \"cm\" : 0.01, \"m\" : 1, \"km\" : 1000,\n",
    "                \"in\" : 0.0254, \"ft\" : 0.3048, \"yd\" : 0.9144,\n",
    "                \"mi\" : 1609.344 }\n",
    "    def __init__(self, value, unit = \"m\" ):\n",
    "        self.value = value\n",
    "        self.unit = unit\n",
    "    def Converse2Metres(self):\n",
    "        return self.value * Length.__metric[self.unit]\n",
    "    def __add__(self, other):\n",
    "        l = self.Converse2Metres() + other.Converse2Metres()\n",
    "        return Length(l / Length.__metric[self.unit], self.unit )\n",
    "    def __str__(self):\n",
    "        return str(self.Converse2Metres())\n",
    "    def __repr__(self):\n",
    "        return \"Length(\" + str(self.value) + \", '\" + self.unit + \"')\"\n",
    "if __name__ == \"__main__\":\n",
    "    x = Length(4)\n",
    "    print(x)\n",
    "    y = eval(repr(x))\n",
    "    z = Length(4.5, \"yd\") + Length(1,'cm')\n",
    "    print(repr(z))\n",
    "    print(z)"
   ]
  },
  {
   "cell_type": "code",
   "execution_count": 7,
   "id": "15aaf934-2297-4829-a62b-5925a721e799",
   "metadata": {},
   "outputs": [
    {
     "name": "stdout",
     "output_type": "stream",
     "text": [
      "5000\n",
      "Length(5, 'km')\n"
     ]
    }
   ],
   "source": [
    "a = Length(5,'km')\n",
    "print(a)\n",
    "print(repr(a))"
   ]
  },
  {
   "cell_type": "code",
   "execution_count": 8,
   "id": "a962c5db-44e2-476c-b7d3-5a91c342f469",
   "metadata": {},
   "outputs": [
    {
     "name": "stdout",
     "output_type": "stream",
     "text": [
      "4\n",
      "Length(4.510936132983376, 'yd')\n",
      "4.1248\n"
     ]
    }
   ],
   "source": [
    "class Length:\n",
    "    __metric = {\"mm\" : 0.001, \"cm\" : 0.01, \"m\" : 1, \"km\" : 1000,\n",
    "                \"in\" : 0.0254, \"ft\" : 0.3048, \"yd\" : 0.9144,\n",
    "                \"mi\" : 1609.344 }\n",
    "    \n",
    "    def __init__(self, value, unit=\"m\"):\n",
    "        self.value = value\n",
    "        self.unit = unit\n",
    "    \n",
    "    def Converse2Metres(self):\n",
    "        return self.value * Length.__metric[self.unit]\n",
    "    \n",
    "    def __add__(self, other):\n",
    "        if type(other) == int or type(other) == float:\n",
    "            l = self.Converse2Metres() + other\n",
    "        else:\n",
    "            l = self.Converse2Metres() + other.Converse2Metres()\n",
    "        return Length(l / Length.__metric[self.unit], self.unit)\n",
    "\n",
    "    def __iadd__(self, other):\n",
    "        if type(other) == int or type(other) == float:\n",
    "            l = self.Converse2Metres() + other\n",
    "        else:\n",
    "            l = self.Converse2Metres() + other.Converse2Metres()\n",
    "        self.value = l / Length.__metric[self.unit]\n",
    "        return self\n",
    "\n",
    "    def __str__(self):\n",
    "        return str(self.Converse2Metres())\n",
    "    \n",
    "    def __repr__(self):\n",
    "        return \"Length(\" + str(self.value) + \", '\" + self.unit + \"')\"\n",
    "\n",
    "if __name__ == \"__main__\":\n",
    "    x = Length(4)\n",
    "    print(x)\n",
    "    y = eval(repr(x))\n",
    "    z = Length(4.5, \"yd\") + Length(1,'cm')\n",
    "    print(repr(z))\n",
    "    print(z)"
   ]
  },
  {
   "cell_type": "code",
   "execution_count": 11,
   "id": "f4808202-e2d8-480a-bc1a-6ea70c9f9445",
   "metadata": {},
   "outputs": [
    {
     "name": "stdout",
     "output_type": "stream",
     "text": [
      "12.0\n",
      "3.0\n",
      "1004.5\n"
     ]
    }
   ],
   "source": [
    "# Create a Length object representing 3 meters\n",
    "length1 = Length(3)\n",
    "\n",
    "# Create another Length object representing 2 meters\n",
    "length2 = Length(9)\n",
    "\n",
    "# Add the two Length objects together\n",
    "result = length1 + length2\n",
    "print(result)  \n",
    "\n",
    "# Add a scalar value (in this case, 1 meter) to a Length object\n",
    "length3 = Length(2)\n",
    "length3 += 1  # Equivalent to length3 = length3 + 1\n",
    "print(length3)  # Output: 3.0\n",
    "\n",
    "# You can also specify units for the Length objects\n",
    "length4 = Length(4.5, \"m\") \n",
    "length5 = Length(1, 'km')    \n",
    "result2 = length4 + length5\n",
    "print(result2)  "
   ]
  },
  {
   "cell_type": "code",
   "execution_count": 2,
   "id": "11bec25a-cbc7-4031-8783-b404ce4426e0",
   "metadata": {},
   "outputs": [],
   "source": [
    "def __iadd__(self, other):\n",
    "    l = self.Converse2Metres() + other.Converse2Metres()\n",
    "    self.value = l / Length.__metric[self.unit]\n",
    "    return self"
   ]
  },
  {
   "cell_type": "code",
   "execution_count": 12,
   "id": "e24b253c-372f-4209-87d4-bd5944fd4e65",
   "metadata": {},
   "outputs": [],
   "source": [
    "\"\"\"\n",
    "    The class \"Ccy\" can be used to define money values in various currencies. A Ccy instance has the string attributes 'unit' (e.g. 'CHF', 'CAD' od 'EUR' and the 'value' as a float. \n",
    "    A currency object consists of a value and the corresponding unit.\n",
    "    \"\"\"\n",
    "class Ccy:\n",
    "    currencies =  {'CHF': 1.0821202355817312, \n",
    "                   'CAD': 1.488609845538393, \n",
    "                   'GBP': 0.8916546282920325, \n",
    "                   'JPY': 114.38826536281809, \n",
    "                   'EUR': 1.0, \n",
    "                   'USD': 1.11123458162018\n",
    "                  }\n",
    "    def __init__(self, value, unit=\"EUR\"):\n",
    "        self.value = value\n",
    "        self.unit = unit\n",
    "    def __str__(self):\n",
    "        return \"{0:5.2f}\".format(self.value) + \" \" + self.unit\n",
    "    def changeTo(self, new_unit):\n",
    "        \"\"\"\n",
    "            An Ccy object is transformed from the unit \"self.unit\" to \"new_unit\"\n",
    "        \"\"\"\n",
    "        self.value = (self.value / Ccy.currencies[self.unit] * Ccy.currencies[new_unit])\n",
    "        self.unit = new_unit\n",
    "    def __add__(self, other):\n",
    "        \"\"\"\n",
    "            Defines the '+' operator.\n",
    "            If other is a CCy object the currency values \n",
    "            are added and the result will be the unit of \n",
    "            self. If other is an int or a float, other will\n",
    "            be treated as a Euro value. \n",
    "        \"\"\"\n",
    "        if type(other) == int or type(other) == float:\n",
    "            x = (other * Ccy.currencies[self.unit])\n",
    "        else:\n",
    "            x = (other.value / Ccy.currencies[other.unit] * Ccy.currencies[self.unit]) \n",
    "        return Ccy(x + self.value, self.unit)\n",
    "    def __iadd__(self, other):\n",
    "        \"\"\"\n",
    "            Similar to __add__\n",
    "        \"\"\"\n",
    "        if type(other) == int or type(other) == float:\n",
    "            x = (other * Ccy.currencies[self.unit])\n",
    "        else:\n",
    "            x = (other.value / Ccy.currencies[other.unit] * Ccy.currencies[self.unit])\n",
    "        self.value += x\n",
    "        return self\n",
    "    def __radd__(self, other):\n",
    "        res = self + other\n",
    "        if self.unit != \"EUR\":\n",
    "            res.changeTo(\"EUR\")\n",
    "        return res\n",
    "        # __sub__, __isub__ and __rsub__ can be defined analogue"
   ]
  },
  {
   "cell_type": "code",
   "execution_count": 15,
   "id": "96b72447-f1d3-4326-b828-f16031853996",
   "metadata": {},
   "outputs": [
    {
     "name": "stdout",
     "output_type": "stream",
     "text": [
      "282.91 EUR\n",
      "28.40 EUR\n"
     ]
    }
   ],
   "source": [
    "# from currencies import Ccy\n",
    "x = Ccy(10,\"USD\")\n",
    "# print(x)\n",
    "y = Ccy(11)\n",
    "z = Ccy(12.34, \"JPY\")\n",
    "z = 7.8 + x + y + 255 + z\n",
    "print(z)\n",
    "lst = [Ccy(10,\"USD\"), Ccy(11), Ccy(12.34, \"JPY\"), Ccy(12.34, \"CAD\")]\n",
    "z = sum(lst)\n",
    "print(z)"
   ]
  },
  {
   "cell_type": "code",
   "execution_count": 11,
   "id": "3b5b05f9-64f0-4af4-9982-6808c09eced1",
   "metadata": {},
   "outputs": [],
   "source": [
    "\"\"\"\n",
    "    The class \"Ccy\" can be used to define money values in various currencies. A Ccy instance has the string attributes 'unit' (e.g. 'CHF', 'CAD' od 'EUR' and the 'value' as a float. \n",
    "    A currency object consists of a value and the corresponding unit.\n",
    "\"\"\"   \n",
    "class Ccy:\n",
    "    currencies =  {'CHF': 1.0821202355817312, \n",
    "                       'CAD': 1.488609845538393, \n",
    "                       'GBP': 0.8916546282920325, \n",
    "                       'JPY': 114.38826536281809, \n",
    "                       'EUR': 1.0, \n",
    "                       'USD': 1.11123458162018}\n",
    "    def __init__(self, value, unit=\"EUR\"):\n",
    "        self.value = value\n",
    "        self.unit = unit\n",
    "    def __str__(self):\n",
    "        return \"{0:5.2f}\".format(self.value) + \" \" + self.unit\n",
    "    def __repr__(self):\n",
    "        return 'Ccy(' + str(self.value) + ', \"' + self.unit + '\")'\n",
    "    def changeTo(self, new_unit):\n",
    "        \"\"\"\n",
    "            An Ccy object is transformed from the unit \"self.unit\" to \"new_unit\"\n",
    "        \"\"\"\n",
    "        self.value = (self.value / Ccy.currencies[self.unit] * Ccy.currencies[new_unit])\n",
    "        self.unit = new_unit\n",
    "    def __add__(self, other):\n",
    "        \"\"\"\n",
    "            Defines the '+' operator.\n",
    "            If other is a CCy object the currency values \n",
    "            are added and the result will be the unit of \n",
    "            self. If other is an int or a float, other will\n",
    "            be treated as a Euro value. \n",
    "        \"\"\"\n",
    "        if type(other) == int or type(other) == float:\n",
    "                x = (other * Ccy.currencies[self.unit])\n",
    "        else:\n",
    "                x = (other.value / Ccy.currencies[other.unit] * Ccy.currencies[self.unit]) \n",
    "        return Ccy(x + self.value, self.unit)\n",
    "    def __iadd__(self, other):\n",
    "        \"\"\"\n",
    "            Similar to __add__\n",
    "        \"\"\"\n",
    "        if type(other) == int or type(other) == float:\n",
    "            x = (other * Ccy.currencies[self.unit])\n",
    "        else:\n",
    "            x = (other.value / Ccy.currencies[other.unit] * Ccy.currencies[self.unit])\n",
    "            self.value += x\n",
    "        return self\n",
    "    def __radd__(self, other):\n",
    "        res = self + other\n",
    "        if self.unit != \"EUR\":\n",
    "            res.changeTo(\"EUR\")\n",
    "        return res\n",
    "        # __sub__, __isub__ and __rsub__ can be defined analogue\n",
    "    def __mul__(self, other):\n",
    "        \"\"\"\n",
    "            Multiplication is only defined as a scalar multiplication, \n",
    "            i.e. a money value can be multiplied by an int or a float.\n",
    "            It is not possible to multiply to money values\n",
    "        \"\"\"\n",
    "        if type(other)==int or type(other)==float:\n",
    "            return Ccy(self.value * other, self.unit)\n",
    "        else:\n",
    "            raise TypeError(\"unsupported operand type(s) for *: 'Ccy' and \" + type(other).__name__)  \n",
    "    def __rmul__(self, other):\n",
    "        return self.__mul__(other)\n",
    "    def __imul__(self, other):\n",
    "        if type(other)==int or type(other)==float:\n",
    "            self.value *= other\n",
    "            return self\n",
    "        else:\n",
    "            raise TypeError(\"unsupported operand type(s) for *: 'Ccy' and \" + type(other).__name__)  "
   ]
  },
  {
   "cell_type": "code",
   "execution_count": 12,
   "id": "22e7a533-016d-4c4f-a153-4d9caf6ef2d9",
   "metadata": {},
   "outputs": [
    {
     "data": {
      "text/plain": [
       "Ccy(21.215104685942173, \"EUR\")"
      ]
     },
     "execution_count": 12,
     "metadata": {},
     "output_type": "execute_result"
    }
   ],
   "source": [
    "x = Ccy(10.00, \"EUR\")\n",
    "y = Ccy(10.00, \"GBP\")\n",
    "x + y"
   ]
  },
  {
   "cell_type": "markdown",
   "id": "dec4a818-6426-480d-bdef-a5e7631deb84",
   "metadata": {},
   "source": [
    "## Dynamic Data Transformation"
   ]
  },
  {
   "cell_type": "code",
   "execution_count": 13,
   "id": "9d370566-bfa8-405b-94b6-136f1f4a1a3d",
   "metadata": {},
   "outputs": [],
   "source": [
    "class Product:\n",
    "    \"\"\"\n",
    "    A class representing a product with price and shipping cost.\n",
    "\n",
    "    Attributes:\n",
    "        conversion_rates (dict): A dictionary containing conversion rates from different currencies to USD.\n",
    "    \"\"\"\n",
    "\n",
    "    conversion_rates = {'USD': 1, 'EUR': 0.92, 'CHF': 0.90, 'GBP': 0.79}\n",
    "\n",
    "    def __init__(self, name, price, shipping_cost, currency='USD'):\n",
    "        \"\"\"\n",
    "        Initializes a Product object with the given parameters.\n",
    "\n",
    "        Args:\n",
    "            name (str): The name of the product.\n",
    "            price (float): The price of the product in the specified currency.\n",
    "            shipping_cost (float): The shipping cost of the product in the specified currency.\n",
    "            currency (str, optional): The currency code for price and shipping cost. Defaults to 'USD'.\n",
    "        \"\"\"\n",
    "        self.name = name\n",
    "        self._price = price\n",
    "        self._shipping_cost = shipping_cost\n",
    "        self.currency = currency\n",
    "        self._used_currency = currency\n",
    "\n",
    "    def set_currency(self, new_currency, adapt_data=False):\n",
    "        \"\"\"\n",
    "        Sets a new currency for the product and optionally adapts existing data.\n",
    "\n",
    "        Args:\n",
    "            new_currency (str): The new currency code.\n",
    "            adapt_data (bool, optional): Whether to adapt existing data to the new currency. Defaults to False.\n",
    "        \"\"\"\n",
    "        if self.currency != new_currency:\n",
    "            self.currency = new_currency\n",
    "        if adapt_data:\n",
    "            self._price = self.price\n",
    "            self._shipping_cost = self.shipping_cost\n",
    "            self._used_currency = new_currency\n",
    "\n",
    "    @property\n",
    "    def price(self):\n",
    "        \"\"\"\n",
    "        Property representing the price of the product in the specified currency.\n",
    "\n",
    "        Returns:\n",
    "            float: The price of the product.\n",
    "        \"\"\"\n",
    "        return self._convert_currency(self._price)\n",
    "\n",
    "    @property\n",
    "    def shipping_cost(self):\n",
    "        \"\"\"\n",
    "        Property representing the shipping cost of the product in the specified currency.\n",
    "\n",
    "        Returns:\n",
    "            float: The shipping cost of the product.\n",
    "        \"\"\"\n",
    "        return self._convert_currency(self._shipping_cost)\n",
    "\n",
    "    def _convert_currency(self, amount):\n",
    "        \"\"\"\n",
    "        Converts an amount from the internal currency to the specified currency.\n",
    "\n",
    "        Args:\n",
    "            amount (float): The amount to be converted.\n",
    "\n",
    "        Returns:\n",
    "            float: The converted amount.\n",
    "        \"\"\"\n",
    "        factor = Product.conversion_rates[self.currency] / Product.conversion_rates[self._used_currency]\n",
    "        return round(amount * factor, 2)\n",
    "\n",
    "    def __str__(self):\n",
    "        \"\"\"\n",
    "        Returns a string representation of the Product object.\n",
    "\n",
    "        Returns:\n",
    "            str: A string containing product details.\n",
    "        \"\"\"\n",
    "        return f\"Product: {self.name}, Price: {self.price} {self.currency}, Shipping Cost: {self.shipping_cost} {self.currency}\"\n",
    "\n",
    "\n",
    "    def show_saved_data(self):\n",
    "        \"\"\"\n",
    "        Prints the saved data of the Product object.\n",
    "        \"\"\"\n",
    "        outstr = f\"Saved Data: {self.name=}, {self.currency=}, {self._used_currency=} {self._price=}, {self._shipping_cost=}\"\n",
    "        print(outstr)"
   ]
  },
  {
   "cell_type": "code",
   "execution_count": 14,
   "id": "f15ecbdb-44e2-415e-8c86-0a79ca5052c4",
   "metadata": {},
   "outputs": [
    {
     "name": "stdout",
     "output_type": "stream",
     "text": [
      "Product: Phone, Price: 500.0 USD, Shipping Cost: 10.0 USD\n",
      "Saved Data: self.name='Phone', self.currency='USD', self._used_currency='USD' self._price=500, self._shipping_cost=10\n"
     ]
    }
   ],
   "source": [
    "product = Product(name='Phone', price=500, shipping_cost=10, currency='USD')\n",
    "print(product)\n",
    "product.show_saved_data()"
   ]
  },
  {
   "cell_type": "code",
   "execution_count": 15,
   "id": "ad7605ff-5ff3-4083-bd51-533b8639790d",
   "metadata": {},
   "outputs": [
    {
     "name": "stdout",
     "output_type": "stream",
     "text": [
      "Product: Phone, Price: 395.0 GBP, Shipping Cost: 7.9 GBP\n",
      "Saved Data: self.name='Phone', self.currency='GBP', self._used_currency='USD' self._price=500, self._shipping_cost=10\n"
     ]
    }
   ],
   "source": [
    "product.set_currency('GBP')\n",
    "print(product)\n",
    "product.show_saved_data()"
   ]
  },
  {
   "cell_type": "code",
   "execution_count": 16,
   "id": "00a05703-d32f-4ac3-85b8-ddf2925d6eb9",
   "metadata": {},
   "outputs": [
    {
     "name": "stdout",
     "output_type": "stream",
     "text": [
      "Product: Phone, Price: 460.0 EUR, Shipping Cost: 9.2 EUR\n",
      "Saved Data: self.name='Phone', self.currency='EUR', self._used_currency='EUR' self._price=460.0, self._shipping_cost=9.2\n"
     ]
    }
   ],
   "source": [
    "product.set_currency('EUR', adapt_data=True)\n",
    "print(product)\n",
    "product.show_saved_data()"
   ]
  },
  {
   "cell_type": "code",
   "execution_count": 17,
   "id": "7ff68877-8aef-44ce-840f-2015bd560a89",
   "metadata": {},
   "outputs": [],
   "source": [
    "class Products:\n",
    "    def __init__(self):\n",
    "        self.product_list = []\n",
    "\n",
    "    def add_product(self, product):\n",
    "        self.product_list.append(product)\n",
    "\n",
    "    def view_products(self, currency='USD', adapt_data=False):\n",
    "        total_products = len(self.product_list)\n",
    "        print(f\"Total Products: {total_products}\")\n",
    "        print(\"Products:\")\n",
    "        for product in self.product_list:\n",
    "            product.set_currency(currency, adapt_data)\n",
    "            print(product)\n",
    "\n",
    "\n",
    "    def view_products(self, currency='USD', adapt_data=False):\n",
    "        total_products = len(self.product_list)\n",
    "        print(f\"Total Products: {total_products}\")\n",
    "        print(\"Products:\")\n",
    "        print(f\"{'Product name':39s} Price Shipping\")\n",
    "        for product in self.product_list:\n",
    "            product.set_currency(currency, adapt_data)\n",
    "            print(f\"{product.name:35s}   {product.price:7.2f}   {product.shipping_cost:6.2f}\")\n",
    "\n",
    "    def view_products_as_saved_data(self):\n",
    "        total_products = len(self.product_list)\n",
    "        print(f\"Total Products: {total_products}\")\n",
    "        print(\"Products:\")\n",
    "        print(f\"{'Product name':38s} Price Shipping\")\n",
    "        for product in self.product_list:\n",
    "            product.show_saved_data()"
   ]
  },
  {
   "cell_type": "code",
   "execution_count": 18,
   "id": "917a6c9d-7ed7-4a9e-a400-0ab7624324a9",
   "metadata": {},
   "outputs": [
    {
     "name": "stdout",
     "output_type": "stream",
     "text": [
      "Viewing products in USD:\n",
      "Total Products: 10\n",
      "Products:\n",
      "Product name                            Price Shipping\n",
      "Elixir of Eternal Youth                167.60     5.03\n",
      "Dragonfire Sword                       137.93     4.14\n",
      "Phoenix Feather Wand                   792.49    23.77\n",
      "Mermaid's Tears Necklace                93.29     2.80\n",
      "Elven Cloak of Invisibility            725.58    21.77\n",
      "Potion of Flying                       958.96    28.77\n",
      "Amulet of Wisdom                       802.02    24.06\n",
      "Crystal Ball of Fortune                518.14    15.54\n",
      "Enchanted Mirror                       403.71    12.11\n",
      "Unicorn Horn Ring                      494.82    14.84\n"
     ]
    }
   ],
   "source": [
    "import random\n",
    "\n",
    "fantasy_product_names = [\n",
    "    \"Elixir of Eternal Youth\",\n",
    "    \"Dragonfire Sword\",\n",
    "    \"Phoenix Feather Wand\",\n",
    "    \"Mermaid's Tears Necklace\",\n",
    "    \"Elven Cloak of Invisibility\",\n",
    "    \"Potion of Flying\",\n",
    "    \"Amulet of Wisdom\",\n",
    "    \"Crystal Ball of Fortune\",\n",
    "    \"Enchanted Mirror\",\n",
    "    \"Unicorn Horn Ring\"\n",
    "]\n",
    "\n",
    "currencies = list(Product.conversion_rates.keys())\n",
    "# Example usage:\n",
    "products = Products()\n",
    "\n",
    "# Adding products with different currencies and fantasy names\n",
    "for i, name in enumerate(fantasy_product_names, start=1):\n",
    "    price = random.uniform(70, 1000)\n",
    "    products.add_product(Product(name=name, price=price, shipping_cost=price*0.03, currency=random.choice(currencies)))\n",
    "\n",
    "\n",
    "currency = 'USD'\n",
    "print(f\"Viewing products in {currency}:\")\n",
    "products.view_products(currency=currency)"
   ]
  },
  {
   "cell_type": "code",
   "execution_count": 19,
   "id": "675377d0-5c69-4942-acc2-bcfc6f06aca7",
   "metadata": {},
   "outputs": [
    {
     "name": "stdout",
     "output_type": "stream",
     "text": [
      "Viewing products in CHF:\n",
      "Total Products: 10\n",
      "Products:\n",
      "Product name                            Price Shipping\n",
      "Elixir of Eternal Youth                150.84     4.53\n",
      "Dragonfire Sword                       124.14     3.72\n",
      "Phoenix Feather Wand                   713.24    21.40\n",
      "Mermaid's Tears Necklace                83.96     2.52\n",
      "Elven Cloak of Invisibility            653.02    19.59\n",
      "Potion of Flying                       863.07    25.89\n",
      "Amulet of Wisdom                       721.82    21.65\n",
      "Crystal Ball of Fortune                466.33    13.99\n",
      "Enchanted Mirror                       363.34    10.90\n",
      "Unicorn Horn Ring                      445.34    13.36\n"
     ]
    }
   ],
   "source": [
    "currency = 'CHF'\n",
    "print(f\"Viewing products in {currency}:\")\n",
    "products.view_products(currency=currency)"
   ]
  },
  {
   "cell_type": "code",
   "execution_count": 20,
   "id": "44e1de00-7cb9-4db0-8570-f2827909fece",
   "metadata": {},
   "outputs": [
    {
     "name": "stdout",
     "output_type": "stream",
     "text": [
      "Viewing products in CHF:\n",
      "Total Products: 10\n",
      "Products:\n",
      "Product name                           Price Shipping\n",
      "Saved Data: self.name='Elixir of Eternal Youth', self.currency='CHF', self._used_currency='USD' self._price=167.5992060066298, self._shipping_cost=5.027976180198894\n",
      "Saved Data: self.name='Dragonfire Sword', self.currency='CHF', self._used_currency='GBP' self._price=108.96804009648316, self._shipping_cost=3.2690412028944946\n",
      "Saved Data: self.name='Phoenix Feather Wand', self.currency='CHF', self._used_currency='EUR' self._price=729.0938390781346, self._shipping_cost=21.872815172344037\n",
      "Saved Data: self.name=\"Mermaid's Tears Necklace\", self.currency='CHF', self._used_currency='EUR' self._price=85.82929442439936, self._shipping_cost=2.5748788327319807\n",
      "Saved Data: self.name='Elven Cloak of Invisibility', self.currency='CHF', self._used_currency='GBP' self._price=573.2067783426425, self._shipping_cost=17.196203350279273\n",
      "Saved Data: self.name='Potion of Flying', self.currency='CHF', self._used_currency='USD' self._price=958.9639955307003, self._shipping_cost=28.76891986592101\n",
      "Saved Data: self.name='Amulet of Wisdom', self.currency='CHF', self._used_currency='EUR' self._price=737.8556541091108, self._shipping_cost=22.135669623273323\n",
      "Saved Data: self.name='Crystal Ball of Fortune', self.currency='CHF', self._used_currency='CHF' self._price=466.32950515476193, self._shipping_cost=13.989885154642858\n",
      "Saved Data: self.name='Enchanted Mirror', self.currency='CHF', self._used_currency='EUR' self._price=371.41497586541783, self._shipping_cost=11.142449275962534\n",
      "Saved Data: self.name='Unicorn Horn Ring', self.currency='CHF', self._used_currency='EUR' self._price=455.23872915439216, self._shipping_cost=13.657161874631765\n"
     ]
    }
   ],
   "source": [
    "print(f\"Viewing products in {currency}:\")\n",
    "products.view_products_as_saved_data()"
   ]
  },
  {
   "cell_type": "code",
   "execution_count": 21,
   "id": "d5954933-3bb2-48c7-8fb2-5b1d72dedb27",
   "metadata": {},
   "outputs": [
    {
     "name": "stdout",
     "output_type": "stream",
     "text": [
      "Viewing products in CHF:\n",
      "Total Products: 10\n",
      "Products:\n",
      "Product name                            Price Shipping\n",
      "Elixir of Eternal Youth                150.84     4.53\n",
      "Dragonfire Sword                       124.14     3.72\n",
      "Phoenix Feather Wand                   713.24    21.40\n",
      "Mermaid's Tears Necklace                83.96     2.52\n",
      "Elven Cloak of Invisibility            653.02    19.59\n",
      "Potion of Flying                       863.07    25.89\n",
      "Amulet of Wisdom                       721.82    21.65\n",
      "Crystal Ball of Fortune                466.33    13.99\n",
      "Enchanted Mirror                       363.34    10.90\n",
      "Unicorn Horn Ring                      445.34    13.36\n"
     ]
    }
   ],
   "source": [
    "currency = 'CHF'\n",
    "print(f\"Viewing products in {currency}:\")\n",
    "products.view_products(currency=currency, adapt_data=True)"
   ]
  },
  {
   "cell_type": "code",
   "execution_count": 22,
   "id": "fa41d152-dfd6-4f78-ad00-1523ffa48a03",
   "metadata": {},
   "outputs": [
    {
     "name": "stdout",
     "output_type": "stream",
     "text": [
      "Viewing products in CHF:\n",
      "Total Products: 10\n",
      "Products:\n",
      "Product name                           Price Shipping\n",
      "Saved Data: self.name='Elixir of Eternal Youth', self.currency='CHF', self._used_currency='CHF' self._price=150.84, self._shipping_cost=4.53\n",
      "Saved Data: self.name='Dragonfire Sword', self.currency='CHF', self._used_currency='CHF' self._price=124.14, self._shipping_cost=3.72\n",
      "Saved Data: self.name='Phoenix Feather Wand', self.currency='CHF', self._used_currency='CHF' self._price=713.24, self._shipping_cost=21.4\n",
      "Saved Data: self.name=\"Mermaid's Tears Necklace\", self.currency='CHF', self._used_currency='CHF' self._price=83.96, self._shipping_cost=2.52\n",
      "Saved Data: self.name='Elven Cloak of Invisibility', self.currency='CHF', self._used_currency='CHF' self._price=653.02, self._shipping_cost=19.59\n",
      "Saved Data: self.name='Potion of Flying', self.currency='CHF', self._used_currency='CHF' self._price=863.07, self._shipping_cost=25.89\n",
      "Saved Data: self.name='Amulet of Wisdom', self.currency='CHF', self._used_currency='CHF' self._price=721.82, self._shipping_cost=21.65\n",
      "Saved Data: self.name='Crystal Ball of Fortune', self.currency='CHF', self._used_currency='CHF' self._price=466.33, self._shipping_cost=13.99\n",
      "Saved Data: self.name='Enchanted Mirror', self.currency='CHF', self._used_currency='CHF' self._price=363.34, self._shipping_cost=10.9\n",
      "Saved Data: self.name='Unicorn Horn Ring', self.currency='CHF', self._used_currency='CHF' self._price=445.34, self._shipping_cost=13.36\n"
     ]
    }
   ],
   "source": [
    "print(f\"Viewing products in {currency}:\")\n",
    "products.view_products_as_saved_data()"
   ]
  },
  {
   "cell_type": "markdown",
   "id": "579f4be9-f062-4d7c-bdc0-9729be1ebebe",
   "metadata": {},
   "source": [
    "## Inheritance"
   ]
  },
  {
   "cell_type": "code",
   "execution_count": 17,
   "id": "ac3992b0-4c1f-4258-aa15-19ca9dda8708",
   "metadata": {},
   "outputs": [
    {
     "name": "stdout",
     "output_type": "stream",
     "text": [
      "<__main__.Robot object at 0x000001E381E29730> <class '__main__.Robot'>\n",
      "<__main__.PhysicianRobot object at 0x000001E381E29550> <class '__main__.PhysicianRobot'>\n",
      "Hi, I am James\n"
     ]
    }
   ],
   "source": [
    "class Robot:\n",
    "    def __init__(self, name):\n",
    "        self.name = name\n",
    "        \n",
    "    def say_hi(self):\n",
    "        print(\"Hi, I am \" + self.name)\n",
    "        \n",
    "class PhysicianRobot(Robot):\n",
    "    pass\n",
    "\n",
    "x = Robot(\"Marvin\")\n",
    "y = PhysicianRobot(\"James\")\n",
    "\n",
    "print(x, type(x))\n",
    "print(y, type(y))\n",
    "\n",
    "y.say_hi()"
   ]
  },
  {
   "cell_type": "code",
   "execution_count": 18,
   "id": "857b5092-6dc5-4d8c-b464-89bb9ef10994",
   "metadata": {},
   "outputs": [
    {
     "name": "stdout",
     "output_type": "stream",
     "text": [
      "Hi, I am Marvin\n"
     ]
    }
   ],
   "source": [
    "x.say_hi()"
   ]
  },
  {
   "cell_type": "code",
   "execution_count": 19,
   "id": "4bdc79fd-82bf-42f4-96ca-ec958c9bf366",
   "metadata": {},
   "outputs": [
    {
     "name": "stdout",
     "output_type": "stream",
     "text": [
      "True True\n",
      "False\n",
      "True\n",
      "False True\n"
     ]
    }
   ],
   "source": [
    "x = Robot(\"Marvin\")\n",
    "y = PhysicianRobot(\"James\")\n",
    "\n",
    "print(isinstance(x, Robot), isinstance(y, Robot))\n",
    "print(isinstance(x, PhysicianRobot))\n",
    "print(isinstance(y, PhysicianRobot))\n",
    "\n",
    "print(type(y) == Robot, type(y) == PhysicianRobot)"
   ]
  },
  {
   "cell_type": "code",
   "execution_count": 25,
   "id": "a0724d69-328e-4cbc-bbfe-0da3318cea04",
   "metadata": {},
   "outputs": [
    {
     "name": "stdout",
     "output_type": "stream",
     "text": [
      "True\n",
      "True\n",
      "True\n",
      "\n",
      "\n",
      "True\n",
      "True\n",
      "False\n"
     ]
    }
   ],
   "source": [
    "class A:\n",
    "    pass\n",
    "\n",
    "class B(A):\n",
    "    pass\n",
    "\n",
    "class C(B):\n",
    "    pass\n",
    "\n",
    "x = C()\n",
    "y = B()\n",
    "print(isinstance(x, A))\n",
    "print(isinstance(x, B))\n",
    "print(isinstance(x, C))\n",
    "print('\\n')\n",
    "print(isinstance(y,A))\n",
    "print(isinstance(y,B))\n",
    "print(isinstance(y,C))"
   ]
  },
  {
   "cell_type": "code",
   "execution_count": 26,
   "id": "66afa423-8fc6-4519-8a83-d9dbaf0f3b3f",
   "metadata": {},
   "outputs": [
    {
     "name": "stdout",
     "output_type": "stream",
     "text": [
      "Everything will be okay! \n",
      "James takes care of you!\n"
     ]
    }
   ],
   "source": [
    "class Robot:\n",
    "    \n",
    "    def __init__(self, name):\n",
    "        self.name = name\n",
    "        \n",
    "    def say_hi(self):\n",
    "        print(\"Hi, I am \" + self.name)\n",
    "        \n",
    "class PhysicianRobot(Robot):\n",
    "\n",
    "    def say_hi(self):\n",
    "        print(\"Everything will be okay! \") \n",
    "        print(self.name + \" takes care of you!\")\n",
    "\n",
    "y = PhysicianRobot(\"James\")\n",
    "y.say_hi()"
   ]
  },
  {
   "cell_type": "code",
   "execution_count": 27,
   "id": "edbd614e-5d61-4d59-83a4-f06d14c5bcea",
   "metadata": {},
   "outputs": [
    {
     "name": "stdout",
     "output_type": "stream",
     "text": [
      "Everything will be okay! \n",
      "Doc James takes care of you!\n",
      "... and now the 'traditional' robot way of saying hi :-)\n",
      "Hi, I am Doc James\n"
     ]
    }
   ],
   "source": [
    "y = PhysicianRobot(\"Doc James\")\n",
    "y.say_hi()\n",
    "print(\"... and now the 'traditional' robot way of saying hi :-)\")\n",
    "Robot.say_hi(y)"
   ]
  },
  {
   "cell_type": "code",
   "execution_count": 28,
   "id": "dbc606de-68da-44b6-af4f-c36d74869d6d",
   "metadata": {},
   "outputs": [
    {
     "name": "stdout",
     "output_type": "stream",
     "text": [
      "health_level of Marvin0 before healing:  0.0396304429952018\n",
      "Marvin0 has been healed by Dr. Frankenstein!\n",
      "health_level of Marvin0 after healing:  0.47193565314479047\n",
      "health_level of Marvin1 before healing:  0.636227687503044\n",
      "Marvin1 has been healed by Dr. Frankenstein!\n",
      "health_level of Marvin1 after healing:  0.7291794331007674\n",
      "health_level of Marvin2 before healing:  0.4076492861345974\n",
      "Marvin2 has been healed by Dr. Frankenstein!\n",
      "health_level of Marvin2 after healing:  0.9711500035504544\n",
      "health_level of Marvin3 before healing:  0.6255904798385075\n",
      "Marvin3 has been healed by Dr. Frankenstein!\n",
      "health_level of Marvin3 after healing:  0.735455158708417\n",
      "health_level of Marvin4 before healing:  0.3936803946426368\n",
      "Marvin4 has been healed by Dr. Frankenstein!\n",
      "health_level of Marvin4 after healing:  0.9002638142954393\n",
      "[('Marvin0', 0.47193565314479047), ('Marvin1', 0.7291794331007674), ('Marvin2', 0.9711500035504544), ('Marvin3', 0.735455158708417), ('Marvin4', 0.9002638142954393)]\n"
     ]
    }
   ],
   "source": [
    "import random\n",
    "\n",
    "class Robot:\n",
    "    \n",
    "    def __init__(self, name):\n",
    "        self.name = name\n",
    "        self.health_level = random.random() \n",
    "        \n",
    "    def say_hi(self):\n",
    "        print(\"Hi, I am \" + self.name)\n",
    "        \n",
    "    def needs_a_doctor(self):\n",
    "        if self.health_level < 0.8:\n",
    "            return True\n",
    "        else:\n",
    "            return False\n",
    "        \n",
    "class PhysicianRobot(Robot):\n",
    "\n",
    "    def say_hi(self):\n",
    "        print(\"Everything will be okay! \") \n",
    "        print(self.name + \" takes care of you!\")\n",
    "\n",
    "\n",
    "    def heal(self, robo):\n",
    "        robo.health_level = random.uniform(robo.health_level, 1)\n",
    "        print(robo.name + \" has been healed by \" + self.name + \"!\")\n",
    "\n",
    "doc = PhysicianRobot(\"Dr. Frankenstein\")        \n",
    "\n",
    "rob_list = []\n",
    "for i in range(5):\n",
    "    x = Robot(\"Marvin\" + str(i))\n",
    "    if x.needs_a_doctor():\n",
    "        print(\"health_level of \" + x.name + \" before healing: \", x.health_level)\n",
    "        doc.heal(x)\n",
    "        print(\"health_level of \" + x.name + \" after healing: \", x.health_level)\n",
    "    rob_list.append((x.name, x.health_level))\n",
    "    \n",
    "print(rob_list)"
   ]
  },
  {
   "cell_type": "code",
   "execution_count": 29,
   "id": "c9759745-e21e-4103-b882-6594e37b50e2",
   "metadata": {},
   "outputs": [
    {
     "name": "stdout",
     "output_type": "stream",
     "text": [
      "45 46\n"
     ]
    }
   ],
   "source": [
    "def f(n, m=None):\n",
    "    if m:\n",
    "        return n + m +42\n",
    "    else:\n",
    "        return n + 42\n",
    "\n",
    "print(f(3), f(1, 3))"
   ]
  },
  {
   "cell_type": "code",
   "execution_count": 36,
   "id": "a8954807-b015-4e61-b7ee-f153d2a74726",
   "metadata": {},
   "outputs": [
    {
     "name": "stdout",
     "output_type": "stream",
     "text": [
      "45 4 6 55\n"
     ]
    }
   ],
   "source": [
    "def f(*x):\n",
    "    if len(x) == 1:\n",
    "        return x[0] + 42\n",
    "    elif len(x) == 2:\n",
    "        return x[0] - x[1] + 5\n",
    "    else:\n",
    "        sum1 = 0\n",
    "        for i in range(len(x)):\n",
    "            sum1 += x[i]\n",
    "        return sum1\n",
    "\n",
    "print(f(3), f(1, 2), f(3, 2, 1), f(1,2,3,4,5,6,7,8,9,10))"
   ]
  },
  {
   "cell_type": "code",
   "execution_count": 33,
   "id": "4711828b-32b9-47a9-a4d7-56407474b164",
   "metadata": {},
   "outputs": [
    {
     "name": "stdout",
     "output_type": "stream",
     "text": [
      "45\n"
     ]
    }
   ],
   "source": [
    "def f1(*a):\n",
    "    sum1 = 0\n",
    "    for i in range(len(a)):\n",
    "        sum1 += a[i]\n",
    "    return sum1\n",
    "\n",
    "print(f1(1,2,3,4,5,6,7,8,9))"
   ]
  },
  {
   "cell_type": "code",
   "execution_count": 37,
   "id": "6e3805a4-88fe-4082-9527-d53743ca7a8e",
   "metadata": {},
   "outputs": [
    {
     "name": "stdout",
     "output_type": "stream",
     "text": [
      "Molly says: Woof\n",
      "Charlie says: Woof\n",
      "Eagle says: Screech\n",
      "Eagle flies with a wingspan of Large.\n",
      "Turtle says: Hiss\n",
      "Turtle crawls with Green scales.\n"
     ]
    }
   ],
   "source": [
    "class Animal:\n",
    "    def __init__(self, name, age, sound):\n",
    "        \"\"\"\n",
    "        Initialize the Animal object with a name, age, and sound.\n",
    "        \"\"\"\n",
    "        self.name = name\n",
    "        self.age = age\n",
    "        self.sound = sound\n",
    "\n",
    "    def make_sound(self):\n",
    "        \"\"\"\n",
    "        Make the sound associated with the animal.\n",
    "        \"\"\"\n",
    "        print(f\"{self.name} says: {self.sound}\")\n",
    "\n",
    "\n",
    "class Mammal(Animal):\n",
    "    def __init__(self, name, age, sound, fur_color, number_of_legs):\n",
    "        \"\"\"\n",
    "        Initialize the Mammal object with additional attributes specific to mammals.\n",
    "        \"\"\"\n",
    "        super().__init__(name, age, sound)\n",
    "        self.fur_color = fur_color\n",
    "        self.number_of_legs = number_of_legs\n",
    "\n",
    "    def give_birth(self, name):\n",
    "        \"\"\"\n",
    "        giving birth to a new mamal\n",
    "        \"\"\"\n",
    "        return Mammal(name, \n",
    "                     age=0, \n",
    "                     sound=self.sound, \n",
    "                     fur_color=self.fur_color, \n",
    "                     number_of_legs=self.number_of_legs)\n",
    "\n",
    "    def nurse_young(self):\n",
    "        \"\"\"\n",
    "        Simulate nursing young (common for mammals).\n",
    "        \"\"\"\n",
    "        print(f\"{self.name} nurses its young.\")\n",
    "\n",
    "\n",
    "class Bird(Animal):\n",
    "    def __init__(self, name, age, sound, wingspan):\n",
    "        \"\"\"\n",
    "        Initialize the Bird object with additional attributes specific to birds.\n",
    "        \"\"\"\n",
    "        super().__init__(name, age, sound)\n",
    "        self.wingspan = wingspan\n",
    "\n",
    "    def fly(self):\n",
    "        \"\"\"\n",
    "        Simulate flying (common for birds).\n",
    "        \"\"\"\n",
    "        print(f\"{self.name} flies with a wingspan of {self.wingspan}.\")\n",
    "\n",
    "\n",
    "class Reptile(Animal):\n",
    "    def __init__(self, name, age, sound, scale_color):\n",
    "        \"\"\"\n",
    "        Initialize the Reptile object with additional attributes specific to reptiles.\n",
    "        \"\"\"\n",
    "        super().__init__(name, age, sound)\n",
    "        self.scale_color = scale_color\n",
    "\n",
    "    def crawl(self):\n",
    "        \"\"\"\n",
    "        Simulate crawling (common for reptiles).\n",
    "        \"\"\"\n",
    "        print(f\"{self.name} crawls with {self.scale_color} scales.\")\n",
    "# Create instances of specific animals\n",
    "dog = Mammal(\"Molly\", 5, \"Woof\", \"Brown\", 4)\n",
    "eagle = Bird(\"Eagle\", 3, \"Screech\", \"Large\")\n",
    "turtle = Reptile(\"Turtle\", 10, \"Hiss\", \"Green\")\n",
    "\n",
    "# Test methods\n",
    "dog.make_sound()\n",
    "baby_dog = dog.give_birth('Charlie')\n",
    "baby_dog.make_sound()\n",
    "eagle.make_sound()\n",
    "eagle.fly()\n",
    "turtle.make_sound()\n",
    "turtle.crawl()"
   ]
  },
  {
   "cell_type": "code",
   "execution_count": 38,
   "id": "8d5f0ab2-abfb-4917-a567-3eb77796c412",
   "metadata": {},
   "outputs": [
    {
     "name": "stdout",
     "output_type": "stream",
     "text": [
      "Circle Area: 78.53981633974483\n",
      "Rectangle Area: 24\n",
      "Triangle Area: 6.0\n"
     ]
    }
   ],
   "source": [
    "import math\n",
    "\n",
    "class Shape:\n",
    "    def __init__(self, color):\n",
    "        \"\"\"\n",
    "        Initialize the Shape object with a color.\n",
    "        \"\"\"\n",
    "        self.color = color\n",
    "\n",
    "    def calculate_area(self):\n",
    "        \"\"\"\n",
    "        Calculate the area of the shape.\n",
    "        \"\"\"\n",
    "        pass  # Placeholder method, to be implemented in subclasses\n",
    "\n",
    "class Circle(Shape):\n",
    "    def __init__(self, color, radius):\n",
    "        \"\"\"\n",
    "        Initialize the Circle object with additional attributes specific to circles.\n",
    "        \"\"\"\n",
    "        super().__init__(color)\n",
    "        self.radius = radius\n",
    "\n",
    "    def calculate_area(self):\n",
    "        \"\"\"\n",
    "        Calculate the area of the circle.\n",
    "        \"\"\"\n",
    "        return math.pi * self.radius ** 2\n",
    "\n",
    "class Rectangle(Shape):\n",
    "    def __init__(self, color, width, height):\n",
    "        \"\"\"\n",
    "        Initialize the Rectangle object with additional attributes specific to rectangles.\n",
    "        \"\"\"\n",
    "        super().__init__(color)\n",
    "        self.width = width\n",
    "        self.height = height\n",
    "\n",
    "    def calculate_area(self):\n",
    "        \"\"\"\n",
    "        Calculate the area of the rectangle.\n",
    "        \"\"\"\n",
    "        return self.width * self.height\n",
    "\n",
    "class Triangle(Shape):\n",
    "    def __init__(self, color, base, height):\n",
    "        \"\"\"\n",
    "        Initialize the Triangle object with additional attributes specific to triangles.\n",
    "        \"\"\"\n",
    "        super().__init__(color)\n",
    "        self.base = base\n",
    "        self.height = height\n",
    "\n",
    "    def calculate_area(self):\n",
    "        \"\"\"\n",
    "        Calculate the area of the triangle.\n",
    "        \"\"\"\n",
    "        return 0.5 * self.base * self.height\n",
    "\n",
    "# Create instances of specific shapes and test their functionality\n",
    "circle = Circle(\"Red\", 5)\n",
    "rectangle = Rectangle(\"Blue\", 4, 6)\n",
    "triangle = Triangle(\"Green\", 3, 4)\n",
    "\n",
    "print(\"Circle Area:\", circle.calculate_area())       # Output: Circle Area: 78.54\n",
    "print(\"Rectangle Area:\", rectangle.calculate_area()) # Output: Rectangle Area: 24\n",
    "print(\"Triangle Area:\", triangle.calculate_area())   # Output: Triangle Area: 6"
   ]
  },
  {
   "cell_type": "markdown",
   "id": "dc2ea282-7c8d-436a-95e5-6cb9403888d9",
   "metadata": {},
   "source": [
    "## Multiple Inheritance"
   ]
  },
  {
   "cell_type": "code",
   "execution_count": 51,
   "id": "226898f5-4b37-4514-9c58-d4427a1663fe",
   "metadata": {},
   "outputs": [
    {
     "name": "stdout",
     "output_type": "stream",
     "text": [
      "23:51:57\n",
      "23:51:58\n",
      "23:51:58\n",
      "<class 'str'>\n"
     ]
    }
   ],
   "source": [
    "\"\"\" \n",
    "The class Clock is used to simulate a clock.\n",
    "\"\"\"\n",
    "\n",
    "class Clock(object):\n",
    "\n",
    "    def __init__(self, hours, minutes, seconds):\n",
    "        \"\"\"\n",
    "        The paramaters hours, minutes and seconds have to be \n",
    "        integers and must satisfy the following equations:\n",
    "        0 <= h < 24\n",
    "        0 <= m < 60\n",
    "        0 <= s < 60\n",
    "        \"\"\"\n",
    "\n",
    "        self.set_Clock(hours, minutes, seconds)\n",
    "\n",
    "    def set_Clock(self, hours, minutes, seconds):\n",
    "        \"\"\"\n",
    "        The parameters hours, minutes and seconds have to be \n",
    "        integers and must satisfy the following equations:\n",
    "        0 <= h < 24\n",
    "        0 <= m < 60\n",
    "        0 <= s < 60\n",
    "        \"\"\"\n",
    "\n",
    "        if type(hours) == int and 0 <= hours and hours < 24:\n",
    "            self._hours = hours\n",
    "        else:\n",
    "            raise TypeError(\"Hours have to be integers between 0 and 23!\")\n",
    "        if type(minutes) == int and 0 <= minutes and minutes < 60:\n",
    "            self.__minutes = minutes \n",
    "        else:\n",
    "            raise TypeError(\"Minutes have to be integers between 0 and 59!\")\n",
    "        if type(seconds) == int and 0 <= seconds and seconds < 60:\n",
    "            self.__seconds = seconds\n",
    "        else:\n",
    "            raise TypeError(\"Seconds have to be integers between 0 and 59!\")\n",
    "\n",
    "    def __str__(self):\n",
    "        return \"{0:02d}:{1:02d}:{2:02d}\".format(self._hours,\n",
    "                                                self.__minutes,\n",
    "                                                self.__seconds)\n",
    "\n",
    "    def tick(self):\n",
    "        \"\"\"\n",
    "        This method lets the clock \"tick\", this means that the \n",
    "        internal time will be advanced by one second.\n",
    "\n",
    "        Examples:\n",
    "        >>> x = Clock(12,59,59)\n",
    "        >>> print(x)\n",
    "        12:59:59\n",
    "        >>> x.tick()\n",
    "        >>> print(x)\n",
    "        13:00:00\n",
    "        >>> x.tick()\n",
    "        >>> print(x)\n",
    "        13:00:01\n",
    "        \"\"\"\n",
    "\n",
    "        if self.__seconds == 59:\n",
    "            self.__seconds = 0\n",
    "            if self.__minutes == 59:\n",
    "                self.__minutes = 0\n",
    "                if self._hours == 23:\n",
    "                    self._hours = 0\n",
    "                else:\n",
    "                    self._hours += 1\n",
    "            else:\n",
    "                self.__minutes += 1\n",
    "        else:\n",
    "            self.__seconds += 1\n",
    "\n",
    "\n",
    "x = Clock(23,51,57)\n",
    "print(x)\n",
    "x.tick()\n",
    "print(x)\n",
    "y = str(x)\n",
    "print(y)\n",
    "print(type(y))"
   ]
  },
  {
   "cell_type": "code",
   "execution_count": 52,
   "id": "5b815066-0c3f-491a-ae58-50b352f4c378",
   "metadata": {},
   "outputs": [
    {
     "name": "stdout",
     "output_type": "stream",
     "text": [
      "We caught the exception:  Hours have to be integers between 0 and 23!\n"
     ]
    }
   ],
   "source": [
    "try:\n",
    "    x = Clock(24, 45, 17)\n",
    "except TypeError as e:\n",
    "    print(\"We caught the exception: \", e)"
   ]
  },
  {
   "cell_type": "code",
   "execution_count": 53,
   "id": "6d2f6fdc-534c-46df-a4f7-0bdc663fa96b",
   "metadata": {},
   "outputs": [
    {
     "name": "stdout",
     "output_type": "stream",
     "text": [
      "We caught the exception:  Minutes have to be integers between 0 and 59!\n"
     ]
    }
   ],
   "source": [
    "try:\n",
    "    x = Clock(23, 60, 17)\n",
    "except TypeError as e:\n",
    "    print(\"We caught the exception: \", e)"
   ]
  },
  {
   "cell_type": "code",
   "execution_count": 54,
   "id": "557a18ed-edf3-4da0-b41b-59da390f8976",
   "metadata": {},
   "outputs": [
    {
     "name": "stdout",
     "output_type": "stream",
     "text": [
      "31/12/2012 after applying advance:  01/01/2013\n",
      "2012 was a leapyear:\n",
      "28/02/2012 after applying advance:  29/02/2012\n",
      "28/02/2013 after applying advance:  01/03/2013\n",
      "1900 no leapyear: number divisible by 100 but not by 400: \n",
      "28/02/1900 after applying advance:  01/03/1900\n",
      "2000 was a leapyear, because number divisibe by 400: \n",
      "28/02/2000 after applying advance:  29/02/2000\n",
      "Switching to American date style: \n",
      "after applying advance:  02/29/2000\n"
     ]
    }
   ],
   "source": [
    "\"\"\" \n",
    "The class Calendar implements a calendar.   \n",
    "\"\"\"\n",
    "\n",
    "class Calendar(object):\n",
    "\n",
    "    months = (31,28,31,30,31,30,31,31,30,31,30,31)\n",
    "    date_style = \"British\"\n",
    "\n",
    "    @staticmethod\n",
    "    def leapyear(year):\n",
    "        \"\"\" \n",
    "        The method leapyear returns True if the parameter year\n",
    "        is a leap year, False otherwise\n",
    "        \"\"\"\n",
    "        if not year % 4 == 0:\n",
    "            return False\n",
    "        elif not year % 100 == 0:\n",
    "            return True\n",
    "        elif not year % 400 == 0:\n",
    "            return False\n",
    "        else:\n",
    "            return True\n",
    "\n",
    "\n",
    "    def __init__(self, d, m, y):\n",
    "        \"\"\"\n",
    "        d, m, y have to be integer values and year has to be \n",
    "        a four digit year number\n",
    "        \"\"\"\n",
    "\n",
    "        self.set_Calendar(d,m,y)\n",
    "\n",
    "\n",
    "    def set_Calendar(self, d, m, y):\n",
    "        \"\"\"\n",
    "        d, m, y have to be integer values and year has to be \n",
    "        a four digit year number\n",
    "        \"\"\"\n",
    "\n",
    "        if type(d) == int and type(m) == int and type(y) == int:\n",
    "            self.__days = d\n",
    "            self.__months = m\n",
    "            self.__years = y\n",
    "        else:\n",
    "            raise TypeError(\"d, m, y have to be integers!\")\n",
    "\n",
    "\n",
    "    def __str__(self):\n",
    "        if Calendar.date_style == \"British\":\n",
    "            return \"{0:02d}/{1:02d}/{2:4d}\".format(self.__days,\n",
    "                                                   self.__months,\n",
    "                                                   self.__years)\n",
    "        else: \n",
    "            # assuming American style\n",
    "            return \"{0:02d}/{1:02d}/{2:4d}\".format(self.__months,\n",
    "                                                   self.__days,\n",
    "                                                   self.__years)\n",
    "\n",
    "\n",
    "\n",
    "    def advance(self):\n",
    "        \"\"\"\n",
    "        This method advances to the next date.\n",
    "        \"\"\"\n",
    "\n",
    "        max_days = Calendar.months[self.__months-1]\n",
    "        if self.__months == 2 and Calendar.leapyear(self.__years):\n",
    "            max_days += 1\n",
    "        if self.__days == max_days:\n",
    "            self.__days= 1\n",
    "            if self.__months == 12:\n",
    "                self.__months = 1\n",
    "                self.__years += 1\n",
    "            else:\n",
    "                self.__months += 1\n",
    "        else:\n",
    "            self.__days += 1\n",
    "\n",
    "\n",
    "x = Calendar(31,12,2012)\n",
    "print(x, end=\" \")\n",
    "x.advance()\n",
    "print(\"after applying advance: \", x)\n",
    "print(\"2012 was a leapyear:\")\n",
    "x = Calendar(28,2,2012)\n",
    "print(x, end=\" \")\n",
    "x.advance()\n",
    "print(\"after applying advance: \", x)\n",
    "x = Calendar(28,2,2013)\n",
    "print(x, end=\" \")\n",
    "x.advance()\n",
    "print(\"after applying advance: \", x)\n",
    "print(\"1900 no leapyear: number divisible by 100 but not by 400: \")\n",
    "x = Calendar(28,2,1900)\n",
    "print(x, end=\" \")\n",
    "x.advance()\n",
    "print(\"after applying advance: \", x)\n",
    "print(\"2000 was a leapyear, because number divisibe by 400: \")\n",
    "x = Calendar(28,2,2000)\n",
    "print(x, end=\" \")\n",
    "x.advance()\n",
    "print(\"after applying advance: \", x)\n",
    "print(\"Switching to American date style: \")\n",
    "Calendar.date_style = \"American\"\n",
    "print(\"after applying advance: \", x)  "
   ]
  },
  {
   "cell_type": "code",
   "execution_count": 55,
   "id": "b30c2218-01ae-40f5-8e3a-fadf9419b0ab",
   "metadata": {},
   "outputs": [
    {
     "name": "stdout",
     "output_type": "stream",
     "text": [
      "One tick from  12/31/2013, 23:59:59 to  01/01/2014, 00:00:00\n",
      "One tick from  02/28/1900, 23:59:59 to  03/01/1900, 00:00:00\n",
      "One tick from  02/28/2000, 23:59:59 to  02/29/2000, 00:00:00\n",
      "One tick from  02/07/2013, 13:55:40 to  02/07/2013, 13:55:41\n"
     ]
    }
   ],
   "source": [
    "\"\"\" \n",
    "Module, which implements the class CalendarClock.\n",
    "\"\"\"\n",
    "\n",
    "class CalendarClock(Clock, Calendar):\n",
    "    \"\"\" \n",
    "        The class CalendarClock implements a clock with integrated \n",
    "        calendar. It's a case of multiple inheritance, as it inherits \n",
    "        both from Clock and Calendar      \n",
    "    \"\"\"\n",
    "\n",
    "    def __init__(self, day, month, year, hour, minute, second):\n",
    "        Clock.__init__(self,hour, minute, second)\n",
    "        Calendar.__init__(self, day, month, year)\n",
    "\n",
    "\n",
    "    def tick(self):\n",
    "        \"\"\"\n",
    "        advance the clock by one second\n",
    "        \"\"\"\n",
    "        previous_hour = self._hours\n",
    "        Clock.tick(self)\n",
    "        if (self._hours < previous_hour): \n",
    "            self.advance()\n",
    "\n",
    "    def __str__(self):\n",
    "        return Calendar.__str__(self) + \", \" + Clock.__str__(self)\n",
    "\n",
    "\n",
    "x = CalendarClock(31, 12, 2013, 23, 59, 59)\n",
    "print(\"One tick from \",x, end=\" \")\n",
    "x.tick()\n",
    "print(\"to \", x)\n",
    "\n",
    "x = CalendarClock(28, 2, 1900, 23, 59, 59)\n",
    "print(\"One tick from \",x, end=\" \")\n",
    "x.tick()\n",
    "print(\"to \", x)\n",
    "\n",
    "x = CalendarClock(28, 2, 2000, 23, 59, 59)\n",
    "print(\"One tick from \",x, end=\" \")\n",
    "x.tick()\n",
    "print(\"to \", x)\n",
    "\n",
    "x = CalendarClock(7, 2, 2013, 13, 55, 40)\n",
    "print(\"One tick from \",x, end=\" \")\n",
    "x.tick()\n",
    "print(\"to \", x)"
   ]
  },
  {
   "cell_type": "code",
   "execution_count": 60,
   "id": "ed9076df-8875-4279-af85-7e155a9edab5",
   "metadata": {},
   "outputs": [
    {
     "name": "stdout",
     "output_type": "stream",
     "text": [
      "m of B called\n"
     ]
    }
   ],
   "source": [
    "class A:\n",
    "    def m(self):\n",
    "        print(\"m of A called\")\n",
    "\n",
    "class B(A):\n",
    "    def m(self):\n",
    "        print(\"m of B called\")\n",
    "    # pass\n",
    "    \n",
    "class C(A):\n",
    "    def m(self):\n",
    "        print(\"m of C called\")\n",
    "\n",
    "class D(B,C):\n",
    "    pass\n",
    "\n",
    "\n",
    "x = D()\n",
    "x.m()"
   ]
  },
  {
   "cell_type": "code",
   "execution_count": 61,
   "id": "a15c665d-f232-49fe-b04b-49fce2ec935e",
   "metadata": {},
   "outputs": [
    {
     "name": "stdout",
     "output_type": "stream",
     "text": [
      "m of D called\n",
      "m of B called\n",
      "m of C called\n",
      "m of A called\n"
     ]
    }
   ],
   "source": [
    "class D(B, C):\n",
    "    def m(self):\n",
    "        print(\"m of D called\")\n",
    "        B.m(self)\n",
    "        C.m(self)\n",
    "        A.m(self)\n",
    "\n",
    "x = D()\n",
    "x.m()"
   ]
  },
  {
   "cell_type": "code",
   "execution_count": 62,
   "id": "764f5a35-fe32-4e79-b069-4aab462e3029",
   "metadata": {},
   "outputs": [
    {
     "name": "stdout",
     "output_type": "stream",
     "text": [
      "m of D called\n",
      "m of B called\n",
      "m of A called\n",
      "m of C called\n",
      "m of A called\n"
     ]
    }
   ],
   "source": [
    "class A:\n",
    "    def m(self):\n",
    "        print(\"m of A called\")\n",
    "\n",
    "class B(A):\n",
    "    def m(self):\n",
    "        print(\"m of B called\")\n",
    "        A.m(self)\n",
    "    \n",
    "class C(A):\n",
    "    def m(self):\n",
    "        print(\"m of C called\")\n",
    "        A.m(self)\n",
    "\n",
    "class D(B, C):\n",
    "    def m(self):\n",
    "        print(\"m of D called\")\n",
    "        B.m(self)\n",
    "        C.m(self)\n",
    "\n",
    "x = D()\n",
    "x.m()"
   ]
  },
  {
   "cell_type": "code",
   "execution_count": 63,
   "id": "460af508-3dc6-418a-82ea-f96c49692a7d",
   "metadata": {},
   "outputs": [
    {
     "name": "stdout",
     "output_type": "stream",
     "text": [
      "values:  42 43\n",
      "values:  42 43.7\n",
      "values:  42.3 43\n",
      "values:  42.0 43.9\n"
     ]
    }
   ],
   "source": [
    "def f(x, y):\n",
    "    print(\"values: \", x, y)\n",
    "\n",
    "f(42, 43)\n",
    "f(42, 43.7) \n",
    "f(42.3, 43)\n",
    "f(42.0, 43.9)"
   ]
  },
  {
   "cell_type": "code",
   "execution_count": 65,
   "id": "4adfcae1-400d-43a0-ac6d-c303814c5209",
   "metadata": {},
   "outputs": [
    {
     "name": "stdout",
     "output_type": "stream",
     "text": [
      "values:  [3, 5, 6] (3, 5)\n",
      "values:  {9, 2, 3} {'a': 3.4, 'b': 7.8, 'c': 9.04}\n"
     ]
    }
   ],
   "source": [
    "def f(x,y):\n",
    "    print(\"values: \", x, y)\n",
    "f([3,5,6],(3,5))\n",
    "f({2,3,9}, {\"a\":3.4,\"b\":7.8, \"c\":9.04})"
   ]
  },
  {
   "cell_type": "code",
   "execution_count": 66,
   "id": "23d76955-145a-49c4-b44a-80ba533abd40",
   "metadata": {},
   "outputs": [
    {
     "name": "stdout",
     "output_type": "stream",
     "text": [
      "Charging the battery...\n",
      "Refueling the tank...\n",
      "Driving using both electric and gasoline power sources.\n"
     ]
    }
   ],
   "source": [
    "class ElectricVehicle:\n",
    "    def __init__(self, battery_capacity, charging_time):\n",
    "        self.battery_capacity = battery_capacity\n",
    "        self.charging_time = charging_time\n",
    "    \n",
    "    def charge_battery(self):\n",
    "        print(\"Charging the battery...\")\n",
    "\n",
    "class GasolineVehicle:\n",
    "    def __init__(self, fuel_tank_capacity, fuel_efficiency):\n",
    "        self.fuel_tank_capacity = fuel_tank_capacity\n",
    "        self.fuel_efficiency = fuel_efficiency\n",
    "    \n",
    "    def refuel(self):\n",
    "        print(\"Refueling the tank...\")\n",
    "\n",
    "class HybridCar(ElectricVehicle, GasolineVehicle):\n",
    "    def __init__(self, battery_capacity, charging_time, fuel_tank_capacity, fuel_efficiency):\n",
    "        ElectricVehicle.__init__(self, battery_capacity, charging_time)\n",
    "        GasolineVehicle.__init__(self, fuel_tank_capacity, fuel_efficiency)\n",
    "    \n",
    "    def drive(self):\n",
    "        print(\"Driving using both electric and gasoline power sources.\")\n",
    "\n",
    "# Creating instances of HybridCar and testing functionality\n",
    "hybrid_car = HybridCar(battery_capacity=60, charging_time=4, fuel_tank_capacity=40, fuel_efficiency=30)\n",
    "hybrid_car.charge_battery()\n",
    "hybrid_car.refuel()\n",
    "hybrid_car.drive()"
   ]
  },
  {
   "cell_type": "markdown",
   "id": "fe6385af-94cf-4813-a230-a9f2fadd89ff",
   "metadata": {},
   "source": [
    "## Multiple Inheritance: Example"
   ]
  },
  {
   "cell_type": "code",
   "execution_count": 68,
   "id": "a9447c59-6690-4bd5-8c1f-cac38523c66e",
   "metadata": {},
   "outputs": [
    {
     "name": "stdout",
     "output_type": "stream",
     "text": [
      "Hi, I am Marvin-Enigma\n",
      "My health level is: 0.9117830897919319\n",
      "Hi, I am Enigma-Charles\n",
      "My health level is: 0.544512680119448\n",
      "Hi, I am Marvin-Enigma\n",
      "My health level is: 0.7422481877746295\n"
     ]
    }
   ],
   "source": [
    "import random\n",
    "\n",
    "class Robot():\n",
    "\n",
    "    __illegal_names = {\"Henry\", \"Oscar\"}\n",
    "    __crucial_health_level = 0.6\n",
    "    \n",
    "    def __init__(self, name):\n",
    "        self.name = name  #---> property setter\n",
    "        self.health_level = random.random()\n",
    "        \n",
    "    @property\n",
    "    def name(self):\n",
    "        return self.__name\n",
    "\n",
    "    @name.setter\n",
    "    def name(self, name):\n",
    "        if name in Robot.__illegal_names:\n",
    "            self.__name = \"Marvin\"\n",
    "        else:\n",
    "            self.__name = name\n",
    "\n",
    "    def __str__(self):\n",
    "        return self.name + \", Robot\"\n",
    " \n",
    "    def __add__(self, other):\n",
    "        first = self.name.split(\"-\")[0]\n",
    "        second = other.name.split(\"-\")[0]\n",
    "        return Robot(first + \"-\" + second)\n",
    "    \n",
    "    def needs_a_nurse(self):\n",
    "        if self.health_level < Robot.__crucial_health_level:\n",
    "            return True\n",
    "        else:\n",
    "            return False\n",
    " \n",
    "    def say_hi(self):\n",
    "        print(\"Hi, I am \" + self.name)\n",
    "        print(\"My health level is: \" + str(self.health_level)) \n",
    "\n",
    "first_generation = (Robot(\"Marvin\"),\n",
    "                    Robot(\"Enigma-Alan\"),\n",
    "                    Robot(\"Charles-Henry\"))\n",
    " \n",
    "gen1 = first_generation # used as an abbreviation\n",
    "babies = [gen1[0] + gen1[1], gen1[1] + gen1[2]]\n",
    "babies.append(babies[0] + babies[1])\n",
    "for baby in babies:\n",
    "    baby.say_hi()"
   ]
  },
  {
   "cell_type": "code",
   "execution_count": 69,
   "id": "50733318-bd07-4b3d-ba91-49494782d4da",
   "metadata": {},
   "outputs": [],
   "source": [
    "class NursingRobot(Robot):\n",
    " \n",
    "    def __init__(self, name=\"Hubert\", healing_power=None):\n",
    "        super().__init__(name)\n",
    "        if healing_power is None:\n",
    "            self.healing_power = random.uniform(0.8, 1)\n",
    "        else:\n",
    "            self.healing_power = healing_power\n",
    "     \n",
    "    def say_hi(self):\n",
    "        print(\"Well, well, everything will be fine ... \" + self.name + \" takes care of you!\")\n",
    "\n",
    " \n",
    "    def say_hi_to_doc(self):\n",
    "        Robot.say_hi(self)\n",
    " \n",
    "    def heal(self, robo):\n",
    "        if robo.health_level > self.healing_power:\n",
    "            print(self.name + \" not strong enough to heal \" + robo.name)\n",
    "        else:\n",
    "            robo.health_level = random.uniform(robo.health_level, self.healing_power)\n",
    "            print(robo.name + \" has been healed by \" + self.name + \"!\")"
   ]
  },
  {
   "cell_type": "code",
   "execution_count": 70,
   "id": "546e6fe1-21ba-45ad-bc9b-6a93052b961e",
   "metadata": {},
   "outputs": [
    {
     "name": "stdout",
     "output_type": "stream",
     "text": [
      "Healing power of Hubert 0.954491751034282\n",
      "Healing power of Emma 1\n",
      "\n",
      "Let's start the healing\n",
      "Hi, I am Marvin\n",
      "My health level is: 0.5021596885475204\n",
      "Marvin has been healed by Emma!\n",
      "New health level:  0.6385971004269949\n",
      "\n",
      "Hi, I am Enigma-Alan\n",
      "My health level is: 0.36757139245231896\n",
      "Enigma-Alan has been healed by Hubert!\n",
      "New health level:  0.524287107572458\n",
      "\n",
      "Hi, I am Charles-Henry\n",
      "My health level is: 0.947025582716949\n",
      "Charles-Henry is healthy enough!\n",
      "\n",
      "Hi, I am Marvin-Enigma\n",
      "My health level is: 0.9117830897919319\n",
      "Marvin-Enigma is healthy enough!\n",
      "\n",
      "Hi, I am Enigma-Charles\n",
      "My health level is: 0.544512680119448\n",
      "Enigma-Charles has been healed by Hubert!\n",
      "New health level:  0.8197581610830662\n",
      "\n",
      "Hi, I am Marvin-Enigma\n",
      "My health level is: 0.7422481877746295\n",
      "Marvin-Enigma is healthy enough!\n",
      "\n"
     ]
    }
   ],
   "source": [
    "from itertools import chain\n",
    "nurses = [NursingRobot(\"Hubert\"),\n",
    "          NursingRobot(\"Emma\", healing_power=1)]\n",
    " \n",
    "for nurse in nurses:\n",
    "    print(\"Healing power of \" + nurse.name, \n",
    "          nurse.healing_power)\n",
    " \n",
    "print(\"\\nLet's start the healing\")\n",
    "for robo in chain(first_generation, babies):\n",
    "    robo.say_hi()\n",
    "    if robo.needs_a_nurse():\n",
    "        # choose randomly a nurse:\n",
    "        nurse = random.choice(nurses)\n",
    "        nurse.heal(robo)\n",
    "        print(\"New health level: \", robo.health_level)\n",
    "    else:\n",
    "        print(robo.name + \" is healthy enough!\")\n",
    "    print()"
   ]
  },
  {
   "cell_type": "code",
   "execution_count": 71,
   "id": "06039961-d05d-430e-871c-9381600dda4a",
   "metadata": {},
   "outputs": [
    {
     "name": "stdout",
     "output_type": "stream",
     "text": [
      "Hi, I am Hubert-Emma\n",
      "My health level is: 0.5956024031132496\n",
      "<class '__main__.Robot'>\n"
     ]
    }
   ],
   "source": [
    "x = nurses[0] + nurses[1]\n",
    "x.say_hi()\n",
    "print(type(x))"
   ]
  },
  {
   "cell_type": "code",
   "execution_count": 72,
   "id": "dfe72974-dbb5-4459-ac99-d90ea606b50d",
   "metadata": {},
   "outputs": [],
   "source": [
    "import random\n",
    " \n",
    "class Robot():\n",
    "     \n",
    "    __illegal_names = {\"Henry\", \"Oscar\"}\n",
    "    __crucial_health_level = 0.6\n",
    " \n",
    "    def __init__(self, name):\n",
    "        self.name = name  #---> property setter\n",
    "        self.health_level = random.random()\n",
    " \n",
    "    @property\n",
    "    def name(self):\n",
    "        return self.__name\n",
    " \n",
    "    @name.setter\n",
    "    def name(self, name):\n",
    "        if name in Robot.__illegal_names:\n",
    "            self.__name = \"Marvin\"\n",
    "        else:\n",
    "            self.__name = name\n",
    " \n",
    "    def __str__(self):\n",
    "        return self.name + \", Robot\"\n",
    " \n",
    "    def __add__(self, other):\n",
    "        first = self.name.split(\"-\")[0]\n",
    "        second = other.name.split(\"-\")[0]\n",
    "        return type(self)(first + \"-\" + second)\n",
    "     \n",
    "    def needs_a_nurse(self):\n",
    "        if self.health_level < Robot.__crucial_health_level:\n",
    "            return True\n",
    "        else:\n",
    "            return False\n",
    " \n",
    "    def say_hi(self):\n",
    "        print(\"Hi, I am \" + self.name)\n",
    "        print(\"My health level is: \" + str(self.health_level))\n",
    " \n",
    " \n",
    "class NursingRobot(Robot):\n",
    " \n",
    "    def __init__(self, name=\"Hubert\", healing_power=None):\n",
    "        super().__init__(name)\n",
    "        if healing_power:\n",
    "            self.healing_power = healing_power\n",
    "        else:\n",
    "            self.healing_power = random.uniform(0.8, 1)\n",
    "    \n",
    "    def say_hi(self):\n",
    "        print(\"Well, well, everything will be fine ... \" + self.name + \" takes care of you!\")\n",
    "\n",
    " \n",
    "    def say_hi_to_doc(self):\n",
    "        Robot.say_hi(self)\n",
    " \n",
    "    def heal(self, robo):\n",
    "        if robo.health_level > self.healing_power:\n",
    "            print(self.name + \" not strong enough to heal \" + robo.name)\n",
    "        else:\n",
    "            robo.health_level = random.uniform(robo.health_level, self.healing_power)\n",
    "            print(robo.name + \" has been healed by \" + self.name + \"!\")"
   ]
  },
  {
   "cell_type": "code",
   "execution_count": 73,
   "id": "d8b74adc-4d15-4954-b93e-59703a6d56a7",
   "metadata": {},
   "outputs": [
    {
     "name": "stdout",
     "output_type": "stream",
     "text": [
      "Marvin, Robot 0.6385971004269949\n",
      "Marvin, Robot 0.255438840170798\n",
      "Enigma-Alan, Robot 0.524287107572458\n",
      "Enigma-Alan, Robot 0.20971484302898322\n",
      "Charles-Henry, Robot 0.947025582716949\n",
      "Charles-Henry, Robot 0.37881023308677964\n"
     ]
    }
   ],
   "source": [
    "class FightingRobot(Robot):\n",
    "     \n",
    "    __maximum_damage = 0.2\n",
    "  \n",
    "    def __init__(self, name=\"Hubert\", \n",
    "                 fighting_power=None):\n",
    "        super().__init__(name)\n",
    "        if fighting_power:\n",
    "            self.fighting_power = fighting_power\n",
    "        else:\n",
    "            max_dam = FightingRobot.__maximum_damage\n",
    "            self.fighting_power = random.uniform(max_dam, 1)\n",
    "\n",
    "     \n",
    "    def say_hi(self):\n",
    "        print(\"I am the terrible ... \" + self.name)\n",
    " \n",
    "    def attack(self, other):\n",
    "        other.health_level = \\\n",
    "                    other.health_level * self.fighting_power\n",
    "        if isinstance(other, FightingRobot):\n",
    "            # the other robot fights back\n",
    "            self.health_level = \\\n",
    "                    self.health_level * other.fighting_power\n",
    "\n",
    "fighters = (FightingRobot(\"Rambo\", 0.4),\n",
    "            FightingRobot(\"Terminator\", 0.2))\n",
    "  \n",
    "for robo in first_generation:\n",
    "    print(robo, robo.health_level)\n",
    "    fighters[0].attack(robo)\n",
    "    print(robo, robo.health_level)"
   ]
  },
  {
   "cell_type": "code",
   "execution_count": 74,
   "id": "c2fa755b-7ac0-44d0-841a-cac497eb7d05",
   "metadata": {},
   "outputs": [
    {
     "name": "stdout",
     "output_type": "stream",
     "text": [
      "Before the battle:\n",
      "Rambo has been healed by Emma!\n",
      "Rambo, Robot 0.6339212485262663 0.4\n",
      "Terminator has been healed by Emma!\n",
      "Terminator, Robot 0.8429712567778666 0.2\n",
      "\n",
      "After the battle:\n",
      "Rambo, Robot 0.12678424970525326 0.4\n",
      "Terminator, Robot 0.33718850271114664 0.2\n"
     ]
    }
   ],
   "source": [
    "print(\"Before the battle:\")\n",
    "for fighter in fighters:\n",
    "    nurses[1].heal(fighter)\n",
    "    print(fighter, \n",
    "          fighter.health_level, \n",
    "          fighter.fighting_power)\n",
    " \n",
    "fighters[0].attack(fighters[1])\n",
    " \n",
    "print(\"\\nAfter the battle:\")\n",
    "for fighter in fighters:\n",
    "    print(fighter, \n",
    "          fighter.health_level, \n",
    "          fighter.fighting_power)"
   ]
  },
  {
   "cell_type": "code",
   "execution_count": 75,
   "id": "7b12e6c1-759d-4bbd-828a-9793871edfaf",
   "metadata": {},
   "outputs": [
    {
     "name": "stdout",
     "output_type": "stream",
     "text": [
      "Donald has been healed by Donald!\n",
      "Angela has been healed by Angela!\n",
      "0.8617793371071831 0.7241290970969984\n",
      "I am the terrible ... Donald\n",
      "Well, well, everything will be fine ... Angela takes care of you!\n",
      "0.24295422271489428 0.16765994681617613\n"
     ]
    }
   ],
   "source": [
    "class FightingNurseRobot(NursingRobot, FightingRobot):\n",
    "    \n",
    "    def __init__(self, name, mode=\"nursing\"):\n",
    "        super().__init__(name)\n",
    "        self.mode = mode    # alternatively \"fighting\"\n",
    "\n",
    "    def say_hi(self):\n",
    "        if self.mode == \"fighting\":\n",
    "            FightingRobot.say_hi(self)\n",
    "        elif self.mode == \"nursing\":\n",
    "            NursingRobot.say_hi(self)\n",
    "        else:\n",
    "            Robot.say_hi(self)    \n",
    "\n",
    "fn1 = FightingNurseRobot(\"Donald\", mode=\"fighting\")\n",
    "fn2 = FightingNurseRobot(\"Angela\")\n",
    " \n",
    "if fn1.needs_a_nurse():\n",
    "    fn1.heal(fn1)\n",
    "if fn2.needs_a_nurse():\n",
    "    fn2.heal(fn2)\n",
    "print(fn1.health_level, fn2.health_level)\n",
    " \n",
    "fn1.say_hi()\n",
    "fn2.say_hi()\n",
    "fn1.attack(fn2)\n",
    "print(fn1.health_level, fn2.health_level)"
   ]
  },
  {
   "cell_type": "code",
   "execution_count": 76,
   "id": "4294517f-b36a-444f-b81d-bd6ec3e4e2d5",
   "metadata": {},
   "outputs": [
    {
     "name": "stdout",
     "output_type": "stream",
     "text": [
      "in FightingHealingRobot.__init__\n",
      "in HealingRobot.__init__ {'name': 'Rambo', 'health_level': 0.9, 'fighting_power': 0.7}\n",
      "in FightingRobot.__init__ {'name': 'Rambo', 'health_level': 0.9}\n",
      "in Robot.__init__ {}\n",
      "{'health_level': 0.9, 'name': 'Rambo', 'fighting_power': 0.7, 'healing_power': 0.9}\n"
     ]
    }
   ],
   "source": [
    "import random\n",
    "\n",
    "class Robot:\n",
    "    \n",
    "    def __init__(self, name, health_level, **kwargs):\n",
    "        print(\"in Robot.__init__\", kwargs)\n",
    "        self.health_level = health_level  \n",
    "        self.name = name\n",
    "\n",
    "class HealingRobot(Robot):\n",
    "\n",
    "    def __init__(self, healing_power, **kwargs):\n",
    "        print(\"in HealingRobot.__init__\", kwargs)\n",
    "        super().__init__(**kwargs)     # FightingRobot, if self is a FightingHealingRobot\n",
    "        self.healing_power = healing_power\n",
    "\n",
    "    def say_hi(self):\n",
    "        super().say_hi()\n",
    "        print(\"and I am a healer!\")\n",
    "\n",
    "    def heal(self, robo):\n",
    "        robo.health_level = random.uniform(robo.health_level, 1)\n",
    "        print(robo.name + \" has been healed by \" + self.name + \"!\")\n",
    "           \n",
    "            \n",
    "class FightingRobot(Robot):\n",
    "    \n",
    "    def __init__(self, fighting_power=1, **kwargs):\n",
    "        print(\"in FightingRobot.__init__\", kwargs)\n",
    "        super().__init__(**kwargs)\n",
    "        self.fighting_power = fighting_power\n",
    "\n",
    "\n",
    "    def say_hi(self):\n",
    "        super().say_hi()\n",
    "        print(\"and I a gruesome fighter!\")\n",
    "\n",
    "    def attack(self, robo):\n",
    "        robo.health_level = random.uniform(0, robo.health_level)\n",
    "        print(robo.name + \" has been attacked by \" + self.name + \"!\")\n",
    "        \n",
    "class FightingHealingRobot(HealingRobot, FightingRobot): \n",
    "    \n",
    "    def __init__(self, \n",
    "                 name, \n",
    "                 health_level, \n",
    "                 healing_power, \n",
    "                 fighting_power, \n",
    "                 mode='healing',\n",
    "                 **kw):\n",
    "        print(\"in FightingHealingRobot.__init__\", **kw)\n",
    "        super().__init__(name=name,\n",
    "                         health_level=health_level,\n",
    "                         healing_power=healing_power,\n",
    "                         fighting_power=fighting_power,\n",
    "                         **kw)\n",
    "\n",
    "    def say_hi(self):\n",
    "        if self.mode == \"fighting\":\n",
    "            FightingRobot.say_hi(self)\n",
    "        elif self.mode == \"healing\":\n",
    "            HealingRobot.say_hi(self)\n",
    "        else:\n",
    "            Robot.say_hi(self) \n",
    "\n",
    "x = FightingHealingRobot(name='Rambo',\n",
    "                         health_level=0.9, \n",
    "                         fighting_power=0.7, \n",
    "                         healing_power=0.9)\n",
    "print(x.__dict__)"
   ]
  },
  {
   "cell_type": "markdown",
   "id": "183e0cfc-d746-487c-9d4b-7a396703729d",
   "metadata": {},
   "source": [
    "## Callable Instances of Classes"
   ]
  },
  {
   "cell_type": "code",
   "execution_count": 77,
   "id": "383a18d6-cacc-4e3b-882e-3aebaa2660b0",
   "metadata": {},
   "outputs": [
    {
     "name": "stdout",
     "output_type": "stream",
     "text": [
      "the_answer:  True\n"
     ]
    }
   ],
   "source": [
    "def the_answer(question):\n",
    "    return 42\n",
    "\n",
    "print(\"the_answer: \", callable(the_answer))"
   ]
  },
  {
   "cell_type": "code",
   "execution_count": 78,
   "id": "79f9cd85-b5f4-429d-98f2-87dc2755f0fb",
   "metadata": {},
   "outputs": [
    {
     "name": "stdout",
     "output_type": "stream",
     "text": [
      "spam spam\n"
     ]
    }
   ],
   "source": [
    "class FoodSupply:\n",
    "    \n",
    "    def __call__(self):\n",
    "        return \"spam\"\n",
    "    \n",
    "foo = FoodSupply()\n",
    "bar = FoodSupply()\n",
    "\n",
    "print(foo(), bar())"
   ]
  },
  {
   "cell_type": "code",
   "execution_count": 79,
   "id": "3ef62d76-cd20-4f40-9b00-d10f17a0bc34",
   "metadata": {},
   "outputs": [
    {
     "data": {
      "text/plain": [
       "'fish rice plus delicious spam!'"
      ]
     },
     "execution_count": 79,
     "metadata": {},
     "output_type": "execute_result"
    }
   ],
   "source": [
    "class FoodSupply:\n",
    "    \n",
    "    def __init__(self, *incredients):\n",
    "        self.incredients = incredients\n",
    "    \n",
    "    def __call__(self):\n",
    "        result = \" \".join(self.incredients) + \" plus delicious spam!\"\n",
    "        return result\n",
    "    \n",
    "f = FoodSupply(\"fish\", \"rice\")\n",
    "f()"
   ]
  },
  {
   "cell_type": "code",
   "execution_count": 82,
   "id": "895d40ef-fb6d-45c7-bcd7-acff3238c877",
   "metadata": {},
   "outputs": [
    {
     "data": {
      "text/plain": [
       "'vegetables plus delicious spam!'"
      ]
     },
     "execution_count": 82,
     "metadata": {},
     "output_type": "execute_result"
    }
   ],
   "source": [
    "g = FoodSupply(\"vegetables\")\n",
    "g()"
   ]
  },
  {
   "cell_type": "code",
   "execution_count": 83,
   "id": "e16372a4-ba8f-4563-9612-1120367c18a9",
   "metadata": {},
   "outputs": [
    {
     "name": "stdout",
     "output_type": "stream",
     "text": [
      "6.0\n"
     ]
    }
   ],
   "source": [
    "class TriangleArea:\n",
    "    \n",
    "    def __call__(self, a, b, c):\n",
    "        p = (a + b + c) / 2\n",
    "        result = (p * (p - a) * (p - b) * (p - c)) ** 0.5\n",
    "        return result\n",
    "    \n",
    "    \n",
    "area = TriangleArea()\n",
    "\n",
    "print(area(3, 4, 5))"
   ]
  },
  {
   "cell_type": "code",
   "execution_count": 87,
   "id": "aa070c06-d931-43b7-91cf-b76dc002f262",
   "metadata": {},
   "outputs": [
    {
     "name": "stdout",
     "output_type": "stream",
     "text": [
      "-5 => 1.0\n",
      "-4 => 1.4\n",
      "-3 => 1.7999999999999998\n",
      "-2 => 2.2\n",
      "-1 => 2.6\n",
      "0 => 3.0\n",
      "1 => 3.4\n",
      "2 => 3.8\n",
      "3 => 4.2\n",
      "4 => 4.6\n",
      "5 => 5.0\n"
     ]
    }
   ],
   "source": [
    "class StraightLines():\n",
    "    \n",
    "    def __init__(self, m, c):\n",
    "        self.slope = m\n",
    "        self.y_intercept = c\n",
    "        \n",
    "    def __call__(self, x):\n",
    "        return self.slope * x + self.y_intercept\n",
    "    \n",
    "line = StraightLines(0.4, 3)\n",
    "\n",
    "for x in range(-5, 6):\n",
    "    print(f\"{x} => {line(x)}\")"
   ]
  },
  {
   "cell_type": "code",
   "execution_count": 88,
   "id": "af785e0a-7533-44ca-a0f8-d37e25c884db",
   "metadata": {},
   "outputs": [
    {
     "data": {
      "image/png": "[encoded data removed]",
      "text/plain": [
       "<Figure size 640x480 with 1 Axes>"
      ]
     },
     "metadata": {},
     "output_type": "display_data"
    }
   ],
   "source": [
    "lines = []\n",
    "lines.append(StraightLines(1, 0))\n",
    "lines.append(StraightLines(0.5, 3))\n",
    "lines.append(StraightLines(-1.4, 1.6))\n",
    "\n",
    "import matplotlib.pyplot as plt\n",
    "import numpy as np\n",
    "X = np.linspace(-5,5,100)\n",
    "for index, line in enumerate(lines):\n",
    "    line = np.vectorize(line)\n",
    "    plt.plot(X, line(X), label='line' + str(index))\n",
    "\n",
    "plt.title('Some straight lines')\n",
    "plt.xlabel('x', color='#1C2833')\n",
    "plt.ylabel('y', color='#1C2833')\n",
    "plt.legend(loc='upper left')\n",
    "plt.grid()\n",
    "plt.show()"
   ]
  },
  {
   "cell_type": "code",
   "execution_count": 90,
   "id": "f24363ad-94d6-404d-a842-6051651d043d",
   "metadata": {},
   "outputs": [
    {
     "name": "stdout",
     "output_type": "stream",
     "text": [
      "6.000  =>  6.00\n",
      "6.000  =>  6.01\n",
      "6.000  =>  6.00\n",
      "6.000  =>  6.06\n",
      "6.000  =>  6.00\n",
      "6.000  =>  6.00\n",
      "5.959  =>  5.92\n",
      "6.000  =>  5.91\n",
      "6.034  =>  5.81\n",
      "5.947  =>  5.95\n",
      "6.000  =>  6.18\n",
      "6.000  =>  6.00\n"
     ]
    }
   ],
   "source": [
    "import random\n",
    "\n",
    "class FuzzyTriangleArea:\n",
    "    \n",
    "    def __init__(self, p=0.8, v=0.1):\n",
    "        self.p, self.v = p, v\n",
    "        \n",
    "    def __call__(self, a, b, c):\n",
    "        p = (a + b + c) / 2\n",
    "        result = (p * (p - a) * (p - b) * (p - c)) ** 0.5\n",
    "        if random.random() <= self.p:\n",
    "            return result\n",
    "        else:\n",
    "            return random.uniform(result-self.v, \n",
    "                                  result+self.v)\n",
    "        \n",
    "area1 = FuzzyTriangleArea()\n",
    "area2 = FuzzyTriangleArea(0.5, 0.2)\n",
    "for i in range(12):\n",
    "    print(f\"{area1(3, 4, 5):4.3f}  =>  {area2(3, 4, 5):4.2f}\")"
   ]
  },
  {
   "cell_type": "code",
   "execution_count": 106,
   "id": "93ae0a49-4a5d-422b-998a-05ad69008459",
   "metadata": {},
   "outputs": [
    {
     "name": "stdout",
     "output_type": "stream",
     "text": [
      "6.0\n",
      "6.00839840830867\n"
     ]
    }
   ],
   "source": [
    "from random import uniform, random\n",
    "from collections import Counter\n",
    "\n",
    "class FuzzyTriangleArea:\n",
    "\n",
    "    def __init__(self, p=0.8, v=0.1):\n",
    "        self.p, self.v = p, v\n",
    "        \n",
    "    def __call__(self, a, b, c):\n",
    "        p = (a + b + c) / 2\n",
    "        result = (p * (p - a) * (p - b) * (p - c)) ** 0.5\n",
    "        if random() <= self.p:\n",
    "            return result\n",
    "        else:\n",
    "            return uniform(result-self.v, \n",
    "                                  result+self.v)\n",
    "     \n",
    "   \n",
    "class MergeExperts:\n",
    "    \n",
    "    def __init__(self, mode, *experts):\n",
    "        self.mode, self.experts = mode, experts\n",
    "        \n",
    "    def __call__(self, a, b, c):\n",
    "        results= [exp(a, b, c) for exp in self.experts]\n",
    "        if self.mode == \"vote\":\n",
    "            c = Counter(results)\n",
    "            return c.most_common(1)[0][0]\n",
    "        elif self.mode == \"mean\":\n",
    "            return sum(results) / len(results)\n",
    "\n",
    "rvalues = [(uniform(0.7, 0.9), uniform(0.05, 0.2)) for _ in range(20)]\n",
    "experts = [FuzzyTriangleArea(p, v) for p, v in rvalues]\n",
    "merger1 = MergeExperts(\"vote\", *experts)\n",
    "print(merger1(3, 4, 5))\n",
    "merger2 = MergeExperts(\"mean\", *experts)\n",
    "print(merger2(3, 4, 5))"
   ]
  },
  {
   "cell_type": "code",
   "execution_count": 105,
   "id": "3acfa6ea-bae3-465f-945b-fa17617e0ec4",
   "metadata": {},
   "outputs": [
    {
     "data": {
      "text/plain": [
       "6.0"
      ]
     },
     "execution_count": 105,
     "metadata": {},
     "output_type": "execute_result"
    }
   ],
   "source": [
    "merger1(3,4,5)"
   ]
  },
  {
   "cell_type": "code",
   "execution_count": 113,
   "id": "8a33ea1a-aa94-4fc4-97c0-85220064911a",
   "metadata": {},
   "outputs": [
    {
     "name": "stdout",
     "output_type": "stream",
     "text": [
      "Counter({'apple': 3, 'banana': 2, 'orange': 1})\n"
     ]
    },
    {
     "data": {
      "text/plain": [
       "'apple'"
      ]
     },
     "execution_count": 113,
     "metadata": {},
     "output_type": "execute_result"
    }
   ],
   "source": [
    "from collections import Counter\n",
    "\n",
    "# Define a list of elements\n",
    "elements = ['apple', 'banana', 'apple', 'orange', 'banana', 'apple']\n",
    "\n",
    "# Count the occurrences of each element\n",
    "element_counts = Counter(elements)\n",
    "\n",
    "# Print the result\n",
    "print(element_counts)\n",
    "element_counts.most_common(1)[0][0]"
   ]
  },
  {
   "cell_type": "code",
   "execution_count": 116,
   "id": "8193e415-b811-461d-bff5-31326c7590ef",
   "metadata": {},
   "outputs": [
    {
     "name": "stdout",
     "output_type": "stream",
     "text": [
      "1 ---> 42 ---> 2.75 ---> 3.25\n",
      "2 ---> 42 ---> 3.5 ---> 9.5\n",
      "3 ---> 42 ---> 4.25 ---> 26.75\n",
      "4 ---> 42 ---> 5.0 ---> 61.0\n",
      "5 ---> 42 ---> 5.75 ---> 118.25\n",
      "6 ---> 42 ---> 6.5 ---> 204.5\n",
      "7 ---> 42 ---> 7.25 ---> 325.75\n",
      "8 ---> 42 ---> 8.0 ---> 488.0\n",
      "9 ---> 42 ---> 8.75 ---> 697.25\n"
     ]
    }
   ],
   "source": [
    "class Polynomial:\n",
    "    \n",
    "    def __init__(self, *coefficients):\n",
    "        self.coefficients = coefficients[::-1]\n",
    "        \n",
    "    def __call__(self, x):\n",
    "        res = 0\n",
    "        for index, coeff in enumerate(self.coefficients):\n",
    "            res += coeff * x** index\n",
    "        return res\n",
    "\n",
    "# a constant function\n",
    "p1 = Polynomial(42)\n",
    "\n",
    "# a straight Line\n",
    "p2 = Polynomial(0.75, 2)\n",
    "\n",
    "# a third degree Polynomial\n",
    "p3 = Polynomial(1, -0.5, 0.75, 2)\n",
    "\n",
    "for i in range(1, 10):\n",
    "    print(f\"{i} ---> {p1(i)} ---> {p2(i)} ---> {p3(i)}\")"
   ]
  },
  {
   "cell_type": "code",
   "execution_count": 117,
   "id": "fefedaf6-d03a-4961-b8dd-b4e98d0e9389",
   "metadata": {},
   "outputs": [
    {
     "name": "stdout",
     "output_type": "stream",
     "text": [
      "Current running average after initialization: 0\n",
      "Current running average: 3.0\n",
      "Current running average: 4.0\n",
      "Current running average: 6.666666666666667\n",
      "Current running average: 7.25\n",
      "Current running average: 6.0\n",
      "average is reset:  0\n",
      "Current running average: 3.1\n",
      "Current running average: 11.450000000000001\n",
      "Current running average: 8.633333333333335\n"
     ]
    }
   ],
   "source": [
    "class RunningAverage:\n",
    "    def __init__(self):\n",
    "        \"\"\"\n",
    "        Initialize the RunningAverage object with an empty list to store numbers.\n",
    "        \"\"\"\n",
    "        self.numbers = []\n",
    "\n",
    "    def add_number(self, number):\n",
    "        \"\"\"\n",
    "        Add a number to the list of numbers.\n",
    "        \"\"\"\n",
    "        self.numbers.append(number)\n",
    "\n",
    "    def __call__(self):\n",
    "        \"\"\"\n",
    "        Calculate and return the current running average of all numbers added so far.\n",
    "        \"\"\"\n",
    "        if not self.numbers:\n",
    "            return 0\n",
    "        return sum(self.numbers) / len(self.numbers)\n",
    "\n",
    "    def reset(self):\n",
    "        \"\"\"\n",
    "        Clear the list of numbers and reset the running average to 0.\n",
    "        \"\"\"\n",
    "        self.numbers = []\n",
    "\n",
    "\n",
    "average = RunningAverage()\n",
    "print(\"Current running average after initialization:\", average())\n",
    "for x in [3, 5, 12, 9, 1]:\n",
    "    average.add_number(x)\n",
    "    print(\"Current running average:\", average())\n",
    "average.reset()\n",
    "print(\"average is reset: \", average())\n",
    "for x in [3.1, 19.8, 3]:\n",
    "    average.add_number(x)\n",
    "    print(\"Current running average:\", average())"
   ]
  },
  {
   "cell_type": "code",
   "execution_count": 118,
   "id": "f03d927a-c263-4646-bbf8-7b7c2632d7f1",
   "metadata": {},
   "outputs": [
    {
     "name": "stdout",
     "output_type": "stream",
     "text": [
      "Current temperature: 25\n",
      "Temperature in Fahrenheit: 77.0\n",
      "Current temperature: 77.0\n"
     ]
    }
   ],
   "source": [
    "class TemperatureConverter:\n",
    "    def __init__(self, temperature, unit='C'):\n",
    "        \"\"\"\n",
    "        Initialize the TemperatureConverter object with an initial temperature and unit.\n",
    "        Default unit is Celsius ('C').\n",
    "        \"\"\"\n",
    "        self.temperature = temperature\n",
    "        self.unit = unit\n",
    "\n",
    "    @property\n",
    "    def unit(self):\n",
    "        return self.__unit\n",
    "\n",
    "    @unit.setter\n",
    "    def unit(self, unit):\n",
    "        if unit.upper() in {'C', 'F'}:\n",
    "            self.__unit = unit\n",
    "        else:\n",
    "            raise ValueError(\"Should be 'C' or 'F'\")\n",
    "\n",
    "    def convert(self):\n",
    "        \"\"\"\n",
    "        Convert the temperature to the other unit and return it.\n",
    "        \"\"\"\n",
    "        new_unit = 'F' if self.unit == 'C' else 'C'  # Determine the opposite unit\n",
    "        return self._convert_to_unit(new_unit)\n",
    "\n",
    "    def __call__(self):\n",
    "        \"\"\"\n",
    "        Return the current temperature in the current unit.\n",
    "        \"\"\"\n",
    "        return self.temperature\n",
    "\n",
    "    def change_unit(self, new_unit):\n",
    "        \"\"\"\n",
    "        Change the unit of the temperature to the specified new unit.\n",
    "        \"\"\"\n",
    "        new_unit = new_unit.upper()  # Ensure the new unit is uppercase\n",
    "        if new_unit not in ['C', 'F']:\n",
    "            raise ValueError(\"Invalid unit. Choose 'C' for Celsius or 'F' for Fahrenheit.\")\n",
    "        \n",
    "        if new_unit != self.unit:  # Only convert if the new unit is different\n",
    "            self.temperature = self._convert_to_unit(new_unit)\n",
    "            self.unit = new_unit\n",
    "\n",
    "    def _convert_to_unit(self, target_unit):\n",
    "        \"\"\"\n",
    "        Convert the temperature to the specified unit and return it.\n",
    "        \"\"\"\n",
    "        if target_unit == 'C':\n",
    "            return (self.temperature - 32) * 5/9  # Convert Fahrenheit to Celsius\n",
    "        elif target_unit == 'F':\n",
    "            return (self.temperature * 9/5) + 32  # Convert Celsius to Fahrenheit\n",
    "\n",
    "\n",
    "\n",
    "# Example usage:\n",
    "converter = TemperatureConverter(25, 'C')\n",
    "print(\"Current temperature:\", converter())\n",
    "print(\"Temperature in Fahrenheit:\", converter.convert())\n",
    "converter.change_unit('F')\n",
    "print(\"Current temperature:\", converter())"
   ]
  },
  {
   "cell_type": "markdown",
   "id": "e4190a15-b0d7-4f06-9390-9d61c4e7f73f",
   "metadata": {},
   "source": [
    "## Slots: Avoiding Dynamically Created Attributes"
   ]
  },
  {
   "cell_type": "code",
   "execution_count": 119,
   "id": "060134cf-1318-420c-91d1-289fb16883dc",
   "metadata": {},
   "outputs": [
    {
     "data": {
      "text/plain": [
       "{'x': 66, 'y': 'dynamically created attribute'}"
      ]
     },
     "execution_count": 119,
     "metadata": {},
     "output_type": "execute_result"
    }
   ],
   "source": [
    "class A(object):\n",
    "    pass\n",
    " \n",
    "a = A()\n",
    "a.x = 66\n",
    "a.y = \"dynamically created attribute\"\n",
    "a.__dict__"
   ]
  },
  {
   "cell_type": "markdown",
   "id": "45679d77-6eb2-489e-a048-537263ab705b",
   "metadata": {},
   "source": [
    "### When we design a class, we can use slots to prevent the dynamic creation of attributes. To define slots, you have to define a list with the name __slots__. The list has to contain all the attributes, you want to use. Anything not in this list cannot be used as an attribute. We demonstrate this in the following class, in which the __slots__ list contains only the name for an attribute val:"
   ]
  },
  {
   "cell_type": "code",
   "execution_count": 121,
   "id": "c0bbda1e-dc9c-4a2c-80e8-0e1934ae9908",
   "metadata": {},
   "outputs": [
    {
     "name": "stdout",
     "output_type": "stream",
     "text": [
      "42\n"
     ]
    }
   ],
   "source": [
    "class S(object):\n",
    "\n",
    "    __slots__ = ['val']\n",
    "\n",
    "    def __init__(self, v):\n",
    "        self.val = v\n",
    "\n",
    "\n",
    "x = S(42)\n",
    "print(x.val)\n",
    "\n",
    "# x.new = \"not possible\""
   ]
  },
  {
   "cell_type": "markdown",
   "id": "6d8389d9-998b-4eef-902e-8be505ddb07e",
   "metadata": {},
   "source": [
    "## Polynomial Class"
   ]
  },
  {
   "cell_type": "code",
   "execution_count": 128,
   "id": "123050e3-45a7-4ec7-9f48-d9e6fb26f698",
   "metadata": {},
   "outputs": [
    {
     "name": "stdout",
     "output_type": "stream",
     "text": [
      "-1 0\n",
      "0 0\n",
      "1 0\n",
      "1.5 -1.40625\n",
      "1.8 0.9676799999999997\n",
      "2 6\n",
      "2.2 15.544320000000006\n",
      "2.5 42.65625\n",
      "2.8 92.69567999999995\n",
      "3.4 307.33824\n"
     ]
    }
   ],
   "source": [
    "def p(x):\n",
    "    return x**5 - 4*x**3 + 3*x\n",
    "\n",
    "for x in [-1, 0,1,1.5,1.8, 2,2.2,2.5,2.8, 3.4]:\n",
    "    print(x, p(x))"
   ]
  },
  {
   "cell_type": "code",
   "execution_count": 129,
   "id": "ed7c1893-8e2d-4c8f-ab08-6369e3a55536",
   "metadata": {},
   "outputs": [
    {
     "data": {
      "image/png": "[encoded data removed]",
      "text/plain": [
       "<Figure size 640x480 with 1 Axes>"
      ]
     },
     "metadata": {},
     "output_type": "display_data"
    }
   ],
   "source": [
    "import numpy as np\n",
    "import matplotlib.pyplot as plt\n",
    "\n",
    "X = np.linspace(-3, 3, 50, endpoint=True)\n",
    "F = p(X)\n",
    "plt.plot(X,F)\n",
    "\n",
    "plt.show()"
   ]
  },
  {
   "cell_type": "markdown",
   "id": "5941bbf2-caf5-4453-843c-3b2af41fd3cc",
   "metadata": {},
   "source": [
    "### Polynomial Class in Python"
   ]
  },
  {
   "cell_type": "code",
   "execution_count": 130,
   "id": "4dfa88ff-05ab-4d81-802c-a15ab1ed0233",
   "metadata": {},
   "outputs": [
    {
     "name": "stdout",
     "output_type": "stream",
     "text": [
      "Polynomial(1, 0, -4, 3, 0)\n",
      "Polynomial(1, 0, -4, 3, 0)\n"
     ]
    }
   ],
   "source": [
    "class Polynomial:\n",
    "    \n",
    "    def __init__(self, *coefficients):\n",
    "        \"\"\" input: coefficients are in the form a_n, ...a_1, a_0 \n",
    "        \"\"\"\n",
    "        self.coefficients = list(coefficients) # tuple is turned into a list\n",
    "     \n",
    "    def __repr__(self):\n",
    "        \"\"\"\n",
    "        method to return the canonical string representation \n",
    "        of a polynomial.\n",
    "        \"\"\"\n",
    "        return \"Polynomial\" + str(tuple(self.coefficients))\n",
    "\n",
    "p = Polynomial(1, 0, -4, 3, 0)\n",
    "print(p)\n",
    "\n",
    "p2 = eval(repr(p))\n",
    "print(p2)"
   ]
  },
  {
   "cell_type": "code",
   "execution_count": 131,
   "id": "4ce88da0-1803-4703-a72f-0e88ebd29712",
   "metadata": {},
   "outputs": [
    {
     "name": "stdout",
     "output_type": "stream",
     "text": [
      "$p_0 = x^4-4x^2+3x$\n",
      "$p_1 = 2x$\n",
      "$p_2 = 4x^2+x-1$\n",
      "$p_3 = 3x^4-5x^2+2x+7$\n",
      "$p_4 = -42$\n"
     ]
    }
   ],
   "source": [
    "class Polynomial:\n",
    "    \n",
    "    \n",
    "    def __init__(self, *coefficients):\n",
    "        \"\"\" input: coefficients are in the form a_n, ...a_1, a_0 \n",
    "        \"\"\"\n",
    "        self.coefficients = list(coefficients) # tuple is turned into a list\n",
    "     \n",
    "    \n",
    "    def __repr__(self):\n",
    "        \"\"\"\n",
    "        method to return the canonical string representation \n",
    "        of a polynomial.\n",
    "        \"\"\"\n",
    "        return \"Polynomial\" + str(tuple(self.coefficients))\n",
    "\n",
    "    \n",
    "    def __str__(self):\n",
    "        \n",
    "        def x_expr(degree):\n",
    "            if degree == 0:\n",
    "                res = \"\"\n",
    "            elif degree == 1:\n",
    "                res = \"x\"\n",
    "            else:\n",
    "                res = \"x^\"+str(degree)\n",
    "            return res\n",
    "\n",
    "        degree = len(self.coefficients) - 1\n",
    "        res = \"\"\n",
    "\n",
    "        for i in range(0, degree+1):\n",
    "            coeff = self.coefficients[i]\n",
    "            # nothing has to be done if coeff is 0:\n",
    "            if abs(coeff) == 1 and i < degree:\n",
    "                # 1 in front of x shouldn't occur, e.g. x instead of 1x\n",
    "                # but we need the plus or minus sign:\n",
    "                res += f\"{'+' if coeff>0 else '-'}{x_expr(degree-i)}\"  \n",
    "            elif coeff != 0:\n",
    "                res += f\"{coeff:+g}{x_expr(degree-i)}\" \n",
    "\n",
    "        return res.lstrip('+')    # removing leading '+'\n",
    "polys = [Polynomial(1, 0, -4, 3, 0),\n",
    "         Polynomial(2, 0),\n",
    "         Polynomial(4, 1, -1),\n",
    "         Polynomial(3, 0, -5, 2, 7),\n",
    "         Polynomial(-42)]\n",
    "\n",
    "# output suitable for usage in LaTeX:\n",
    "for count, poly in enumerate(polys):\n",
    "    print(f\"$p_{count} = {str(poly)}$\")"
   ]
  },
  {
   "cell_type": "code",
   "execution_count": 132,
   "id": "bca2a612-6e6a-45e0-a390-fb1a06f10b82",
   "metadata": {},
   "outputs": [
    {
     "name": "stdout",
     "output_type": "stream",
     "text": [
      "<__main__.Polynomial object at 0x000001E38EC597F0>\n",
      "-3 193\n",
      "-2 25\n",
      "-1 -3\n",
      "0 1\n",
      "1 1\n",
      "2 33\n"
     ]
    }
   ],
   "source": [
    "class Polynomial:\n",
    "    \n",
    "    def __init__(self, *coefficients):\n",
    "        \"\"\" input: coefficients are in the form a_n, ...a_1, a_0 \n",
    "        \"\"\"\n",
    "        self.coefficients = list(coefficients) # tuple is turned into a list\n",
    "    \n",
    "    # The __repr__ and __str__ method can be included here,\n",
    "    # but is not necessary for the immediately following code\n",
    "            \n",
    "    def __call__(self, x):    \n",
    "        res = 0\n",
    "        for index, coeff in enumerate(self.coefficients[::-1]):\n",
    "            res += coeff * x** index\n",
    "        return res \n",
    "\n",
    "p = Polynomial(3, 0, -5, 2, 1)\n",
    "print(p)\n",
    "\n",
    "for x in range(-3, 3):\n",
    "    print(x, p(x))"
   ]
  },
  {
   "cell_type": "code",
   "execution_count": 133,
   "id": "5e4a0e23-7463-49c6-9449-b0e688bdd1f4",
   "metadata": {},
   "outputs": [
    {
     "data": {
      "image/png": "[encoded data removed]",
      "text/plain": [
       "<Figure size 640x480 with 1 Axes>"
      ]
     },
     "metadata": {},
     "output_type": "display_data"
    }
   ],
   "source": [
    "import matplotlib.pyplot as plt\n",
    "\n",
    "X = np.linspace(-1.5, 1.5, 50, endpoint=True)\n",
    "F = p(X)\n",
    "plt.plot(X, F)\n",
    "\n",
    "plt.show()"
   ]
  },
  {
   "cell_type": "code",
   "execution_count": 134,
   "id": "da08bf17-3424-4a82-bce2-a7d4cda91cc9",
   "metadata": {},
   "outputs": [
    {
     "name": "stdout",
     "output_type": "stream",
     "text": [
      "True\n"
     ]
    }
   ],
   "source": [
    "class Polynomial2:\n",
    "    \n",
    "    def __init__(self, *coefficients):\n",
    "        \"\"\" input: coefficients are in the form a_n, ...a_1, a_0 \n",
    "        \"\"\"\n",
    "        self.coefficients = list(coefficients) # tuple is turned into a list\n",
    "         \n",
    "    # The __repr__ and __str__ method can be included here,\n",
    "    # but is not necessary for the immediately following code\n",
    "    \n",
    "    def __call__(self, x):    \n",
    "        res = 0\n",
    "        for coeff in self.coefficients:\n",
    "            res = res * x + coeff\n",
    "        return res\n",
    "\n",
    "p1 = Polynomial(-4, 3, 0)\n",
    "p2 = Polynomial2(-4, 3, 0)\n",
    "res = all((p1(x)==p2(x) for x in range(-10, 10)))\n",
    "print(res)"
   ]
  },
  {
   "cell_type": "code",
   "execution_count": 135,
   "id": "de5b2207-e9a7-453e-b0e9-f0d349f08749",
   "metadata": {},
   "outputs": [
    {
     "name": "stdout",
     "output_type": "stream",
     "text": [
      "(2, -1)\n",
      "(0, 4)\n",
      "(0, 5)\n"
     ]
    }
   ],
   "source": [
    "def zip_longest(iter1, iter2, fillvalue=None):\n",
    "    \n",
    "    for i in range(max(len(iter1), len(iter2))):\n",
    "        if i >= len(iter1):\n",
    "            yield (fillvalue, iter2[i])\n",
    "        elif i >= len(iter2):\n",
    "            yield (iter1[i], fillvalue)\n",
    "        else:\n",
    "            yield (iter1[i], iter2[i])\n",
    "        i += 1\n",
    "\n",
    "p1 = (2,)\n",
    "p2 = (-1, 4, 5)\n",
    "for x in zip_longest(p1, p2, fillvalue=0):\n",
    "    print(x)"
   ]
  },
  {
   "cell_type": "code",
   "execution_count": 136,
   "id": "f912bf0f-6745-4230-8621-51028b3a74e6",
   "metadata": {},
   "outputs": [
    {
     "data": {
      "image/png": "[encoded data removed]",
      "text/plain": [
       "<Figure size 640x480 with 1 Axes>"
      ]
     },
     "metadata": {},
     "output_type": "display_data"
    }
   ],
   "source": [
    "import numpy as np\n",
    "import matplotlib.pyplot as plt\n",
    "from itertools import zip_longest\n",
    "\n",
    "class Polynomial:\n",
    "    \n",
    "    def __init__(self, *coefficients):\n",
    "        \"\"\" input: coefficients are in the form a_n, ...a_1, a_0 \n",
    "        \"\"\"\n",
    "        self.coefficients = list(coefficients) # tuple is turned into a list\n",
    "     \n",
    "    def __repr__(self):\n",
    "        \"\"\"\n",
    "        method to return the canonical string representation \n",
    "        of a polynomial.\n",
    "   \n",
    "        \"\"\"\n",
    "        return \"Polynomial\" + str(self.coefficients)\n",
    "            \n",
    "    def __call__(self, x):    \n",
    "        res = 0\n",
    "        for coeff in self.coefficients:\n",
    "            res = res * x + coeff\n",
    "        return res \n",
    "    \n",
    "    def degree(self):\n",
    "        return len(self.coefficients)   \n",
    "            \n",
    "    def __add__(self, other):\n",
    "        c1 = self.coefficients[::-1]\n",
    "        c2 = other.coefficients[::-1]\n",
    "        res = [sum(t) for t in zip_longest(c1, c2, fillvalue=0)]\n",
    "        return Polynomial(*res[::-1])\n",
    "    \n",
    "    def __sub__(self, other):\n",
    "        c1 = self.coefficients[::-1]\n",
    "        c2 = other.coefficients[::-1]\n",
    "        \n",
    "        res = [t1-t2 for t1, t2 in zip_longest(c1, c2, fillvalue=0)]\n",
    "        return Polynomial(*res[::-1])\n",
    "    \n",
    "\n",
    "            \n",
    "p1 = Polynomial(4, 0, -4, 3, 0)\n",
    "p2 = Polynomial(-0.8, 2.3, 0.5, 1, 0.2)\n",
    "\n",
    "p_sum = p1 + p2\n",
    "p_diff = p1 - p2\n",
    "\n",
    "X = np.linspace(-3, 3, 50, endpoint=True)\n",
    "F1 = p1(X)\n",
    "F2 = p2(X)\n",
    "F_sum = p_sum(X)\n",
    "F_diff = p_diff(X)\n",
    "plt.plot(X, F1, label=\"F1\")\n",
    "plt.plot(X, F2, label=\"F2\")\n",
    "plt.plot(X, F_sum, label=\"F_sum\")\n",
    "plt.plot(X, F_diff, label=\"F_diff\")\n",
    "\n",
    "plt.legend()\n",
    "plt.show()"
   ]
  },
  {
   "cell_type": "code",
   "execution_count": 137,
   "id": "9babe69f-79b6-4223-ae83-85108c1297b5",
   "metadata": {},
   "outputs": [
    {
     "data": {
      "image/png": "[encoded data removed]",
      "text/plain": [
       "<Figure size 640x480 with 1 Axes>"
      ]
     },
     "metadata": {},
     "output_type": "display_data"
    }
   ],
   "source": [
    "import numpy as np\n",
    "import matplotlib.pyplot as plt\n",
    "from itertools import zip_longest\n",
    "\n",
    "class Polynomial:\n",
    " \n",
    "\n",
    "    def __init__(self, *coefficients):\n",
    "        \"\"\" input: coefficients are in the form a_n, ...a_1, a_0 \n",
    "        \"\"\"\n",
    "        self.coefficients = list(coefficients) # tuple is turned into a list\n",
    "\n",
    "        \n",
    "    def __repr__(self):\n",
    "        \"\"\"\n",
    "        method to return the canonical string representation \n",
    "        of a polynomial.\n",
    "   \n",
    "        \"\"\"\n",
    "        return \"Polynomial\" + str(self.coefficients)\n",
    "\n",
    "    \n",
    "    def __call__(self, x):    \n",
    "        res = 0\n",
    "        for coeff in self.coefficients:\n",
    "            res = res * x + coeff\n",
    "        return res \n",
    "\n",
    "    \n",
    "    def degree(self):\n",
    "        return len(self.coefficients)   \n",
    "\n",
    "    \n",
    "    def __add__(self, other):\n",
    "        c1 = self.coefficients[::-1]\n",
    "        c2 = other.coefficients[::-1]\n",
    "        res = [sum(t) for t in zip_longest(c1, c2, fillvalue=0)]\n",
    "        return Polynomial(*res)\n",
    "\n",
    "    \n",
    "    def __sub__(self, other):\n",
    "        c1 = self.coefficients[::-1]\n",
    "        c2 = other.coefficients[::-1]\n",
    "        \n",
    "        res = [t1-t2 for t1, t2 in zip_longest(c1, c2, fillvalue=0)]\n",
    "        return Polynomial(*res)\n",
    " \n",
    "\n",
    "    def derivative(self):\n",
    "        derived_coeffs = []\n",
    "        exponent = len(self.coefficients) - 1\n",
    "        for i in range(len(self.coefficients)-1):\n",
    "            derived_coeffs.append(self.coefficients[i] * exponent)\n",
    "            exponent -= 1\n",
    "        return Polynomial(*derived_coeffs)\n",
    "\n",
    "    \n",
    "    def __str__(self):\n",
    "        \n",
    "        def x_expr(degree):\n",
    "            if degree == 0:\n",
    "                res = \"\"\n",
    "            elif degree == 1:\n",
    "                res = \"x\"\n",
    "            else:\n",
    "                res = \"x^\"+str(degree)\n",
    "            return res\n",
    "\n",
    "        degree = len(self.coefficients) - 1\n",
    "        res = \"\"\n",
    "\n",
    "        for i in range(0, degree+1):\n",
    "            coeff = self.coefficients[i]\n",
    "            # nothing has to be done if coeff is 0:\n",
    "            if abs(coeff) == 1 and i < degree:\n",
    "                # 1 in front of x shouldn't occur, e.g. x instead of 1x\n",
    "                # but we need the plus or minus sign:\n",
    "                res += f\"{'+' if coeff>0 else '-'}{x_expr(degree-i)}\"  \n",
    "            elif coeff != 0:\n",
    "                res += f\"{coeff:+g}{x_expr(degree-i)}\" \n",
    "\n",
    "        return res.lstrip('+')    # removing leading '+'\n",
    "\n",
    "            \n",
    "p = Polynomial(-0.8, 2.3, 0.5, 1, 0.2)\n",
    "\n",
    "p_der = p.derivative()\n",
    "\n",
    "X = np.linspace(-2, 3, 50, endpoint=True)\n",
    "\n",
    "F = p(X)\n",
    "F_derivative = p_der(X)\n",
    "plt.plot(X, F, label=\"F\")\n",
    "plt.plot(X, F_derivative, label=\"F_der\")\n",
    "\n",
    "plt.legend()\n",
    "plt.show()"
   ]
  },
  {
   "cell_type": "code",
   "execution_count": 138,
   "id": "a3066dcc-544e-466c-b051-37b67d2cbcfe",
   "metadata": {},
   "outputs": [
    {
     "data": {
      "text/plain": [
       "Polynomial[-2, 8, -6, 4, 4]"
      ]
     },
     "execution_count": 138,
     "metadata": {},
     "output_type": "execute_result"
    }
   ],
   "source": [
    "p = Polynomial(1, 2, -3, 4, -5)\n",
    "\n",
    "p2 = Polynomial(3, 2, -3, 4, 3)\n",
    "\n",
    "(p + p2)"
   ]
  },
  {
   "cell_type": "code",
   "execution_count": 139,
   "id": "df7ed1e9-bc4e-4044-8a5e-55bf3918d0e6",
   "metadata": {},
   "outputs": [
    {
     "data": {
      "image/png": "[encoded data removed]",
      "text/plain": [
       "<Figure size 640x480 with 1 Axes>"
      ]
     },
     "metadata": {},
     "output_type": "display_data"
    }
   ],
   "source": [
    "plt.plot(X, p(X), label=\"p\")\n",
    "plt.plot(X, p2(X), label=\"p2\")\n",
    "plt.plot(X, (p + p2)(X), label=\"p + p2\")\n",
    "plt.plot(X, (p - p2)(X), label=\"p - p2\")\n",
    "\n",
    "plt.legend()\n",
    "plt.show()"
   ]
  },
  {
   "cell_type": "markdown",
   "id": "95dc369b-2450-4d9a-8aa9-8671f27dffe3",
   "metadata": {},
   "source": [
    "## Dynamically Creating Classes with type"
   ]
  },
  {
   "cell_type": "code",
   "execution_count": 140,
   "id": "2352fc9c-2f6a-4f8d-9132-4ec027bcc699",
   "metadata": {},
   "outputs": [
    {
     "name": "stdout",
     "output_type": "stream",
     "text": [
      "<class 'list'> <class 'str'>\n"
     ]
    }
   ],
   "source": [
    "x = [4, 5, 9]\n",
    "y = \"Hello\"\n",
    "print(type(x), type(y))"
   ]
  },
  {
   "cell_type": "code",
   "execution_count": 141,
   "id": "ee70e727-eb06-4e93-a6ce-9e1bc3753631",
   "metadata": {},
   "outputs": [
    {
     "name": "stdout",
     "output_type": "stream",
     "text": [
      "<class 'list'> <class 'str'>\n",
      "<class 'type'> <class 'type'>\n"
     ]
    }
   ],
   "source": [
    "x = [4, 5, 9]\n",
    "y = \"Hello\"\n",
    "print(type(x), type(y))\n",
    "print(type(type(x)), type(type(y)))"
   ]
  },
  {
   "cell_type": "code",
   "execution_count": 142,
   "id": "4455f910-a6e4-40e8-a874-ffa3cf62fcd4",
   "metadata": {},
   "outputs": [
    {
     "name": "stdout",
     "output_type": "stream",
     "text": [
      "<class '__main__.A'>\n"
     ]
    }
   ],
   "source": [
    "class A:\n",
    "    pass\n",
    "\n",
    "x = A()\n",
    "print(type(x))"
   ]
  },
  {
   "cell_type": "raw",
   "id": "666061f3-873d-4b26-b55c-a6e0a9e8821c",
   "metadata": {},
   "source": [
    "### type.__new__(typeclass, classname, superclasses, attributedict)\n",
    "\n",
    "### type.__init__(cls, classname, superclasses, attributedict)"
   ]
  },
  {
   "cell_type": "code",
   "execution_count": 143,
   "id": "f66c1363-bcf7-4dae-a9be-4ed0641bce50",
   "metadata": {},
   "outputs": [
    {
     "name": "stdout",
     "output_type": "stream",
     "text": [
      "Marvin\n",
      "Hi, I am Marvin\n",
      "Marvin\n",
      "Hi, I am Marvin\n",
      "{'name': 'Marvin'}\n",
      "{'name': 'Marvin'}\n"
     ]
    }
   ],
   "source": [
    "class Robot:\n",
    "\n",
    "    counter = 0\n",
    "\n",
    "    def __init__(self, name):\n",
    "        self.name = name\n",
    "\n",
    "    def sayHello(self):\n",
    "        return \"Hi, I am \" + self.name\n",
    "\n",
    "\n",
    "def Rob_init(self, name):\n",
    "    self.name = name\n",
    "\n",
    "Robot2 = type(\"Robot2\", \n",
    "              (), \n",
    "              {\"counter\":0, \n",
    "               \"__init__\": Rob_init,\n",
    "               \"sayHello\": lambda self: \"Hi, I am \" + self.name})\n",
    "\n",
    "x = Robot2(\"Marvin\")\n",
    "print(x.name)\n",
    "print(x.sayHello())\n",
    "\n",
    "y = Robot(\"Marvin\")\n",
    "print(y.name)\n",
    "print(y.sayHello())\n",
    "\n",
    "print(x.__dict__)\n",
    "print(y.__dict__)"
   ]
  },
  {
   "cell_type": "markdown",
   "id": "c026b76b-fef7-4cc1-980f-cfeb7e1805be",
   "metadata": {},
   "source": [
    "##  Road to Metaclasses"
   ]
  },
  {
   "cell_type": "code",
   "execution_count": 144,
   "id": "3b8717dc-0130-4b8e-968e-7b4fd4b7dd6a",
   "metadata": {},
   "outputs": [
    {
     "name": "stdout",
     "output_type": "stream",
     "text": [
      "42\n",
      "42\n"
     ]
    }
   ],
   "source": [
    "class Philosopher1: \n",
    "    \n",
    "    def the_answer(self, *args):              \n",
    "        return 42\n",
    "\n",
    "    \n",
    "class Philosopher2: \n",
    "\n",
    "    def the_answer(self, *args):              \n",
    "        return 42\n",
    "\n",
    "    \n",
    "class Philosopher3: \n",
    "\n",
    "    def the_answer(self, *args):              \n",
    "        return 42\n",
    "\n",
    "    \n",
    "plato = Philosopher1()\n",
    "print(plato.the_answer())\n",
    "\n",
    "aristotle = Philosopher2()\n",
    "# let's see what rissstotle has to say :-)\n",
    "print(aristotle.the_answer())"
   ]
  },
  {
   "cell_type": "code",
   "execution_count": 145,
   "id": "e022eede-2630-44b1-b269-fff52a19bb28",
   "metadata": {},
   "outputs": [
    {
     "name": "stdout",
     "output_type": "stream",
     "text": [
      "42\n",
      "42\n"
     ]
    }
   ],
   "source": [
    "class Answers:\n",
    "\n",
    "    def the_answer(self, *args):              \n",
    "        return 42\n",
    "    \n",
    "\n",
    "class Philosopher1(Answers): \n",
    "    pass\n",
    "\n",
    "\n",
    "class Philosopher2(Answers): \n",
    "    pass\n",
    "\n",
    "\n",
    "class Philosopher3(Answers): \n",
    "    pass\n",
    "\n",
    "\n",
    "plato = Philosopher1()\n",
    "print(plato.the_answer())\n",
    "\n",
    "\n",
    "aristotle = Philosopher2()\n",
    "# let's see what rissstotle has to say :-)\n",
    "print(aristotle.the_answer())"
   ]
  },
  {
   "cell_type": "code",
   "execution_count": 147,
   "id": "74456173-6b9e-4f4e-85be-c367c941f6db",
   "metadata": {},
   "outputs": [
    {
     "name": "stdin",
     "output_type": "stream",
     "text": [
      "Do you need the answer? (y/n):  n\n"
     ]
    },
    {
     "name": "stdout",
     "output_type": "stream",
     "text": [
      "The silence of the philosphers\n"
     ]
    }
   ],
   "source": [
    "# the following variable would be set as the result of a runtime calculation:\n",
    "reply = input(\"Do you need the answer? (y/n): \")\n",
    "required = reply in ('y', 'yes')\n",
    "   \n",
    "\n",
    "def the_answer(self, *args):              \n",
    "        return 42\n",
    "\n",
    "    \n",
    "class Philosopher1: \n",
    "    pass\n",
    "if required:\n",
    "    Philosopher1.the_answer = the_answer\n",
    "\n",
    "    \n",
    "class Philosopher2: \n",
    "    pass\n",
    "if required:\n",
    "    Philosopher2.the_answer = the_answer\n",
    "\n",
    "    \n",
    "class Philosopher3: \n",
    "    pass\n",
    "if required:\n",
    "    Philosopher3.the_answer = the_answer\n",
    "    \n",
    "    \n",
    "plato = Philosopher1()\n",
    "aristotle = Philosopher2()\n",
    "\n",
    "# let's see what Plato and Aristotle have to say :-)\n",
    "if required:\n",
    "    print(aristotle.the_answer())\n",
    "    print(plato.the_answer())\n",
    "else:\n",
    "    print(\"The silence of the philosphers\")"
   ]
  },
  {
   "cell_type": "markdown",
   "id": "b44a442e-05b6-42b7-a824-085b348475c6",
   "metadata": {},
   "source": [
    "### There are numerous use cases for metaclasses. Just to name a few:\n",
    "\n",
    "* logging and profiling\n",
    "* interface checking\n",
    "* registering classes at creation time\n",
    "* automatically adding new methods\n",
    "* automatic property creation\n",
    "* proxies\n",
    "* automatic resource locking/synchronization."
   ]
  },
  {
   "cell_type": "code",
   "execution_count": 148,
   "id": "26e6f901-de3f-45c0-892b-d376d0cb5de3",
   "metadata": {},
   "outputs": [],
   "source": [
    "class LittleMeta(type):\n",
    "    def __new__(cls, clsname, superclasses, attributedict):\n",
    "        print(\"clsname: \", clsname)\n",
    "        print(\"superclasses: \", superclasses)\n",
    "        print(\"attributedict: \", attributedict)\n",
    "        return type.__new__(cls, clsname, superclasses, attributedict)"
   ]
  },
  {
   "cell_type": "code",
   "execution_count": 149,
   "id": "5d3f4662-95b0-4feb-b07f-b0209114180d",
   "metadata": {},
   "outputs": [
    {
     "name": "stdout",
     "output_type": "stream",
     "text": [
      "clsname:  A\n",
      "superclasses:  (<class '__main__.Foo'>,)\n",
      "attributedict:  {'__module__': '__main__', '__qualname__': 'A'}\n"
     ]
    }
   ],
   "source": [
    "class Foo:\n",
    "    pass\n",
    "\n",
    "class A(Foo, metaclass=LittleMeta):\n",
    "    pass\n",
    "\n",
    "a = A()"
   ]
  },
  {
   "cell_type": "code",
   "execution_count": 152,
   "id": "74fe03f8-b04f-4d1b-bcd1-efc6b36e21e6",
   "metadata": {},
   "outputs": [
    {
     "name": "stdin",
     "output_type": "stream",
     "text": [
      "Do you need the answer? (y/n):  n\n"
     ]
    },
    {
     "name": "stdout",
     "output_type": "stream",
     "text": [
      "The method the_answer is not implemented 'Philosopher1' object has no attribute 'the_answer'\n"
     ]
    }
   ],
   "source": [
    "x = input(\"Do you need the answer? (y/n): \")\n",
    "required = x in ('y', 'yes')\n",
    "\n",
    "def the_answer(self, *args):              \n",
    "        return 42\n",
    "\n",
    "class EssentialAnswers(type):\n",
    "    \n",
    "    def __init__(cls, clsname, superclasses, attributedict):\n",
    "        if required:\n",
    "            cls.the_answer = the_answer\n",
    "                           \n",
    "class Philosopher1(metaclass=EssentialAnswers): \n",
    "    pass\n",
    "\n",
    "class Philosopher2(metaclass=EssentialAnswers): \n",
    "    pass\n",
    "\n",
    "class Philosopher3(metaclass=EssentialAnswers): \n",
    "    pass\n",
    "    \n",
    "kant = Philosopher1()\n",
    "# let's see what Kant has to say :-)\n",
    "try:\n",
    "    print(kant.the_answer())\n",
    "except AttributeError as e:\n",
    "    print(\"The method the_answer is not implemented\",e)"
   ]
  },
  {
   "cell_type": "markdown",
   "id": "da107906-f10e-4212-9cb9-350dd5786a87",
   "metadata": {},
   "source": [
    "## The Singleton Pattern"
   ]
  },
  {
   "cell_type": "code",
   "execution_count": 154,
   "id": "35d971d2-65ff-4ebd-83fe-4436d235a23f",
   "metadata": {},
   "outputs": [
    {
     "name": "stdout",
     "output_type": "stream",
     "text": [
      "True\n",
      "False\n"
     ]
    }
   ],
   "source": [
    "class Singleton(type):\n",
    "    _instances = {}\n",
    "    def __call__(cls, *args, **kwargs):\n",
    "        if cls not in cls._instances:\n",
    "            cls._instances[cls] = super(Singleton, cls).__call__(*args, **kwargs)\n",
    "        return cls._instances[cls]\n",
    "    \n",
    "    \n",
    "class SingletonClass(metaclass=Singleton):\n",
    "    pass\n",
    "\n",
    "\n",
    "class RegularClass():\n",
    "    pass\n",
    "\n",
    "\n",
    "x = SingletonClass()\n",
    "y = SingletonClass()\n",
    "print(x == y)\n",
    "\n",
    "\n",
    "x = RegularClass()\n",
    "y = RegularClass()\n",
    "print(x == y)"
   ]
  },
  {
   "cell_type": "code",
   "execution_count": 155,
   "id": "f7832e36-c672-4871-bce1-981fe50365d6",
   "metadata": {},
   "outputs": [
    {
     "name": "stdout",
     "output_type": "stream",
     "text": [
      "All Singleton Instances: {<class '__main__.SingletonClass'>: <__main__.SingletonClass object at 0x000001E38ED3A910>}\n",
      "SingletonClass Instances: {<class '__main__.SingletonClass'>: <__main__.SingletonClass object at 0x000001E38ED3A910>}\n"
     ]
    }
   ],
   "source": [
    "# Accessing _instances directly from the metaclass\n",
    "singleton_instances = Singleton._instances\n",
    "\n",
    "# Accessing _instances from the class\n",
    "singleton_class_instances = SingletonClass._instances\n",
    "\n",
    "# Displaying the instances\n",
    "print(\"All Singleton Instances:\", singleton_instances)\n",
    "print(\"SingletonClass Instances:\", singleton_class_instances)"
   ]
  },
  {
   "cell_type": "code",
   "execution_count": 156,
   "id": "571903e7-c6d2-4595-91b7-1ee06baa10d1",
   "metadata": {},
   "outputs": [
    {
     "name": "stdout",
     "output_type": "stream",
     "text": [
      "True\n",
      "False\n"
     ]
    }
   ],
   "source": [
    "class Singleton(object):\n",
    "    _instance = None\n",
    "    def __new__(cls, *args, **kwargs):\n",
    "        if not cls._instance:\n",
    "            cls._instance = object.__new__(cls, *args, **kwargs)\n",
    "        return cls._instance\n",
    "\n",
    "    \n",
    "class SingletonClass(Singleton):\n",
    "    pass\n",
    "\n",
    "class RegularClass():\n",
    "    pass\n",
    "\n",
    "\n",
    "x = SingletonClass()\n",
    "y = SingletonClass()\n",
    "print(x == y)\n",
    "\n",
    "\n",
    "x = RegularClass()\n",
    "y = RegularClass()\n",
    "print(x == y)"
   ]
  },
  {
   "cell_type": "code",
   "execution_count": 157,
   "id": "3fdfaae5-504d-410f-8480-1909587865ab",
   "metadata": {},
   "outputs": [
    {
     "name": "stdout",
     "output_type": "stream",
     "text": [
      "True\n",
      "Instance 1\n",
      "Instance 1\n"
     ]
    }
   ],
   "source": [
    "def singleton(cls):\n",
    "    instances = {}\n",
    "\n",
    "    def get_instance(*args, **kwargs):\n",
    "        if cls not in instances:\n",
    "            instances[cls] = cls(*args, **kwargs)\n",
    "        return instances[cls]\n",
    "\n",
    "    return get_instance\n",
    "\n",
    "@singleton\n",
    "class SingletonClass:\n",
    "    def __init__(self, data):\n",
    "        self.data = data\n",
    "\n",
    "# Creating instances\n",
    "singleton_instance_1 = SingletonClass(\"Instance 1\")\n",
    "singleton_instance_2 = SingletonClass(\"Instance 2\")\n",
    "\n",
    "# Both instances refer to the same object\n",
    "print(singleton_instance_1 is singleton_instance_2)  # Outputs: True\n",
    "\n",
    "# Accessing data from both instances\n",
    "print(singleton_instance_1.data)  # Outputs: Instance 1\n",
    "print(singleton_instance_2.data)  # Outputs: Instance 1"
   ]
  },
  {
   "cell_type": "code",
   "execution_count": 158,
   "id": "3c7b34ba-3951-47ad-9105-629def46eb1c",
   "metadata": {},
   "outputs": [
    {
     "name": "stdout",
     "output_type": "stream",
     "text": [
      "True\n",
      "Instance 1\n",
      "Instance 1\n"
     ]
    }
   ],
   "source": [
    "singleton_instance_1 = SingletonClass(\"Instance 1\")\n",
    "singleton_instance_2 = SingletonClass(\"Instance 2\")\n",
    "\n",
    "print(singleton_instance_1 is singleton_instance_2)  # Outputs: True\n",
    "print(singleton_instance_1.data)  # Outputs: Instance 1\n",
    "print(singleton_instance_2.data)  # Outputs: Instance 1"
   ]
  },
  {
   "cell_type": "code",
   "execution_count": 159,
   "id": "e939deb2-b1e6-44e9-823f-2154b7379672",
   "metadata": {},
   "outputs": [
    {
     "name": "stdout",
     "output_type": "stream",
     "text": [
      "Processing data...\n",
      "Transforming data...\n",
      "Processing output data...\n"
     ]
    }
   ],
   "source": [
    "import re\n",
    "\n",
    "# Custom Metaclass Definition\n",
    "class CamelCaseToUnderscoreMeta(type):\n",
    "    def __new__(cls, name, bases, dct):\n",
    "        # Create a separate dictionary for modified items\n",
    "        modified_items = {}\n",
    "\n",
    "        # Convert camel case method names to underscore notation\n",
    "        for key, value in dct.items():\n",
    "            if callable(value) and re.match(r'^[a-z]+(?:[A-Z][a-z]*)*$', key):\n",
    "                # Convert camel case to underscore notation\n",
    "                underscore_name = re.sub(r'([a-z0-9])([A-Z])', r'\\1_\\2', key).lower()\n",
    "                # Store the modified item in the new dictionary\n",
    "                modified_items[underscore_name] = value\n",
    "            else:\n",
    "                # Store unmodified items in the new dictionary\n",
    "                modified_items[key] = value\n",
    "\n",
    "        # Create the class using the modified attributes\n",
    "        return super().__new__(cls, name, bases, modified_items)\n",
    "\n",
    "# Class using the Custom Metaclass\n",
    "class CamelCaseClass(metaclass=CamelCaseToUnderscoreMeta):\n",
    "    def processData(self):\n",
    "        print(\"Processing data...\")\n",
    "\n",
    "    def transformData(self):\n",
    "        print(\"Transforming data...\")\n",
    "\n",
    "    def processOutputData(self):\n",
    "        print(\"Processing output data...\")\n",
    "\n",
    "# Creating an instance of CamelCaseClass\n",
    "camel_case_instance = CamelCaseClass()\n",
    "\n",
    "# Calling methods with modified underscore notation names\n",
    "camel_case_instance.process_data()\n",
    "camel_case_instance.transform_data()\n",
    "camel_case_instance.process_output_data()"
   ]
  },
  {
   "cell_type": "code",
   "execution_count": 160,
   "id": "baa201f8-7454-42fa-98c9-4c0adb17ac0e",
   "metadata": {},
   "outputs": [
    {
     "name": "stdout",
     "output_type": "stream",
     "text": [
      "Processing data...\n",
      "Transforming data...\n",
      "Processing output data...\n"
     ]
    }
   ],
   "source": [
    "import re\n",
    "\n",
    "# Class decorator to convert camel case method names to underscore notation\n",
    "def camel_case_to_underscore(cls):\n",
    "    modified_items = {}\n",
    "\n",
    "    # Convert camel case method names to underscore notation\n",
    "    for key, value in cls.__dict__.items():\n",
    "        if callable(value) and re.match(r'^[a-z]+(?:[A-Z][a-z]*)*$', key):\n",
    "            # Convert camel case to underscore notation\n",
    "            underscore_name = re.sub(r'([a-z0-9])([A-Z])', r'\\1_\\2', key).lower()\n",
    "            # Store the modified item in the new dictionary\n",
    "            modified_items[underscore_name] = value\n",
    "        else:\n",
    "            # Store unmodified items in the new dictionary\n",
    "            modified_items[key] = value\n",
    "\n",
    "    # Create a new class with the modified attributes\n",
    "    return type(cls.__name__, cls.__bases__, modified_items)\n",
    "\n",
    "# Class using the Class Decorator\n",
    "@camel_case_to_underscore\n",
    "class CamelCaseClass:\n",
    "    def processData(self):\n",
    "        print(\"Processing data...\")\n",
    "\n",
    "    def transformData(self):\n",
    "        print(\"Transforming data...\")\n",
    "\n",
    "    def processOutputData(self):\n",
    "        print(\"Processing output data...\")\n",
    "\n",
    "# Creating an instance of CamelCaseClass\n",
    "camel_case_instance = CamelCaseClass()\n",
    "\n",
    "# Calling methods with modified underscore notation names\n",
    "camel_case_instance.process_data()\n",
    "camel_case_instance.transform_data()\n",
    "camel_case_instance.process_output_data()"
   ]
  },
  {
   "cell_type": "markdown",
   "id": "8df890d1-a7f6-43c5-bb8c-f34b1fca8db4",
   "metadata": {},
   "source": [
    "## Count Function calls with the help of a Metaclass"
   ]
  },
  {
   "cell_type": "code",
   "execution_count": 161,
   "id": "f423d077-c4c9-4a1c-87df-0990cf88e2dc",
   "metadata": {},
   "outputs": [
    {
     "name": "stdout",
     "output_type": "stream",
     "text": [
      "['BPF', 'LOG4', 'NV_MAGICCONST', 'RECIP_BPF', 'Random', 'SG_MAGICCONST', 'SystemRandom', 'TWOPI', '_Sequence', '_Set', '_accumulate', '_acos', '_bisect', '_ceil', '_cos', '_e', '_exp', '_floor', '_inst', '_log', '_os', '_pi', '_random', '_repeat', '_sha512', '_sin', '_sqrt', '_test', '_test_generator', '_urandom', '_warn', 'betavariate', 'choice', 'choices', 'expovariate', 'gammavariate', 'gauss', 'getrandbits', 'getstate', 'lognormvariate', 'normalvariate', 'paretovariate', 'randbytes', 'randint', 'random', 'randrange', 'sample', 'seed', 'setstate', 'shuffle', 'triangular', 'uniform', 'vonmisesvariate', 'weibullvariate']\n"
     ]
    }
   ],
   "source": [
    "import random\n",
    "cls = \"random\" # name of the class as a string\n",
    "all_attributes = [x for x in dir(eval(cls)) if not x.startswith(\"__\") ]\n",
    "print(all_attributes)"
   ]
  },
  {
   "cell_type": "code",
   "execution_count": 162,
   "id": "22c28802-1320-4006-9b22-0976479fa08f",
   "metadata": {},
   "outputs": [
    {
     "name": "stdout",
     "output_type": "stream",
     "text": [
      "['Random', 'SystemRandom', '_Sequence', '_Set', '_accumulate', '_acos', '_bisect', '_ceil', '_cos', '_exp', '_floor', '_log', '_repeat', '_sha512', '_sin', '_sqrt', '_test', '_test_generator', '_urandom', '_warn', 'betavariate', 'choice', 'choices', 'expovariate', 'gammavariate', 'gauss', 'getrandbits', 'getstate', 'lognormvariate', 'normalvariate', 'paretovariate', 'randbytes', 'randint', 'random', 'randrange', 'sample', 'seed', 'setstate', 'shuffle', 'triangular', 'uniform', 'vonmisesvariate', 'weibullvariate']\n"
     ]
    }
   ],
   "source": [
    "methods = [x for x in dir(eval(cls)) if not x.startswith(\"__\") \n",
    "                              and callable(eval(cls + \".\" + x))]\n",
    "print(methods)"
   ]
  },
  {
   "cell_type": "code",
   "execution_count": 163,
   "id": "6768458a-b24f-4ef5-a8e7-659b38b2765d",
   "metadata": {},
   "outputs": [
    {
     "name": "stdout",
     "output_type": "stream",
     "text": [
      "['BPF', 'LOG4', 'NV_MAGICCONST', 'RECIP_BPF', 'SG_MAGICCONST', 'TWOPI', '_e', '_inst', '_os', '_pi', '_random']\n"
     ]
    }
   ],
   "source": [
    "non_callable_attributes = [x for x in dir(eval(cls)) if not x.startswith(\"__\") \n",
    "                              and not callable(eval(cls + \".\" + x))]\n",
    "print(non_callable_attributes)"
   ]
  },
  {
   "cell_type": "code",
   "execution_count": 164,
   "id": "f4808f8d-6343-4211-bfdb-4b3e4a6263e7",
   "metadata": {},
   "outputs": [
    {
     "data": {
      "text/plain": [
       "[3, 4, 42]"
      ]
     },
     "execution_count": 164,
     "metadata": {},
     "output_type": "execute_result"
    }
   ],
   "source": [
    "lst = [3,4]\n",
    "list.__dict__[\"append\"](lst, 42)\n",
    "lst"
   ]
  },
  {
   "cell_type": "markdown",
   "id": "1a7b4fed-5aff-475d-9114-14a9f20571c6",
   "metadata": {},
   "source": [
    "## A Decorator for Counting Function Calls"
   ]
  },
  {
   "cell_type": "code",
   "execution_count": 165,
   "id": "8de10e78-ad10-4614-99fa-7259c15ca2e7",
   "metadata": {},
   "outputs": [],
   "source": [
    "def call_counter(func):\n",
    "    def helper(*args, **kwargs):\n",
    "        helper.calls += 1\n",
    "        return func(*args, **kwargs)\n",
    "    helper.calls = 0\n",
    "    helper.__name__= func.__name__\n",
    "\n",
    "    return helper"
   ]
  },
  {
   "cell_type": "code",
   "execution_count": 166,
   "id": "b1093bac-fa80-47a3-b87c-d40ba5ce964d",
   "metadata": {},
   "outputs": [
    {
     "name": "stdout",
     "output_type": "stream",
     "text": [
      "0\n",
      "10\n"
     ]
    }
   ],
   "source": [
    "@call_counter\n",
    "def f():\n",
    "    pass\n",
    "\n",
    "print(f.calls)\n",
    "for _ in range(10):\n",
    "    f()\n",
    "    \n",
    "print(f.calls)"
   ]
  },
  {
   "cell_type": "code",
   "execution_count": 167,
   "id": "f29ed6d9-af44-4545-8cbe-029f7305cef8",
   "metadata": {},
   "outputs": [
    {
     "name": "stdout",
     "output_type": "stream",
     "text": [
      "0\n",
      "10\n"
     ]
    }
   ],
   "source": [
    "def f():\n",
    "    pass\n",
    "\n",
    "f = call_counter(f)\n",
    "print(f.calls)\n",
    "for _ in range(10):\n",
    "    f()\n",
    "    \n",
    "print(f.calls)"
   ]
  },
  {
   "cell_type": "code",
   "execution_count": 168,
   "id": "375db7ff-861a-46aa-8ecb-ee224eb3c256",
   "metadata": {},
   "outputs": [
    {
     "name": "stdout",
     "output_type": "stream",
     "text": [
      "0 0\n",
      "1 0\n",
      "2 1\n"
     ]
    }
   ],
   "source": [
    "class FuncCallCounter(type):\n",
    "    \"\"\" A Metaclass which decorates all the methods of the \n",
    "        subclass using call_counter as the decorator\n",
    "    \"\"\"\n",
    "    \n",
    "    @staticmethod\n",
    "    def call_counter(func):\n",
    "        \"\"\" Decorator for counting the number of function \n",
    "            or method calls to the function or method func\n",
    "        \"\"\"\n",
    "        def helper(*args, **kwargs):\n",
    "            helper.calls += 1\n",
    "            return func(*args, **kwargs)\n",
    "        helper.calls = 0\n",
    "        helper.__name__= func.__name__\n",
    "    \n",
    "        return helper\n",
    "    \n",
    "    \n",
    "    def __new__(cls, clsname, superclasses, attributedict):\n",
    "        \"\"\" Every method gets decorated with the decorator call_counter,\n",
    "            which will do the actual call counting\n",
    "        \"\"\"\n",
    "        for attr in attributedict:\n",
    "            if callable(attributedict[attr]) and not attr.startswith(\"__\"):\n",
    "                attributedict[attr] = cls.call_counter(attributedict[attr])\n",
    "        \n",
    "        return type.__new__(cls, clsname, superclasses, attributedict)\n",
    "    \n",
    "\n",
    "class A(metaclass=FuncCallCounter):\n",
    "    \n",
    "    def foo(self):\n",
    "        pass\n",
    "    \n",
    "    def bar(self):\n",
    "        pass\n",
    "\n",
    "if __name__ == \"__main__\":\n",
    "    x = A()\n",
    "    print(x.foo.calls, x.bar.calls)\n",
    "    x.foo()\n",
    "    print(x.foo.calls, x.bar.calls)\n",
    "    x.foo()\n",
    "    x.bar()\n",
    "    print(x.foo.calls, x.bar.calls)"
   ]
  },
  {
   "cell_type": "markdown",
   "id": "72f6e766-6126-4da8-9791-8f4bdcecbcad",
   "metadata": {},
   "source": [
    "## The 'ABC' of Abstract Base Classes"
   ]
  },
  {
   "cell_type": "code",
   "execution_count": 170,
   "id": "44ebafd4-2184-4d10-8840-23e7020d53af",
   "metadata": {},
   "outputs": [],
   "source": [
    "class AbstractClass:\n",
    "    \n",
    "    def do_something(self):\n",
    "        pass\n",
    "    \n",
    "    \n",
    "class B(AbstractClass):\n",
    "    pass\n",
    "\n",
    "a = AbstractClass()\n",
    "b = B()"
   ]
  },
  {
   "cell_type": "code",
   "execution_count": 171,
   "id": "bd629c9c-5d18-4fd0-9e0c-fbfaa1123d62",
   "metadata": {},
   "outputs": [],
   "source": [
    "from abc import ABC, abstractmethod\n",
    " \n",
    "class AbstractClassExample(ABC):\n",
    " \n",
    "    def __init__(self, value):\n",
    "        self.value = value\n",
    "        super().__init__()\n",
    "    \n",
    "    @abstractmethod\n",
    "    def do_something(self):\n",
    "        pass"
   ]
  },
  {
   "cell_type": "code",
   "execution_count": 173,
   "id": "1fc0f023-8164-49f1-becc-1a156e21e896",
   "metadata": {},
   "outputs": [],
   "source": [
    "# class DoAdd42(AbstractClassExample):\n",
    "#     pass\n",
    "\n",
    "# x = DoAdd42(4)"
   ]
  },
  {
   "cell_type": "code",
   "execution_count": 174,
   "id": "8fd08298-cc0c-49f0-81b2-42a40c3036f2",
   "metadata": {},
   "outputs": [
    {
     "name": "stdout",
     "output_type": "stream",
     "text": [
      "52\n",
      "420\n"
     ]
    }
   ],
   "source": [
    "class DoAdd42(AbstractClassExample):\n",
    "\n",
    "    def do_something(self):\n",
    "        return self.value + 42\n",
    "    \n",
    "class DoMul42(AbstractClassExample):\n",
    "   \n",
    "    def do_something(self):\n",
    "        return self.value * 42\n",
    "    \n",
    "x = DoAdd42(10)\n",
    "y = DoMul42(10)\n",
    "\n",
    "print(x.do_something())\n",
    "print(y.do_something())"
   ]
  },
  {
   "cell_type": "code",
   "execution_count": 175,
   "id": "d0cfee4d-3a22-4564-8f90-1061b5aef274",
   "metadata": {},
   "outputs": [
    {
     "name": "stdout",
     "output_type": "stream",
     "text": [
      "Some implementation!\n",
      "The enrichment from AnotherSubclass\n"
     ]
    }
   ],
   "source": [
    "from abc import ABC, abstractmethod\n",
    " \n",
    "class AbstractClassExample(ABC):\n",
    "    \n",
    "    @abstractmethod\n",
    "    def do_something(self):\n",
    "        print(\"Some implementation!\")\n",
    "        \n",
    "class AnotherSubclass(AbstractClassExample):\n",
    "\n",
    "    def do_something(self):\n",
    "        super().do_something()\n",
    "        print(\"The enrichment from AnotherSubclass\")\n",
    "        \n",
    "x = AnotherSubclass()\n",
    "x.do_something()"
   ]
  },
  {
   "cell_type": "code",
   "execution_count": null,
   "id": "5802ce9e-d17f-41d3-a3cf-5262371d6715",
   "metadata": {},
   "outputs": [],
   "source": []
  },
  {
   "cell_type": "code",
   "execution_count": null,
   "id": "6e850a33-c301-49cf-aa9a-cb7c42186002",
   "metadata": {},
   "outputs": [],
   "source": []
  },
  {
   "cell_type": "code",
   "execution_count": null,
   "id": "ad0a58e8-417e-4b03-9450-a93e4635d24d",
   "metadata": {},
   "outputs": [],
   "source": []
  },
  {
   "cell_type": "code",
   "execution_count": null,
   "id": "8f6e35f5-dbd7-434a-88f9-21455ba72fb7",
   "metadata": {},
   "outputs": [],
   "source": []
  },
  {
   "cell_type": "code",
   "execution_count": null,
   "id": "a7b89d4f-94b5-4ad5-ac20-66b838d571ff",
   "metadata": {},
   "outputs": [],
   "source": []
  },
  {
   "cell_type": "code",
   "execution_count": null,
   "id": "f82e4640-3461-453b-bbe5-d37b7a58d633",
   "metadata": {},
   "outputs": [],
   "source": []
  },
  {
   "cell_type": "code",
   "execution_count": null,
   "id": "7b65cb8d-30bc-4485-971e-50ef543d7c5c",
   "metadata": {},
   "outputs": [],
   "source": []
  },
  {
   "cell_type": "code",
   "execution_count": 15,
   "id": "7503a476-c66d-4da5-8373-1277aac15386",
   "metadata": {},
   "outputs": [
    {
     "name": "stdin",
     "output_type": "stream",
     "text": [
      " [1,2,3,4]\n"
     ]
    },
    {
     "data": {
      "text/plain": [
       "list"
      ]
     },
     "execution_count": 15,
     "metadata": {},
     "output_type": "execute_result"
    }
   ],
   "source": [
    "l1 = eval(input())\n",
    "type(l1)"
   ]
  }
 ],
 "metadata": {
  "kernelspec": {
   "display_name": "Python 3 (ipykernel)",
   "language": "python",
   "name": "python3"
  },
  "language_info": {
   "codemirror_mode": {
    "name": "ipython",
    "version": 3
   },
   "file_extension": ".py",
   "mimetype": "text/x-python",
   "name": "python",
   "nbconvert_exporter": "python",
   "pygments_lexer": "ipython3",
   "version": "3.9.19"
  }
 },
 "nbformat": 4,
 "nbformat_minor": 5
}
