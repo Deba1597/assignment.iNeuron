{
 "cells": [
  {
   "cell_type": "markdown",
   "id": "3755819d-08d6-4847-8d09-c68ee9e07dd0",
   "metadata": {},
   "source": [
    "A database is a software system that allows users to store, organize, and retrieve data. There are two main types of databases: relational databases and non-relational databases (also known as NoSQL databases)\n",
    "\n",
    "SQL databases, also known as relational databases, are structured databases that use tables with defined relationships between them to store data. SQL databases are ideal for applications that require complex queries and transactions.\n",
    "\n",
    "NoSQL databases, on the other hand, are non-relational databases that store data in flexible, schema-less documents or key-value pairs. NoSQL databases are ideal for applications that require high scalability and availability, such as large-scale web applications or big data analytics.\n",
    "\n",
    "key differences between SQL and NoSQL databases:\n",
    "1 : Data Model: SQL databases have a predefined schema that specifies the structure of the data, while NoSQL databases have a flexible schema that allows for dynamic changes in data structure.\n",
    "\n",
    "2 : Query Language: SQL databases use SQL (Structured Query Language) to query and manipulate data, while NoSQL databases use a variety of query languages, depending on the database type (e.g., MongoDB uses a query language called BSON).\n",
    "\n",
    "3 : Scalability: SQL databases are vertically scalable, which means that they can only handle increased traffic by adding more resources to a single server. NoSQL databases, on the other hand, are horizontally scalable, which means that they can handle increased traffic by adding more servers to a cluster.\n",
    "\n",
    "4 : Data Consistency: SQL databases provide strong data consistency, which means that once a transaction is committed, it is immediately visible to all users. NoSQL databases provide eventual consistency, which means that changes may take some time to propagate to all users."
   ]
  },
  {
   "cell_type": "code",
   "execution_count": null,
   "id": "76ffb5f5-707c-432d-9443-b8e47096b8a7",
   "metadata": {},
   "outputs": [],
   "source": [
    "#what is DDL ? explain why CREATE ,DROP, ALTER and TRUNCATE are used with an examlpe\n",
    "\n",
    "  #DDL stands for Data Definition Language, and it refers to a set of SQL commands used to define the structure and organization of a database. DDL commands are used to create, modify, and delete database objects such as tables, indexes, and constraints.\n",
    "   #CREATE: The CREATE command is used to create a new database object, such as a table, index, or view.\n",
    "   \n",
    "   CREATE TABLE customers (id INT ,name VARCHAR(50),email VARCHAR(50));\n",
    "\n",
    "   \n",
    "  # DROP: The DROP command is used to delete an existing database object.\n",
    "   \n",
    "   DROP TABLE customers;\n",
    "\n",
    "   \n",
    "   #ALTER: The ALTER command is used to modify the structure of an existing database object.\n",
    "   \n",
    "   ALTER TABLE customers ADD COLUMN phone VARCHAR(20);\n",
    "\n",
    "   \n",
    "  # TRUNCATE: The TRUNCATE command is used to delete all data from an existing table, but leave the table structure intact.\n",
    "   \n",
    "   TRUNCATE TABLE customers;\n",
    "\n",
    "   \n",
    "   \n",
    "   "
   ]
  },
  {
   "cell_type": "code",
   "execution_count": null,
   "id": "dc60da28-aabc-4561-89ef-17f9c13004e0",
   "metadata": {},
   "outputs": [],
   "source": [
    "#What is DML? Explain INSERT, UPDATE, and DELETE with an example.\n",
    "\n",
    "#DML stands for Data Manipulation Language, which is a set of SQL commands that are used to manage the data stored in a database. DML commands are used to insert, update, and delete data from tables in a database.\n",
    "\n",
    "#INSERT: The INSERT command is used to add new rows of data to a table\n",
    "\n",
    "INSERT INTO customers (id, name, email)\n",
    "VALUES (1, 'papu', 'papu@gmail.com');\n",
    "\n",
    "#UPDATE: The UPDATE command is used to modify existing data in a table. \n",
    "\n",
    "UPDATE customers\n",
    "SET email = 'papu123@gmail.com'\n",
    "WHERE id = 1;\n",
    "\n",
    "\n",
    "#DELETE: The DELETE command is used to remove rows of data from a table. \n",
    "\n",
    "DELETE FROM customers\n",
    "WHERE id = 1;\n",
    "\n"
   ]
  },
  {
   "cell_type": "code",
   "execution_count": null,
   "id": "2a6ca975-7a13-4115-ae75-67bad0d1a1ea",
   "metadata": {},
   "outputs": [],
   "source": [
    "#What is DQL? Explain SELECT with an example.\n",
    "\n",
    "#DQL stands for Data Query Language, which is a set of SQL commands used to retrieve data from a database. The most commonly used DQL command is SELECT, which is used to retrieve data from one or more tables in a database\n",
    " SELECT command to retrieve data from this table in many ways.\n",
    " \n",
    " SELECT * FROM employees;\n"
   ]
  },
  {
   "cell_type": "markdown",
   "id": "ef1674e0-0b85-4496-839a-d1cdcb9d0a8f",
   "metadata": {},
   "source": [
    "Explain Primary Key and Foreign Key.\n",
    "\n",
    "Primary key and foreign key are both important concepts in database design that are used to establish relationships between tables\n",
    "\n",
    "1 : Primary key: A primary key is a column or group of columns in a table that uniquely identifies each row of data in the table. The primary key is used to enforce data integrity, as it ensures that each row in the table is unique and can be identified unambiguously. Typically, primary keys are created using a single column that has a unique constraint or a combination of columns that together are unique.\n",
    "2 : Foreign key: A foreign key is a column or group of columns in one table that refers to the primary key of another table. The foreign key is used to establish a relationship between the two tables, which can be used to enforce referential integrity. In other words, the foreign key ensures that data in one table corresponds to data in another table.\n"
   ]
  },
  {
   "cell_type": "code",
   "execution_count": null,
   "id": "af27927d-9a9b-4046-908d-e79468c71f38",
   "metadata": {},
   "outputs": [],
   "source": [
    "#write a python code to connect my sql to python\n",
    "\n",
    "import mysql.connector\n",
    "# import mysql.connector\n",
    "#create user 'user'@'%' identified by 'password'\n",
    "mydb = mysql.connector.connect(\n",
    "  host=\"localhost\",\n",
    "  user=\"abc\",\n",
    "  password=\"password\"\n",
    ")\n",
    "print(mydb)\n",
    "mycursor = mydb.cursor()\n",
    "mycursor.execute(\"SHOW DATABASES\")\n",
    "for x in mycursor:\n",
    "  print(x)\n",
    "\n",
    "#cursor is used to execute queries and fetch results from the database.\n",
    "#The execute() method of the cursor object is used to execute a query."
   ]
  },
  {
   "cell_type": "markdown",
   "id": "fa5c0cc4-5243-4c3a-bc1c-9beee6231238",
   "metadata": {},
   "source": [
    "Give the order of execution of SQL clauses in an SQL query.\n",
    "\n",
    "1. FROM - specifies the table(s) from which the data will be retrieved\n",
    "2. JOIN - combines rows from two or more tables based on a related column between them\n",
    "3. WHERE - filters the rows based on a specified condition\n",
    "4. GROUP BY - groups the rows based on a specified column or expression\n",
    "5. HAVING - filters the groups based on a specified condition\n",
    "6. SELECT - specifies the columns to be retrieved\n",
    "7. DISTINCT - removes duplicates from the result set\n",
    "8. ORDER BY - sorts the rows based on a specified column or expression\n",
    "9. LIMIT - limits the number of rows returned by the query\n"
   ]
  },
  {
   "cell_type": "code",
   "execution_count": null,
   "id": "a258c891-78d1-4cb5-8627-eff4415b74dd",
   "metadata": {},
   "outputs": [],
   "source": []
  },
  {
   "cell_type": "code",
   "execution_count": null,
   "id": "0082bbdf-7455-4482-8438-4871975cf3d1",
   "metadata": {},
   "outputs": [],
   "source": []
  }
 ],
 "metadata": {
  "kernelspec": {
   "display_name": "Python 3 (ipykernel)",
   "language": "python",
   "name": "python3"
  },
  "language_info": {
   "codemirror_mode": {
    "name": "ipython",
    "version": 3
   },
   "file_extension": ".py",
   "mimetype": "text/x-python",
   "name": "python",
   "nbconvert_exporter": "python",
   "pygments_lexer": "ipython3",
   "version": "3.10.6"
  }
 },
 "nbformat": 4,
 "nbformat_minor": 5
}
