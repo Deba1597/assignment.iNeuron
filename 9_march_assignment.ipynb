{
 "cells": [
  {
   "cell_type": "markdown",
   "id": "012f60c5-b14d-4921-9012-1155a5269a98",
   "metadata": {},
   "source": [
    "1. What are the Probability Mass Function (PMF) and Probability Density Function (PDF)? Explain with an example.\n",
    "\n",
    "- PMF is used to describe the probability distribution of a discrete random variable, which takes on a countable number of values. The PMF is defined as the probability that the random variable takes on a specific value. In other words, it maps each value of the random variable to its probability.\n",
    "-  let's say we are rolling a fair six-sided die. The possible outcomes are 1, 2, 3, 4, 5, and 6. The PMF for this random variable is:\n",
    "- P(X=1) = 1/6\n",
    "- P(X=2) = 1/6\n",
    "- P(X=3) = 1/6\n",
    "- P(X=4) = 1/6\n",
    "- P(X=5) = 1/6\n",
    "- P(X=6) = 1/6\n",
    "\n",
    "- Each P(X=x) represents the probability that X takes on the value x.\n",
    "- the sum of all the probabilities is 1, as the die must land on one of the six sides.\n",
    "\n",
    "- PDF is used to describe the probability distribution of a continuous random variable, which can take on any value within a certain range. The PDF gives the relative likelihood of the random variable taking on a particular value. Specifically, the area under the PDF between two values represents the probability that the random variable takes on a value within that range.\n",
    "\n",
    "- For example, let's say we have a continuous random variable X that follows a normal distribution with mean μ=0 and standard deviation σ=1. The PDF for this distribution is:\n",
    "\n",
    "- f(x) = (1/√(2πσ^2)) * e^(-((x-μ)^2)/(2σ^2))\n",
    "\n",
    "- f(x) represents the probability density at a given value x.\n",
    "- Note that the PDF does not give the probability that X equals a specific value, as the probability of any specific value for a continuous variable is zero. Instead, the PDF gives the relative likelihood of X taking on a value within a range. The area under the curve between two values represents the probability that X takes on a value within that range.\n"
   ]
  },
  {
   "cell_type": "markdown",
   "id": "fc955d6b-ef46-4dcc-86c4-081bb5856ccf",
   "metadata": {},
   "source": [
    "## 2. What is Cumulative Density Function (CDF)? Explain with an example. Why CDF is used?\n",
    "\n",
    "- The Cumulative Distribution Function (CDF) is a mathematical function that describes the probability that a random variable X takes on a value less than or equal to a given value x. It is a way to describe the entire probability distribution of a random variable, both for discrete and continuous random variables.\n",
    "\n",
    "- For a discrete random variable X, the CDF is defined as:  F(x) = P(X ≤ x)\n",
    "\n",
    "- For a continuous random variable X, the CDF is defined as: F(x) = ∫ f(t) dt from -∞ to x , where f(t) is the PDF of X.\n",
    "\n",
    "- CDF is a non-decreasing function that ranges between 0 and 1, and is continuous from the right. This means that as x increases, the probability that X takes on a value less than or equal to x also increases. The CDF can also be used to calculate the probability that X takes on a value within a certain range, by taking the difference between the CDF at two values.\n",
    "\n",
    "- For example, let's say we have a random variable X that follows a uniform distribution on the interval [0,1]. The CDF of X is:\n",
    "\n",
    "- F(x) ={ 0 for x < 0,   x for 0 ≤ x < 1,   1 for x ≥ 1}\n",
    "\n",
    "- CDF is a useful tool for statistical analysis and modeling. It can be used to calculate percentiles, to determine the likelihood of certain outcomes, and to make predictions based on historical data. It also provides a way to compare different probability distributions and to test hypotheses about the distribution of a random variable.\n",
    "\n"
   ]
  },
  {
   "cell_type": "markdown",
   "id": "032ae3f9-6318-4de0-a26c-c9925e82bf5f",
   "metadata": {},
   "source": [
    "## 3. What are some examples of situations where the normal distribution might be used as a model? Explain how the parameters of the normal distribution relate to the shape of the distribution.\n",
    "\n",
    "- The normal distribution is a commonly used statistical distribution that describes many natural phenomena and human-made systems. It is a continuous probability distribution that is symmetric and bell-shaped, with the majority of the data clustering around the mean.\n",
    "\n",
    "- Some examples of situations where the normal distribution might be used as a model include:\n",
    "\n",
    "1. Heights or weights of people: These tend to follow a normal distribution with a mean and standard deviation that can be estimated from a sample of the population.\n",
    "\n",
    "2. IQ scores: Intelligence quotient scores are standardized to follow a normal distribution, with a mean of 100 and a standard deviation of 15.\n",
    "\n",
    "3. Measurement errors: The errors in many scientific measurements can be modeled using a normal distribution.\n",
    "\n",
    "4. Financial returns: The returns on many financial assets, such as stocks and bonds, are assumed to follow a normal distribution.\n",
    "\n",
    "- The parameters of the normal distribution are the mean, μ, and the standard deviation, σ. The mean represents the center of the distribution, while the standard deviation represents the spread or variability of the data around the mean. The larger the standard deviation, the more spread out the data is, and the flatter the distribution becomes.\n",
    "\n",
    "- The shape of the normal distribution is determined by the values of μ and σ. If μ = 0 and σ = 1, the distribution is called the standard normal distribution. The standard normal distribution is symmetric around 0 and has 68% of its data within one standard deviation of the mean, 95% within two standard deviations, and 99.7% within three standard deviations.\n",
    "\n",
    "- If μ is shifted to the right or left, the entire distribution is shifted in the same direction. If σ is increased or decreased, the distribution becomes more spread out or narrower, respectively.\n",
    "\n",
    "- In summary, the normal distribution is a powerful and widely used tool for modeling many real-world phenomena. Its shape is determined by the mean and standard deviation, which describe the center and spread of the data, respectively."
   ]
  },
  {
   "cell_type": "markdown",
   "id": "dff89232-925f-4c6f-9355-48ceb01b06b9",
   "metadata": {},
   "source": [
    "## 4. Explain the importance of Normal Distribution. Give a few real-life examples of Normal Distribution.\n",
    "\n",
    "- normal distribution is an important statistical concept that is widely used in many fields of study. Here are some of the reasons why it is important:\n",
    "\n",
    "\n",
    "1. It is a **versatile distribution**: The normal distribution is used to model a wide range of natural phenomena and human-made systems. It can be used to model everything from the heights of people to the returns on financial assets. This makes it a useful tool for many applications.\n",
    "\n",
    "2. It is well-understood: The normal distribution is a well-understood probability distribution, with many mathematical properties that have been studied extensively. This makes it easy to work with and to make predictions based on it.\n",
    "\n",
    "3. It is useful for statistical inference: Many statistical methods, such as hypothesis testing and confidence intervals, rely on the assumption that the data follow a normal distribution. This allows us to make inferences about the population based on a sample of the data.\n",
    "\n",
    "- Example:-\n",
    "1. height and weight of the people\n",
    "2. exam score\n",
    "3. IQ score\n",
    "4. Financial return \n",
    "5. Error in scientific \n",
    "6. blood pressure/body temprature\n",
    "7. production defect\n",
    "8. standardise test score\n",
    "\n"
   ]
  },
  {
   "cell_type": "markdown",
   "id": "bdb0a424-2dae-447b-bf6e-aed425ab43af",
   "metadata": {},
   "source": [
    "## 5. What is Bernaulli Distribution? Give an Example. What is the difference between Bernoulli Distribution and Binomial Distribution?\n",
    "\n",
    "- The Bernoulli distribution is a discrete probability distribution that models the outcome of a single binary event, such as a coin toss or a yes/no question. It is named after the Swiss mathematician Jacob Bernoulli, who introduced the concept in the 17th century. The Bernoulli distribution has a single parameter, p, which represents the probability of the event occurring.\n",
    "- example \n",
    "1. flipping a fair coin(head/tail,0/1)\n",
    "\n",
    "- The binomial distribution models the number of successes in a fixed number of independent Bernoulli trials. For example, if we flip a fair coin 10 times, the number of heads we get could be modeled using a binomial distribution with n = 10 and p = 0.5. The binomial distribution has two parameters: n, which represents the number of trials, and p, which represents the probability of success on each trial.\n",
    "\n",
    "- The main difference between the Bernoulli distribution and the binomial distribution is that the Bernoulli distribution models the outcome of a single trial, whereas the binomial distribution models the number of successes in a fixed number of trials. Another way to think about it is that the Bernoulli distribution is a special case of the binomial distribution where n = 1.\n",
    "\n",
    "- the Bernoulli distribution is a probability distribution that models the outcome of a single binary event, while the binomial distribution models the number of successes in a fixed number of independent Bernoulli trials."
   ]
  },
  {
   "cell_type": "markdown",
   "id": "6ce3a2c4-54fb-4053-8dfe-3b1dc2e9e9fa",
   "metadata": {},
   "source": [
    "## 6. Consider a dataset with a mean of 50 and a standard deviation of 10. If we assume that the dataset is normally distributed, what is the probability that a randomly selected observation will be greater than 60? Use the appropriate formula and show your calculations.\n",
    "\n",
    "- To solve this problem, we need to standardize the value of 60 by subtracting the mean and dividing by the standard deviation:\n",
    "- z = (60 - 50) / 10  => z = 1\n",
    "\n",
    "- We can then use a standard normal distribution table or calculator to find the probability of a value being greater than 1:\n",
    "\n",
    "- P(Z > 1) = 0.1587\n",
    "\n",
    "- Therefore, the probability that a randomly selected observation from this dataset will be greater than 60 is 0.1587 or approximately 16%."
   ]
  },
  {
   "cell_type": "markdown",
   "id": "6f229729-5efe-4a01-a2fa-a2981c1f5ae4",
   "metadata": {},
   "source": [
    "## 7. Explain uniform Distribution with an example.\n",
    "\n",
    "- The uniform distribution is a continuous probability distribution that has constant probability density function over a given interval. In other words, all values within the interval have an equal chance of being selected. It is often used in scenarios where all values within a certain range are considered equally likely.\n",
    "\n",
    "- For example, suppose a spinner is divided into four equally sized sections, each labeled with a number from 1 to 4. The spinner is spun, and the number that the spinner stops on is recorded. The probability of the spinner stopping on each number is the same, and can be modeled using a uniform distribution.\n",
    "\n",
    "- The probability density function (PDF) of a uniform distribution over an interval [a, b] is given by:\n",
    "\n",
    "- f(x) = { 1 / (b - a) for a <= x <= b , 0 for otherwise }\n",
    "\n",
    "- where x is any value within the interval [a, b]. The cumulative distribution function (CDF) of a uniform distribution is a linear function that increases from 0 at x = a to 1 at x = b.\n",
    "\n",
    "- The uniform distribution is often used in simulations, modeling games of chance, and generating random numbers in computer algorithms."
   ]
  },
  {
   "cell_type": "markdown",
   "id": "06386283-5233-4607-80db-a8f4834c63ab",
   "metadata": {},
   "source": [
    "## 8. What is the z score? State the importance of the z score.\n",
    "\n",
    "- The z-score, also known as the standard score, is a statistical measure that indicates how many standard deviations an observation or value is away from the mean of its distribution. It is calculated as the difference between the value and the mean divided by the standard deviation:\n",
    "\n",
    "- z = (x - mu) / sigma (x = observation,mu = mean,sigma = standard deviation)\n",
    "\n",
    "- The z-score is important because it allows us to standardize and compare values from different distributions with different scales and units. By transforming the values to a standard scale, we can compare them on a common ground and make meaningful conclusions. For example, we can use the z-score to determine the relative position of a value within a distribution, identify outliers, and calculate probabilities of events.\n",
    "\n",
    "- The z-score also plays a crucial role in hypothesis testing and confidence intervals, where it is used to calculate the critical values and probabilities of observing extreme values under the null hypothesis. It is a fundamental concept in statistics and forms the basis of many advanced statistical techniques."
   ]
  },
  {
   "cell_type": "markdown",
   "id": "196d4491-ac91-4a7f-bec9-faa76b493747",
   "metadata": {},
   "source": [
    "## 9. What is Central Limit Theorem? State the significance of the Central Limit Theorem.\n",
    "\n",
    "- The Central Limit Theorem (CLT) is a fundamental concept in statistics that states that as the sample size increases, the distribution of the sample means approaches a normal distribution, regardless of the underlying distribution of the population, as long as certain conditions are met.\n",
    "\n",
    "- Specifically, the CLT states that for a sample of n observations drawn from a population with a mean of μ and a standard deviation of σ, the distribution of the sample means is approximately normal with a mean of μ and a standard deviation of σ/sqrt(n), as n approaches infinity.\n",
    "\n",
    "- The significance of the CLT lies in its application to inferential statistics. It allows us to make inferences about the population based on the sample data, even if the population distribution is unknown or non-normal. The CLT forms the basis of many statistical tests and estimation techniques, such as hypothesis testing, confidence intervals, and linear regression. It is a critical tool for statisticians and data scientists in analyzing and interpreting data.\n"
   ]
  },
  {
   "cell_type": "markdown",
   "id": "b435b617-6900-415e-8174-5ae65fe1aee6",
   "metadata": {},
   "source": [
    "## 10. State the assumptions of the Central Limit Theorem.\n",
    "\n",
    "- The Central Limit Theorem (CLT) is a powerful statistical concept that has wide-ranging applications in various fields. However, for the CLT to hold true, certain assumptions must be met. The key assumptions of the Central Limit Theorem are:\n",
    "\n",
    "1. Independence: The samples are independent of each other, meaning that the value of one sample does not affect the value of another sample.\n",
    "\n",
    "2. Sample Size: The sample size should be large enough to ensure that the sampling distribution of the sample mean approaches a normal distribution. In general, a sample size of 30 or more is considered sufficient for the CLT to hold.\n",
    "\n",
    "3. Random Sampling: The samples must be selected randomly from the population, without any bias or preference.\n",
    "\n",
    "4. Finite Variance: The population from which the samples are drawn should have a finite variance. If the population variance is infinite, the CLT may not hold.\n",
    "\n",
    "- If these assumptions are met, then the CLT provides a reliable framework for analyzing and interpreting data, making predictions, and estimating population parameters. However, if these assumptions are violated, the CLT may not hold, and alternative methods may be needed to analyze the data."
   ]
  },
  {
   "cell_type": "code",
   "execution_count": null,
   "id": "d535f076-414e-4c68-9b7d-de627dd5d663",
   "metadata": {},
   "outputs": [],
   "source": []
  }
 ],
 "metadata": {
  "kernelspec": {
   "display_name": "Python 3 (ipykernel)",
   "language": "python",
   "name": "python3"
  },
  "language_info": {
   "codemirror_mode": {
    "name": "ipython",
    "version": 3
   },
   "file_extension": ".py",
   "mimetype": "text/x-python",
   "name": "python",
   "nbconvert_exporter": "python",
   "pygments_lexer": "ipython3",
   "version": "3.10.6"
  }
 },
 "nbformat": 4,
 "nbformat_minor": 5
}
