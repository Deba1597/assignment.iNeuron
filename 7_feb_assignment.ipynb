{
 "cells": [
  {
   "cell_type": "code",
   "execution_count": null,
   "id": "4fd31cb2-e5ea-4104-afdc-66dc202fcda3",
   "metadata": {},
   "outputs": [],
   "source": []
  },
  {
   "cell_type": "markdown",
   "id": "08f82554-e7aa-45ed-93c6-f505967be3bb",
   "metadata": {},
   "source": [
    "#2"
   ]
  },
  {
   "cell_type": "code",
   "execution_count": 11,
   "id": "4b2c4f1a-0139-4628-add3-ade2b5ce6103",
   "metadata": {},
   "outputs": [
    {
     "name": "stdout",
     "output_type": "stream",
     "text": [
      "True\n"
     ]
    }
   ],
   "source": [
    "str1 = \"Pwskills\"\n",
    "\n",
    "l1 = lambda str1: str1.startswith('P')\n",
    "print(l1('Pwskills'))"
   ]
  },
  {
   "cell_type": "code",
   "execution_count": 12,
   "id": "ba6f9ea8-2def-4775-a64a-68550d4d30b3",
   "metadata": {},
   "outputs": [
    {
     "name": "stdout",
     "output_type": "stream",
     "text": [
      "True\n"
     ]
    }
   ],
   "source": [
    "str2 = '1234566'\n",
    "l2 = lambda str2 : str2.isnumeric()\n",
    "print(l2(str2))"
   ]
  },
  {
   "cell_type": "code",
   "execution_count": 17,
   "id": "45d8e262-b720-4b24-967a-893c8e205413",
   "metadata": {},
   "outputs": [
    {
     "name": "stdout",
     "output_type": "stream",
     "text": [
      "[('orange', 80), ('mango', 99), ('grapes', 1000)]\n"
     ]
    }
   ],
   "source": [
    "list1 = [('mango',99),('orange',80),('grapes',1000)]\n",
    "\n",
    "list1.sort(key = lambda x : x[1])\n",
    "print(list1)"
   ]
  },
  {
   "cell_type": "code",
   "execution_count": 23,
   "id": "9d204a51-902e-4914-833d-94c077a4e513",
   "metadata": {},
   "outputs": [
    {
     "data": {
      "text/plain": [
       "[1, 4, 9, 16, 25, 36, 49, 64, 81, 100]"
      ]
     },
     "execution_count": 23,
     "metadata": {},
     "output_type": "execute_result"
    }
   ],
   "source": [
    "list2 =[1,2,3,4,5,6,7,8,9,10]\n",
    "l1 = list(map(lambda x: x**2 ,list2))\n",
    "l1"
   ]
  },
  {
   "cell_type": "code",
   "execution_count": 25,
   "id": "b64d0d5f-ac07-4eff-8dd0-ce15b63ff97f",
   "metadata": {},
   "outputs": [
    {
     "data": {
      "text/plain": [
       "[0, 1, 4, 9, 16, 25, 36, 49, 64, 81, 100]"
      ]
     },
     "execution_count": 25,
     "metadata": {},
     "output_type": "execute_result"
    }
   ],
   "source": [
    "l2 = list(map(lambda x: x**2 ,range(11)))\n",
    "l2"
   ]
  },
  {
   "cell_type": "code",
   "execution_count": 27,
   "id": "3f286f12-5093-4a80-892b-30e857431d16",
   "metadata": {},
   "outputs": [
    {
     "data": {
      "text/plain": [
       "[1, 8, 27, 64, 125, 216, 343, 512, 729, 1000]"
      ]
     },
     "execution_count": 27,
     "metadata": {},
     "output_type": "execute_result"
    }
   ],
   "source": [
    "list3 =[1,2,3,4,5,6,7,8,9,10]\n",
    "l3 = list(map(lambda x: x**3 ,list3))\n",
    "l3"
   ]
  },
  {
   "cell_type": "code",
   "execution_count": 32,
   "id": "f30ce37b-89e6-4247-89d2-0577e45e3936",
   "metadata": {},
   "outputs": [
    {
     "name": "stdin",
     "output_type": "stream",
     "text": [
      "Enter your number 34\n"
     ]
    },
    {
     "name": "stdout",
     "output_type": "stream",
     "text": [
      "entered number is even\n"
     ]
    }
   ],
   "source": [
    "enter_number = int(input('Enter your number'))\n",
    "even_no = lambda x : x%2 == 0\n",
    "if True:\n",
    "    print(\"entered number is even\")\n",
    "else:\n",
    "    print('entered number is false')\n"
   ]
  },
  {
   "cell_type": "code",
   "execution_count": 37,
   "id": "5fa77b32-5fe2-4aae-b8f9-5dbb15d84d09",
   "metadata": {},
   "outputs": [
    {
     "data": {
      "text/plain": [
       "[1, 3, 5, 7, 9]"
      ]
     },
     "execution_count": 37,
     "metadata": {},
     "output_type": "execute_result"
    }
   ],
   "source": [
    "lst3 = [1,2,3,4,5,6,7,8,9,10]\n",
    "odd_number = list(filter(lambda x : x%2 != 0,lst3))\n",
    "odd_number\n"
   ]
  },
  {
   "cell_type": "code",
   "execution_count": 39,
   "id": "accb95f4-265a-4429-aa4d-fc85c9d58605",
   "metadata": {},
   "outputs": [
    {
     "name": "stdout",
     "output_type": "stream",
     "text": [
      "[-5, -4, -3, -2, -1, 0, 1, 2, 3, 4, 5, 6]\n"
     ]
    }
   ],
   "source": [
    "lst4=[1,2,3,4,5,6,-1,-2,-3,-4,-5,0]\n",
    "lst4.sort(key = lambda x : x)\n",
    "print(lst4)"
   ]
  },
  {
   "cell_type": "code",
   "execution_count": null,
   "id": "aa090f5e-2bf2-4ab8-8748-4d3607fc96be",
   "metadata": {},
   "outputs": [],
   "source": []
  }
 ],
 "metadata": {
  "kernelspec": {
   "display_name": "Python 3 (ipykernel)",
   "language": "python",
   "name": "python3"
  },
  "language_info": {
   "codemirror_mode": {
    "name": "ipython",
    "version": 3
   },
   "file_extension": ".py",
   "mimetype": "text/x-python",
   "name": "python",
   "nbconvert_exporter": "python",
   "pygments_lexer": "ipython3",
   "version": "3.10.6"
  }
 },
 "nbformat": 4,
 "nbformat_minor": 5
}
