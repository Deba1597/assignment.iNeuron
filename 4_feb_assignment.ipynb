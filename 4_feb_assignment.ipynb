{
 "cells": [
  {
   "cell_type": "code",
   "execution_count": 1,
   "id": "0a0a1923-90bd-45cf-9210-74f763c11029",
   "metadata": {},
   "outputs": [
    {
     "name": "stdout",
     "output_type": "stream",
     "text": [
      "[('Virat Kohli', 24936), ('Jack Kallis', 25534), ('Ricky Ponting', 27483), ('Sachin Tendulkar', 34357)]\n"
     ]
    }
   ],
   "source": [
    "list3 = [('Sachin Tendulkar',34357),('Ricky Ponting', 27483),('Jack Kallis',25534),('Virat Kohli',24936)]\n",
    "sort = sorted(list3 , key = lambda x : x[1])\n",
    "print(sort)"
   ]
  },
  {
   "cell_type": "code",
   "execution_count": 14,
   "id": "bbff6d06-3272-40b1-9e3d-fc3203afec78",
   "metadata": {},
   "outputs": [
    {
     "name": "stdout",
     "output_type": "stream",
     "text": [
      "the output is:  [1, 4, 9, 16, 25, 36, 49, 64, 81, 100]\n"
     ]
    }
   ],
   "source": [
    "lst = [1,2,3,4,5,6,7,8,9,10]\n",
    "l2 = list(map(lambda x : x**2 , lst))\n",
    "\n",
    "print('the output is: ', l2)"
   ]
  },
  {
   "cell_type": "code",
   "execution_count": 4,
   "id": "9d97476e-54f7-4f6a-8b45-7456d978566a",
   "metadata": {},
   "outputs": [
    {
     "name": "stdout",
     "output_type": "stream",
     "text": [
      "the out put is:  ('1', '2', '3', '4', '5', '6', '7', '8', '9', '10')\n"
     ]
    }
   ],
   "source": [
    "lst1 = [1,2,3,4,5,6,7,8,9,10]\n",
    "l1 = tuple(map(lambda x : str(x), lst1))\n",
    "\n",
    "print('the out put is: ', str(l1))"
   ]
  },
  {
   "cell_type": "code",
   "execution_count": 5,
   "id": "bb681a5b-acb6-4eeb-8c1e-df14f8585bed",
   "metadata": {},
   "outputs": [
    {
     "name": "stdout",
     "output_type": "stream",
     "text": [
      "the list is:  [1, 2, 3, 4, 5, 6, 7, 8, 9, 10, 11, 12, 13, 14, 15, 16, 17, 18, 19, 20, 21, 22, 23, 24, 25]\n",
      "the product is  15511210043330985984000000\n"
     ]
    }
   ],
   "source": [
    "from functools import reduce\n",
    "l = list(range(1,26))\n",
    "\n",
    "print('the list is: ', l)\n",
    "product = reduce(lambda x,y :x*y ,l)\n",
    "\n",
    "print('the product is ', product)"
   ]
  },
  {
   "cell_type": "code",
   "execution_count": 6,
   "id": "67f6d481-448b-4be3-afff-fd821c541a6d",
   "metadata": {},
   "outputs": [
    {
     "name": "stdout",
     "output_type": "stream",
     "text": [
      "no divisible by 2 and 3 [6, 60, 90, 120]\n"
     ]
    }
   ],
   "source": [
    "l3= [2,3,6,9,27,60,90,120,55,46]\n",
    "list_1 = list(filter(lambda x : x%2 == 0 and x%3 == 0,l3))\n",
    "print('no divisible by 2 and 3' , list_1)"
   ]
  },
  {
   "cell_type": "code",
   "execution_count": 7,
   "id": "2b29bc68-d86c-4b2e-9be1-21fe67c96630",
   "metadata": {},
   "outputs": [
    {
     "name": "stdout",
     "output_type": "stream",
     "text": [
      "the palindrom is  ['php', 'aba', 'radar', 'level']\n"
     ]
    }
   ],
   "source": [
    "list_2 = ['python','php','aba','radar','level']\n",
    "list2 = list(filter(lambda x : x[::-1] == x[::], list_2))\n",
    "print('the palindrom is ' ,list2)"
   ]
  },
  {
   "cell_type": "code",
   "execution_count": null,
   "id": "1aacbba5-2961-4e02-bfd2-ae32d651e24b",
   "metadata": {},
   "outputs": [],
   "source": []
  }
 ],
 "metadata": {
  "kernelspec": {
   "display_name": "Python 3 (ipykernel)",
   "language": "python",
   "name": "python3"
  },
  "language_info": {
   "codemirror_mode": {
    "name": "ipython",
    "version": 3
   },
   "file_extension": ".py",
   "mimetype": "text/x-python",
   "name": "python",
   "nbconvert_exporter": "python",
   "pygments_lexer": "ipython3",
   "version": "3.10.6"
  }
 },
 "nbformat": 4,
 "nbformat_minor": 5
}
