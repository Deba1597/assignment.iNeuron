{
 "cells": [
  {
   "cell_type": "markdown",
   "id": "cd947c71-46d9-4647-9e0e-7322bf5a2067",
   "metadata": {},
   "source": [
    "Abstraction is the process of hiding the internal details of an application from the outer world. Abstraction is used to describe things in simple terms. It’s used to create a boundary between the application and the client programs.\n",
    "\n",
    "abstraction allows developers to focus on the essential features of an object or system without worrying about its internal workings. "
   ]
  },
  {
   "cell_type": "code",
   "execution_count": 17,
   "id": "c75c46dc-b42a-4b39-94e7-da1dee7bfc5c",
   "metadata": {},
   "outputs": [],
   "source": [
    "class BankAccount:\n",
    "    def __init__(self, initial_balance):\n",
    "        self.balance = initial_balance\n",
    "        \n",
    "    def deposit(self, amount):\n",
    "        self.balance += amount\n",
    "        \n",
    "    def withdraw(self, amount):\n",
    "        if self.balance >= amount:\n",
    "            self.balance = self.balance - amount\n",
    "            return True\n",
    "        else:\n",
    "            return 'insufficient balance'\n",
    "        \n",
    "        \n",
    "    def get_balance(self):\n",
    "        return self.balance\n"
   ]
  },
  {
   "cell_type": "code",
   "execution_count": 18,
   "id": "4a046d9c-0db8-4afd-8dc7-f1c8aa826131",
   "metadata": {},
   "outputs": [],
   "source": [
    "papu = BankAccount(10000)"
   ]
  },
  {
   "cell_type": "code",
   "execution_count": 19,
   "id": "09c82b97-966b-4a31-bacf-104bac57c0d3",
   "metadata": {},
   "outputs": [
    {
     "data": {
      "text/plain": [
       "10000"
      ]
     },
     "execution_count": 19,
     "metadata": {},
     "output_type": "execute_result"
    }
   ],
   "source": [
    "papu.get_balance()"
   ]
  },
  {
   "cell_type": "code",
   "execution_count": 15,
   "id": "cb16f272-5523-4ebb-9aec-913940362b2b",
   "metadata": {},
   "outputs": [],
   "source": [
    "#2"
   ]
  },
  {
   "cell_type": "markdown",
   "id": "a7459ca9-ef06-4754-b6f1-c67df2d20420",
   "metadata": {},
   "source": [
    "Encapsulation refers to the practice of hiding implementation details within a class, so that the class can control access to its internal state. Encapsulation is achieved by using access modifiers (such as public, private, and protected) to restrict access to certain data or methods. it prevent external code from modifying the internal state of an object directly, which can help to ensure the integrity of the object.\n",
    "\n",
    "Abstraction hide the  implementation details behind a simple and consistent interface, so that users of the interface do not need to understand the implementation details. Abstraction is achieved by defining abstract classes or interfaces that define a set of methods without providing an implementation. The goal of abstraction is to make it easier to use and maintain complex systems, by providing a simplified view of the system."
   ]
  },
  {
   "cell_type": "code",
   "execution_count": 20,
   "id": "63c08119-efca-4cad-bd7c-e6b6b52957fc",
   "metadata": {},
   "outputs": [],
   "source": [
    "# example of encapsulation\n",
    "class bank_ac:\n",
    "    \n",
    "    def __init__(self, balance):\n",
    "        self.__balance  = balance\n",
    "        \n",
    "    def deposit(self, amount):\n",
    "        self.__balance = self.__balance + amount\n",
    "        \n",
    "    def withdraw(self , amount):\n",
    "        if self.__balance >= amount:\n",
    "            self.__balance = self.__balance - amount\n",
    "            return True\n",
    "        else:\n",
    "            return 'insufficient balance'\n",
    "    \n",
    "    def get_balance(self):\n",
    "        return self.__balance"
   ]
  },
  {
   "cell_type": "code",
   "execution_count": 22,
   "id": "1d806286-f18c-4bea-b5e5-e2fadc70a22b",
   "metadata": {},
   "outputs": [],
   "source": [
    "siku=bank_ac(50000)"
   ]
  },
  {
   "cell_type": "code",
   "execution_count": 26,
   "id": "ad5771fd-a597-4057-9232-6f973a07bf03",
   "metadata": {},
   "outputs": [
    {
     "data": {
      "text/plain": [
       "True"
      ]
     },
     "execution_count": 26,
     "metadata": {},
     "output_type": "execute_result"
    }
   ],
   "source": [
    "siku.deposit(500)\n",
    "siku.withdraw(2000)"
   ]
  },
  {
   "cell_type": "code",
   "execution_count": 27,
   "id": "67fdfce9-0b27-46a1-8593-de7164f12aac",
   "metadata": {},
   "outputs": [
    {
     "data": {
      "text/plain": [
       "49000"
      ]
     },
     "execution_count": 27,
     "metadata": {},
     "output_type": "execute_result"
    }
   ],
   "source": [
    "siku.get_balance()"
   ]
  },
  {
   "cell_type": "code",
   "execution_count": 28,
   "id": "b1e8cfce-0188-4d0c-bf93-d6d9eb40bfe9",
   "metadata": {},
   "outputs": [],
   "source": [
    "#3"
   ]
  },
  {
   "cell_type": "markdown",
   "id": "7d3a4477-b39f-4fbc-a6f4-34ceff3fa68f",
   "metadata": {},
   "source": [
    "The abc module in Python stands for \"Abstract Base Classes\"\n",
    "It define abstract classes in Python, which are classes that cannot be instantiated directly but must be subclassed to provide concrete implementations of their abstract methods."
   ]
  },
  {
   "cell_type": "markdown",
   "id": "3c8b4e05-f414-4393-a147-49f62693eaea",
   "metadata": {},
   "source": [
    "abc module used for :-\n",
    "1 enforcing common interface\n",
    "2 reducing code duplication\n",
    "3 enforcing type checking\n",
    "4 providing framework extension"
   ]
  },
  {
   "cell_type": "code",
   "execution_count": 49,
   "id": "18c72778-9532-46a7-88d3-1a53718fb4c4",
   "metadata": {},
   "outputs": [],
   "source": [
    "import abc\n",
    "\n",
    "class Shape:\n",
    "    @abc.abstractmethod\n",
    "    def area(self):\n",
    "        pass\n",
    "    \n",
    "    @abc.abstractmethod\n",
    "    def perimeter(self):\n",
    "        pass\n",
    "\n",
    "class Rectangle(Shape):\n",
    "    def __init__(self, width, height):\n",
    "        self.width = width\n",
    "        self.height = height\n",
    "    \n",
    "    def area(self):\n",
    "        return self.width * self.height\n",
    "    \n",
    "    def perimeter(self):\n",
    "        return 2 * (self.width + self.height)\n",
    "\n",
    "class Square(Shape):\n",
    "    def __init__(self,length):\n",
    "        self.length = length\n",
    "    \n",
    "    def area(self):\n",
    "        return self.length**2\n",
    "    \n",
    "    def perimeter(self):\n",
    "        return self.length * 4\n"
   ]
  },
  {
   "cell_type": "code",
   "execution_count": 50,
   "id": "de04af8f-42d6-4139-8194-7a6c7d3b871e",
   "metadata": {},
   "outputs": [],
   "source": [
    "rect = Rectangle(20,10)"
   ]
  },
  {
   "cell_type": "code",
   "execution_count": 51,
   "id": "272f9cc7-69c2-4cbd-b870-36c98095d63e",
   "metadata": {},
   "outputs": [
    {
     "data": {
      "text/plain": [
       "200"
      ]
     },
     "execution_count": 51,
     "metadata": {},
     "output_type": "execute_result"
    }
   ],
   "source": [
    "rect.area()"
   ]
  },
  {
   "cell_type": "code",
   "execution_count": 52,
   "id": "bae55b3d-b849-4572-8dbc-3502217c5bdc",
   "metadata": {},
   "outputs": [
    {
     "data": {
      "text/plain": [
       "60"
      ]
     },
     "execution_count": 52,
     "metadata": {},
     "output_type": "execute_result"
    }
   ],
   "source": [
    "rect.perimeter()"
   ]
  },
  {
   "cell_type": "code",
   "execution_count": 53,
   "id": "ed87a51f-d7a4-43ad-970b-bfc61262c89e",
   "metadata": {},
   "outputs": [
    {
     "data": {
      "text/plain": [
       "20"
      ]
     },
     "execution_count": 53,
     "metadata": {},
     "output_type": "execute_result"
    }
   ],
   "source": [
    "rect.width"
   ]
  },
  {
   "cell_type": "code",
   "execution_count": 54,
   "id": "ccdc6a56-b827-4718-b655-0fd22ce414f1",
   "metadata": {},
   "outputs": [],
   "source": [
    "sq = Square(40)"
   ]
  },
  {
   "cell_type": "code",
   "execution_count": 55,
   "id": "45305236-2c9a-44e3-bf37-3c656d2021b6",
   "metadata": {},
   "outputs": [
    {
     "data": {
      "text/plain": [
       "1600"
      ]
     },
     "execution_count": 55,
     "metadata": {},
     "output_type": "execute_result"
    }
   ],
   "source": [
    "sq.area()"
   ]
  },
  {
   "cell_type": "code",
   "execution_count": 56,
   "id": "7ad62899-2a36-407a-bc30-5e18ae3db7b5",
   "metadata": {},
   "outputs": [
    {
     "data": {
      "text/plain": [
       "160"
      ]
     },
     "execution_count": 56,
     "metadata": {},
     "output_type": "execute_result"
    }
   ],
   "source": [
    "sq.perimeter()"
   ]
  },
  {
   "cell_type": "code",
   "execution_count": 57,
   "id": "f4eb4a0b-da2f-40f4-9e4e-b2d51b07e851",
   "metadata": {},
   "outputs": [
    {
     "data": {
      "text/plain": [
       "40"
      ]
     },
     "execution_count": 57,
     "metadata": {},
     "output_type": "execute_result"
    }
   ],
   "source": [
    "sq.length"
   ]
  },
  {
   "cell_type": "code",
   "execution_count": 48,
   "id": "f8192256-7853-4c0a-a4bc-99072ec5e1a6",
   "metadata": {},
   "outputs": [],
   "source": [
    "#4 how can we achive data abstraction"
   ]
  },
  {
   "cell_type": "markdown",
   "id": "55de0a03-ef60-4c64-9b9c-92af441c90ae",
   "metadata": {},
   "source": [
    "data abstraction can be achived by encapsulation and abstract classes\n",
    "the following example where we use encapsulation and abstract class."
   ]
  },
  {
   "cell_type": "code",
   "execution_count": 86,
   "id": "81c51306-bc08-4ec9-b78c-a78b49c0aee5",
   "metadata": {},
   "outputs": [],
   "source": [
    "import abc\n",
    "\n",
    "class Employee:\n",
    "    def __init__(self, name, id):\n",
    "        self.name = name\n",
    "        self.id = id\n",
    "\n",
    "    @abc.abstractmethod\n",
    "    def get_salary(self):\n",
    "        pass\n",
    "\n",
    "class Developer(Employee):\n",
    "    def __init__(self, name, id, salary):\n",
    "        super().__init__(name, id)\n",
    "        self.salary = salary\n",
    "\n",
    "    def get_salary(self):\n",
    "        return self.salary\n",
    "\n",
    "class Manager(Employee):\n",
    "    def __init__(self, name, id, salary, bonus):\n",
    "        super().__init__(name, id)\n",
    "        self.salary = salary\n",
    "        self.bonus = bonus\n",
    "\n",
    "    def get_salary(self):\n",
    "        return self.salary + self.bonus\n"
   ]
  },
  {
   "cell_type": "code",
   "execution_count": 87,
   "id": "f455c7fa-3552-4c71-bdb8-4386e3c06e8a",
   "metadata": {},
   "outputs": [],
   "source": [
    "e1 = Employee('Debasish',203)"
   ]
  },
  {
   "cell_type": "code",
   "execution_count": 88,
   "id": "37ef7887-23fc-47b8-b8a9-98e2c3b22fe1",
   "metadata": {},
   "outputs": [
    {
     "data": {
      "text/plain": [
       "'Debasish'"
      ]
     },
     "execution_count": 88,
     "metadata": {},
     "output_type": "execute_result"
    }
   ],
   "source": [
    "e1.name"
   ]
  },
  {
   "cell_type": "code",
   "execution_count": 89,
   "id": "3e7cad95-54a5-4fe7-9e46-ce62170296cd",
   "metadata": {},
   "outputs": [],
   "source": [
    "e2 = Manager(\"Debasish\",203,30000,10000)"
   ]
  },
  {
   "cell_type": "code",
   "execution_count": 90,
   "id": "f068901d-0a6d-463a-8cbe-5535e8720ef8",
   "metadata": {},
   "outputs": [
    {
     "data": {
      "text/plain": [
       "40000"
      ]
     },
     "execution_count": 90,
     "metadata": {},
     "output_type": "execute_result"
    }
   ],
   "source": [
    "e2.get_salary()"
   ]
  },
  {
   "cell_type": "code",
   "execution_count": 92,
   "id": "af076441-e4b3-44bf-8bea-b4ac2be3742a",
   "metadata": {},
   "outputs": [
    {
     "data": {
      "text/plain": [
       "203"
      ]
     },
     "execution_count": 92,
     "metadata": {},
     "output_type": "execute_result"
    }
   ],
   "source": [
    "e2.id"
   ]
  },
  {
   "cell_type": "code",
   "execution_count": 84,
   "id": "158a3c25-1650-4580-8745-19cc76acc22d",
   "metadata": {},
   "outputs": [
    {
     "data": {
      "text/plain": [
       "10000"
      ]
     },
     "execution_count": 84,
     "metadata": {},
     "output_type": "execute_result"
    }
   ],
   "source": [
    "e2.bonus"
   ]
  },
  {
   "cell_type": "code",
   "execution_count": 85,
   "id": "d7489b96-312d-49c0-aa54-1cc1e0a25d8e",
   "metadata": {},
   "outputs": [],
   "source": [
    "#5"
   ]
  },
  {
   "cell_type": "markdown",
   "id": "369a18d4-901e-41d1-b5d8-e25d1f114c68",
   "metadata": {},
   "source": [
    "No, we cannot create an instance of an abstract class directly in Python. This is because abstract classes are incomplete classes that are meant to be subclassed and extended by concrete classes.\n"
   ]
  },
  {
   "cell_type": "code",
   "execution_count": 103,
   "id": "43251c13-21e5-4bb9-b7ec-e674bffa5f1b",
   "metadata": {},
   "outputs": [
    {
     "ename": "TypeError",
     "evalue": "Can't instantiate abstract class Shape with abstract method area",
     "output_type": "error",
     "traceback": [
      "\u001b[0;31m---------------------------------------------------------------------------\u001b[0m",
      "\u001b[0;31mTypeError\u001b[0m                                 Traceback (most recent call last)",
      "Cell \u001b[0;32mIn [103], line 17\u001b[0m\n\u001b[1;32m     13\u001b[0m     \u001b[38;5;28;01mdef\u001b[39;00m \u001b[38;5;21marea\u001b[39m(\u001b[38;5;28mself\u001b[39m):\n\u001b[1;32m     14\u001b[0m         \u001b[38;5;28;01mreturn\u001b[39;00m \u001b[38;5;28mself\u001b[39m\u001b[38;5;241m.\u001b[39mwidth \u001b[38;5;241m*\u001b[39m \u001b[38;5;28mself\u001b[39m\u001b[38;5;241m.\u001b[39mheight\n\u001b[0;32m---> 17\u001b[0m s \u001b[38;5;241m=\u001b[39m \u001b[43mShape\u001b[49m\u001b[43m(\u001b[49m\u001b[43m)\u001b[49m\n",
      "\u001b[0;31mTypeError\u001b[0m: Can't instantiate abstract class Shape with abstract method area"
     ]
    }
   ],
   "source": [
    "from abc import ABC, abstractmethod\n",
    "\n",
    "class Shape(ABC):\n",
    "    @abstractmethod\n",
    "    def area(self):\n",
    "        pass\n",
    "\n",
    "class Rectangle(Shape):\n",
    "    def __init__(self, width, height):\n",
    "        self.width = width\n",
    "        self.height = height\n",
    "\n",
    "    def area(self):\n",
    "        return self.width * self.height\n",
    "\n",
    "\n",
    "s = Shape()  \n"
   ]
  },
  {
   "cell_type": "code",
   "execution_count": null,
   "id": "56a0130d-844c-47d2-85fd-41cfc3f6cfe3",
   "metadata": {},
   "outputs": [],
   "source": []
  }
 ],
 "metadata": {
  "kernelspec": {
   "display_name": "Python 3 (ipykernel)",
   "language": "python",
   "name": "python3"
  },
  "language_info": {
   "codemirror_mode": {
    "name": "ipython",
    "version": 3
   },
   "file_extension": ".py",
   "mimetype": "text/x-python",
   "name": "python",
   "nbconvert_exporter": "python",
   "pygments_lexer": "ipython3",
   "version": "3.10.6"
  }
 },
 "nbformat": 4,
 "nbformat_minor": 5
}
