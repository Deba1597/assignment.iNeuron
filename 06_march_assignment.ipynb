{
 "cells": [
  {
   "cell_type": "markdown",
   "id": "31b3ee2d-f0de-4a83-aa76-c4d188c2440b",
   "metadata": {},
   "source": [
    "## statistics basics 1"
   ]
  },
  {
   "cell_type": "markdown",
   "id": "463d5416-1f1b-43b2-bbe3-83396dee5dd5",
   "metadata": {},
   "source": [
    "## 1 "
   ]
  },
  {
   "cell_type": "markdown",
   "id": "abf211cc-1af6-470b-b49f-4adf53d79122",
   "metadata": {},
   "source": [
    "statistics is the branch of mathematics  deals with collecting ,organising and analysing data. in fact it helps to inform decision-making in a wide range of fields."
   ]
  },
  {
   "cell_type": "markdown",
   "id": "a128c013-df1c-4443-9127-d330a09d9e52",
   "metadata": {},
   "source": [
    "## 2"
   ]
  },
  {
   "cell_type": "markdown",
   "id": "dc491af3-34fe-4d68-81c9-fafe6101844b",
   "metadata": {},
   "source": [
    "There are two main types of statistics: descriptive statistics and inferential statistics.\n",
    "\n",
    "descriptive stats - used to summarize and describe the characteristics of a set of data. It provides an overview of the data and helps to identify patterns, trends, and relationships among variables. Descriptive statistics can be used to measure central tendency (mean, median, mode), variability (range, standard deviation), and the shape of the distribution.\n",
    "\n",
    "inferential stats - used to draw conclusions or make predictions about a population based on a sample of data. It involves testing hypotheses, making estimates, and determining the probability of an event occurring. Inferential statistics uses techniques such as confidence intervals, hypothesis testing, and regression analysis."
   ]
  },
  {
   "cell_type": "markdown",
   "id": "29c06446-5d0c-4fd2-8d9c-2a0a77fa65fc",
   "metadata": {},
   "source": [
    "## 3"
   ]
  },
  {
   "cell_type": "markdown",
   "id": "056a68d7-a001-4c44-91c7-9c5347c2c211",
   "metadata": {},
   "source": [
    "what are the different type of data and how do they differ from each other? provide a example of each type of data ?"
   ]
  },
  {
   "cell_type": "markdown",
   "id": "26ee29df-bb69-467a-95ae-3c66cac06b96",
   "metadata": {},
   "source": [
    "ans. - four types of data: nominal, ordinal, interval, and ratio\n",
    "\n",
    "Nominal data: Nominal data refers to data that is categorized or named without any order or ranking.\n",
    " The categories are distinct, and there is no inherent order or value associated with them. \n",
    " For example, gender (male, female) and color (red, blue, green) are examples of nominal data\n",
    "\n",
    "Ordinal data: Ordinal data is data that is categorized and ranked in a specific order, but the differences between the categories are not necessarily equal.\n",
    "Examples of ordinal data include education level (elementary, middle, high school, college) and Likert scales (strongly agree, agree, neutral, disagree, strongly disagree).\n",
    "\n",
    "Interval data: Interval data is data where the differences between the values are equal and meaningful, but there is no true zero point.\n",
    " Examples of interval data include temperature in Celsius or Fahrenheit, where zero does not represent the complete absence of temperature.\n",
    "\n",
    "Ratio data: Ratio data is data where the differences between the values are equal and meaningful, and there is a true zero point. \n",
    " Examples of ratio data include height, weight, and income."
   ]
  },
  {
   "cell_type": "markdown",
   "id": "373e178f-cbd5-49b2-99b7-39a29556733f",
   "metadata": {},
   "source": [
    "## 4"
   ]
  },
  {
   "cell_type": "markdown",
   "id": "26bfbc92-719f-46c9-8679-ed9ff26469bf",
   "metadata": {},
   "source": [
    "grading in exam - ordinal data\n",
    "\n",
    "colour of mangos - nominal data\n",
    "\n",
    "heigh data of class - ratio data\n",
    "\n",
    "number of mangoes exported by a farm - ratio data\n"
   ]
  },
  {
   "cell_type": "markdown",
   "id": "0e1622b4-52f6-4ad9-80e3-d85507e0a140",
   "metadata": {
    "tags": []
   },
   "source": [
    "## 5"
   ]
  },
  {
   "cell_type": "markdown",
   "id": "003d8bdf-f980-4334-a608-ccba8f4e4011",
   "metadata": {},
   "source": [
    "explain the concept of level of measurement and give an example of a variable for each level?"
   ]
  },
  {
   "cell_type": "markdown",
   "id": "5662a238-82d9-45d9-8b34-296a615b0fab",
   "metadata": {},
   "source": [
    "level of measurement describes the type of data and the level of information it provides. \n",
    "Nominal data provides categories without any order, \n",
    "ordinal data provides categories with an order or ranking, \n",
    "interval data provides categories with equal and meaningful differences but no true zero point, and \n",
    "ratio data provides categories with equal and meaningful differences and a true zero point."
   ]
  },
  {
   "cell_type": "markdown",
   "id": "d67af1d4-36af-4269-ab0c-8ca3d60786b0",
   "metadata": {
    "tags": []
   },
   "source": [
    "## 6"
   ]
  },
  {
   "cell_type": "markdown",
   "id": "a49c984e-d2a4-439a-aae8-8b4e7e3d94b7",
   "metadata": {},
   "source": [
    "different statistical techniques and measures are appropriate for different types of data. The level of measurement determines the type of analysis that can be performed, the type of summary statistics that can be calculated, and the type of conclusions that can be drawn from the data.\n",
    "\n",
    "in nominal dat we can use frequency table and mode to summerise the data.\n",
    "in ordinal data we can use median or percentile to summerise he data.\n",
    "in ratio data we can use wider range of statistical analysis by mean ,median , standard deviation and corelation.\n"
   ]
  },
  {
   "cell_type": "markdown",
   "id": "b1f0998a-bc01-4a9a-9aab-a632aceb0883",
   "metadata": {},
   "source": [
    "## 7"
   ]
  },
  {
   "cell_type": "markdown",
   "id": "3983cd4d-ce1d-41e5-a4ac-de901f7db43f",
   "metadata": {},
   "source": [
    "Nominal data and ordinal data are both types of categorical data, but they differ in the level of measurement\n",
    "\n",
    "Nominal data is the simplest type of categorical data, where the values are categories with no inherent order or ranking.\n",
    " Nominal data can be represented by labels or names.\n",
    " \n",
    " Ordinal data  has categories that have a specific order or ranking, but the difference between the categories may not be equal. Ordinal data can be represented by rankings or scores.\n",
    " example, the rankings of a sports team in a league (1st place, 2nd place, 3rd place, etc.)"
   ]
  },
  {
   "cell_type": "markdown",
   "id": "ca01645d-d052-4cca-bd5a-8bbfcf306a7f",
   "metadata": {},
   "source": [
    "## 8"
   ]
  },
  {
   "cell_type": "markdown",
   "id": "a54844cc-f19a-4b42-be13-58bb7ac1b0b3",
   "metadata": {},
   "source": [
    "A box plot/box-and-whisker plot is a common type of plot used to display data in terms of range. \n",
    "\n",
    "box plot displays the distribution of a set of data through five summary statistics: minimum, first quartile (Q1), median, third quartile (Q3), and maximum.\n",
    "Box plots are useful for displaying the spread and variability of the data and identifying the outliers.\n"
   ]
  },
  {
   "cell_type": "markdown",
   "id": "d5075e88-3a0d-4b2f-80ea-b94ada7c7d87",
   "metadata": {},
   "source": [
    "## 9"
   ]
  },
  {
   "cell_type": "markdown",
   "id": "60a661df-86b4-4e8c-9eb3-01566363c47c",
   "metadata": {},
   "source": [
    " descriptive statistics are used to summarize and describe the main features of a dataset, while inferential statistics are used to make generalizations and predictions about a larger population based on a sample of data.\n",
    " \n",
    " descriptive stats - used to summarize and describe the characteristics of a set of data. It provides an overview of the data and helps to identify patterns, trends, and relationships among variables. Descriptive statistics can be used to measure central tendency (mean, median, mode), variability (range, standard deviation), and the shape of the distribution.\n",
    "\n",
    "inferential stats - used to draw conclusions or make predictions about a population based on a sample of data. It involves testing hypotheses, making estimates, and determining the probability of an event occurring. Inferential statistics uses techniques such as confidence intervals, hypothesis testing, and regression analysis."
   ]
  },
  {
   "cell_type": "markdown",
   "id": "df8601e3-c607-4fa2-b6c4-ba63ed306a23",
   "metadata": {},
   "source": [
    "## 10"
   ]
  },
  {
   "cell_type": "markdown",
   "id": "f50fae03-91df-4203-aad5-9b3b2ec64d73",
   "metadata": {},
   "source": [
    "Measures of central tendency provide information about the central or typical value of a dataset. The most common measures of central tendency include: mean,median and mode\n",
    "\n",
    "Measures of variability provide information about the spread or dispersion of a dataset. The most common measures of variability include : range , variance and standard deviation\n",
    "\n"
   ]
  }
 ],
 "metadata": {
  "kernelspec": {
   "display_name": "Python 3 (ipykernel)",
   "language": "python",
   "name": "python3"
  },
  "language_info": {
   "codemirror_mode": {
    "name": "ipython",
    "version": 3
   },
   "file_extension": ".py",
   "mimetype": "text/x-python",
   "name": "python",
   "nbconvert_exporter": "python",
   "pygments_lexer": "ipython3",
   "version": "3.10.6"
  }
 },
 "nbformat": 4,
 "nbformat_minor": 5
}
