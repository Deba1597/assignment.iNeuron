{
 "cells": [
  {
   "cell_type": "code",
   "execution_count": null,
   "id": "b4b13b2d-ec41-4e26-b53c-c7ad5f554388",
   "metadata": {},
   "outputs": [],
   "source": []
  },
  {
   "cell_type": "code",
   "execution_count": 1,
   "id": "2f4b7225-8a65-401f-8564-80273979f4d8",
   "metadata": {},
   "outputs": [],
   "source": [
    "import numpy as np\n",
    "list_ = ['1','2','3','4','5']\n",
    "array_list = np.array(object=list_)"
   ]
  },
  {
   "cell_type": "markdown",
   "id": "46d7e424-5d17-4dc5-9f8e-5714317eece8",
   "metadata": {},
   "source": [
    "## 1.  Is there any difference in the data type of variables list_ and array_list? If there is then write a code to print the data types of both the variables."
   ]
  },
  {
   "cell_type": "raw",
   "id": "49fddcc4-7a97-4cef-b41c-a8ea14599727",
   "metadata": {},
   "source": [
    "here type(list_) is list but type(array_list) is numpy.ndarray "
   ]
  },
  {
   "cell_type": "code",
   "execution_count": 3,
   "id": "06d60cc9-7b21-4908-b3e8-81c4bc7ea1b0",
   "metadata": {},
   "outputs": [
    {
     "name": "stdout",
     "output_type": "stream",
     "text": [
      "<class 'list'>\n",
      "<class 'numpy.ndarray'>\n"
     ]
    }
   ],
   "source": [
    "print(type(list_))\n",
    "print(type(array_list))"
   ]
  },
  {
   "cell_type": "markdown",
   "id": "35a0f677-1364-48dd-85cc-036ed99d89c4",
   "metadata": {},
   "source": [
    "## 2. Write a code to print the data type of each and every element of both the variables list_ and array_list."
   ]
  },
  {
   "cell_type": "code",
   "execution_count": 4,
   "id": "9da9f314-ca69-4ce5-8e77-85803ee6fc89",
   "metadata": {},
   "outputs": [
    {
     "name": "stdout",
     "output_type": "stream",
     "text": [
      "datatype of each element of list_ <class 'str'> and the element is  1\n",
      "datatype of each element of list_ <class 'str'> and the element is  2\n",
      "datatype of each element of list_ <class 'str'> and the element is  3\n",
      "datatype of each element of list_ <class 'str'> and the element is  4\n",
      "datatype of each element of list_ <class 'str'> and the element is  5\n",
      "datatype of each element of array_list is  <class 'numpy.str_'> and the element is 1\n",
      "datatype of each element of array_list is  <class 'numpy.str_'> and the element is 2\n",
      "datatype of each element of array_list is  <class 'numpy.str_'> and the element is 3\n",
      "datatype of each element of array_list is  <class 'numpy.str_'> and the element is 4\n",
      "datatype of each element of array_list is  <class 'numpy.str_'> and the element is 5\n"
     ]
    }
   ],
   "source": [
    "import numpy as np\n",
    "list_ = ['1','2','3','4','5']\n",
    "array_list = np.array(object=list_)\n",
    "\n",
    "for i in list_:\n",
    "    print('datatype of each element of list_',type(i),'and the element is ',i)\n",
    "    \n",
    "for i in array_list:\n",
    "    print('datatype of each element of array_list is ',type(i),'and the element is',i)"
   ]
  },
  {
   "cell_type": "markdown",
   "id": "71bd233e-939b-47b4-9a23-dfe4fe34d97c",
   "metadata": {},
   "source": [
    "## 3(a). Will there be any difference in the data type of the elements present in both the variables, list_ and array_list? If so then print the data types of each and every element present in both the variables, list_ and array_list."
   ]
  },
  {
   "cell_type": "code",
   "execution_count": 5,
   "id": "6913da07-0cea-4e8b-ba55-d13e08065f80",
   "metadata": {},
   "outputs": [
    {
     "name": "stdout",
     "output_type": "stream",
     "text": [
      "datatype of each element of array_list is  <class 'numpy.int64'> the element is  1\n",
      "datatype of each element of array_list is  <class 'numpy.int64'> the element is  2\n",
      "datatype of each element of array_list is  <class 'numpy.int64'> the element is  3\n",
      "datatype of each element of array_list is  <class 'numpy.int64'> the element is  4\n",
      "datatype of each element of array_list is  <class 'numpy.int64'> the element is  5\n"
     ]
    }
   ],
   "source": [
    "import numpy as np\n",
    "list_ = ['1','2','3','4','5']\n",
    "array_list = np.array(object = list_, dtype = int)\n",
    "\n",
    "for i in array_list:\n",
    "    print('datatype of each element of array_list is ',type(i),'the element is ',i)"
   ]
  },
  {
   "cell_type": "markdown",
   "id": "6eb1be9e-5d5c-4213-aa23-284c0d351ea9",
   "metadata": {},
   "source": [
    "## 3(b)."
   ]
  },
  {
   "cell_type": "code",
   "execution_count": 6,
   "id": "2a74f2c8-af84-47c4-9e59-3c706261eba8",
   "metadata": {},
   "outputs": [
    {
     "name": "stdout",
     "output_type": "stream",
     "text": [
      "datatype of each element of num_array is  <class 'numpy.ndarray'> the array is [1 2 3]\n",
      "datatype of each element of num_array is  <class 'numpy.ndarray'> the array is [4 5 6]\n"
     ]
    }
   ],
   "source": [
    "import numpy as np\n",
    "num_list = [ [ 1 , 2 , 3 ] , [ 4 , 5 , 6 ] ]\n",
    "num_array = np.array(object = num_list)\n",
    "\n",
    "for i in num_array:\n",
    "    print('datatype of each element of num_array is ',type(i),'the array is', i)"
   ]
  },
  {
   "cell_type": "markdown",
   "id": "aa421ecf-8cff-438c-a540-0f558502b638",
   "metadata": {},
   "source": [
    "## 4. Write a code to find the following characteristics of variable, num_array:\n",
    "1. shape\n",
    "2. size"
   ]
  },
  {
   "cell_type": "markdown",
   "id": "ac062c1a-6c8b-4b96-8f63-dc0d7853ab9d",
   "metadata": {},
   "source": [
    "  **shape** attribute is used to get the dimensions of a NumPy array."
   ]
  },
  {
   "cell_type": "code",
   "execution_count": 1,
   "id": "52867f15-4446-4443-b17c-dbf3687ec705",
   "metadata": {},
   "outputs": [
    {
     "name": "stdout",
     "output_type": "stream",
     "text": [
      "(5, 2, 5)\n"
     ]
    }
   ],
   "source": [
    "## shape attribute is used to get the dimensions of a NumPy array\n",
    "import numpy as np\n",
    "a = np.random.random(50).reshape(5,2,5)\n",
    "print(a.shape)"
   ]
  },
  {
   "cell_type": "markdown",
   "id": "96029aa5-eaf0-4b00-b192-ce9917cb4b79",
   "metadata": {},
   "source": [
    " **size** attribute is used to get the total number of elements in a NumPy array. It returns the total number of elements in the array as an integer value."
   ]
  },
  {
   "cell_type": "code",
   "execution_count": 2,
   "id": "9f6085ce-9bcf-4294-8124-de5e01d2bd88",
   "metadata": {},
   "outputs": [
    {
     "name": "stdout",
     "output_type": "stream",
     "text": [
      "50\n"
     ]
    }
   ],
   "source": [
    "import numpy as np\n",
    "a = np.random.random(50).reshape(5,2,5)\n",
    "print(a.size)"
   ]
  },
  {
   "cell_type": "markdown",
   "id": "92c6b4ab-0279-43e0-8693-13638138de8a",
   "metadata": {},
   "source": [
    "## 5. Write a code to create numpy array of 3*3 matrix containing zeros only, using a numpy array creation function."
   ]
  },
  {
   "cell_type": "code",
   "execution_count": 5,
   "id": "3c04290b-96c4-467c-926d-0b29123110ee",
   "metadata": {},
   "outputs": [
    {
     "name": "stdout",
     "output_type": "stream",
     "text": [
      "[[0 0 0]\n",
      " [0 0 0]\n",
      " [0 0 0]]\n"
     ]
    }
   ],
   "source": [
    "zeros_3 = np.zeros((3,3),dtype=\"int\")\n",
    "print(zeros_3)"
   ]
  },
  {
   "cell_type": "markdown",
   "id": "7ad67f3d-0e1e-42dd-9ae3-f2812053a3dd",
   "metadata": {},
   "source": [
    "## 6. Create an identity matrix of shape (5,5) using numpy functions?"
   ]
  },
  {
   "cell_type": "code",
   "execution_count": 6,
   "id": "daf5301d-5cf8-4781-a13f-fe7032d4b4a4",
   "metadata": {},
   "outputs": [
    {
     "name": "stdout",
     "output_type": "stream",
     "text": [
      "[[1 0 0 0 0]\n",
      " [0 1 0 0 0]\n",
      " [0 0 1 0 0]\n",
      " [0 0 0 1 0]\n",
      " [0 0 0 0 1]]\n"
     ]
    }
   ],
   "source": [
    "id_matrix = np.identity(5,dtype='int')\n",
    "print(id_matrix)"
   ]
  },
  {
   "cell_type": "code",
   "execution_count": null,
   "id": "5e9322f6-8a0d-4a3a-99a5-53f8d75f3c3a",
   "metadata": {},
   "outputs": [],
   "source": []
  }
 ],
 "metadata": {
  "kernelspec": {
   "display_name": "Python 3 (ipykernel)",
   "language": "python",
   "name": "python3"
  },
  "language_info": {
   "codemirror_mode": {
    "name": "ipython",
    "version": 3
   },
   "file_extension": ".py",
   "mimetype": "text/x-python",
   "name": "python",
   "nbconvert_exporter": "python",
   "pygments_lexer": "ipython3",
   "version": "3.10.6"
  }
 },
 "nbformat": 4,
 "nbformat_minor": 5
}
