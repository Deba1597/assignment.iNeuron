{
 "cells": [
  {
   "cell_type": "markdown",
   "id": "12cd455e-1d26-427f-bb65-c53f3e1a03a8",
   "metadata": {},
   "source": [
    "assignment"
   ]
  },
  {
   "cell_type": "markdown",
   "id": "262be0e6-45c9-4b3b-a4b9-2786ba404722",
   "metadata": {},
   "source": [
    "1 . python programming language is developed by Guido van Rossum in 1991. "
   ]
  },
  {
   "cell_type": "markdown",
   "id": "fab07e16-aba5-4b3a-a17f-087d97e9e920",
   "metadata": {},
   "source": [
    "2. Python support Object Oriented programming  and structured programming."
   ]
  },
  {
   "cell_type": "markdown",
   "id": "5e872173-a72c-47cf-9189-d05d0bf94d5b",
   "metadata": {},
   "source": [
    "3. Yes, Python is a case sensitive when dealing with identifier."
   ]
  },
  {
   "cell_type": "markdown",
   "id": "d3b3b279-9332-4708-a426-1860521ee50b",
   "metadata": {},
   "source": [
    "4. Extension of Python file - (.py)"
   ]
  },
  {
   "cell_type": "code",
   "execution_count": null,
   "id": "e8e096e5-52d6-48f1-8f20-14298b52aa0a",
   "metadata": {},
   "outputs": [],
   "source": [
    "5. Python code is interpreted."
   ]
  },
  {
   "cell_type": "code",
   "execution_count": null,
   "id": "f11d2751-365c-43eb-b485-a4e0690361bc",
   "metadata": {},
   "outputs": [],
   "source": [
    "6. Indentation is used to define a block of code in Python."
   ]
  },
  {
   "cell_type": "code",
   "execution_count": null,
   "id": "99fb7d7b-d058-4f17-8ffb-47c1567587aa",
   "metadata": {},
   "outputs": [],
   "source": [
    "7. '#' used for single line comment in Python."
   ]
  },
  {
   "cell_type": "code",
   "execution_count": null,
   "id": "7fd646a2-7f7a-45dd-8b11-69a37f1a54d0",
   "metadata": {},
   "outputs": [],
   "source": [
    "8. sys.verson method,Python v-command method used to find the current version of the python "
   ]
  },
  {
   "cell_type": "code",
   "execution_count": null,
   "id": "2d823d37-ba83-45f7-8087-99cb59c0b59b",
   "metadata": {},
   "outputs": [],
   "source": [
    "9. Python support the creation of annonymous function at runtime , using a construct called Lambda"
   ]
  },
  {
   "cell_type": "code",
   "execution_count": null,
   "id": "4ad2cda6-cf46-4343-b16c-c2c1481afc93",
   "metadata": {},
   "outputs": [],
   "source": [
    "10. pip - pip installer Package"
   ]
  },
  {
   "cell_type": "code",
   "execution_count": null,
   "id": "d868f7bf-3cad-4f8c-971e-6de671188fb1",
   "metadata": {},
   "outputs": [],
   "source": [
    "11. built in function - print() , bool() ,chr(), dict(), format(), input(), list(), map(),max(),min(),next()"
   ]
  },
  {
   "cell_type": "code",
   "execution_count": null,
   "id": "94a38829-5e52-4f05-b7ab-cbdcec7c9130",
   "metadata": {},
   "outputs": [],
   "source": [
    "12. Maximum possible length of identifier in python is 79."
   ]
  },
  {
   "cell_type": "code",
   "execution_count": null,
   "id": "643b3281-fca9-44d8-93ad-97ce8a75d1e9",
   "metadata": {},
   "outputs": [],
   "source": [
    "13. benefit - large developer community,extensive library, portability, syntax is more concise, wide range of use cases(data science,machine learning etc)"
   ]
  },
  {
   "cell_type": "code",
   "execution_count": null,
   "id": "538bd15c-4c82-4287-99cc-52b065bd6005",
   "metadata": {},
   "outputs": [],
   "source": [
    "14. Python uses a portion of the memory for internal use and non object memory through it's python memory manager. "
   ]
  },
  {
   "cell_type": "code",
   "execution_count": null,
   "id": "98b61977-e08c-4486-a931-a59b5502746b",
   "metadata": {},
   "outputs": [],
   "source": [
    "15. 1.Right-clicking This PC and going to Properties.\n",
    "    2.Clicking on the Advanced system settings in the menu on the left.\n",
    "    3.Clicking on the Environment Variables button o​n the bottom right.\n",
    "    4.In the System variables section, selecting the Path variable and clicking on Edit."
   ]
  },
  {
   "cell_type": "code",
   "execution_count": null,
   "id": "218149b8-fbcf-4b9b-8b61-3930688e1542",
   "metadata": {},
   "outputs": [],
   "source": [
    "16. yes, indentation is required in Python"
   ]
  }
 ],
 "metadata": {
  "kernelspec": {
   "display_name": "Python 3 (ipykernel)",
   "language": "python",
   "name": "python3"
  },
  "language_info": {
   "codemirror_mode": {
    "name": "ipython",
    "version": 3
   },
   "file_extension": ".py",
   "mimetype": "text/x-python",
   "name": "python",
   "nbconvert_exporter": "python",
   "pygments_lexer": "ipython3",
   "version": "3.10.6"
  }
 },
 "nbformat": 4,
 "nbformat_minor": 5
}
