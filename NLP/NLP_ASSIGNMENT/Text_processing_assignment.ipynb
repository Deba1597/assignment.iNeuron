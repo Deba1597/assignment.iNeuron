{
  "nbformat": 4,
  "nbformat_minor": 0,
  "metadata": {
    "colab": {
      "provenance": [],
      "authorship_tag": "ABX9TyNqJ2uWd6tAWXJUWLa1f0ks",
      "include_colab_link": true
    },
    "kernelspec": {
      "name": "python3",
      "display_name": "Python 3"
    },
    "language_info": {
      "name": "python"
    }
  },
  "cells": [
    {
      "cell_type": "markdown",
      "metadata": {
        "id": "view-in-github",
        "colab_type": "text"
      },
      "source": [
        "<a href=\"https://colab.research.google.com/github/Deba1597/assignment.iNeuron/blob/main/NLP/NLP_ASSIGNMENT/Text_processing_assignment.ipynb\" target=\"_parent\"><img src=\"https://colab.research.google.com/assets/colab-badge.svg\" alt=\"Open In Colab\"/></a>"
      ]
    },
    {
      "cell_type": "code",
      "execution_count": 12,
      "metadata": {
        "id": "_h9Jgt_wKFNq"
      },
      "outputs": [],
      "source": [
        "import gdown"
      ]
    },
    {
      "cell_type": "code",
      "source": [
        "url = 'https://drive.google.com/uc?id=1-8hVVsgysbfZHp5QaxNEvKREz6UW_Jpv'\n",
        "gdown.download(url,'twitter.csv')"
      ],
      "metadata": {
        "colab": {
          "base_uri": "https://localhost:8080/",
          "height": 105
        },
        "id": "SVHKpdpmNzFz",
        "outputId": "49cefce6-73c4-4326-e76b-07de8d2623a8"
      },
      "execution_count": 13,
      "outputs": [
        {
          "output_type": "stream",
          "name": "stderr",
          "text": [
            "Downloading...\n",
            "From: https://drive.google.com/uc?id=1-8hVVsgysbfZHp5QaxNEvKREz6UW_Jpv\n",
            "To: /content/twitter.csv\n",
            "100%|██████████| 3.10M/3.10M [00:00<00:00, 20.3MB/s]\n"
          ]
        },
        {
          "output_type": "execute_result",
          "data": {
            "text/plain": [
              "'twitter.csv'"
            ],
            "application/vnd.google.colaboratory.intrinsic+json": {
              "type": "string"
            }
          },
          "metadata": {},
          "execution_count": 13
        }
      ]
    },
    {
      "cell_type": "code",
      "source": [
        "import pandas as pd"
      ],
      "metadata": {
        "id": "ycYQvMRTKkas"
      },
      "execution_count": 14,
      "outputs": []
    },
    {
      "cell_type": "code",
      "source": [
        "df = pd.read_csv('/content/twitter.csv').head(500)"
      ],
      "metadata": {
        "id": "kqSvxG9vKndN"
      },
      "execution_count": 15,
      "outputs": []
    },
    {
      "cell_type": "code",
      "source": [
        "df.shape"
      ],
      "metadata": {
        "colab": {
          "base_uri": "https://localhost:8080/"
        },
        "id": "962eTIonKsFN",
        "outputId": "347ab512-89f5-4466-b618-0edf7106d3ca"
      },
      "execution_count": 16,
      "outputs": [
        {
          "output_type": "execute_result",
          "data": {
            "text/plain": [
              "(500, 3)"
            ]
          },
          "metadata": {},
          "execution_count": 16
        }
      ]
    },
    {
      "cell_type": "markdown",
      "source": [
        "## Convert to Lower Case"
      ],
      "metadata": {
        "id": "5Ni2HEHrQrB8"
      }
    },
    {
      "cell_type": "code",
      "source": [
        "df.tweet = df.tweet.str.lower()"
      ],
      "metadata": {
        "id": "i5Sma61sOdW0"
      },
      "execution_count": 17,
      "outputs": []
    },
    {
      "cell_type": "markdown",
      "source": [
        "## Remove HTML Tag"
      ],
      "metadata": {
        "id": "lTn7PV2oQwmF"
      }
    },
    {
      "cell_type": "code",
      "source": [
        "import re\n",
        "def remove_html_tags(text):\n",
        "    pattern = re.compile('<.*?>')\n",
        "    return pattern.sub(r'', text)"
      ],
      "metadata": {
        "id": "8k9HL6OIOzdl"
      },
      "execution_count": 18,
      "outputs": []
    },
    {
      "cell_type": "code",
      "source": [
        "df.tweet = df.tweet.apply(remove_html_tags)"
      ],
      "metadata": {
        "id": "vhgrYGPXQ4sh"
      },
      "execution_count": 19,
      "outputs": []
    },
    {
      "cell_type": "markdown",
      "source": [
        "## Remove URL"
      ],
      "metadata": {
        "id": "VdF69GRPRE1f"
      }
    },
    {
      "cell_type": "code",
      "source": [
        "def remove_url(text):\n",
        "    pattern = re.compile(r'https?://\\S+|www\\.\\S+')\n",
        "    return pattern.sub(r'', text)"
      ],
      "metadata": {
        "id": "KOIEQHaQRDL8"
      },
      "execution_count": 20,
      "outputs": []
    },
    {
      "cell_type": "code",
      "source": [
        "df.tweet = df.tweet.apply(remove_url)"
      ],
      "metadata": {
        "id": "gosjv7yWRNz6"
      },
      "execution_count": 21,
      "outputs": []
    },
    {
      "cell_type": "markdown",
      "source": [
        "## Punctuation Handling"
      ],
      "metadata": {
        "id": "bKcfEhfqWQ9B"
      }
    },
    {
      "cell_type": "code",
      "source": [
        "import string,time"
      ],
      "metadata": {
        "id": "PkgLJy4nWYtb"
      },
      "execution_count": 22,
      "outputs": []
    },
    {
      "cell_type": "code",
      "source": [
        "exclude = string.punctuation\n",
        "exclude"
      ],
      "metadata": {
        "colab": {
          "base_uri": "https://localhost:8080/",
          "height": 35
        },
        "id": "gSDg9hrLWZNM",
        "outputId": "95c021d2-1129-42e3-fbf9-16f4b2cbc3e6"
      },
      "execution_count": 23,
      "outputs": [
        {
          "output_type": "execute_result",
          "data": {
            "text/plain": [
              "'!\"#$%&\\'()*+,-./:;<=>?@[\\\\]^_`{|}~'"
            ],
            "application/vnd.google.colaboratory.intrinsic+json": {
              "type": "string"
            }
          },
          "metadata": {},
          "execution_count": 23
        }
      ]
    },
    {
      "cell_type": "code",
      "source": [
        "def remove_punc1(text):\n",
        "    for char in exclude:\n",
        "        text = text.replace(char,'')\n",
        "    return text"
      ],
      "metadata": {
        "id": "GKG0sYIhWeMr"
      },
      "execution_count": 24,
      "outputs": []
    },
    {
      "cell_type": "code",
      "source": [
        "def remove_punc(text):\n",
        "    return text.translate(str.maketrans('', '', exclude))"
      ],
      "metadata": {
        "id": "y1uY4Xn1W3XM"
      },
      "execution_count": 25,
      "outputs": []
    },
    {
      "cell_type": "code",
      "source": [
        "df.tweet = df.tweet.apply(remove_punc)"
      ],
      "metadata": {
        "id": "iH44Kly4Wnvm"
      },
      "execution_count": 26,
      "outputs": []
    },
    {
      "cell_type": "markdown",
      "source": [
        "## Incorrect text handling"
      ],
      "metadata": {
        "id": "7Ez0hA5yWq99"
      }
    },
    {
      "cell_type": "code",
      "source": [
        "from textblob import TextBlob\n",
        "# textBlb = TextBlob(incorrect_text)\n",
        "\n",
        "# textBlb.correct().string"
      ],
      "metadata": {
        "id": "NlUbC1KAXFxI"
      },
      "execution_count": 27,
      "outputs": []
    },
    {
      "cell_type": "code",
      "source": [
        "TextBlob(df.tweet[1]).correct().string"
      ],
      "metadata": {
        "colab": {
          "base_uri": "https://localhost:8080/",
          "height": 35
        },
        "id": "47Ax_y6KXhje",
        "outputId": "e9200aca-6e95-436e-f887-5eb32c3cdf43"
      },
      "execution_count": 28,
      "outputs": [
        {
          "output_type": "execute_result",
          "data": {
            "text/plain": [
              "'user user thanks for left credit i can use cause they dont offer wheelchair van in pox    disappointed getthanked'"
            ],
            "application/vnd.google.colaboratory.intrinsic+json": {
              "type": "string"
            }
          },
          "metadata": {},
          "execution_count": 28
        }
      ]
    },
    {
      "cell_type": "code",
      "source": [
        "def Incorrect_text_handling(text):\n",
        "    textBlb = TextBlob(text)\n",
        "    return textBlb.correct().string"
      ],
      "metadata": {
        "id": "i_ubvwuOZS69"
      },
      "execution_count": 29,
      "outputs": []
    },
    {
      "cell_type": "code",
      "source": [
        "df.tweet = df.tweet.apply(Incorrect_text_handling)"
      ],
      "metadata": {
        "id": "zLO-_cYbYdCE"
      },
      "execution_count": 30,
      "outputs": []
    },
    {
      "cell_type": "markdown",
      "source": [
        "## StopWord"
      ],
      "metadata": {
        "id": "MV7ZX9thcSp-"
      }
    },
    {
      "cell_type": "code",
      "source": [
        "from nltk.corpus import stopwords\n",
        "import nltk\n",
        "nltk.download('stopwords')"
      ],
      "metadata": {
        "id": "dPofb9v7YTVm",
        "colab": {
          "base_uri": "https://localhost:8080/"
        },
        "outputId": "138b26a4-90dc-4f83-a90c-254b1f018cec"
      },
      "execution_count": 31,
      "outputs": [
        {
          "output_type": "stream",
          "name": "stderr",
          "text": [
            "[nltk_data] Downloading package stopwords to /root/nltk_data...\n",
            "[nltk_data]   Unzipping corpora/stopwords.zip.\n"
          ]
        },
        {
          "output_type": "execute_result",
          "data": {
            "text/plain": [
              "True"
            ]
          },
          "metadata": {},
          "execution_count": 31
        }
      ]
    },
    {
      "cell_type": "code",
      "source": [
        "def remove_stopwords(text):\n",
        "    new_text = []\n",
        "\n",
        "    for word in text.split():\n",
        "        if word in stopwords.words('english'):\n",
        "            new_text.append('')\n",
        "        else:\n",
        "            new_text.append(word)\n",
        "    x = new_text[:]\n",
        "    new_text.clear()\n",
        "    return \" \".join(x)"
      ],
      "metadata": {
        "id": "hc4TfWfKcWZd"
      },
      "execution_count": 32,
      "outputs": []
    },
    {
      "cell_type": "code",
      "source": [
        "df.tweet = df.tweet.apply(remove_stopwords)"
      ],
      "metadata": {
        "id": "9d6igRxhcYle"
      },
      "execution_count": 33,
      "outputs": []
    },
    {
      "cell_type": "code",
      "source": [
        "# !pip install emoji"
      ],
      "metadata": {
        "colab": {
          "base_uri": "https://localhost:8080/"
        },
        "id": "2GRK_nXQdVgZ",
        "outputId": "4e304f8b-375d-410d-e260-b8dfd2048a94"
      },
      "execution_count": 34,
      "outputs": [
        {
          "output_type": "stream",
          "name": "stdout",
          "text": [
            "Collecting emoji\n",
            "  Downloading emoji-2.8.0-py2.py3-none-any.whl (358 kB)\n",
            "\u001b[2K     \u001b[90m━━━━━━━━━━━━━━━━━━━━━━━━━━━━━━━━━━━━━━━\u001b[0m \u001b[32m358.9/358.9 kB\u001b[0m \u001b[31m5.0 MB/s\u001b[0m eta \u001b[36m0:00:00\u001b[0m\n",
            "\u001b[?25hInstalling collected packages: emoji\n",
            "Successfully installed emoji-2.8.0\n"
          ]
        }
      ]
    },
    {
      "cell_type": "code",
      "source": [
        "# # Bytecode (byte string)\n",
        "# bytecode = b'\\xF0\\x9F\\x9A\\x98\\xF0\\x9F\\x9A\\x98'\n",
        "\n",
        "# # Convert bytecode to Unicode using UTF-8 encoding\n",
        "# unicode_text = bytecode.decode('utf-8')\n",
        "\n",
        "# print(unicode_text)\n",
        "# emojified_text = emoji.demojize(unicode_text)\n",
        "\n",
        "# print(emojified_text)"
      ],
      "metadata": {
        "colab": {
          "base_uri": "https://localhost:8080/"
        },
        "id": "-2rQWVnDcorN",
        "outputId": "db4cdbdd-4164-4686-e794-9b8c65c5e856"
      },
      "execution_count": null,
      "outputs": [
        {
          "output_type": "stream",
          "name": "stdout",
          "text": [
            "🚘🚘\n",
            ":oncoming_automobile::oncoming_automobile:\n"
          ]
        }
      ]
    },
    {
      "cell_type": "markdown",
      "source": [
        "# Remove byteCode"
      ],
      "metadata": {
        "id": "EzYvG6Hcj2H9"
      }
    },
    {
      "cell_type": "code",
      "source": [
        "def remove_bytecode(text):\n",
        "    strencode = text.encode('ascii','ignore')\n",
        "    return strencode.decode()\n"
      ],
      "metadata": {
        "id": "zO5Bhnbzj5oy"
      },
      "execution_count": 35,
      "outputs": []
    },
    {
      "cell_type": "code",
      "source": [
        "df.tweet = df.tweet.apply(remove_bytecode)"
      ],
      "metadata": {
        "id": "8q8GRAMLJ3n6"
      },
      "execution_count": 36,
      "outputs": []
    },
    {
      "cell_type": "markdown",
      "source": [
        "# Tokenization (Using NLTK)"
      ],
      "metadata": {
        "id": "jO3SQuRFK5WV"
      }
    },
    {
      "cell_type": "code",
      "source": [
        "from nltk.tokenize import word_tokenize,sent_tokenize\n",
        "import nltk\n",
        "nltk.download('punkt')"
      ],
      "metadata": {
        "id": "skf_C9BuJBpq",
        "colab": {
          "base_uri": "https://localhost:8080/"
        },
        "outputId": "8e29eee1-f034-4fb0-d0e5-3268814cf4ab"
      },
      "execution_count": 37,
      "outputs": [
        {
          "output_type": "stream",
          "name": "stderr",
          "text": [
            "[nltk_data] Downloading package punkt to /root/nltk_data...\n",
            "[nltk_data]   Unzipping tokenizers/punkt.zip.\n"
          ]
        },
        {
          "output_type": "execute_result",
          "data": {
            "text/plain": [
              "True"
            ]
          },
          "metadata": {},
          "execution_count": 37
        }
      ]
    },
    {
      "cell_type": "code",
      "source": [
        "word_tokenize(df.tweet[5])"
      ],
      "metadata": {
        "id": "deu_nEJYK4p8",
        "colab": {
          "base_uri": "https://localhost:8080/"
        },
        "outputId": "f4baab07-504a-4fa7-84c5-c7eeb9514f59"
      },
      "execution_count": 38,
      "outputs": [
        {
          "output_type": "execute_result",
          "data": {
            "text/plain": [
              "['22',\n",
              " 'huge',\n",
              " 'fan',\n",
              " 'fare',\n",
              " 'big',\n",
              " 'talking',\n",
              " 'leave',\n",
              " 'chaos',\n",
              " 'pay',\n",
              " 'disputes',\n",
              " 'get',\n",
              " 'allshowandnogo']"
            ]
          },
          "metadata": {},
          "execution_count": 38
        }
      ]
    },
    {
      "cell_type": "code",
      "source": [
        "def word_token(text):\n",
        "    return word_tokenize(text)"
      ],
      "metadata": {
        "id": "307DAEw6LKPY"
      },
      "execution_count": 39,
      "outputs": []
    },
    {
      "cell_type": "code",
      "source": [
        "df.tweet = df.tweet.apply(word_token)"
      ],
      "metadata": {
        "id": "nsyJ3zKSLtzb"
      },
      "execution_count": 40,
      "outputs": []
    },
    {
      "cell_type": "markdown",
      "source": [
        "# Lemmatization"
      ],
      "metadata": {
        "id": "ex7NPhXgMEgW"
      }
    },
    {
      "cell_type": "code",
      "source": [
        "import nltk\n",
        "from nltk.stem import WordNetLemmatizer\n",
        "import nltk\n",
        "nltk.download('wordnet')\n",
        "nltk.download('omw-1.4')\n",
        "wordnet_lemmatizer = WordNetLemmatizer()\n",
        "\n",
        "def lemmatization(text):\n",
        "    word = []\n",
        "    for i in text:\n",
        "        word.append(wordnet_lemmatizer.lemmatize(i,pos='v'))\n",
        "    return word"
      ],
      "metadata": {
        "id": "k9sL_lNML4K4",
        "colab": {
          "base_uri": "https://localhost:8080/"
        },
        "outputId": "6b17f701-b79d-4366-b5f5-97e9696a1d28"
      },
      "execution_count": 41,
      "outputs": [
        {
          "output_type": "stream",
          "name": "stderr",
          "text": [
            "[nltk_data] Downloading package wordnet to /root/nltk_data...\n",
            "[nltk_data] Downloading package omw-1.4 to /root/nltk_data...\n"
          ]
        }
      ]
    },
    {
      "cell_type": "code",
      "source": [
        "df.tweet = df.tweet.apply(lemmatization)"
      ],
      "metadata": {
        "id": "bNtaluHBPMj-"
      },
      "execution_count": 42,
      "outputs": []
    },
    {
      "cell_type": "markdown",
      "source": [
        "# Bag Of Word"
      ],
      "metadata": {
        "id": "hR7oEHrHSlEa"
      }
    },
    {
      "cell_type": "code",
      "source": [
        "import numpy as np\n",
        "import pandas as pd\n",
        "from sklearn.feature_extraction.text import CountVectorizer"
      ],
      "metadata": {
        "id": "nIQ-VCw2TGyq"
      },
      "execution_count": 43,
      "outputs": []
    },
    {
      "cell_type": "code",
      "source": [
        "def tweet_sentence(text):\n",
        "    return \" \".join(text)\n",
        "\n",
        "df['tweet_sent'] = df.tweet.apply(tweet_sentence)"
      ],
      "metadata": {
        "id": "uvtHufOgT2BY"
      },
      "execution_count": 44,
      "outputs": []
    },
    {
      "cell_type": "code",
      "source": [
        "cv = CountVectorizer()\n",
        "bow = cv.fit_transform(df.tweet_sent)"
      ],
      "metadata": {
        "id": "7GcVmc3VTLqy"
      },
      "execution_count": 46,
      "outputs": []
    },
    {
      "cell_type": "code",
      "source": [
        "print(cv.vocabulary_)"
      ],
      "metadata": {
        "colab": {
          "base_uri": "https://localhost:8080/"
        },
        "id": "QH61pf52TTJi",
        "outputId": "e5c7dae4-4c35-48aa-f2bf-2110095d2d0a"
      },
      "execution_count": 47,
      "outputs": [
        {
          "output_type": "stream",
          "name": "stdout",
          "text": [
            "{'user': 1727, 'father': 603, 'dysfunctional': 513, 'selfish': 1458, 'drag': 495, 'kiss': 906, 'dysfunction': 512, 'run': 1419, 'thank': 1631, 'leave': 932, 'credit': 409, 'use': 1726, 'cause': 302, 'dont': 488, 'offer': 1174, 'wheelchair': 1795, 'van': 1735, 'pox': 1287, 'disappoint': 471, 'getthanked': 688, 'midday': 1047, 'majesty': 1002, 'model': 1071, 'love': 973, 'take': 1611, 'time': 1661, 'or': 1197, 'factsguide': 589, 'society': 1516, 'motivation': 1088, '22': 17, 'huge': 804, 'fan': 595, 'fare': 599, 'big': 203, 'talk': 1612, 'chaos': 317, 'pay': 1230, 'dispute': 478, 'get': 687, 'allshowandnogo': 82, 'camp': 285, 'tomorrow': 1674, 'dandy': 431, 'next': 1137, 'school': 1444, 'year': 1840, 'exam': 570, 'think': 1649, 'hate': 752, 'imagine': 829, 'actorslife': 54, 'revolutionschool': 1387, 'girl': 691, 'land': 916, 'allen': 80, 'cap': 290, 'champion': 311, 'cleveland': 348, 'clevelandcavaliers': 349, 'welcome': 1787, 'grm': 723, 'ireland': 869, 'consumer': 385, 'price': 1302, 'index': 839, 'mon': 1074, 'climb': 351, 'previous': 1301, '02': 0, '05': 1, 'may': 1024, 'blow': 236, 'silver': 1489, 'gold': 703, 'fore': 653, 'orlando': 1202, 'standwithorlando': 1547, 'pulseshooting': 1326, 'orlandoshooting': 1203, 'biggerproblems': 205, 'heabreaking': 759, 'value': 1734, 'see': 1454, 'daddy': 427, 'today': 1666, 'days': 440, 'gettingfed': 689, 'call': 283, 'michigan': 1045, 'middle': 1048, 'build': 271, 'wall': 1761, 'chant': 316, 'trot': 1696, 'comment': 366, 'australia': 151, 'opkillingbay': 1195, 'seashepherd': 1451, 'helpcovedolphins': 771, 'thecove': 1639, 'ouchjunior': 1207, 'angrygot': 110, 'junior': 893, 'yugyoem': 1846, 'org': 1198, 'thankful': 1632, 'paper': 1218, 'positive': 1282, 'agree': 70, 'friday': 664, 'smile': 1504, 'around': 136, 'via': 1741, 'colonies': 361, 'make': 1003, 'people': 1238, 'know': 910, 'essential': 550, 'oil': 1180, 'chemicals': 324, 'euro2016': 555, 'blame': 228, 'ha': 736, 'concede': 371, 'goal': 699, 'fat': 602, 'money': 1078, 'give': 694, 'away': 154, 'free': 661, 'kick': 901, 'able': 44, 'hit': 783, 'sad': 1424, 'little': 959, 'due': 510, 'badly': 164, 'coneofshame': 376, 'cat': 300, 'pass': 1226, 'funny': 676, 'laugh': 923, 'product': 1310, 'day': 439, 'happy': 747, 'man': 1007, 'wine': 1809, 'tool': 1678, 'weekend': 1784, 'open': 1191, 'amp': 104, 'drink': 502, 'lump': 991, 'say': 1442, 'prove': 1319, 'ff': 617, 'gamedev': 681, 'indiedev': 841, 'indiegamedev': 842, 'squad': 1540, 'beautiful': 186, 'sign': 1488, 'vendor': 1736, '80': 36, '4500': 27, 'upsideofflorida': 1723, 'shopalyssas': 1480, 'media': 1030, 'pressconference': 1298, 'natalya': 1114, 'turkey': 1704, 'sunday': 1587, 'throwback': 1652, 'great': 716, 'panel': 1217, 'mediatization': 1031, 'public': 1322, 'service': 1468, 'ica16': 811, '50': 29, 'go': 698, 'nightclub': 1145, 'good': 706, 'night': 1144, 'action': 52, 'mean': 1026, 'lose': 972, 'families': 592, 'forever': 654, 'riporlando': 1398, 'never': 1126, 'chance': 313, 'vote': 1755, 'presidential': 1297, 'candidate': 289, 'excite': 572, 'cycle': 425, 'look': 969, 'different': 464, 'alohafriday': 84, 'exist': 576, 'positivevibes': 1283, 'hawaiian': 757, 'rip': 1395, 'fellow': 610, 'northern': 1158, 'sadly': 1426, 'tonight': 1675, 'sing': 1494, 'cheer': 323, 'fire': 628, 'hard': 750, 'monday': 1075, 'cloudy': 355, 'weather': 1774, 'disable': 470, 'oxygen': 1213, 'production': 1311, 'goodnight': 708, 'badmonday': 165, 'unbelievable': 1714, 'must': 1103, 'century': 307, 'wed': 1777, 'need': 1120, 'something': 1522, 'like': 951, 'neverump': 1127, 'xenophobia': 1835, 'taylorswift1989': 1619, 'bull': 273, 'dominate': 485, 'direct': 467, 'whatever': 1793, 'want': 1762, 'morning': 1085, 'travelingram': 1694, 'delay': 451, 'ripinkylife': 1397, 'one': 1186, 'word': 1819, 'tell': 1625, 'photoshop': 1251, 'enoughisenough': 540, 'dontphotoshopeverything': 489, 'wheresallthenaturalphotos': 1798, 'oh': 1179, 'cedarpoint': 304, 'wait': 1758, 'hours': 800, 'valravn': 1733, 'line': 954, 'stop': 1564, 'work': 1820, 'close': 353, 'sunshine': 1592, 'finally': 622, 'finish': 626, 'book': 245, 'awhile': 156, 'bookworm': 246, 'ontothenextnovel': 1190, 'knock': 909, 'easier': 516, 'na': 1106, 'playoffs': 1263, 'roll': 1411, 'life': 946, 'social': 1515, 'network': 1124, 'embrace': 530, 'share': 1472, 'snake': 1508, 'lovely': 977, 'echeveria': 519, 'bloomsflowers': 235, 'grow': 727, 'garden': 683, 'iphonesia': 868, 'bliss': 231, 'bloom': 234, 'basilicabotanica': 178, 'amaze': 95, 'affirmation': 62, 'whenever': 1796, 'wrong': 1832, 'feel': 608, 'blue': 237, 'illustration': 825, 'best': 198, 'pa': 1214, 'of': 1171, 'abc2020': 43, 'ready': 1355, 'remove': 1372, 'victims': 1742, 'pulseclub': 1325, 'prayfororlando': 1290, 'nose': 1159, 'job': 886, 'petenka': 1244, 'concelebrate': 372, 'albanpilgrimage': 76, 'first': 631, 'let': 938, 'scumbaggery': 1448, 'begin': 193, 'super': 1594, 'zpamdelacruz': 1852, 'doors': 491, 'tartar': 1617, 'scourge': 1446, 'play': 1261, 'barque': 174, 'piece': 1255, 'piano': 1252, 'beyond': 202, 'belief': 194, 'fight': 618, 'peace': 1232, 'mr': 1093, 'ray': 1351, 'video': 1743, 'world': 1823, 'hotvideo': 798, 'scot': 1445, 'babe': 157, 'fashion': 601, 'monochrome': 1079, 'style': 1579, 'instahappyday': 852, 'here': 773, 'self': 1457, 'solo': 1518, 'like4like': 952, 'conference': 377, 'right': 1393, 'midst': 1049, 'lead': 928, 'cultureofdevelopment': 421, 'organizations': 1200, 'christian': 336, 'grimmies': 722, 'last': 918, 'performance': 1240, 'shoot': 1478, 'christinarip': 339, 'voice': 1753, 'christinagrimmie': 338, 'dance': 430, 'roar': 1404, 'preschoolers': 1293, 'students': 1575, 'proud': 1318, 'really': 1358, 'wife': 1803, 'adore': 59, 'miss': 1064, 'poland': 1270, 'show': 1483, 'surgery': 1599, 'name': 1109, 'bridge': 261, 'everything': 569, 'jealous': 880, 'chatiado': 318, 'celebrate': 305, 'every': 565, 'fatherly': 604, 'role': 1410, 'sure': 1598, 'ofof': 1178, 'hour': 799, 'the': 1636, 'white': 1799, 'establishment': 552, 'bulk': 272, 'folk': 644, 'promote': 1314, 'greatness': 718, 'journey': 888, 'travel': 1693, 'yeah': 1839, 'thejourneybegins': 1640, 'hello': 768, 'lui': 988, 'hottweets': 797, 'venusexchange': 1737, 'new': 1128, 'brochure': 266, 'arrive': 138, 'solutions': 1519, 'much': 1096, 'stuff': 1577, 'happen': 744, 'florida': 638, 'disneygatorattack': 475, 'two': 1710, 'old': 1184, 'kid': 902, 'ferri': 615, 'itof': 874, 'sake': 1428, 'championship': 312, 'clearly': 347, 'turn': 1705, 'point': 1268, 'ferrarimercs': 614, 'acid': 50, 'test': 1629, 'seek': 1455, 'probe': 1308, 'udtapunjab': 1711, 'leak': 930, 'finger': 625, 'amarinder': 94, 'wrap': 1830, 'senseaboutmaths': 1462, 'th': 1630, 'hey': 775, 'race': 1339, 'identity': 817, 'med': 1028, 'might': 1052, 'regurgitate': 1367, 'sometimes': 1523, 'raise': 1346, 'brows': 269, 'bar': 172, 'golfstrengthandconditioning': 705, 'strong': 1574, 'felixfoisgolf': 609, 'greathonour': 717, 'careerconvos': 295, 'design': 457, 'innovative': 844, 'learn': 931, 'space': 1530, 'include': 834, 'wateringhole': 1767, 'cave': 303, 'mountaintop': 1090, 'campfire': 286, 'he': 758, 'alright': 88, 'insecurity': 845, 'lure': 994, 'men': 1039, 'whitesupremacy': 1800, 'carry': 299, 'gun': 732, 'help': 770, 'control': 386, 'wont': 1816, 'black': 223, 'market': 1016, 'terrorist': 1628, 'worse': 1826, 'power': 1286, 'mind': 1059, 'heal': 761, 'body': 240, 'altwaystoheal': 90, 'healthy': 763, 'woohoo': 1817, 'weeks': 1785, 'far': 598, 'place': 1258, 'family': 593, 'members': 1035, 'release': 1369, 'music': 1101, 'announcement': 118, 'midweek': 1051, 'newmusic': 1134, 'watchthisspace': 1766, 'guitar': 731, 'nights': 1146, 'pm': 1266, 'channel': 315, 'fuss': 677, 'watch': 1765, 'episodes': 546, 'office': 1175, 'nice': 1140, 'long': 968, 'snapchat': 1509, 'reread': 1378, 'vermillionred': 1739, '15': 10, 'things': 1648, 'incredibly': 836, 'yes': 1843, 'receive': 1360, 'acceptance': 47, 'letter': 939, 'master': 1019, 'back': 162, 'october': 1170, 'goodtimes': 709, 'history': 782, 'daughter': 437, 'rid': 1389, 'bike': 213, 'driveway': 506, 'son': 1524, 'us': 1725, 'enjoy': 539, 'summertime': 1585, 'memories': 1037, 'station': 1553, 'way': 1769, 'jam': 877, 'do': 480, 'course': 401, 'ill': 824, 'always': 91, 'hope': 792, 'hug': 803, 'donna': 487, 'daytime': 442, 'soon': 1528, 'couple': 400, 'sex': 1469, 'naked': 1108, 'japanese': 879, 'girls': 693, 'hump': 807, 'humpers': 808, 'edwardsville': 523, 'pennsylvania': 1236, 'personalise': 1242, 'gap': 682, '799': 35, 'shop': 1479, 'cool': 389, 'home': 788, 'fun': 673, 'truly': 1699, 'sick': 1485, 'pp': 1288, 'tramp': 1689, 'drama': 497, 'resign': 1379, 'boy': 251, 'years': 1841, 'change': 314, 'nashvilletour2016': 1112, 'nashvilleforever': 1111, 'eurusd': 560, 'clear': 346, '11400': 7, 'barrier': 175, 'jump': 891, 'fresh': 663, 'week': 1783, 'high': 778, 'la': 911, 'friends': 667, 'still': 1561, 'head': 760, 'fact': 587, 'destroy': 459, 'dis': 469, 'sta': 1542, 'bake': 167, 'eyelids': 583, 'vigilfororlando': 1746, 'harp': 751, 'clonakilty': 352, 'ihavenofriends': 822, 'someonecomewithme': 1521, 'relax': 1368, 'icon': 814, 'woman': 1814, 'sundaymorning': 1588, 'marilynmonroe': 1014, 'interest': 863, 'linguistic': 955, 'address': 57, 'racism': 1341, 'raciolinguistics': 1340, 'bring': 263, 'beloved': 196, 'cos': 394, 'recover': 1362, 'apple': 131, 'marvel': 1018, 'song': 1525, 'weed': 1781, 'ripchristina': 1396, 'adele': 58, 'vine': 1748, 'mock': 1070, 'breast': 258, 'spell': 1533, 'referendum': 1365, 'commerzbank': 367, '100': 5, 'health': 762, 'benefit': 197, 'cucumbers': 420, 'pity': 1257, 'follow': 646, 'tigers': 1658, 'instagood': 851, 'toradora': 1679, 'aime': 73, 'animeedit': 114, 'breakup': 257, 'alone': 85, 'lonely': 967, 'laws': 927, 'pool': 1277, 'ask': 139, 'ride': 1390, 'pick': 1253, 'membership': 1036, 'form': 656, 'cold': 358, 'polar': 1271, 'bear': 184, 'angry': 109, 'live': 961, 'muslin': 1102, 'assassination': 141, 'sappy': 1437, 'football': 652, 'fringesqcbagssummer': 670, 'nochebuena': 1151, 'lasvegas': 919, 'las': 917, 'strip': 1572, 'fleurette': 635, 'instaboyinstamansefieseptumfriend': 848, 'smilesblackandwhite': 1506, 'branch': 253, 'its': 875, 'rainy': 1345, 'write': 1831, 'tear': 1622, 'fly': 641, 'bird': 218, 'hair': 737, 'micropoetry': 1046, 'button': 280, 'mail': 1001, 'pretty': 1300, 'jewelrymaking': 883, 'driver': 505, 'female': 612, 'loose': 971, 'river': 1402, 'rd': 1352, 'west': 1790, 'kill': 903, 'ok': 1183, 'crew': 411, 'animal': 111, 'afterpas': 66, 'japan': 878, 'ofmadeinjapan': 1177, 'os': 1204, 'ofcut': 1173, 'hawaii': 756, 'strawberry': 1569, 'tomato': 1673, 'agent': 69, 'protest': 1317, 'republican': 1375, 'worthy': 1828, 'usher': 1729, 'find': 623, 'spend': 1534, 'guy': 735, '146604726015': 9, 'update': 1722, 'analysis': 106, 'photooftheday': 1250, 'anyone': 127, 'date': 436, 'foi': 643, 'become': 187, 'corrupt': 393, 'emailgate': 529, 'hillary2016': 781, 'shameful': 1471, 'disgraceful': 474, 'ridiculous': 1391, 'stupidity': 1578, 'even': 562, 'negligencewhy': 1121, 'put': 1331, 'sachintendulkar': 1423, 'installation': 854, 'bihday': 208, '21thbihday': 16, 'befriend': 192, 'important': 830, 'thing': 1647, 'matter': 1022, 'pooh': 1276, 'chris': 335, 'evans': 561, 'actor': 53, 'human': 805, 'christians': 337, 'thoughts': 1651, 'prayers': 1289, 'murder': 1100, 'gay': 684, 'album': 77, 'newalbum': 1129, 'india': 840, 'echobelly': 520, 'retreat': 1385, 'lion': 956, 'pro': 1306, 'webmareting': 1775, 'community': 369, 'management': 1008, 'nidus': 1142, 'target': 1616, 'sea': 1450, '07190': 3, 'bad': 163, 'worst': 1827, 'ever': 564, 'bihdayweeksucks': 211, 'bithday27': 222, 'to': 1665, 'bless': 230, 'ladies': 914, 'happiest': 745, 'disneysmagickingdom': 477, 'dinner': 466, 'magickingdom': 998, 'disneyland': 476, 'kind': 904, 'among': 102, 'humans': 806, 'id': 815, 'exclaim': 573, 'plain': 1259, 'note': 1162, 'ltd': 985, 'listen': 958, 'friend': 666, '17': 12, 'freedom': 662, 'present': 1294, 'merely': 1041, 'store': 1566, 'past': 1227, 'theodore': 1642, 'roosevelt': 1415, 'aunt': 150, 'commitment': 368, 'trust': 1700, 'faithful': 591, 'michelleobama': 1044, 'gorilla': 710, 'resist': 1380, 'bet': 199, 'newarkfestival': 1130, 'internet': 864, 'break': 255, 'netflix': 1122, 'mochithepug': 1069, 'puglife': 1324, 'thatch': 1635, 'whatbusiness': 1792, 'usual': 1730, 'dick': 462, 'suck': 1582, 'tutuila': 1706, 'slut': 1501, 'justalillate': 894, 'butstillontime': 279, 'smaller': 1502, 'hand': 743, 'barry': 177, 'probably': 1307, 'lie': 945, 'game': 680, 'golf': 704, 'everyone': 568, 'goodmorning': 707, 'challenge': 310, 'claim': 342, '70': 33, 'punjabis': 1328, 'drugaddicts': 507, 'dare': 433, 'tracerequest': 1682, 'send': 1461, 'deepest': 447, 'condolence': 375, 'zimbabwe': 1850, 'touch': 1680, 'malo': 1006, 'capotes': 291, 'saturday': 1439, 'afternoon': 65, 'chi': 326, 'meet': 1032, 'shed': 1473, 'nut': 1166, 'bolt': 243, 'bloke': 233, 'www': 1834, 'dawn': 438, 'months': 1080, 'vest': 1740, 'summer': 1584, 'robe': 1405, 'watson': 1768, 'cricket': 412, 'millions': 1057, 'jewishsupremacist': 884, 'hear': 765, 'announce': 117, 'move': 1091, 'player': 1262, 'whoknows': 1801, 'radio': 1342, 'coldly': 359, 'god': 702, 'come': 365, 'keep': 899, 'constitutional': 384, 'another': 120, 'excuse': 574, 'republicans': 1376, 'appease': 130, 'era': 547, 'measure': 1027, 'gloucesterrugby': 697, 'together': 1669, 'fine': 624, 'exuberant': 580, 'depress': 456, 'halffull': 740, 'halfempty': 739, 'mikeashley': 1053, 'sposdirectshame': 1537, 'perhaps': 1241, 'example': 571, 'protect': 1316, 'workersrights': 1821, 'within': 1811, 'europe': 558, 'remain': 1370, 'princess': 1304, 'birdsstellabadprincess': 219, 'post': 1284, 'check': 321, 'saw': 1441, 'care': 293, 'hilarious': 780, 'already': 86, 'block': 232, 'particularly': 1225, 'difficult': 465, 'question': 1334, 'devastate': 460, 'news': 1135, 'happiness': 746, 'state': 1551, 'manner': 1010, 'margaret': 1013, 'lee': 933, 'runbeck': 1420, 'quote': 1338, 'inspiration': 847, 'safe': 1427, 'ways': 1770, 'acne': 51, 'create': 407, 'beat': 185, 'makingbeats': 1004, 'thursday': 1654, 'standard': 1546, 'akaipro': 74, 'number': 1165, '10': 4, 'weddingpay': 1779, 'weddingdress': 1778, 'forward': 657, 'attend': 148, 'workshop': 1822, 'cod': 357, 'onemoreday': 1187, 'reach': 1353, '200': 14, 'followers': 648, 'twitch': 1708, 'follower': 647, 'stream': 1570, 'em': 528, 'cost': 395, 'verbal': 1738, 'abuse': 46, 'adult': 60, 'country': 399, 'bomb': 244, 'stadium': 1543, 'eat': 518, 'swalscha': 1600, 'dejeuner': 450, 'lunch': 992, 'amoureuse': 103, 'ilovethesecret': 827, 'lawofattraction': 926, 'quit': 1337, 'success': 1580, 'joy': 889, 'library': 944, 'liberal': 943, 'politics': 1275, 'pole': 1273, 'rozthediva': 1417, 'blackgirlspole': 224, 'bodyandpole': 241, 'argentina2015': 133, 'attack': 147, 'empty': 535, 'city': 341, 'side': 1487, 'selfserving': 1459, 'hypocrite': 810, 'eye': 581, 'bound': 250, 'ball': 169, 'nimrod': 1148, 'president': 1296, 'nohcarolina': 1153, 'reelection': 1364, 'leg': 934, 'can': 287, 'not': 1160, 'could': 396, 'easily': 517, 'anywhere': 128, 'alreemgroup': 87, 'alyalshahawy': 93, 'ad': 55, 'cut': 424, 'photographerdubai': 1249, 'sun': 1586, 'mydubai': 1105, 'seem': 1456, 'montreal': 1081, 'wash': 1764, 'spirit': 1535, 'entertainment': 542, 'brisbane': 264, 'wimbledon2016': 1806, 'entrepreneur': 543, 'speaker': 1531, 'confident': 378, 'gale': 679, 'moments': 1073, 'bipolar': 216, 'frikiegirl2016': 669, 'lucky': 986, 'chinatown': 331, 'mall': 1005, 'binondo': 215, 'complete': 370, 'utter': 1731, 'moon': 1083, 'trash': 1692, 'america': 99, 'magnettherapy': 999, 'sero': 1467, 'eggofofof': 524, 'smileegsmile': 1505, 'morio': 1084, 'brilliant': 262, 'enter': 541, 'customer': 423, 'screen': 1447, 'songs': 1526, 'pot': 1285, 'shock': 1476, 'treatment': 1695, 'bus': 276, 'alamindah': 75, 'carrieunderwood': 298, 'be': 181, 'food': 649, 'beer': 190, 'felt': 611, 'starstruck': 1550, 'report': 1374, 'proper': 1315, 'ocean': 1169, 'sydney': 1606, 'teach': 1620, 'parisian': 1223, 'allin216': 81, 'boys': 252, 'countdown': 398, 'nolefam': 1154, 'milan': 1054, '22092016': 18, 'stone': 1563, 'roses': 1416, 'club': 356, 'reason': 1359, 'stay': 1554, 'nobody': 1150, 'else': 527, 'openly': 1192, 'crush': 418, 'wake': 1759, 'buzz': 282, 'moment': 1072, 'hook': 791, 'engage': 537, '298': 20, 'end': 536, 'class': 343, 'risay18': 1399, 'risaypls': 1400, 'legendary': 935, 'unite': 1717, 'rest': 1382, 'firearms': 629, 'hold': 786, 'door': 490, 'try': 1703, 'deny': 454, 'jeffreycwilliams': 881, 'untrue': 1721, 'baby': 159, 'babygirl': 160, 'niece': 1143, 'tic': 1655, 'oneteamlincoln': 1189, 'carolinas': 297, 'rockthepark': 1409, 'timetogetmyjesuson': 1662, 'buy': 281, 'dry': 508, 'ticket': 1656, 'minute': 1061, 'sixty': 1498, 'second': 1453, 'sanjapan': 1435, 'animeconvention': 113, 'september': 1465, 'motor': 1089, 'announcements': 119, 'count': 397, 'mondaymotivation': 1077, 'livelifetothefullest': 962, 'everydaycounts': 566, 'degree': 448, 'anna': 115, 'classmate': 344, '92': 38, 'would': 1829, 'support': 1596, 'event': 563, 'brentwood': 260, 'fund': 674, 'happyhappy': 748, 'kitten': 908, 'blackkitten': 225, 'opportunity': 1196, 'cherish': 325, 'themeowood': 1641, 'puppy': 1329, 'till': 1660, 'pharrell': 1246, 'williams': 1805, 'pharrellwilliams': 1247, 'lyric': 996, 'member': 1034, 'yesterday': 1844, 'gutted': 734, 'rise': 1401, 'yayyy': 1837, 'trailer': 1687, 'morrow': 1086, 'fever': 616, 'fancy': 596, 'tail': 1610, 'mad': 997, 'teeth': 1624, 'bite': 221, 'dog': 481, 'dogbite': 482, 'dogtreat': 484, 'dreamcatcher': 499, 'englishteacher': 538, 'teacher': 1621, 'ecuador': 521, 'memory': 1038, 'wonderful': 1815, 'dad': 426, 'eternally': 553, 'greatquotes': 719, 'dallas': 428, 'disturb': 479, 'viewer': 1745, 'discretion': 472, 'loop': 970, 'over': 1211, 'itakoaloneits': 873, 'stick': 1560, 'letthembelittle': 940, 'childhoodunplugged': 328, 'calm': 284, 'sunny': 1590, 'chubbygirl': 340, 'glass': 695, 'finnishgirl': 627, 'bursata': 275, 'tm': 1664, 'yuhuuuuu': 1847, 'that': 1634, 'misha': 1063, 'meylucky': 1042, 'others': 1205, 'affair': 61, 'cowhouse': 403, 'nationalbestfriendsday': 1115, 'true': 1697, 'governor': 711, 'ny': 1167, 'biggest': 206, 'africanamerican': 64, 'population': 1280, 'stereotype': 1559, 'prejudice': 1292, 'repetition': 1373, 'conflict': 380, 'hussy': 809, 'quicker': 1335, '30': 21, 'ugh': 1712, 'voyez': 1756, 'gaze': 685, 'girlgamer': 692, 'manypols': 1012, 'many': 1011, 'nothing': 1163, 'bluelivesmatter': 239, 'draintheswamp': 496, 'ferguson': 613, 'sequoia': 1466, 'birch': 217, 'eyebrows': 582, 'ham': 742, 'pride': 1303, 'paradereadybeyou': 1219, 'ofbham': 1172, 'fathersday': 605, '0616of': 2, 'bogummylove': 242, 'forevermore': 655, 'everydaygood': 567, 'nightuser': 1147, 'wish': 1810, 'clients': 350, 'goats': 700, 'muddle': 1097, 'concord': 374, 'mill': 1055, 'conjuring2': 382, 'scar': 1443, 'readyornot': 1356, 'truestory': 1698, 'eliminate': 526, 'nativity': 1116, 'choose': 334, 'lifestyle': 949, 'instead': 860, 'ahahah': 71, 'nabilah': 1107, 'arigatou': 135, 'jkt48': 885, 'iwearbanana': 876, 'employ': 533, 'redditchbizhour': 1363, 'half': 738, 'dumb': 511, 'corbinrayp': 391, 'appropriate': 132, 'zero': 1849, 'idea': 816, 'mission': 1065, 'whatwasthat': 1794, 'magnificent': 1000, 'mondaymorning': 1076, 'indraloka': 843, 'understand': 1716, 'designer': 458, 'print': 1305, 'animals': 112, 'fabric': 584, 'sanasafinaz': 1433, 'noexchangepolicy': 1152, 'maybe': 1025, 'littlebear': 960, 'toddlerfriends': 1667, 'puresweetness': 1330, 'latergram': 920, 'toddlerfun': 1668, 'senseless': 1463, 'violence': 1749, 'fuck': 672, 'opinion': 1194, 'amendment': 98, 'lock': 965, 'shorter': 1482, 'patrons': 1229, 'mood': 1082, 'flight': 636, 'munich': 1099, 'interview': 865, 'presentation': 1295, 'netherlands': 1123, 'read': 1354, 'assure': 143, 'assent': 142, 'petite': 1245, 'emotions': 532, 'vs': 1757, 'temporary': 1627, 'real': 1357, 'twinklatinboys': 1707, 'snapshot': 1510, 'hot': 796, 'nasty': 1113, 'naughty': 1117, 'horny': 794, 'shy': 1484, 'wear': 1773, 'rude': 1418, 'king': 905, 'xxx': 1836, 'thankfulthursday': 1633, 'creative': 408, 'cry': 419, 'canadianravers': 288, 'pressure': 1299, 'mummy': 1098, 'granny': 713, 'michaelkors': 1043, 'luckygirl': 987, 'liverpool': 963, 'athens': 145, 'santorini': 1436, 'windy': 1808, 'level': 941, 'since': 1492, 'folks': 645, 'freakshake': 660, 'launch': 924, 'freak': 659, 'sum': 1583, 'alton': 89, 'crowd': 417, 'saturdays': 1440, 'delicious': 452, 'melon': 1033, 'organic': 1199, 'fruit': 671, 'healthyliving': 764, 'fireworks': 630, 'weeheeeee': 1782, 'blackpool': 227, 'newblood16': 1132, '96': 40, 'funeral': 675, 'horribly': 795, '2016': 15, 'cringe': 414, 'robsonkanu': 1406, 'decent': 445, 'available': 152, 'transfer': 1691, 'better': 201, 'please': 1264, 'shoe': 1477, 'unnecessary': 1720, 'stress': 1571, 'stalk': 1544, 'pen': 1235, 'poor': 1278, 'universe': 1719, 'stephcurrys': 1558, 'outburst': 1209, 'legs': 936, 'nbafinals': 1119, 'grateful': 715, 'san': 1432, 'antonio': 123, 'bind': 214, 'brother': 267, 'mybrotherskeeper': 1104, 'gtgtgtgtgtgtgt': 728, 'die': 463, 'light': 950, 'village': 1747, 'greentown': 721, 'antisemitism': 122, 'hocoschools': 785, 'columbia': 364, 'hood': 790, 'havana': 755, 'weird': 1786, 'notice': 1164, 'train': 1688, 'lover': 978, 'direction': 468, 'nialhoranfacts': 1138, 'niallerwins': 1139, 'justindrewbieber': 896, 'justindb': 895, 'believetou': 195, 'sonya': 1527, 'whererefreshingbegins': 1797, 'guess': 729, 'lifeaftersurgery': 947, 'dogslife': 483, 'labrador': 912, 'labradorretriever': 913, 'lifeofsam': 948, 'superspoilt': 1595, 'latest': 922, 'glastofest': 696, 'successful': 1581, 'career': 294, 'final': 621, 'ambivalent': 96, 'step': 1557, 'thompson': 1650, 'erie': 548, 'stink': 1562, 'green': 720, 'lesion': 937, 'guillermo': 730, 'webseries': 1776, 'episode': 545, 'edit': 522, 'answer': 121, 'statement': 1552, 'paris': 1222, 'hatred': 754, 'bigotry': 207, 'we': 1771, 'nineteenth': 1149, 'independenceday': 838, 'food4thought': 650, 'rich': 1388, 'ancestral': 107, 'heritage': 774, 'independence': 837, 'hall': 741, 'simulate': 1491, 'adapt': 56, 'environment': 544, 'material': 1021, 'leadership': 929, 'donald': 486, 'ass': 140, 'pathetic': 1228, 'rigor': 1394, 'mature': 1023, 'age': 68, 'instalike': 853, 'instamood': 856, 'instapic': 857, 'graffiti': 712, 'dublin': 509, 'movie': 1092, 'flow': 639, 'rafalwojcicki': 1343, 'oitnbseason4': 1182, 'aaahhhhh': 42, 'impossible': 831, 'extraordinaryladyspeaks': 579, 'starawards': 1549, 'htm': 802, 'breakfast': 256, 'pack': 1215, 'sneakpeek': 1511, 'yellowjackets': 1842, 'nasal': 1110, 'bal': 168, 'hockey': 784, 'tony': 1676, 'tonyawards': 1677, 'theverdict': 1645, 'idiot': 818, 'rock': 1407, 'bluegrass': 238, 'beetle': 191, 'pop': 1279, 'romance': 1412, 'project': 1312, 'june': 892, '13': 8, '300dayshappy': 22, 'dayseventyseven': 441, 'lovelifequotes': 976, 'higher': 779, 'tolerable': 1670, 'alcohol': 78, 'blaze': 229, 'spit': 1536, 'image': 828, 'hide': 777, 'trail': 1686, 'tackle': 1607, 'uncover': 1715, 'problem': 1309, 'chill': 330, 'pet': 1243, 'quiet': 1336, 'july4th': 890, 'sweet': 1601, 'paratyphoid': 1220, 'thevoice': 1646, 'sister': 1496, 'senselessly': 1464, 'death': 444, 'stopthehate': 1565, 'concern': 373, 'twitter': 1709, 'brand': 254, 'honest': 789, '90': 37, 'toxic': 1681, 'mother': 1087, 'quakers': 1332, 'ape': 129, 'resources': 1381, 'chair': 309, 'remark': 1371, 'mitchell': 1066, 'therapy': 1643, 'mmm': 1068, 'sangriasaludcheers': 1434, 'pub': 1321, 'pembroke': 1234, 'fabulous': 585, 'souls': 1529, 'filter': 620, 'overwhelm': 1212, 'million': 1056, 'craig': 404, 'dowry': 494, '241': 19, 'bottle': 249, '42': 25, 'chippewa': 332, 'st': 1541, 'buffalo': 270, 'anus': 125, 'intra': 866, 'farishta': 600, 'mania': 1009, 'khushal': 900, '960': 41, '952': 39, '503': 31, '484': 28, '435': 26, '3334': 24, 'mark': 1015, 'obtain': 1168, 'damn': 429, 'without': 1813, 'bachelorette': 161, 'thebachelorette': 1638, 'none': 1155, 'suppose': 1597, 'chivalry': 333, 'tradition': 1684, 'ones': 1188, 'controversial': 387, 'otherwise': 1206, 'young': 1845, 'confine': 379, 'kitchen': 907, 'void': 1754, 'cheap': 319, 'publicity': 1323, 'faith': 590, 'vaitacacommafiasdv': 1732, 'simply': 1490, 'business': 277, 'lunchtime': 993, 'barrington': 176, 'afterschool': 67, 'instadaily': 850, 'withmom': 1812, 'argue': 134, 'shit': 1475, 'sunset': 1591, 'fitness': 633, 'card': 292, 'deep': 446, 'well': 1788, 'tagsforlikes': 1609, 'foodfriendssummerswagquotes': 651, 'lovegodgirl': 975, 'polaroid': 1272, 'window': 1807, 'payintheusa': 1231, '1111': 6, 'dream': 498, 'palace': 1216, 'cellar': 306, 'dreamy': 500, 'factor': 588, 'fault': 607, 'pointscore': 1269, 'stand': 1545, 'lame': 915, 'wednesdaywisdom': 1780, 'luke': 989, 'wen': 1789, 'temper': 1626, 'breath': 259, 'worry': 1825, 'bee': 189, 'double': 492, 'tap': 1614, 'smooth': 1507, 'skin': 1500, 'instasize': 858, 'low': 981, 'flat': 634, '5040': 32, 'inventor': 867, 'data': 435, 'employees': 534, 'newblood': 1131, 'heloise': 769, 'sweetbabins': 1602, 'bihdaygirl': 210, '5000': 30, 'pig': 1256, 'burn': 274, 'alive': 79, 'saskatchewan': 1438, 'barn': 173, 'convince': 388, 'americans': 101, 'guncontrol': 733, 'lovethem': 979, 'siddique': 1486, 'ifftar': 820, 'lumbar': 990, 'avenge': 153, 'sombre': 1520, 'warrant': 1763, 'cousins': 402, 'reunite': 1386, 'familyfunuser': 594, 'weakness': 1772, 'audience': 149, 'deane': 443, 'henry': 772, 'insightful': 846, 'tinge': 1663, 'visit': 1751, 'usgtgtgt': 1728, 'astrologer': 144, 'toll': 1671, 'promise': 1313, 'blacklivesmatter': 226, 'nonsensical': 1156, 'rank': 1348, 'boost': 247, 'heaven': 766, 'sdl326am': 1449, '16': 11, 'creep': 410, 'awesome': 155, 'baboon': 158, 'escape': 549, 'tiger': 1657, 'annaswelshzoo': 116, 'bihdaycelebrations': 209, 'william': 1804, 'extra': 578, 'dehumanize': 449, 'accountable': 48, 'rat': 1350, 'masterkeyexperience': 1020, 'study': 1576, 'face': 586, 'penza': 1237, 'steal': 1556, 'roommates': 1414, 'sisteradventures': 1497, 'ilovemysister': 826, 'plan': 1260, 'rifle': 1392, 'snow': 1513, 'closest': 354, 'navy': 1118, 'neuro': 1125, 'bc': 180, 'units': 1718, 'predictions': 1291, 'france': 658, 'minion': 1060, 'elder': 525, 'bethesda': 200, 'e32016': 514, 'tight': 1659, 'cheek': 322, 'tax': 1618, 'throwbackthursday': 1653, 'eurogamer': 556, 'pump': 1327, 'eurogamer2016': 557, 'russellbeckwith': 1421, 'staytuned': 1555, 'lyre': 995, 'tapfoags': 1615, 'american': 100, 'eugenics': 554, 'ice': 812, 'cream': 405, 'outdoor': 1210, 'picnic': 1254, 'dense': 453, 'icecream': 813, 'island': 871, 'sale': 1429, 'spree': 1538, 'retailtherapy': 1384, 'riverisland': 1403, 'shoppingqueen': 1481, 'alwayscheersyouup': 92, 'clean': 345, 'ze': 1848, 'house': 801, 'zip': 1851, 'sundry': 1589, 'in': 833, 'laundryday': 925, 'list': 957, 'bay': 179, 'sell': 1460, 'creamamp': 406, 'biherism': 212, 'absolutely': 45, 'originate': 1201, 'hateful': 753, 'african': 63, 'theresistance': 1644, 'sweets': 1603, 'idol': 819, 'tragedies': 1685, 'drive': 504, 'germany': 686, 'bah': 166, 'eacbpm': 515, 'dash': 434, 'dial': 461, 'emma': 531, 'region': 1366, 'busy': 278, 'karay': 898, 'sup': 1593, 'snort': 1512, 'swimwhatever': 1604, 'pleasure': 1265, 'alohabeachbus': 83, 'explore': 577, 'loyalty': 984, 'tacloban': 1608, 'laterof': 921, 'catbalogan': 301, 'olympics': 1185, 'medal': 1029, 'il': 823, 'film': 619, 'download': 493, '720p': 34, 'photo': 1248, 'urge': 1724, 'hopeless': 793, 'heel': 767, 'ace': 49, 'fo': 642, 'officer': 1176, 'vital': 1752, 'arrest': 137, 'chief': 327, 'crime': 413, 'yayyyy': 1838, 'marry': 1017, 'congratulations': 381, 'shegotmarried': 1474, 'lewis': 942, 'perfect': 1239, 'rangers': 1347, 'stroke': 1573, 'soccer': 1514, 'spring': 1539, 'season': 1452, 'opera': 1193, 'wales': 1760, 'beachpark': 183, 'beach': 182, 'park': 1224, 'fit': 632, 'euros2016': 559, 'stories': 1567, 'story': 1568, 'poet': 1267, 'tranquil': 1690, 'track': 1683, 'essentialoils': 551, 'anxiety': 126, 'children': 329, 'insult': 861, 'gettingold': 690, 'becomingboring': 188, 'notborderlands': 1161, 'goblizzard': 701, 'drip': 503, 'fatkidinacandystore': 606, 'ryderrideu': 1422, 'cum': 422, 'wet': 1791, 'gabychina20': 678, 'flower': 640, 'instasmile': 859, 'instalove': 855, 'parent': 1221, 'jewel': 882, 'msgapparelstoday': 1095, 'special': 1532, 'lovecamping': 974, 'brownwood': 268, 'karaoke': 897, 'friendship': 668, 'instacool': 849, 'fantastic': 597, 'carlo': 296, 'receptions': 1361, 'room': 1413, 'request': 1377, 'grant': 714, '318': 23, 'theater': 1637, 'peculiar': 1233, 'retail': 1383, 'sales': 1430, 'group': 726, 'likely': 953, 'mm': 1067, 'bank': 171, 'ample': 105, 'coolestlifehack': 390, 'worlds': 1824, 'smallest': 1503, 'increasingly': 835, 'violent': 1750, 'mrs': 1094, 'birthday': 220, 'holiday': 787, 'menmodels': 1040, 'sadden': 1425, 'groom': 724, 'position': 1281, 'issue': 872, 'ukrainian': 1713, 'athletes': 146, 'grosseto': 725, 'livestream': 964, 'oitnb': 1181, 'chain': 308, 'broadway': 265, 'quay': 1333, 'collar': 360, 'out': 1208, 'noon': 1157, 'whyyyy': 1802, 'loveyoudesi': 980, 'jordan': 887, 'lowtops': 983, 'impressive': 832, 'salute': 1431, 'view': 1744, 'floor': 637, 'newyorkcity': 1136, 'fridaynight': 665, 'discuss': 473, 'critique': 415, 'ignore': 821, 'consequences': 383, 'integration': 862, 'amen': 97, 'truth': 1701, 'stanford': 1548, 'rapebut': 1349, 'boredom': 248, '20': 13, 'minutes': 1062, 'color': 362, 'rainbow': 1344, 'daniel': 432, 'colour': 363, 'depot': 455, 'anel': 108, 'aielmaharashtra': 72, 'executive': 575, 'switch': 1605, 'provider': 1320, 'irritate': 870, 'hi': 776, 'teddy': 1623, 'corpus': 392, 'rocksteddy': 1408, 'band': 170, 'cheapshot': 320, 'lowblow': 982, 'shame': 1470, 'happywhen': 749, 'midtantrum': 1050, 'antrum': 124, 'toller': 1672, 'sinfulness': 1493, 'truthful': 1702, 'sir': 1495, 'wwdc2016': 1833, 'woot': 1818, 'skill': 1499, 'dresser': 501, 'nicknacks': 1141, 'newelectricscrewdriver': 1133, 'crockery': 416, 'london': 966, 'mimi': 1058, 'police': 1274, 'bigger': 204, 'tank': 1613, 'soldier': 1517}\n"
          ]
        }
      ]
    },
    {
      "cell_type": "markdown",
      "source": [
        "# Using N-Grams"
      ],
      "metadata": {
        "id": "lebJiiOHW6xY"
      }
    },
    {
      "cell_type": "code",
      "source": [
        "cv_ngram = CountVectorizer(ngram_range=(2,2))\n",
        "bow_1 =  cv_ngram.fit_transform(df.tweet_sent)"
      ],
      "metadata": {
        "id": "E3bRq8TQXe_e"
      },
      "execution_count": 48,
      "outputs": []
    },
    {
      "cell_type": "code",
      "source": [
        "cv_ngram.vocabulary_"
      ],
      "metadata": {
        "colab": {
          "base_uri": "https://localhost:8080/"
        },
        "id": "-a5Ofk85XfCu",
        "outputId": "74e0e213-b385-44f6-acec-a3137285ba6e"
      },
      "execution_count": 49,
      "outputs": [
        {
          "output_type": "execute_result",
          "data": {
            "text/plain": [
              "{'user father': 2851,\n",
              " 'father dysfunctional': 862,\n",
              " 'dysfunctional selfish': 726,\n",
              " 'selfish drag': 2375,\n",
              " 'drag kiss': 703,\n",
              " 'kiss dysfunction': 1402,\n",
              " 'dysfunction run': 725,\n",
              " 'user user': 2950,\n",
              " 'user thank': 2943,\n",
              " 'thank leave': 2636,\n",
              " 'leave credit': 1456,\n",
              " 'credit use': 556,\n",
              " 'use cause': 2809,\n",
              " 'cause dont': 427,\n",
              " 'dont offer': 690,\n",
              " 'offer wheelchair': 1913,\n",
              " 'wheelchair van': 3085,\n",
              " 'van pox': 2969,\n",
              " 'pox disappoint': 2097,\n",
              " 'disappoint getthanked': 661,\n",
              " 'midday majesty': 1697,\n",
              " 'model love': 1737,\n",
              " 'love take': 1586,\n",
              " 'take time': 2605,\n",
              " 'time or': 2697,\n",
              " 'factsguide society': 827,\n",
              " 'society motivation': 2477,\n",
              " '22 huge': 24,\n",
              " 'huge fan': 1281,\n",
              " 'fan fare': 843,\n",
              " 'fare big': 854,\n",
              " 'big talk': 302,\n",
              " 'talk leave': 2609,\n",
              " 'leave chaos': 1454,\n",
              " 'chaos pay': 444,\n",
              " 'pay dispute': 1995,\n",
              " 'dispute get': 668,\n",
              " 'get allshowandnogo': 1020,\n",
              " 'user camp': 2834,\n",
              " 'camp tomorrow': 407,\n",
              " 'tomorrow user': 2730,\n",
              " 'user dandy': 2842,\n",
              " 'next school': 1855,\n",
              " 'school year': 2344,\n",
              " 'year year': 3165,\n",
              " 'year exam': 3159,\n",
              " 'exam think': 803,\n",
              " 'think school': 2674,\n",
              " 'school exam': 2341,\n",
              " 'exam hate': 802,\n",
              " 'hate imagine': 1196,\n",
              " 'imagine actorslife': 1309,\n",
              " 'actorslife revolutionschool': 60,\n",
              " 'revolutionschool girl': 2241,\n",
              " 'love land': 1565,\n",
              " 'land allen': 1424,\n",
              " 'allen cap': 83,\n",
              " 'cap champion': 413,\n",
              " 'champion cleveland': 437,\n",
              " 'cleveland clevelandcavaliers': 485,\n",
              " 'user welcome': 2956,\n",
              " 'welcome grm': 3075,\n",
              " 'ireland consumer': 1350,\n",
              " 'consumer price': 529,\n",
              " 'price index': 2113,\n",
              " 'index mon': 1321,\n",
              " 'mon climb': 1742,\n",
              " 'climb previous': 488,\n",
              " 'previous 02': 2112,\n",
              " '02 05': 0,\n",
              " '05 may': 2,\n",
              " 'may blow': 1660,\n",
              " 'blow silver': 345,\n",
              " 'silver gold': 2431,\n",
              " 'gold fore': 1085,\n",
              " 'selfish orlando': 2377,\n",
              " 'orlando standwithorlando': 1965,\n",
              " 'standwithorlando pulseshooting': 2510,\n",
              " 'pulseshooting orlandoshooting': 2144,\n",
              " 'orlandoshooting biggerproblems': 1966,\n",
              " 'biggerproblems selfish': 304,\n",
              " 'selfish heabreaking': 2376,\n",
              " 'heabreaking value': 1207,\n",
              " 'value love': 2968,\n",
              " 'get see': 1040,\n",
              " 'see daddy': 2358,\n",
              " 'daddy today': 580,\n",
              " 'today days': 2712,\n",
              " 'days gettingfed': 625,\n",
              " 'user call': 2833,\n",
              " 'call michigan': 401,\n",
              " 'michigan middle': 1690,\n",
              " 'middle school': 1706,\n",
              " 'school build': 2340,\n",
              " 'build wall': 386,\n",
              " 'wall chant': 3015,\n",
              " 'chant trot': 443,\n",
              " 'comment australia': 510,\n",
              " 'australia opkillingbay': 213,\n",
              " 'opkillingbay seashepherd': 1951,\n",
              " 'seashepherd helpcovedolphins': 2353,\n",
              " 'helpcovedolphins thecove': 1234,\n",
              " 'thecove helpcovedolphins': 2656,\n",
              " 'ouchjunior angrygot': 1970,\n",
              " 'angrygot junior': 158,\n",
              " 'junior yugyoem': 1378,\n",
              " 'yugyoem org': 3178,\n",
              " 'thankful paper': 2645,\n",
              " 'paper thankful': 1980,\n",
              " 'thankful positive': 2647,\n",
              " 'friday smile': 982,\n",
              " 'smile around': 2453,\n",
              " 'around via': 190,\n",
              " 'via user': 2973,\n",
              " 'user colonies': 2839,\n",
              " 'colonies make': 500,\n",
              " 'make people': 1628,\n",
              " 'know essential': 1411,\n",
              " 'essential oil': 773,\n",
              " 'oil make': 1922,\n",
              " 'make chemicals': 1621,\n",
              " 'euro2016 people': 777,\n",
              " 'people blame': 2008,\n",
              " 'blame ha': 334,\n",
              " 'ha concede': 1143,\n",
              " 'concede goal': 516,\n",
              " 'goal fat': 1079,\n",
              " 'fat money': 858,\n",
              " 'money give': 1755,\n",
              " 'give away': 1054,\n",
              " 'away free': 219,\n",
              " 'free kick': 967,\n",
              " 'kick know': 1388,\n",
              " 'know able': 1407,\n",
              " 'able hit': 49,\n",
              " 'sad little': 2298,\n",
              " 'little due': 1512,\n",
              " 'due badly': 722,\n",
              " 'badly coneofshame': 246,\n",
              " 'coneofshame cat': 521,\n",
              " 'cat pass': 425,\n",
              " 'pass funny': 1990,\n",
              " 'funny laugh': 1004,\n",
              " 'product day': 2126,\n",
              " 'day happy': 604,\n",
              " 'happy man': 1179,\n",
              " 'man wine': 1644,\n",
              " 'wine tool': 3097,\n",
              " 'tool weekend': 2739,\n",
              " 'weekend time': 3070,\n",
              " 'time open': 2696,\n",
              " 'open amp': 1945,\n",
              " 'amp drink': 129,\n",
              " 'user lump': 2890,\n",
              " 'lump say': 1607,\n",
              " 'say prove': 2330,\n",
              " 'prove lump': 2138,\n",
              " 'user ff': 2856,\n",
              " 'ff gamedev': 890,\n",
              " 'gamedev indiedev': 1012,\n",
              " 'indiedev indiegamedev': 1323,\n",
              " 'indiegamedev squad': 1324,\n",
              " 'squad user': 2501,\n",
              " 'beautiful sign': 273,\n",
              " 'sign vendor': 2430,\n",
              " 'vendor 80': 2970,\n",
              " '80 4500': 43,\n",
              " '4500 upsideofflorida': 32,\n",
              " 'upsideofflorida shopalyssas': 2795,\n",
              " 'shopalyssas love': 2415,\n",
              " 'user smile': 2929,\n",
              " 'smile media': 2459,\n",
              " 'media pressconference': 1674,\n",
              " 'pressconference natalya': 2108,\n",
              " 'natalya turkey': 1811,\n",
              " 'turkey sunday': 2773,\n",
              " 'sunday throwback': 2573,\n",
              " 'throwback love': 2678,\n",
              " 'great panel': 1113,\n",
              " 'panel mediatization': 1979,\n",
              " 'mediatization public': 1675,\n",
              " 'public service': 2141,\n",
              " 'service ica16': 2391,\n",
              " 'happy father': 1172,\n",
              " 'father day': 860,\n",
              " 'day user': 620,\n",
              " '50 people': 36,\n",
              " 'people go': 2013,\n",
              " 'go nightclub': 1069,\n",
              " 'nightclub good': 1872,\n",
              " 'good night': 1096,\n",
              " 'night man': 1867,\n",
              " 'man action': 1637,\n",
              " 'action mean': 57,\n",
              " 'mean people': 1672,\n",
              " 'people lose': 2017,\n",
              " 'lose families': 1541,\n",
              " 'families forever': 830,\n",
              " 'forever riporlando': 955,\n",
              " 'never chance': 1829,\n",
              " 'chance vote': 439,\n",
              " 'vote presidential': 2997,\n",
              " 'presidential candidate': 2107,\n",
              " 'candidate excite': 412,\n",
              " 'excite cycle': 805,\n",
              " 'cycle look': 574,\n",
              " 'look different': 1531,\n",
              " 'alohafriday time': 86,\n",
              " 'time exist': 2695,\n",
              " 'exist positivevibes': 813,\n",
              " 'positivevibes hawaiian': 2090,\n",
              " 'hawaiian user': 1206,\n",
              " 'user rip': 2919,\n",
              " 'rip fellow': 2264,\n",
              " 'fellow northern': 881,\n",
              " 'northern ireland': 1884,\n",
              " 'ireland fan': 1351,\n",
              " 'fan sadly': 847,\n",
              " 'sadly pass': 2303,\n",
              " 'pass away': 1988,\n",
              " 'away tonight': 222,\n",
              " 'tonight away': 2731,\n",
              " 'away forever': 218,\n",
              " 'forever sing': 956,\n",
              " 'sing cheer': 2438,\n",
              " 'cheer fire': 453,\n",
              " 'hard monday': 1193,\n",
              " 'monday due': 1745,\n",
              " 'due cloudy': 723,\n",
              " 'cloudy weather': 492,\n",
              " 'weather disable': 3048,\n",
              " 'disable oxygen': 660,\n",
              " 'oxygen production': 1975,\n",
              " 'production today': 2128,\n",
              " 'today goodnight': 2716,\n",
              " 'goodnight badmonday': 1100,\n",
              " 'unbelievable must': 2786,\n",
              " 'must century': 1799,\n",
              " 'century wed': 432,\n",
              " 'wed need': 3052,\n",
              " 'need something': 1820,\n",
              " 'something like': 2482,\n",
              " 'like neverump': 1494,\n",
              " 'neverump xenophobia': 1836,\n",
              " 'taylorswift1989 bull': 2616,\n",
              " 'bull dominate': 389,\n",
              " 'dominate bull': 680,\n",
              " 'bull direct': 388,\n",
              " 'direct whatever': 655,\n",
              " 'whatever want': 3084,\n",
              " 'morning travelingram': 1765,\n",
              " 'travelingram delay': 2762,\n",
              " 'delay ripinkylife': 639,\n",
              " 'user one': 2908,\n",
              " 'one word': 1940,\n",
              " 'word tell': 3117,\n",
              " 'tell photoshop': 2627,\n",
              " 'photoshop enoughisenough': 2037,\n",
              " 'enoughisenough dontphotoshopeverything': 762,\n",
              " 'dontphotoshopeverything wheresallthenaturalphotos': 696,\n",
              " 'oh cedarpoint': 1920,\n",
              " 'cedarpoint wait': 429,\n",
              " 'wait hours': 3007,\n",
              " 'hours valravn': 1277,\n",
              " 'valravn line': 2966,\n",
              " 'line stop': 1502,\n",
              " 'stop work': 2536,\n",
              " 'work close': 3122,\n",
              " 'thankful sunshine': 2649,\n",
              " 'sunshine thankful': 2582,\n",
              " 'finally finish': 897,\n",
              " 'finish book': 911,\n",
              " 'book work': 356,\n",
              " 'work awhile': 3119,\n",
              " 'awhile bookworm': 224,\n",
              " 'bookworm ontothenextnovel': 357,\n",
              " 'knock fan': 1405,\n",
              " 'fan hard': 844,\n",
              " 'hard easier': 1192,\n",
              " 'easier na': 728,\n",
              " 'na fan': 1800,\n",
              " 'fan playoffs': 846,\n",
              " 'playoffs roll': 2064,\n",
              " 'roll around': 2281,\n",
              " 'life social': 1485,\n",
              " 'social network': 2476,\n",
              " 'network embrace': 1825,\n",
              " 'embrace day': 742,\n",
              " 'mon share': 1744,\n",
              " 'share midday': 2399,\n",
              " 'midday user': 1704,\n",
              " 'user midday': 2893,\n",
              " 'midday snake': 1703,\n",
              " 'snake see': 2465,\n",
              " 'see weekend': 2368,\n",
              " 'lovely echeveria': 1591,\n",
              " 'echeveria bloomsflowers': 731,\n",
              " 'bloomsflowers grow': 344,\n",
              " 'grow garden': 1127,\n",
              " 'garden iphonesia': 1014,\n",
              " 'iphonesia bliss': 1348,\n",
              " 'bliss bloom': 340,\n",
              " 'bloom basilicabotanica': 343,\n",
              " 'amaze positive': 111,\n",
              " 'positive affirmation': 2087,\n",
              " 'whenever something': 3086,\n",
              " 'something go': 2481,\n",
              " 'go wrong': 1077,\n",
              " 'feel blue': 874,\n",
              " 'blue illustration': 346,\n",
              " 'best pa': 293,\n",
              " 'pa life': 1976,\n",
              " 'life know': 1481,\n",
              " 'know of': 1415,\n",
              " 'abc2020 get': 48,\n",
              " 'get ready': 1038,\n",
              " 'ready remove': 2195,\n",
              " 'remove victims': 2225,\n",
              " 'victims pulseclub': 2975,\n",
              " 'pulseclub prayfororlando': 2143,\n",
              " 'midday get': 1695,\n",
              " 'get nose': 1036,\n",
              " 'nose job': 1885,\n",
              " 'job user': 1367,\n",
              " 'midday petenka': 1698,\n",
              " 'petenka love': 2030,\n",
              " 'concelebrate albanpilgrimage': 517,\n",
              " 'albanpilgrimage first': 79,\n",
              " 'first time': 923,\n",
              " 'time user': 2702,\n",
              " 'user let': 2885,\n",
              " 'let scumbaggery': 1469,\n",
              " 'scumbaggery begin': 2350,\n",
              " 'thank super': 2638,\n",
              " 'super love': 2584,\n",
              " 'love zpamdelacruz': 1587,\n",
              " 'zpamdelacruz wed': 3184,\n",
              " 'wed doors': 3051,\n",
              " 'doors cap': 699,\n",
              " 'cap tartar': 415,\n",
              " 'scourge play': 2347,\n",
              " 'play barque': 2055,\n",
              " 'barque piece': 255,\n",
              " 'piece piano': 2043,\n",
              " 'piano beyond': 2038,\n",
              " 'beyond belief': 298,\n",
              " 'let fight': 1467,\n",
              " 'fight love': 891,\n",
              " 'love peace': 1573,\n",
              " 'day mr': 612,\n",
              " 'mr ray': 1778,\n",
              " 'ray video': 2187,\n",
              " 'video father': 2977,\n",
              " 'day ray': 615,\n",
              " 'ray world': 2188,\n",
              " 'world hotvideo': 3137,\n",
              " 'hotvideo video': 1273,\n",
              " 'user scot': 2923,\n",
              " 'scot time': 2346,\n",
              " 'time babe': 2693,\n",
              " 'babe scot': 225,\n",
              " 'scot fashion': 2345,\n",
              " 'fashion monochrome': 857,\n",
              " 'monochrome style': 1757,\n",
              " 'style instahappyday': 2551,\n",
              " 'weekend here': 3065,\n",
              " 'here self': 1236,\n",
              " 'self solo': 2374,\n",
              " 'solo like4like': 2478,\n",
              " 'happy work': 1189,\n",
              " 'work conference': 3123,\n",
              " 'conference right': 523,\n",
              " 'right midst': 2259,\n",
              " 'midst lead': 1707,\n",
              " 'lead cultureofdevelopment': 1448,\n",
              " 'cultureofdevelopment organizations': 567,\n",
              " 'organizations work': 1958,\n",
              " 'work midst': 3127,\n",
              " 'christian grimmies': 467,\n",
              " 'grimmies last': 1119,\n",
              " 'last performance': 1433,\n",
              " 'performance shoot': 2025,\n",
              " 'shoot via': 2410,\n",
              " 'user christinarip': 2837,\n",
              " 'christinarip voice': 472,\n",
              " 'voice christinagrimmie': 2993,\n",
              " 'ready dance': 2193,\n",
              " 'dance roar': 583,\n",
              " 'roar preschoolers': 2273,\n",
              " 'preschoolers students': 2104,\n",
              " 'students proud': 2546,\n",
              " 'really feel': 2204,\n",
              " 'user wife': 2957,\n",
              " 'wife adore': 3092,\n",
              " 'adore miss': 65,\n",
              " 'miss poland': 1727,\n",
              " 'poland show': 2077,\n",
              " 'show surgery': 2420,\n",
              " 'surgery name': 2591,\n",
              " 'name bridge': 1805,\n",
              " 'bridge amp': 376,\n",
              " 'amp everything': 130,\n",
              " 'user jealous': 2882,\n",
              " 'jealous right': 1363,\n",
              " 'right chatiado': 2255,\n",
              " 'celebrate every': 430,\n",
              " 'every man': 793,\n",
              " 'man play': 1641,\n",
              " 'play fatherly': 2057,\n",
              " 'fatherly role': 867,\n",
              " 'role father': 2280,\n",
              " 'sure happy': 2589,\n",
              " 'happy ofof': 1182,\n",
              " 'ofof hour': 1918,\n",
              " 'the white': 2653,\n",
              " 'white establishment': 3087,\n",
              " 'establishment bulk': 775,\n",
              " 'bulk folk': 387,\n",
              " 'folk run': 937,\n",
              " 'run around': 2289,\n",
              " 'around love': 189,\n",
              " 'love promote': 1576,\n",
              " 'promote greatness': 2131,\n",
              " 'good morning': 1095,\n",
              " 'morning journey': 1764,\n",
              " 'journey begin': 1369,\n",
              " 'begin travel': 284,\n",
              " 'travel yeah': 2761,\n",
              " 'yeah thejourneybegins': 3158,\n",
              " 'thejourneybegins hello': 2657,\n",
              " 'user lui': 2889,\n",
              " 'lui hottweets': 1604,\n",
              " 'hottweets like': 1272,\n",
              " 'like venusexchange': 1499,\n",
              " 'new brochure': 1839,\n",
              " 'brochure arrive': 381,\n",
              " 'arrive excite': 192,\n",
              " 'excite work': 809,\n",
              " 'work solutions': 3130,\n",
              " 'much stuff': 1785,\n",
              " 'stuff happen': 2549,\n",
              " 'happen florida': 1155,\n",
              " 'florida first': 930,\n",
              " 'first orlando': 920,\n",
              " 'orlando shoot': 1964,\n",
              " 'shoot disneygatorattack': 2409,\n",
              " 'disneygatorattack two': 665,\n",
              " 'two year': 2782,\n",
              " 'year old': 3160,\n",
              " 'old kid': 1927,\n",
              " 'user ferri': 2855,\n",
              " 'ferri itof': 885,\n",
              " 'itof sake': 1355,\n",
              " 'sake championship': 2306,\n",
              " 'championship clearly': 438,\n",
              " 'clearly turn': 484,\n",
              " 'turn point': 2775,\n",
              " 'point ferrarimercs': 2071,\n",
              " 'acid first': 55,\n",
              " 'first test': 922,\n",
              " 'test proud': 2632,\n",
              " 'seek probe': 2369,\n",
              " 'probe udtapunjab': 2123,\n",
              " 'udtapunjab leak': 2783,\n",
              " 'leak point': 1452,\n",
              " 'point finger': 2072,\n",
              " 'finger amarinder': 909,\n",
              " 'amarinder cap': 107,\n",
              " 'user wrap': 2959,\n",
              " 'wrap senseaboutmaths': 3148,\n",
              " 'senseaboutmaths user': 2384,\n",
              " 'user th': 2942,\n",
              " 'th user': 2634,\n",
              " 'user hey': 2870,\n",
              " 'hey white': 1241,\n",
              " 'white people': 3089,\n",
              " 'people call': 2010,\n",
              " 'call people': 402,\n",
              " 'people white': 2023,\n",
              " 'white user': 3090,\n",
              " 'user race': 2916,\n",
              " 'race identity': 2168,\n",
              " 'identity med': 1296,\n",
              " 'user might': 2894,\n",
              " 'might show': 1712,\n",
              " 'show today': 2422,\n",
              " 'today regurgitate': 2718,\n",
              " 'regurgitate talk': 2218,\n",
              " 'talk point': 2610,\n",
              " 'point name': 2073,\n",
              " 'name call': 1806,\n",
              " 'sometimes raise': 2484,\n",
              " 'raise brows': 2181,\n",
              " 'brows raise': 384,\n",
              " 'raise bar': 2180,\n",
              " 'bar golfstrengthandconditioning': 253,\n",
              " 'golfstrengthandconditioning strong': 1086,\n",
              " 'strong felixfoisgolf': 2544,\n",
              " 'greathonour careerconvos': 1116,\n",
              " 'careerconvos user': 420,\n",
              " 'user design': 2844,\n",
              " 'design innovative': 645,\n",
              " 'innovative learn': 1325,\n",
              " 'learn space': 1453,\n",
              " 'space user': 2491,\n",
              " 'user include': 2877,\n",
              " 'include wateringhole': 1315,\n",
              " 'wateringhole cave': 3036,\n",
              " 'cave mountaintop': 428,\n",
              " 'mountaintop campfire': 1771,\n",
              " 'campfire user': 410,\n",
              " 'user he': 2869,\n",
              " 'alright use': 94,\n",
              " 'use amp': 2808,\n",
              " 'amp insecurity': 135,\n",
              " 'insecurity lure': 1326,\n",
              " 'lure men': 1611,\n",
              " 'men whitesupremacy': 1685,\n",
              " 'carry gun': 423,\n",
              " 'gun help': 1135,\n",
              " 'help take': 1233,\n",
              " 'take gun': 2602,\n",
              " 'gun control': 1133,\n",
              " 'control wont': 533,\n",
              " 'wont stop': 3110,\n",
              " 'stop black': 2534,\n",
              " 'black market': 328,\n",
              " 'market terrorist': 1654,\n",
              " 'terrorist get': 2631,\n",
              " 'get worse': 1045,\n",
              " 'use power': 2812,\n",
              " 'power mind': 2095,\n",
              " 'mind heal': 1720,\n",
              " 'heal body': 1214,\n",
              " 'body altwaystoheal': 349,\n",
              " 'altwaystoheal healthy': 97,\n",
              " 'healthy peace': 1224,\n",
              " 'woohoo weeks': 3113,\n",
              " 'weeks go': 3073,\n",
              " 'far away': 852,\n",
              " 'away place': 221,\n",
              " 'place family': 2049,\n",
              " 'family members': 837,\n",
              " 'ready release': 2194,\n",
              " 'release tonight': 2221,\n",
              " 'tonight new': 2733,\n",
              " 'new music': 1844,\n",
              " 'music new': 1792,\n",
              " 'new video': 1848,\n",
              " 'video look': 2978,\n",
              " 'look announcement': 1529,\n",
              " 'announcement midweek': 166,\n",
              " 'midweek newmusic': 1709,\n",
              " 'newmusic watchthisspace': 1852,\n",
              " 'watchthisspace guitar': 3035,\n",
              " 'monday nights': 1750,\n",
              " 'nights pm': 1874,\n",
              " 'pm channel': 2067,\n",
              " 'channel finally': 442,\n",
              " 'finally get': 899,\n",
              " 'see fuss': 2360,\n",
              " 'watch new': 3031,\n",
              " 'new episodes': 1842,\n",
              " 'episodes user': 768,\n",
              " 'user office': 2906,\n",
              " 'office nice': 1914,\n",
              " 'nice long': 1860,\n",
              " 'long night': 1527,\n",
              " 'night snapchat': 1869,\n",
              " 'snapchat user': 2468,\n",
              " 'user reread': 2918,\n",
              " 'reread vermillionred': 2232,\n",
              " '15 things': 13,\n",
              " 'things incredibly': 2666,\n",
              " 'incredibly people': 1318,\n",
              " 'yes receive': 3172,\n",
              " 'receive acceptance': 2211,\n",
              " 'acceptance letter': 54,\n",
              " 'letter master': 1470,\n",
              " 'master back': 1657,\n",
              " 'back user': 242,\n",
              " 'user october': 2905,\n",
              " 'october goodtimes': 1902,\n",
              " 'goodtimes history': 1101,\n",
              " 'daughter rid': 593,\n",
              " 'rid bike': 2243,\n",
              " 'bike around': 312,\n",
              " 'around driveway': 187,\n",
              " 'driveway son': 718,\n",
              " 'son play': 2485,\n",
              " 'play guitar': 2058,\n",
              " 'guitar us': 1131,\n",
              " 'us enjoy': 2798,\n",
              " 'enjoy campfire': 757,\n",
              " 'campfire summertime': 409,\n",
              " 'summertime memories': 2562,\n",
              " 'org love': 1954,\n",
              " 'love station': 1579,\n",
              " 'station way': 2518,\n",
              " 'way jam': 3039,\n",
              " 'jam work': 1359,\n",
              " 'work get': 3125,\n",
              " 'get work': 1044,\n",
              " 'work do': 3124,\n",
              " 'do course': 670,\n",
              " 'course memories': 548,\n",
              " 'memories user': 1683,\n",
              " 'user ill': 2874,\n",
              " 'ill always': 1305,\n",
              " 'always hope': 99,\n",
              " 'hope one': 1262,\n",
              " 'one day': 1932,\n",
              " 'day ill': 607,\n",
              " 'ill get': 1306,\n",
              " 'get hug': 1029,\n",
              " 'hug dont': 1279,\n",
              " 'dont think': 692,\n",
              " 'think donna': 2668,\n",
              " 'donna happen': 683,\n",
              " 'happen daytime': 1154,\n",
              " 'daytime soon': 631,\n",
              " 'couple sex': 547,\n",
              " 'sex fat': 2392,\n",
              " 'fat naked': 859,\n",
              " 'naked japanese': 1804,\n",
              " 'japanese girls': 1362,\n",
              " 'hump hump': 1285,\n",
              " 'hump day': 1284,\n",
              " 'day humpers': 606,\n",
              " 'humpers edwardsville': 1286,\n",
              " 'edwardsville pennsylvania': 733,\n",
              " 'personalise gap': 2028,\n",
              " 'gap 799': 1013,\n",
              " '799 get': 42,\n",
              " 'get shop': 1041,\n",
              " 'shop cool': 2412,\n",
              " 'cool home': 535,\n",
              " 'home fun': 1256,\n",
              " 'truly sick': 2766,\n",
              " 'sick pp': 2427,\n",
              " 'tramp call': 2753,\n",
              " 'call drama': 399,\n",
              " 'drama resign': 707,\n",
              " 'resign orlando': 2233,\n",
              " 'shoot boy': 2408,\n",
              " 'boy point': 363,\n",
              " 'point years': 2076,\n",
              " 'years talk': 3167,\n",
              " 'talk change': 2607,\n",
              " 'user long': 2887,\n",
              " 'long nashvilletour2016': 1526,\n",
              " 'nashvilletour2016 nashvilleforever': 1809,\n",
              " 'eurusd clear': 782,\n",
              " 'clear 11400': 483,\n",
              " '11400 barrier': 10,\n",
              " 'barrier jump': 256,\n",
              " 'jump fresh': 1375,\n",
              " 'fresh week': 977,\n",
              " 'week high': 3057,\n",
              " 'high blow': 1244,\n",
              " 'go la': 1066,\n",
              " 'la tomorrow': 1419,\n",
              " 'thankful good': 2643,\n",
              " 'good friends': 1090,\n",
              " 'friends thankful': 990,\n",
              " 'still wrap': 2530,\n",
              " 'wrap head': 3147,\n",
              " 'head around': 1208,\n",
              " 'around fact': 188,\n",
              " 'fact christinagrimmie': 823,\n",
              " 'christinagrimmie go': 470,\n",
              " 'go fact': 1063,\n",
              " 'fact man': 824,\n",
              " 'man destroy': 1638,\n",
              " 'destroy prayfororlando': 647,\n",
              " 'receive dis': 2212,\n",
              " 'dis user': 658,\n",
              " 'user wait': 2951,\n",
              " 'wait sta': 3012,\n",
              " 'sta bake': 2503,\n",
              " 'bake eyelids': 248,\n",
              " 'play vigilfororlando': 2060,\n",
              " 'vigilfororlando harp': 2985,\n",
              " 'harp clonakilty': 1194,\n",
              " 'clonakilty rip': 490,\n",
              " 'rip via': 2265,\n",
              " 'user yes': 2960,\n",
              " 'yes yes': 3173,\n",
              " 'yes ihavenofriends': 3171,\n",
              " 'ihavenofriends someonecomewithme': 1303,\n",
              " 'sunday weekend': 2575,\n",
              " 'weekend relax': 3068,\n",
              " 'relax icon': 2219,\n",
              " 'icon woman': 1291,\n",
              " 'woman sundaymorning': 3106,\n",
              " 'sundaymorning sunday': 2576,\n",
              " 'sunday marilynmonroe': 2570,\n",
              " 'user interest': 2880,\n",
              " 'interest linguistic': 1342,\n",
              " 'linguistic address': 1503,\n",
              " 'address race': 63,\n",
              " 'race amp': 2165,\n",
              " 'amp racism': 141,\n",
              " 'racism power': 2174,\n",
              " 'power raciolinguistics': 2096,\n",
              " 'raciolinguistics bring': 2171,\n",
              " 'one beloved': 1931,\n",
              " 'beloved long': 285,\n",
              " 'long lose': 1525,\n",
              " 'lose cos': 1540,\n",
              " 'cos recover': 539,\n",
              " 'recover thank': 2214,\n",
              " 'thank apple': 2635,\n",
              " 'apple music': 181,\n",
              " 'marvel song': 1656,\n",
              " 'song music': 2486,\n",
              " 'music weed': 1796,\n",
              " 'weed ripchristina': 3056,\n",
              " 'ripchristina adele': 2266,\n",
              " 'adele dance': 64,\n",
              " 'dance vine': 584,\n",
              " 'vine user': 2988,\n",
              " 'user mock': 2896,\n",
              " 'mock drama': 1735,\n",
              " 'drama black': 705,\n",
              " 'black user': 330,\n",
              " 'user breast': 2830,\n",
              " 'spell breast': 2494,\n",
              " 'breast referendum': 373,\n",
              " 'referendum commerzbank': 2216,\n",
              " 'commerzbank blow': 511,\n",
              " '100 amaze': 6,\n",
              " 'amaze health': 110,\n",
              " 'health benefit': 1217,\n",
              " 'benefit cucumbers': 286,\n",
              " 'cucumbers healthy': 566,\n",
              " 'healthy altwaystoheal': 1218,\n",
              " 'work of': 3128,\n",
              " 'of pity': 1906,\n",
              " 'pity follow': 2045,\n",
              " 'follow tigers': 942,\n",
              " 'tigers instagood': 2687,\n",
              " 'instagood smile': 1332,\n",
              " 'smile love': 2457,\n",
              " 'toradora aime': 2740,\n",
              " 'aime animeedit': 76,\n",
              " 'animeedit make': 161,\n",
              " 'make breakup': 1619,\n",
              " 'breakup alone': 371,\n",
              " 'alone lonely': 88,\n",
              " '50 laws': 34,\n",
              " 'laws pool': 1447,\n",
              " 'pool ask': 2082,\n",
              " 'ask ride': 197,\n",
              " 'ride do': 2246,\n",
              " 'do pick': 673,\n",
              " 'pick grm': 2040,\n",
              " 'grm membership': 1120,\n",
              " 'membership form': 1681,\n",
              " 'cold polar': 497,\n",
              " 'polar bear': 2078,\n",
              " 'bear climb': 265,\n",
              " 'climb race': 489,\n",
              " 'race angry': 2166,\n",
              " 'angry polar': 156,\n",
              " 'race polar': 2170,\n",
              " 'bear live': 266,\n",
              " 'live cold': 1515,\n",
              " 'cold place': 496,\n",
              " 'place look': 2051,\n",
              " 'user get': 2858,\n",
              " 'get angry': 1021,\n",
              " 'angry muslin': 155,\n",
              " 'muslin assassination': 1797,\n",
              " 'assassination 50': 200,\n",
              " '50 much': 35,\n",
              " 'happy sappy': 1184,\n",
              " 'sappy wait': 2314,\n",
              " 'wait football': 3005,\n",
              " 'football football': 950,\n",
              " 'football snapchat': 951,\n",
              " 'friday miss': 981,\n",
              " 'miss fringesqcbagssummer': 1726,\n",
              " 'fringesqcbagssummer of': 994,\n",
              " 'nochebuena lasvegas': 1878,\n",
              " 'lasvegas us': 1435,\n",
              " 'us las': 2800,\n",
              " 'las begin': 1426,\n",
              " 'begin strip': 283,\n",
              " 'fleurette instaboyinstamansefieseptumfriend': 927,\n",
              " 'instaboyinstamansefieseptumfriend smilesblackandwhite': 1328,\n",
              " 'sad branch': 2296,\n",
              " 'branch its': 366,\n",
              " 'its rainy': 1357,\n",
              " 'rainy day': 2179,\n",
              " 'day write': 622,\n",
              " 'write tear': 3149,\n",
              " 'tear fly': 2623,\n",
              " 'fly bird': 933,\n",
              " 'bird hair': 317,\n",
              " 'hair line': 1144,\n",
              " 'line micropoetry': 1501,\n",
              " 'yeah new': 3157,\n",
              " 'new button': 1840,\n",
              " 'button mail': 394,\n",
              " 'mail pretty': 1618,\n",
              " 'pretty jewelrymaking': 2111,\n",
              " 'jewelrymaking button': 1364,\n",
              " 'user driver': 2847,\n",
              " 'driver hit': 716,\n",
              " 'hit female': 1249,\n",
              " 'female loose': 884,\n",
              " 'loose river': 1538,\n",
              " 'river rd': 2271,\n",
              " 'rd west': 2189,\n",
              " 'west loose': 3081,\n",
              " 'loose kill': 1537,\n",
              " 'kill driver': 1393,\n",
              " 'driver ok': 717,\n",
              " 'ok crew': 1926,\n",
              " 'crew remove': 558,\n",
              " 'remove animal': 2224,\n",
              " 'afterpas make': 71,\n",
              " 'make japan': 1627,\n",
              " 'japan ofmadeinjapan': 1361,\n",
              " 'ofmadeinjapan os': 1917,\n",
              " 'os ofcut': 1967,\n",
              " 'ofcut fun': 1911,\n",
              " 'fun hawaii': 1000,\n",
              " 'hawaii love': 1205,\n",
              " 'love strawberry': 1583,\n",
              " 'strawberry tomato': 2541,\n",
              " 'people agent': 2006,\n",
              " 'agent protest': 73,\n",
              " 'protest tramp': 2134,\n",
              " 'tramp republican': 2755,\n",
              " 'republican worthy': 2228,\n",
              " 'worthy tramp': 3145,\n",
              " 'tramp usher': 2756,\n",
              " 'usher amp': 2963,\n",
              " 'need find': 1817,\n",
              " 'find way': 905,\n",
              " 'way spend': 3041,\n",
              " 'spend time': 2495,\n",
              " 'time always': 2692,\n",
              " 'always mind': 102,\n",
              " 'mind boy': 1718,\n",
              " 'boy guy': 361,\n",
              " '146604726015 update': 12,\n",
              " 'update social': 2794,\n",
              " 'social analysis': 2475,\n",
              " 'analysis photooftheday': 149,\n",
              " 'photooftheday tigers': 2036,\n",
              " 'tigers like': 2688,\n",
              " 'anyone know': 177,\n",
              " 'know date': 1410,\n",
              " 'date foi': 590,\n",
              " 'foi become': 935,\n",
              " 'become corrupt': 276,\n",
              " 'corrupt emailgate': 538,\n",
              " 'emailgate hillary2016': 740,\n",
              " 'hillary2016 shameful': 1247,\n",
              " 'shameful disgraceful': 2396,\n",
              " 'disgraceful ridiculous': 664,\n",
              " 'stupidity make': 2550,\n",
              " 'make even': 1623,\n",
              " 'even negligencewhy': 785,\n",
              " 'negligencewhy put': 1822,\n",
              " 'put sachintendulkar': 2150,\n",
              " 'sachintendulkar installation': 2294,\n",
              " 'installation go': 1334,\n",
              " 'go take': 1075,\n",
              " 'bihday 21thbihday': 308,\n",
              " '21thbihday befriend': 23,\n",
              " 'befriend love': 280,\n",
              " 'user important': 2875,\n",
              " 'important thing': 1311,\n",
              " 'thing enjoy': 2665,\n",
              " 'enjoy life': 760,\n",
              " 'life its': 1480,\n",
              " 'its matter': 1356,\n",
              " 'matter life': 1658,\n",
              " 'life pooh': 1483,\n",
              " 'happy midday': 1180,\n",
              " 'midday chris': 1694,\n",
              " 'chris evans': 466,\n",
              " 'evans great': 783,\n",
              " 'great actor': 1109,\n",
              " 'actor human': 59,\n",
              " 'human of': 1282,\n",
              " 'of christians': 1903,\n",
              " 'christians bihday': 468,\n",
              " 'thoughts prayers': 2677,\n",
              " 'prayers go': 2100,\n",
              " 'go 50': 1061,\n",
              " 'people murder': 2018,\n",
              " 'murder gay': 1789,\n",
              " 'gay nightclub': 1017,\n",
              " 'nightclub florida': 1871,\n",
              " 'user guitar': 2865,\n",
              " 'guitar new': 1130,\n",
              " 'new album': 1837,\n",
              " 'album newalbum': 81,\n",
              " 'newalbum india': 1849,\n",
              " 'india guitar': 1322,\n",
              " 'guitar echobelly': 1129,\n",
              " 'retreat lion': 2239,\n",
              " 'lion pro': 1504,\n",
              " 'pro user': 2120,\n",
              " 'user webmareting': 2954,\n",
              " 'webmareting community': 3049,\n",
              " 'community management': 513,\n",
              " 'management weekend': 1646,\n",
              " 'nidus target': 1863,\n",
              " 'target 100': 2614,\n",
              " '100 week': 8,\n",
              " 'week sea': 3059,\n",
              " 'sea 07190': 2352,\n",
              " '07190 blow': 4,\n",
              " 'user give': 2860,\n",
              " 'give pretty': 1058,\n",
              " 'pretty bad': 2110,\n",
              " 'bad midday': 244,\n",
              " 'midday weeks': 1705,\n",
              " 'weeks far': 3072,\n",
              " 'far worst': 853,\n",
              " 'worst ever': 3144,\n",
              " 'ever bihdayweeksucks': 788,\n",
              " 'bihdayweeksucks bithday27': 310,\n",
              " 'bithday27 to': 326,\n",
              " 'bless work': 339,\n",
              " 'work best': 3120,\n",
              " 'best lead': 292,\n",
              " 'lead ladies': 1449,\n",
              " 'happiest place': 1159,\n",
              " 'place disneysmagickingdom': 2048,\n",
              " 'disneysmagickingdom dinner': 667,\n",
              " 'dinner magickingdom': 653,\n",
              " 'magickingdom disneyland': 1615,\n",
              " 'disneyland orlando': 666,\n",
              " 'kind among': 1395,\n",
              " 'among humans': 123,\n",
              " 'find user': 904,\n",
              " 'user id': 2873,\n",
              " 'id exclaim': 1292,\n",
              " 'exclaim user': 810,\n",
              " 'user grm': 2864,\n",
              " 'grm plain': 1121,\n",
              " 'plain hair': 2053,\n",
              " 'hair note': 1146,\n",
              " 'user ltd': 2888,\n",
              " 'ltd listen': 1599,\n",
              " 'listen beautiful': 1506,\n",
              " 'beautiful best': 269,\n",
              " 'best friend': 289,\n",
              " 'friend user': 987,\n",
              " 'user sing': 2927,\n",
              " 'sing amaze': 2437,\n",
              " 'amaze voice': 112,\n",
              " 'voice ltd': 2994,\n",
              " 'ltd ltd': 1601,\n",
              " 'ltd 17': 1598,\n",
              " 'healthy freedom': 1220,\n",
              " 'freedom present': 973,\n",
              " 'present merely': 2105,\n",
              " 'merely mean': 1686,\n",
              " 'mean store': 1673,\n",
              " 'store past': 2538,\n",
              " 'past theodore': 1992,\n",
              " 'theodore roosevelt': 2659,\n",
              " 'know aunt': 1408,\n",
              " 'aunt go': 210,\n",
              " 'go know': 1065,\n",
              " 'know love': 1412,\n",
              " 'love commitment': 1552,\n",
              " 'commitment trust': 512,\n",
              " 'trust faithful': 2768,\n",
              " 'yes call': 3170,\n",
              " 'call michelleobama': 400,\n",
              " 'michelleobama gorilla': 1689,\n",
              " 'gorilla resist': 1102,\n",
              " 'resist long': 2234,\n",
              " 'long think': 1528,\n",
              " 'think black': 2667,\n",
              " 'black people': 329,\n",
              " 'people bet': 2007,\n",
              " 'newarkfestival us': 1850,\n",
              " 'us year': 2807,\n",
              " 'year wait': 3164,\n",
              " 'wait show': 3011,\n",
              " 'show sta': 2419,\n",
              " 'sta rd': 2504,\n",
              " 'rd year': 2190,\n",
              " 'year run': 3162,\n",
              " 'internet break': 1344,\n",
              " 'break watch': 369,\n",
              " 'watch netflix': 3030,\n",
              " 'netflix mochithepug': 1823,\n",
              " 'mochithepug puglife': 1734,\n",
              " 'user thatch': 2944,\n",
              " ...}"
            ]
          },
          "metadata": {},
          "execution_count": 49
        }
      ]
    },
    {
      "cell_type": "code",
      "source": [
        "bow_1[10].toarray()"
      ],
      "metadata": {
        "colab": {
          "base_uri": "https://localhost:8080/"
        },
        "id": "DV0DVvWYYAKk",
        "outputId": "cf406cae-2fba-4e90-fd46-572e0d0533ef"
      },
      "execution_count": 51,
      "outputs": [
        {
          "output_type": "execute_result",
          "data": {
            "text/plain": [
              "array([[1, 0, 1, ..., 0, 0, 0]])"
            ]
          },
          "metadata": {},
          "execution_count": 51
        }
      ]
    },
    {
      "cell_type": "code",
      "source": [
        "print(bow[10].toarray())"
      ],
      "metadata": {
        "colab": {
          "base_uri": "https://localhost:8080/"
        },
        "id": "7NUAgU_eY1AC",
        "outputId": "b4156fd0-9c4f-44a4-ad62-d4fafd26a00e"
      },
      "execution_count": 53,
      "outputs": [
        {
          "output_type": "stream",
          "name": "stdout",
          "text": [
            "[[1 1 0 ... 0 0 0]]\n"
          ]
        }
      ]
    },
    {
      "cell_type": "code",
      "source": [
        "len(df.tweet[10])"
      ],
      "metadata": {
        "colab": {
          "base_uri": "https://localhost:8080/"
        },
        "id": "bG_1Yda0YPqY",
        "outputId": "b9373244-c82e-46e3-8c10-5d1584a40c02"
      },
      "execution_count": null,
      "outputs": [
        {
          "output_type": "execute_result",
          "data": {
            "text/plain": [
              "14"
            ]
          },
          "metadata": {},
          "execution_count": 161
        }
      ]
    },
    {
      "cell_type": "code",
      "source": [
        "df.to_csv('clean_d_twitter.csv', index=False)"
      ],
      "metadata": {
        "id": "8p3GCyiRYvah"
      },
      "execution_count": 55,
      "outputs": []
    },
    {
      "cell_type": "code",
      "source": [],
      "metadata": {
        "id": "fDhC3MSAyS8N"
      },
      "execution_count": null,
      "outputs": []
    }
  ]
}