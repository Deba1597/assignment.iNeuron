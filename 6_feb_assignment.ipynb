{
 "cells": [
  {
   "cell_type": "code",
   "execution_count": 1,
   "id": "787b6b75-df5b-4fe5-81b6-d719b3195a4d",
   "metadata": {},
   "outputs": [
    {
     "name": "stdout",
     "output_type": "stream",
     "text": [
      "[1, 2, 3, 4, 44, 55, 66, True, False, 34, 56, 78, 89, 34, 1, 2, 3, 1, 34, 'key2', 55, 67, 78, 89, 4, 45, 22, 61, 34, 56, 'data science', 'machine Learning']\n",
      "4134711838987085478833841242112000\n"
     ]
    }
   ],
   "source": [
    "list1 = [1,2,3,4,[44,55,66,True],False,(34,56,78,89,34),{1,2,3,3,2,1},{1:34,\"key2\":[55,67,78,89],4:(45,22,61,34)},[56,'data science'],'machine Learning']\n",
    "\n",
    "def flatlist(list1):\n",
    "    flist = []\n",
    "    for i in list1:\n",
    "        if type(i) == list or type(i) == set or type(i) == tuple:\n",
    "            for j in i:\n",
    "                flist.append(j)\n",
    "        elif type(i) == dict:\n",
    "            temp_list = list(i.items())\n",
    "            for i in temp_list:\n",
    "                for element in i:\n",
    "                    if type(element) == list or type(element) == tuple:\n",
    "                        for j in element:\n",
    "                            flist.append(j)\n",
    "                    else :\n",
    "                        flist.append(element)\n",
    "        else :\n",
    "            flist.append(i)\n",
    "    return flist\n",
    "list2 = flatlist(list1)\n",
    "print(list2)\n",
    "a = 1\n",
    "for i in list2:\n",
    "    if type(i) == int:\n",
    "         a = a*i\n",
    "print(a)"
   ]
  },
  {
   "cell_type": "code",
   "execution_count": 2,
   "id": "59512be5-3e97-4965-847a-45622683215e",
   "metadata": {},
   "outputs": [
    {
     "name": "stdout",
     "output_type": "stream",
     "text": [
      "r$dzmg$gl$yvxlnv$z$zgz$xrvmgrhg\n"
     ]
    }
   ],
   "source": [
    "def encrypt_message(message):\n",
    "    encrypted_message = \"\"\n",
    "    for char in message:\n",
    "        if char == \" \":\n",
    "            encrypted_message += \"$\"\n",
    "        else:\n",
    "            ascii_value = ord(char)\n",
    "            encrypted_ascii_value = 219 - ascii_value\n",
    "            encrypted_char = chr(encrypted_ascii_value)\n",
    "            encrypted_message += encrypted_char\n",
    "    return encrypted_message\n",
    "message = 'i want to become a Data Scientist'\n",
    "encrypt_message1 = encrypt_message(message)\n",
    "print(encrypt_message1)"
   ]
  },
  {
   "cell_type": "code",
   "execution_count": null,
   "id": "9cba3eb3-8e5f-4662-8c5d-92de33a0a19b",
   "metadata": {},
   "outputs": [],
   "source": []
  }
 ],
 "metadata": {
  "kernelspec": {
   "display_name": "Python 3 (ipykernel)",
   "language": "python",
   "name": "python3"
  },
  "language_info": {
   "codemirror_mode": {
    "name": "ipython",
    "version": 3
   },
   "file_extension": ".py",
   "mimetype": "text/x-python",
   "name": "python",
   "nbconvert_exporter": "python",
   "pygments_lexer": "ipython3",
   "version": "3.10.6"
  }
 },
 "nbformat": 4,
 "nbformat_minor": 5
}
